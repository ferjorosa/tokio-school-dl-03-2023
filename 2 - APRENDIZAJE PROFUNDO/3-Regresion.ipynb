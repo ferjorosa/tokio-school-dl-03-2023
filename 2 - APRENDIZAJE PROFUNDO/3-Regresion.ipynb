{
 "cells": [
  {
   "cell_type": "markdown",
   "id": "d7942e84-3a32-4acf-8500-4ecb96589a94",
   "metadata": {},
   "source": [
    "# 3 - Regresión\n",
    "\n",
    "**Sumario**\n",
    "\n",
    "1. Introducción\n",
    "2. Regresión lineal matemática\n",
    "2. Funciones de pérdida\n",
    "3. Regresión lineal simple con redes neuronales\n",
    "4. Regresión no lineal múltiple con redes neuronales\n",
    "5. Regularización"
   ]
  },
  {
   "cell_type": "markdown",
   "id": "adba2e8f-1ee6-40b8-a503-593d65a3ddee",
   "metadata": {},
   "source": [
    "## 3.1 - Introducción"
   ]
  },
  {
   "cell_type": "markdown",
   "id": "7df0096c-fe92-47ae-a2c5-def5244ba995",
   "metadata": {},
   "source": [
    "En tareas de regresión, nuestro objetivo es construir un modelo capaz de **predecir correctamente uno o varios valores numéricos continuos para cada uno de las instancias de entrada**. En este capítulo nos vamos a centrar en predecir un único valor numérico para cada una de las instancias. \n",
    "\n",
    "Por ejemplo, podemos querer predecir el precio de la vivienda en función de ciertos factores como el área de la casa, las habitaciones, el mobiliario, la cercanía a la carretera principal, etc.\n",
    "\n",
    "<img src=\"images_3/vivienda.jpg\" width=\"500\" data-align=\"center\">\n",
    "\n",
    "Dependiendo del número de atributos que contemos para predecir, distinguimos dos tipos principales de regresión:\n",
    "* **Regresión simple.** Contamos con un único atributo para predecir la variable objetivo.\n",
    "* **Regresión múltiple.** Contamos con múltiples atributos para predecir la variable objetivo.\n",
    "\n",
    "<table>\n",
    "    <tr>\n",
    "        <th>Regresión (lineal) simple</th>\n",
    "        <th>regresión (lineal) múltiple</th>\n",
    "    </tr>\n",
    "    <tr>\n",
    "        <td><img src=\"images_3/linear_regresion_simple.png\" width=\"400\" data-align=\"center\"></td>\n",
    "        <td><img src=\"images_3/linear_regresion_multiple.png\" width=\"400\" data-align=\"center\"></td>\n",
    "    </tr>\n",
    "</table>\n",
    "\n",
    "Dado un dataset con forma $(\\mathbf{x}^{(i)}, y^{(i)})$, nuestro objetivo es aprender una función $f(\\mathbf{x})$ con la que predecir $y$ dado $\\mathbf{x}$, donde $y$ es un valor continuo. Dependiendo de la forma de $f(x)$, distinguimos dos tipos principales de regresión:\n",
    "* **Regresión lineal.**\n",
    "* **Regresión no lineal.**\n",
    "\n",
    "<table>\n",
    "    <tr>\n",
    "        <th>Regresión lineal (simple)</th>\n",
    "        <th>regresión no lineal (simple)</th>\n",
    "    </tr>\n",
    "    <tr>\n",
    "        <td><img src=\"images_3/regresion_lineal.png\" width=\"400\" data-align=\"center\"></td>\n",
    "        <td><img src=\"images_3/regresion_no_lineal.png\" width=\"800\" data-align=\"center\"></td>\n",
    "    </tr>\n",
    "</table>\n",
    "\n",
    "En este caso, mostramos un ejemplo de regresión no lineal mediante el uso de un árbol de regresión. Otros métodos comunes de regresión no lineal incluyen: KNN y, por supuesto, **las redes neuronales**. Los métodos de regresión no lineal son **más flexibles**, pero por lo general son **menos interpretables**, ya que el modelo es considerablemente más complejo (e.g., las redes neuronales)"
   ]
  },
  {
   "cell_type": "markdown",
   "id": "69666337-ffd8-4f24-b959-a9403f144655",
   "metadata": {},
   "source": [
    "## 3.2 - Regresión lineal matemática"
   ]
  },
  {
   "cell_type": "markdown",
   "id": "f33a1a85-8356-4e24-bb68-8e1b53614e33",
   "metadata": {},
   "source": [
    "La regresión linal simple consiste en calcular un modelo de regresión que se corresponde con la ecuación de una recta:\n",
    "    \n",
    "$$\n",
    "y = \\beta_{0} + \\beta_{1}x + \\epsilon\n",
    "$$\n",
    "\n",
    "Donde $\\beta_{0}$ se corresponde con la **ordenada de la recta**, $\\beta_{1}$ con la **pendiente de la recta**, y $\\epsilon$ con un **error aleatorio** o **residuo**. El proceso de estimación de los parámetros $\\beta_{0}$ y $\\beta_{1}$ (conocidos como los coeficientes de regresión) se suele realizar mediante el método de los mínimos cuadrados, cuya fórmula es la siguiente:\n",
    "\n",
    "$$\n",
    "\\begin{align*}\n",
    "\\hat{\\beta}_{1} &= \\frac{\\sum_{i=1}^{n}(x_{i} - \\bar{x})(y_{i} - \\bar{y})}{\\sum_{i=1}^{n}} = \\frac{S_{y}}{S_{x}}R\\\\\n",
    "\\hat{\\beta}_{0} &= \\bar{y} - \\beta_{1}x\n",
    "\\end{align*}\n",
    "$$\n",
    "\n",
    "Donde $S_{x}$ y $S_{y}$ son las desviaciones típicas de cada variable y $R$ es el coeficiente de correlación. Por su parte, $\\beta_{0}$ se corresponde con el valor esperado de $y$ cuando $x=0$. La siguiente figura muestra la recta resultante de aplicar el método de minimoso cuadrados:\n",
    "\n",
    "<img src=\"images_3/minimos_cuadrados.png\" width=\"400\" data-align=\"center\">"
   ]
  },
  {
   "cell_type": "markdown",
   "id": "d2b26598-f450-4404-b0dc-af1290200e7f",
   "metadata": {},
   "source": [
    "### 3.2.1 - Condiciones para aplicar exitosamente la regresión lineal"
   ]
  },
  {
   "cell_type": "markdown",
   "id": "e08a78f8-f61b-47dd-8076-15e85db5352f",
   "metadata": {},
   "source": [
    "A la hora de construir un modelo basado en una regresión lineal, deben cumplirse una serie de criteriors para poder calcular los parámetros de la recta:\n",
    "    \n",
    "* **Linealidad.** La relación entre la variable predictora y la variable a predecir debe ser lineal.\n",
    "* **Distribución normal de los residuos.** Los residuos han de distribuirse de forma normal, con una media igual a 0. Esto se puede comprobar mediante un histograma o un test de hipótesis de normalidad. **Los valores extremos suelen ser una causa frecuente por la que se infringe la condición de normalidad**.\n",
    "* **Varianza de residuos constante (homocedasticidad).** varianza de los residuos ha de ser prácticamente constante a lo largo del eje $x$.\n",
    "\n",
    "Para comprobar si se cumplen estas condiciones, es necesario calcular los residuos y, a continuación validar el modelo."
   ]
  },
  {
   "cell_type": "markdown",
   "id": "e8ae6e9b-0b29-4dc3-85ad-1dd08b0f26d7",
   "metadata": {},
   "source": [
    "### 3.2.1 Implementación de una regresión lineal simple con Tensorflow"
   ]
  },
  {
   "cell_type": "markdown",
   "id": "9ce6d283-6533-4b92-b2f5-e98f44b065f5",
   "metadata": {
    "tags": []
   },
   "source": [
    "#### Carga de datos\n"
   ]
  },
  {
   "cell_type": "markdown",
   "id": "81f072d6-b67e-4904-9dff-9af121f763e2",
   "metadata": {},
   "source": [
    "En primer lugar tenemos que cargar los datos y generar los splits de entrenamiento, validación y test. Utilizaremos el [Ames Housing dataset de Kaggle](https://www.kaggle.com/datasets/prevek18/ames-housing-dataset) para ello. \n",
    "\n",
    "----\n",
    "\n",
    "**Nota:** Por simplicidad, he descargado los datos de antemano y los he colocado en la carpeta \"data\" del directorio actual.\n",
    "\n",
    "-----\n",
    "\n",
    "<details>\n",
    "    <summary><b>Explicación de las variables</b> (Hacer click)</summary>\n",
    "  \n",
    "* Feature variables:\n",
    "    * **MSSubClass** : The building class\n",
    "    * **MSZoning** : The general zoning classification\n",
    "    * **LotFrontage** : Linear feet of street connected to property\n",
    "    * **LotArea** : Lot size in square feet\n",
    "    * **Street** : Type of road access\n",
    "    * **Alley** : Type of alley access\n",
    "    * **LotShape** : General shape of property\n",
    "    * **LandContour** : Flatness of the property\n",
    "    * **Utilities** : Type of utilities available\n",
    "    * **LotConfig** : Lot configuration\n",
    "    * **LandSlope** : Slope of property\n",
    "    * **Neighborhood** : Physical locations within Ames city limits\n",
    "    * **Condition1** : Proximity to main road or railroad\n",
    "    * **Condition2** : Proximity to main road or railroad (if a second is present)\n",
    "    * **BldgType** : Type of dwelling\n",
    "    * **HouseStyle** : Style of dwelling\n",
    "    * **OverallQual** : Overall material and finish quality\n",
    "    * **OverallCond** : Overall condition rating\n",
    "    * **YearBuilt** : Original construction date\n",
    "    * **YearRemodAdd** : Remodel date\n",
    "    * **RoofStyle** : Type of roof\n",
    "    * **RoofMatl** : Roof material\n",
    "    * **Exterior1st** : Exterior covering on house\n",
    "    * **Exterior2nd** : Exterior covering on house (if more than one material)\n",
    "    * **MasVnrType** : Masonry veneer type\n",
    "    * **MasVnrArea** : Masonry veneer area in square feet\n",
    "    * **ExterQual** : Exterior material quality\n",
    "    * **ExterCond** : Present condition of the material on the exterior\n",
    "    * **Foundation** : Type of foundation\n",
    "    * **BsmtQual** : Height of the basement\n",
    "    * **BsmtCond** : General condition of the basement\n",
    "    * **BsmtExposure** : Walkout or garden level basement walls\n",
    "    * **BsmtFinType1** : Quality of basement finished area\n",
    "    * **BsmtFinSF1** : Type 1 finished square feet\n",
    "    * **BsmtFinType2** : Quality of second finished area (if present)\n",
    "    * **BsmtFinSF2** : Type 2 finished square feet\n",
    "    * **BsmtUnfSF** : Unfinished square feet of basement area\n",
    "    * **TotalBsmtSF** : Total square feet of basement area\n",
    "    * **Heating** : Type of heating\n",
    "    * **HeatingQC** : Heating quality and condition\n",
    "    * **CentralAir** : Central air conditioning\n",
    "    * **Electrical** : Electrical system\n",
    "    * **1stFlrSF** : First Floor square feet\n",
    "    * **2ndFlrSF** : Second floor square feet\n",
    "    * **LowQualFinSF** : Low quality finished square feet (all floors)\n",
    "    * **GrLivArea** : Above grade (ground) living area square feet\n",
    "    * **BsmtFullBath** : Basement full bathrooms\n",
    "    * **BsmtHalfBath** : Basement half bathrooms\n",
    "    * **FullBath** : Full bathrooms above grade\n",
    "    * **HalfBath** : Half baths above grade\n",
    "    * **Bedroom** : Number of bedrooms above basement level\n",
    "    * **Kitchen** : Number of kitchens\n",
    "    * **KitchenQual** : Kitchen quality\n",
    "    * **TotRmsAbvGrd** : Total rooms above grade (does not include bathrooms)\n",
    "    * **Functional** : Home functionality rating\n",
    "    * **Fireplaces** : Number of fireplaces\n",
    "    * **FireplaceQu** : Fireplace quality\n",
    "    * **GarageType** : Garage location\n",
    "    * **GarageYrBlt** : Year garage was built\n",
    "    * **GarageFinish** : Interior finish of the garage\n",
    "    * **GarageCars** : Size of garage in car capacity\n",
    "    * **GarageArea** : Size of garage in square feet\n",
    "    * **GarageQual** : Garage quality\n",
    "    * **GarageCond** : Garage condition\n",
    "    * **PavedDrive** : Paved driveway\n",
    "    * **WoodDeckSF** : Wood deck area in square feet\n",
    "    * **OpenPorchSF** : Open porch area in square feet\n",
    "    * **EnclosedPorch** : Enclosed porch area in square feet\n",
    "    * **3SsnPorch** : Three season porch area in square feet\n",
    "    * **ScreenPorch** : Screen porch area in square feet\n",
    "    * **PoolArea** : Pool area in square feet\n",
    "    * **PoolQC** : Pool quality\n",
    "    * **Fence** : Fence quality\n",
    "    * **MiscFeature** : Miscellaneous feature not covered in other categories\n",
    "    * **MiscVal** : Value of miscellaneous feature in \\$\n",
    "    * **MoSold** : Month Sold\n",
    "    * **YrSold** : Year Sold\n",
    "    * **SaleType** : Type of sale\n",
    "    * **SaleCondition** : Condition of sale\n",
    "\n",
    "\n",
    "* Predictive variable:\n",
    "    * **SalePrice** - the property's sale price in dollars. This is the target variable that you're trying to predict.\n",
    "</details>\n",
    "\n",
    "<br>\n",
    "\n",
    "Para este ejemplo, vamos a utilizar como variable predictora el número de habitaciones en la casa (excluyendo las del sótano) `TotRms AbvGrd` y como variable a predecir el precio de la vivienda `SalePrice`."
   ]
  },
  {
   "cell_type": "code",
   "execution_count": 1,
   "id": "2d13972e-9e2a-409d-92dd-b80b00e58268",
   "metadata": {},
   "outputs": [
    {
     "name": "stdout",
     "output_type": "stream",
     "text": [
      "Training instances: 2373\n",
      "Validation instances: 264\n",
      "Test instances: 293\n"
     ]
    }
   ],
   "source": [
    "import pandas as pd\n",
    "from sklearn.model_selection import train_test_split\n",
    "\n",
    "data = pd.read_csv(\"./data/AmesHousing.csv\")\n",
    "\n",
    "# Seleccionamos la columna que nos interesa como predictora y le aplicamos normalización estándar\n",
    "data_x = data[\"TotRms AbvGrd\"] / data[\"TotRms AbvGrd\"].max()\n",
    "\n",
    "# Seleccionamos la variabla predecir y le aplicamos normalización estándar\n",
    "data_y = data[\"SalePrice\"] / data[\"SalePrice\"].max()\n",
    "\n",
    "x_train, x_test, y_train, y_test = train_test_split(\n",
    "    data_x,\n",
    "    data_y,\n",
    "    test_size=0.10,\n",
    "    random_state=0\n",
    ")\n",
    "\n",
    "x_train, x_val, y_train, y_val = train_test_split(\n",
    "    x_train,\n",
    "    y_train,\n",
    "    test_size=0.10,\n",
    "    random_state=0\n",
    ")\n",
    "\n",
    "print(f\"Training instances: {x_train.shape[0]}\")\n",
    "print(f\"Validation instances: {x_val.shape[0]}\")\n",
    "print(f\"Test instances: {x_test.shape[0]}\")"
   ]
  },
  {
   "cell_type": "markdown",
   "id": "e38a967a-ca24-45df-a8f5-ac18019d0ed8",
   "metadata": {},
   "source": [
    "#### Entrenamiento\n",
    "\n",
    "Para el entrenamiento, vamos a definir el modelo a mano y utilizar el método del descenso por gradiente para su optimización. \n",
    "\n",
    "<img src=\"images_3/linear_Regression_gradient_descent.gif\" width=\"400\" data-align=\"center\">\n",
    "\n",
    "Con este propósito en mente, vamos a utilizar la API de diferenciación automatica de Tensorflow `tf.GradientTape`. [Para más información acerca de ella, recomiendo echar un ojo a la documentación original, especialmente su tutorial](https://www.tensorflow.org/api_docs/python/tf/GradientTape)."
   ]
  },
  {
   "cell_type": "code",
   "execution_count": 2,
   "id": "c105ba59-d241-4439-8613-a62746879689",
   "metadata": {},
   "outputs": [
    {
     "name": "stdout",
     "output_type": "stream",
     "text": [
      "Epoch: 1\n",
      "Loss: 0.06843797862529755 - val_loss 0.0429266095161438\n",
      "Epoch: 2\n",
      "Loss: 0.04415927454829216 - val_loss 0.02915279194712639\n",
      "Epoch: 3\n",
      "Loss: 0.03002299927175045 - val_loss 0.021184256300330162\n",
      "Epoch: 4\n",
      "Loss: 0.021791117265820503 - val_loss 0.01658261939883232\n",
      "Epoch: 5\n",
      "Loss: 0.01699644699692726 - val_loss 0.01393139734864235\n",
      "Epoch: 6\n",
      "Loss: 0.014202751219272614 - val_loss 0.01240827701985836\n",
      "Epoch: 7\n",
      "Loss: 0.012573916465044022 - val_loss 0.011536307632923126\n",
      "Epoch: 8\n",
      "Loss: 0.01162321213632822 - val_loss 0.011039153672754765\n",
      "Epoch: 9\n",
      "Loss: 0.011067281477153301 - val_loss 0.010756966657936573\n",
      "Epoch: 10\n",
      "Loss: 0.010741183534264565 - val_loss 0.010597459971904755\n"
     ]
    }
   ],
   "source": [
    "import tensorflow as tf\n",
    "\n",
    "b0 = tf.Variable(0., dtype=tf.float32)\n",
    "b1 = tf.Variable(0., dtype=tf.float32)\n",
    "\n",
    "# Si disminuimos el lr, el modelo aprenderá mas lento pero será \"más preciso\" en su optimización. \n",
    "# En tal caso deberiamos aumentar el numero de epochs\n",
    "lr = 0.1 \n",
    "num_epochs = 10\n",
    "\n",
    "for epoch in range(num_epochs):\n",
    "    with tf.GradientTape() as tape:\n",
    "        with tf.GradientTape() as t:\n",
    "            y_pred = b1 * x_train + b0\n",
    "            current_loss = tf.reduce_mean(tf.square(y_pred - y_train))\n",
    "        \n",
    "        lr_b1, lr_b0 = tape.gradient(current_loss, [b1, b0])\n",
    "        b1.assign_sub(lr * lr_b1)\n",
    "        b0.assign_sub(lr * lr_b0)\n",
    "        \n",
    "        y_val_pred = b1 * x_val + b0\n",
    "        val_loss = tf.reduce_mean(tf.square(y_val_pred - y_val))\n",
    "        \n",
    "        tf.print(f\"Epoch: {epoch+1}\")\n",
    "        tf.print(f\"Loss: {current_loss} - val_loss {val_loss}\")"
   ]
  },
  {
   "cell_type": "markdown",
   "id": "b426763b-2648-438b-be36-0e2bccff403a",
   "metadata": {},
   "source": [
    "#### Visualización"
   ]
  },
  {
   "cell_type": "code",
   "execution_count": 3,
   "id": "4645ad0f-25fe-4072-bc81-75b286b1ec81",
   "metadata": {},
   "outputs": [
    {
     "data": {
      "image/png": "[encoded data removed]",
      "text/plain": [
       "<Figure size 1008x432 with 1 Axes>"
      ]
     },
     "metadata": {
      "needs_background": "light"
     },
     "output_type": "display_data"
    },
    {
     "data": {
      "image/png": "[encoded data removed]",
      "text/plain": [
       "<Figure size 1008x432 with 1 Axes>"
      ]
     },
     "metadata": {
      "needs_background": "light"
     },
     "output_type": "display_data"
    }
   ],
   "source": [
    "import matplotlib.pyplot as plt\n",
    "\n",
    "def model(b0, b1, x_train):\n",
    "    return b1 * x_train + b0\n",
    "\n",
    "def print_regression_line(b0, b1, X_print, X, Y):\n",
    "    plt.rcParams[\"figure.figsize\"] = (14,6)\n",
    "    plt.rcParams[\"lines.linewidth\"] = 3\n",
    "    plt.rcParams[\"axes.labelsize\"] = 20\n",
    "    plt.scatter(X_print, Y, label=\"Real\")\n",
    "    plt.scatter(X_print, model(b0, b1, X), label=\"Predecido\")\n",
    "    plt.legend([\"Real\", \"Predecido\"])\n",
    "    plt.show()\n",
    "\n",
    "print_regression_line(b0, b1, x_train, x_train, y_train)\n",
    "print_regression_line(b0, b1, x_test, x_test, y_test)"
   ]
  },
  {
   "cell_type": "markdown",
   "id": "eec950ff-0276-41a8-a527-b8fcf26d3602",
   "metadata": {},
   "source": [
    "## 3.3 - Funciones de pérdida (*loss*)"
   ]
  },
  {
   "cell_type": "markdown",
   "id": "2c7b70f7-f089-4487-a31b-af15d717edfc",
   "metadata": {},
   "source": [
    "En el tema anterior, hemos descrito las diferentes funciones de pérdida que se aplica cuando construimos redes neuronales para clasificación. Sin embargo, estas funciones no pueden aplicarse a modelos de regresión dada la naturaleza de su salida, ya que el resultado de este tipo de modelos **es un valor numérico de tipo decimal y no un conjunto de clases y/o etiquetas**."
   ]
  },
  {
   "cell_type": "markdown",
   "id": "057cc16b-a0ec-41b1-a991-96cfbaac7c99",
   "metadata": {},
   "source": [
    "### 3.3.1 - Error cuadrático medio (MSE)"
   ]
  },
  {
   "cell_type": "markdown",
   "id": "69d694a5-7541-4051-b9f7-db1201db5a1a",
   "metadata": {},
   "source": [
    "El error cuadrático medio (**Mean Square Error**, MSE por sus siglas en inglés) es, probablemente, **la métrica más sencilla y la más utilizada** para evaluar la pérdida de un modelo de regresión. Se calcula mediante la siguiente formula:\n",
    "\n",
    "$$\n",
    "MSE(\\mathbf{y}, \\mathbf{\\hat{y}}) = \\frac{1}{n} \\sum_{i=1}^{n}(y_{i} - \\hat{y}_{i})^{2}\n",
    "$$\n",
    "\n",
    "Donde $n$ es el número de instancias de entrenamiento que se utilizará para calcular el valor de pérdida, $y_{i}$ el valor de salida esperado e $\\hat{y}_{i}$ el valor de salida predecido. Esta métrica nos devuelve siempre valores positivos, de forma que **cuanto más se aproximen a cero mejor será el modelo que hemos construido**. \n",
    "\n",
    "Uno de sus grandes problemas es que **aumenta muy rápido con valores extremos** debido al cuadrado de la diferencia de los valores. Esto nos puede causar un problema si no hemos normalizado la variable objetivo y esta trabaja con valores muy grandes/muy pequeños. Por otro lado, es positivo que eleve al cuadrado la diferencia ya que **penaliza fuertemente los valores atípicos**.\n",
    "\n",
    "Otro problema del MSE es su interpretabilidad, ya que nos está indicando la diferencia cuadrática promedio. **Seria interesante que el error trabajase en la misma \"escala\" que las predicciones, no en su versión cuadrática**."
   ]
  },
  {
   "cell_type": "markdown",
   "id": "edfbd2b4-13fa-4659-a767-f26da2a0ef71",
   "metadata": {},
   "source": [
    "### 3.3.2 - Raíz cuadrada del error cuadrático medio (RMSE)"
   ]
  },
  {
   "cell_type": "markdown",
   "id": "b63b7b2a-ad74-41ce-8688-e4b4e3c8e8fb",
   "metadata": {},
   "source": [
    "Para solventar las limitaciones del MSE, podemos aplicar la raiz cuadrada al resultado. Con ello, tendriamos el **Root Mean Square Error** (RMSE). Esta función se calcula por tanto mediante la siguiente fórmula:\n",
    "\n",
    "$$\n",
    "RMSE(\\mathbf{y}, \\mathbf{\\hat{y}}) = \\sqrt{\\frac{1}{n} \\sum_{i=1}^{n}(y_{i} - \\hat{y}_{i})^{2}} = \\sqrt{MSE(y, \\hat{y})}\n",
    "$$\n",
    "\n",
    "Donde $n$ es el número de instancias de entrenamiento que se utilizará para calcular el valor de pérdida, $y_{i}$ el valor de salida esperado e $\\hat{y}_{i}$ el valor de salida predecido. Esta métrica nos devuelve siempre valores positivos, de forma que **cuanto más se aproximen a cero mejor será el modelo que hemos construido**. "
   ]
  },
  {
   "cell_type": "markdown",
   "id": "a3e6ffbe-8dad-420a-8e2f-ac46c5d0d39d",
   "metadata": {},
   "source": [
    "### 3.3.3 - Error absoluto medio (MAE)"
   ]
  },
  {
   "cell_type": "markdown",
   "id": "0415be7b-570a-4a8e-bd4c-0e4dbd1675b5",
   "metadata": {},
   "source": [
    "El error absoluto medio (**Mean Absolute Error**, MAE por sus siglas en inglés) es una función que permite evaluar un modelo calculando **el error promedio de las diferencias aboslutas** entre las predicciones y los valores reales. Se calcula mediante la siguiente fórmula:\n",
    "\n",
    "$$\n",
    "MAE(\\mathbf{y}, \\mathbf{\\hat{y}}) = \\frac{\\sum_{i=1}^{n}|y_{i} - \\hat{y}_{i}|}{n}\n",
    "$$\n",
    "\n",
    "Donde $n$ es el número de instancias de entrenamiento que se utilizará para clacular el valor de pérdida, $y_{i}$ el valor de salida esperado e $\\hat{y}_{i}$ el valor de salida predecido. Se trata de una función que devuelve siempre valores positivos.\n",
    "\n",
    "Similar a RMSE, trabaja en la misma escala que las predicciones. Sin embargo, **a diferencia de MSE/RMSE no penaliza tanto los valores atípicos ya que no eleva al cuadrado la diferencia**.\n",
    "\n",
    "Este tipo de función de pérdida se suele utilizar en elos procesos de análisis de series temporales."
   ]
  },
  {
   "cell_type": "markdown",
   "id": "00dc050b-da85-4678-9d55-a62ad6abd64b",
   "metadata": {},
   "source": [
    "### 3.3.4 - Coeficiente de determinación"
   ]
  },
  {
   "cell_type": "markdown",
   "id": "953f2306-7b7c-4266-9773-eec5955049e8",
   "metadata": {},
   "source": [
    "El coeficiente de determinación o $R^{2}$ se calcula a partir del MSE pero cuenta con la enorme ventaja de estar libre de escala. Por tanto, no importa si los valores de salida son muy grandes o muy pequeños, el $R^{2}$ siempre se situará en $[-\\infty, 1]$. Se calcula de la siguiente forma:\n",
    "\n",
    "$$\n",
    "R^{2}(\\mathbf{y}, \\mathbf{\\hat{y}}) = \\frac{MSE(y, \\hat{y})}{MSE_{\\text{baseline}}(y, \\hat{y})}\n",
    "$$\n",
    "\n",
    "Donde $MSE_{\\text{baseline}}$ se calcula por medio de la siguiente fórmula:\n",
    "\n",
    "$$\n",
    "MSE(\\mathbf{y}, \\mathbf{\\hat{y}}) = \\frac{1}{n} \\sum_{i=1}^{n}(y_{i} - \\bar{y}_{i})^{2}\n",
    "$$\n",
    "\n",
    "Donde  $n$ es el número de instancias de entrenamiento que se utilizará para calcular el valor de pérdida, $y_{i}$ el valor de salida esperado e $\\hat{y}$ la **media aritmética** de los valores de $\\mathbf{y}$. El valor generado por $MSE_{\\text{baseline}}$ **se corresponde con el modelo más simple posible para predecir los valores de** $\\mathbf{y}$."
   ]
  },
  {
   "cell_type": "markdown",
   "id": "d1312114-bb36-496f-a631-477eb72e3897",
   "metadata": {},
   "source": [
    "## 3.4 - Regresión lineal simple con redes neuronales"
   ]
  },
  {
   "cell_type": "markdown",
   "id": "8792406c-403c-449b-9883-eab2471faa75",
   "metadata": {},
   "source": [
    "Como ya hemos comentado anteriormente, la regresión lineal simple es el modelo de regresión más sencillo y considera dos variables numéricas: (1) una variable independiente, normalmente identificada como $x$, y (2) una variable dependiente, normalmente identificada como $y$. El objetivo es identificar los coeficientes de la recta de regresión que mejor aproxime los valores de $y$.\n",
    "\n",
    "En este caso vamos a ver como podemos utilizar una red neuronal para construir un modelo de regresión lineal. Para ello utilizaremos **una única capa oculta con un número de neuronas igual al número de variables de entrada**. Dado que este caso se centra en regresión simple, contaremos con una única neurona."
   ]
  },
  {
   "cell_type": "markdown",
   "id": "02149a22-571b-4bf7-8bde-c8bb32aff4d7",
   "metadata": {},
   "source": [
    "### 3.4.1 - Preparación de datos"
   ]
  },
  {
   "cell_type": "markdown",
   "id": "9f69bde6-fb8a-46a0-ad5f-582ed0adf881",
   "metadata": {},
   "source": [
    "Con respecto a los datos de entrenamiento, vamos a utilizar el [Ames Housing dataset de Kaggle](https://www.kaggle.com/datasets/prevek18/ames-housing-dataset).\n",
    "\n",
    "En este caso, vamos a utilizar el mismo split que en la sección 3.2."
   ]
  },
  {
   "cell_type": "code",
   "execution_count": 4,
   "id": "563d54ba-4892-442b-8eb8-4b053ae5764f",
   "metadata": {},
   "outputs": [
    {
     "name": "stdout",
     "output_type": "stream",
     "text": [
      "Training instances: 2373\n",
      "Validation instances: 264\n",
      "Test instances: 293\n"
     ]
    }
   ],
   "source": [
    "import pandas as pd\n",
    "from sklearn.model_selection import train_test_split\n",
    "\n",
    "data = pd.read_csv(\"./data/AmesHousing.csv\")\n",
    "\n",
    "# Seleccionamos la columna que nos interesa como predictora y le aplicamos normalización estándar\n",
    "data_x = data[\"TotRms AbvGrd\"] / data[\"TotRms AbvGrd\"].max()\n",
    "\n",
    "# Seleccionamos la variabla predecir y le aplicamos normalización estándar\n",
    "data_y = data[\"SalePrice\"] / data[\"SalePrice\"].max()\n",
    "\n",
    "x_train, x_test, y_train, y_test = train_test_split(\n",
    "    data_x,\n",
    "    data_y,\n",
    "    test_size=0.10,\n",
    "    random_state=0\n",
    ")\n",
    "\n",
    "x_train, x_val, y_train, y_val = train_test_split(\n",
    "    x_train,\n",
    "    y_train,\n",
    "    test_size=0.10,\n",
    "    random_state=0\n",
    ")\n",
    "\n",
    "print(f\"Training instances: {x_train.shape[0]}\")\n",
    "print(f\"Validation instances: {x_val.shape[0]}\")\n",
    "print(f\"Test instances: {x_test.shape[0]}\")"
   ]
  },
  {
   "cell_type": "markdown",
   "id": "8a06627d-9952-47c5-a537-c700cbaf64fd",
   "metadata": {},
   "source": [
    "### 3.4.2 - Construcción de la red"
   ]
  },
  {
   "cell_type": "markdown",
   "id": "e01e045f-9052-4b09-8a2d-439af4ad174e",
   "metadata": {},
   "source": [
    "Una vez preparados nuestros datos, ya podemos construir nuestra red neuronal. Para ello, vamos a crear una red formada por una única capa mediante Keras:\n",
    "* Una capa densa de una neurona con una función de activación de tipo lineal.\n",
    "\n",
    "----\n",
    "\n",
    "**Nota:** Si nos fijamos, **en este caso estamos hemos combinado la capa de entrada con la primera capa densa**. Esto es un pequeño \"truco\" que podemos utilizar cuando el número de neuronas de la primera capa densa coincide con el número de neuronas de entrada.\n",
    "\n",
    "----"
   ]
  },
  {
   "cell_type": "code",
   "execution_count": 5,
   "id": "6a7d8096-a1c5-44b9-a704-b727a543ce07",
   "metadata": {},
   "outputs": [
    {
     "name": "stdout",
     "output_type": "stream",
     "text": [
      "Model: \"linear_regression_simple_model\"\n",
      "_________________________________________________________________\n",
      " Layer (type)                Output Shape              Param #   \n",
      "=================================================================\n",
      " dense (Dense)               (None, 1)                 2         \n",
      "                                                                 \n",
      "=================================================================\n",
      "Total params: 2\n",
      "Trainable params: 2\n",
      "Non-trainable params: 0\n",
      "_________________________________________________________________\n"
     ]
    }
   ],
   "source": [
    "import tensorflow as tf\n",
    "from tensorflow import keras\n",
    "\n",
    "# Creación de las capas que forman la estructura de la red\n",
    "layers = [keras.layers.Dense(1,\n",
    "                             input_shape=(1,),\n",
    "                             activation=tf.keras.activations.linear)\n",
    "         ]\n",
    "\n",
    "# Compilación de la red neuronal\n",
    "model_linear_simple = keras.Sequential(layers, name=\"linear_regression_simple_model\")\n",
    "          \n",
    "# Configuración del algoritmo de optimización y función de loss\n",
    "model_linear_simple.compile(\n",
    "    optimizer=keras.optimizers.SGD(learning_rate=0.01),\n",
    "    loss=\"mse\",\n",
    "    metrics=[keras.metrics.RootMeanSquaredError(), \"mse\", \"mae\"]\n",
    ")\n",
    "\n",
    "model_linear_simple.summary()"
   ]
  },
  {
   "cell_type": "markdown",
   "id": "61dd012a-1c54-4096-bd0e-f2ded48d7083",
   "metadata": {},
   "source": [
    "Como podemos ver el modelo solo cuenta con dos parámetros que equivalen a $\\beta_{0}$ (bias) y $\\beta_{1}$ (el paramétro propio de la neurona)."
   ]
  },
  {
   "cell_type": "markdown",
   "id": "90738235-14a8-481c-a3e6-6370cca4dd5d",
   "metadata": {},
   "source": [
    "### 3.4.3 - Entrenamiento"
   ]
  },
  {
   "cell_type": "markdown",
   "id": "30c57942-7010-490d-84ab-eae7d2a8fc6f",
   "metadata": {},
   "source": [
    "Una vez compilada nuestra red, podemos iniciar el proceso de entrenamiento mediante la función `fit()`. En este caso hemos seleccionado las siguientes opciones:\n",
    "* Número de epochs: 25\n",
    "* Tamaño del batch de entrenamiento: 250 instancias\n",
    "\n",
    "En este caso no seleccionamos un porcentaje del conjunto de entrenamiento como validación ya que vamos a utilizar el anteriormente definido (simplemente para demostrar como se hace)."
   ]
  },
  {
   "cell_type": "code",
   "execution_count": 6,
   "id": "6b62fa7d-4a1b-4a1d-9bd7-5c778af88e1c",
   "metadata": {},
   "outputs": [
    {
     "name": "stdout",
     "output_type": "stream",
     "text": [
      "Epoch 1/25\n",
      "10/10 [==============================] - 1s 49ms/step - loss: 0.0144 - root_mean_squared_error: 0.1200 - mse: 0.0144 - mae: 0.0857 - val_loss: 0.0123 - val_root_mean_squared_error: 0.1109 - val_mse: 0.0123 - val_mae: 0.0776\n",
      "Epoch 2/25\n",
      "10/10 [==============================] - 0s 11ms/step - loss: 0.0122 - root_mean_squared_error: 0.1106 - mse: 0.0122 - mae: 0.0761 - val_loss: 0.0107 - val_root_mean_squared_error: 0.1036 - val_mse: 0.0107 - val_mae: 0.0705\n",
      "Epoch 3/25\n",
      "10/10 [==============================] - 0s 13ms/step - loss: 0.0109 - root_mean_squared_error: 0.1044 - mse: 0.0109 - mae: 0.0703 - val_loss: 0.0098 - val_root_mean_squared_error: 0.0988 - val_mse: 0.0098 - val_mae: 0.0666\n",
      "Epoch 4/25\n",
      "10/10 [==============================] - 0s 10ms/step - loss: 0.0101 - root_mean_squared_error: 0.1004 - mse: 0.0101 - mae: 0.0671 - val_loss: 0.0092 - val_root_mean_squared_error: 0.0958 - val_mse: 0.0092 - val_mae: 0.0649\n",
      "Epoch 5/25\n",
      "10/10 [==============================] - 0s 10ms/step - loss: 0.0096 - root_mean_squared_error: 0.0978 - mse: 0.0096 - mae: 0.0656 - val_loss: 0.0088 - val_root_mean_squared_error: 0.0939 - val_mse: 0.0088 - val_mae: 0.0641\n",
      "Epoch 6/25\n",
      "10/10 [==============================] - 0s 9ms/step - loss: 0.0093 - root_mean_squared_error: 0.0962 - mse: 0.0093 - mae: 0.0649 - val_loss: 0.0086 - val_root_mean_squared_error: 0.0927 - val_mse: 0.0086 - val_mae: 0.0639\n",
      "Epoch 7/25\n",
      "10/10 [==============================] - 0s 9ms/step - loss: 0.0091 - root_mean_squared_error: 0.0952 - mse: 0.0091 - mae: 0.0648 - val_loss: 0.0084 - val_root_mean_squared_error: 0.0919 - val_mse: 0.0084 - val_mae: 0.0640\n",
      "Epoch 8/25\n",
      "10/10 [==============================] - 0s 8ms/step - loss: 0.0089 - root_mean_squared_error: 0.0945 - mse: 0.0089 - mae: 0.0649 - val_loss: 0.0084 - val_root_mean_squared_error: 0.0915 - val_mse: 0.0084 - val_mae: 0.0641\n",
      "Epoch 9/25\n",
      "10/10 [==============================] - 0s 10ms/step - loss: 0.0089 - root_mean_squared_error: 0.0941 - mse: 0.0089 - mae: 0.0651 - val_loss: 0.0083 - val_root_mean_squared_error: 0.0912 - val_mse: 0.0083 - val_mae: 0.0644\n",
      "Epoch 10/25\n",
      "10/10 [==============================] - 0s 11ms/step - loss: 0.0088 - root_mean_squared_error: 0.0939 - mse: 0.0088 - mae: 0.0654 - val_loss: 0.0083 - val_root_mean_squared_error: 0.0910 - val_mse: 0.0083 - val_mae: 0.0646\n",
      "Epoch 11/25\n",
      "10/10 [==============================] - 0s 11ms/step - loss: 0.0088 - root_mean_squared_error: 0.0937 - mse: 0.0088 - mae: 0.0656 - val_loss: 0.0083 - val_root_mean_squared_error: 0.0909 - val_mse: 0.0083 - val_mae: 0.0648\n",
      "Epoch 12/25\n",
      "10/10 [==============================] - 0s 12ms/step - loss: 0.0088 - root_mean_squared_error: 0.0936 - mse: 0.0088 - mae: 0.0658 - val_loss: 0.0083 - val_root_mean_squared_error: 0.0909 - val_mse: 0.0083 - val_mae: 0.0650\n",
      "Epoch 13/25\n",
      "10/10 [==============================] - 0s 11ms/step - loss: 0.0088 - root_mean_squared_error: 0.0936 - mse: 0.0088 - mae: 0.0660 - val_loss: 0.0082 - val_root_mean_squared_error: 0.0908 - val_mse: 0.0082 - val_mae: 0.0651\n",
      "Epoch 14/25\n",
      "10/10 [==============================] - 0s 11ms/step - loss: 0.0087 - root_mean_squared_error: 0.0935 - mse: 0.0087 - mae: 0.0661 - val_loss: 0.0082 - val_root_mean_squared_error: 0.0908 - val_mse: 0.0082 - val_mae: 0.0652\n",
      "Epoch 15/25\n",
      "10/10 [==============================] - 0s 12ms/step - loss: 0.0087 - root_mean_squared_error: 0.0935 - mse: 0.0087 - mae: 0.0662 - val_loss: 0.0082 - val_root_mean_squared_error: 0.0908 - val_mse: 0.0082 - val_mae: 0.0653\n",
      "Epoch 16/25\n",
      "10/10 [==============================] - 0s 11ms/step - loss: 0.0087 - root_mean_squared_error: 0.0935 - mse: 0.0087 - mae: 0.0663 - val_loss: 0.0082 - val_root_mean_squared_error: 0.0908 - val_mse: 0.0082 - val_mae: 0.0654\n",
      "Epoch 17/25\n",
      "10/10 [==============================] - 0s 9ms/step - loss: 0.0087 - root_mean_squared_error: 0.0935 - mse: 0.0087 - mae: 0.0663 - val_loss: 0.0082 - val_root_mean_squared_error: 0.0908 - val_mse: 0.0082 - val_mae: 0.0654\n",
      "Epoch 18/25\n",
      "10/10 [==============================] - 0s 9ms/step - loss: 0.0087 - root_mean_squared_error: 0.0935 - mse: 0.0087 - mae: 0.0664 - val_loss: 0.0082 - val_root_mean_squared_error: 0.0908 - val_mse: 0.0082 - val_mae: 0.0655\n",
      "Epoch 19/25\n",
      "10/10 [==============================] - 0s 10ms/step - loss: 0.0087 - root_mean_squared_error: 0.0935 - mse: 0.0087 - mae: 0.0665 - val_loss: 0.0082 - val_root_mean_squared_error: 0.0908 - val_mse: 0.0082 - val_mae: 0.0655\n",
      "Epoch 20/25\n",
      "10/10 [==============================] - 0s 9ms/step - loss: 0.0087 - root_mean_squared_error: 0.0935 - mse: 0.0087 - mae: 0.0666 - val_loss: 0.0082 - val_root_mean_squared_error: 0.0908 - val_mse: 0.0082 - val_mae: 0.0655\n",
      "Epoch 21/25\n",
      "10/10 [==============================] - 0s 9ms/step - loss: 0.0087 - root_mean_squared_error: 0.0935 - mse: 0.0087 - mae: 0.0666 - val_loss: 0.0082 - val_root_mean_squared_error: 0.0908 - val_mse: 0.0082 - val_mae: 0.0656\n",
      "Epoch 22/25\n",
      "10/10 [==============================] - 0s 10ms/step - loss: 0.0087 - root_mean_squared_error: 0.0935 - mse: 0.0087 - mae: 0.0666 - val_loss: 0.0082 - val_root_mean_squared_error: 0.0908 - val_mse: 0.0082 - val_mae: 0.0656\n",
      "Epoch 23/25\n",
      "10/10 [==============================] - 0s 9ms/step - loss: 0.0087 - root_mean_squared_error: 0.0935 - mse: 0.0087 - mae: 0.0666 - val_loss: 0.0082 - val_root_mean_squared_error: 0.0908 - val_mse: 0.0082 - val_mae: 0.0656\n",
      "Epoch 24/25\n",
      "10/10 [==============================] - 0s 9ms/step - loss: 0.0087 - root_mean_squared_error: 0.0935 - mse: 0.0087 - mae: 0.0667 - val_loss: 0.0082 - val_root_mean_squared_error: 0.0908 - val_mse: 0.0082 - val_mae: 0.0656\n",
      "Epoch 25/25\n",
      "10/10 [==============================] - 0s 9ms/step - loss: 0.0087 - root_mean_squared_error: 0.0934 - mse: 0.0087 - mae: 0.0666 - val_loss: 0.0082 - val_root_mean_squared_error: 0.0908 - val_mse: 0.0082 - val_mae: 0.0656\n"
     ]
    },
    {
     "data": {
      "text/plain": [
       "<keras.callbacks.History at 0x1bb24d82500>"
      ]
     },
     "execution_count": 6,
     "metadata": {},
     "output_type": "execute_result"
    }
   ],
   "source": [
    "import datetime\n",
    "from time import time\n",
    "from keras.callbacks import TensorBoard\n",
    "\n",
    "# Definición de los callback de TF Board\n",
    "tensorboard_callback = TensorBoard(log_dir=\"logs_linear_regression_simple\")\n",
    "\n",
    "# Ejecución del proceso de aprendizaje\n",
    "model_linear_simple.fit(\n",
    "    x_train,\n",
    "    y_train,\n",
    "    epochs=25, # Numero de iteraciones\n",
    "    batch_size=250, # Tamaño de los batches\n",
    "    validation_data=(x_val, y_val),  # conjunto de validación\n",
    "    callbacks=[tensorboard_callback]\n",
    ")"
   ]
  },
  {
   "cell_type": "markdown",
   "id": "2668a12b-4847-4e78-bb3a-632edd8888ad",
   "metadata": {},
   "source": [
    "### 3.4.4 - Visualización"
   ]
  },
  {
   "cell_type": "code",
   "execution_count": 7,
   "id": "8bb09ee5-53ff-4a01-bddc-e79b783d255a",
   "metadata": {},
   "outputs": [
    {
     "name": "stdout",
     "output_type": "stream",
     "text": [
      "75/75 [==============================] - 0s 999us/step\n"
     ]
    },
    {
     "data": {
      "image/png": "[encoded data removed]",
      "text/plain": [
       "<Figure size 1008x432 with 1 Axes>"
      ]
     },
     "metadata": {
      "needs_background": "light"
     },
     "output_type": "display_data"
    },
    {
     "name": "stdout",
     "output_type": "stream",
     "text": [
      "10/10 [==============================] - 0s 1ms/step\n"
     ]
    },
    {
     "data": {
      "image/png": "[encoded data removed]",
      "text/plain": [
       "<Figure size 1008x432 with 1 Axes>"
      ]
     },
     "metadata": {
      "needs_background": "light"
     },
     "output_type": "display_data"
    }
   ],
   "source": [
    "import matplotlib.pyplot as plt\n",
    "\n",
    "def print_neural_regression_line(model, X_print, X, Y):\n",
    "    plt.rcParams[\"figure.figsize\"] = (14, 6)\n",
    "    plt.rcParams[\"lines.linewidth\"] = 3\n",
    "    plt.rcParams[\"axes.labelsize\"] = 20\n",
    "    plt.scatter(X_print, Y, label=\"Real\")\n",
    "    plt.scatter(X_print, model.predict(X).flatten(), label=\"Predecido\")\n",
    "    plt.legend([\"Real\", \"Predecido\"])\n",
    "    plt.show()\n",
    "    \n",
    "print_neural_regression_line(model_linear_simple, x_train, x_train, y_train)\n",
    "print_neural_regression_line(model_linear_simple, x_test, x_test, y_test)"
   ]
  },
  {
   "cell_type": "markdown",
   "id": "b3af0759-c173-4703-b81d-5d50f8f6bdeb",
   "metadata": {},
   "source": [
    "Como podemos observar, el ajuste del modelo no es muy bueno porque **no cuenta con la flexibilidad suficiente para explicar de manera correcta la variable independiente**. \n",
    "\n",
    "Por otro lado, si nos fijamos el resultado es el mismo que en la sección 3.2, ya que **en ambos casos estamos trabajando con un modelo de regresión lineal simple**."
   ]
  },
  {
   "cell_type": "markdown",
   "id": "ff61de60-4cca-479f-b51a-fe29794a75a7",
   "metadata": {},
   "source": [
    "## 3.5 - Regresión no lineal múltiple con redes neuronales"
   ]
  },
  {
   "cell_type": "markdown",
   "id": "3347b37b-1aa4-484e-82d5-102f4b16358d",
   "metadata": {},
   "source": [
    "En el apartado anterior hemos constatado las limitaciones de la regresión lineal simple:\n",
    "* **Un modelo lineal no tiene flexibilidad suficiente** para representar adecuadamente el comportamiento de variables dependientes \"complejas\".\n",
    "* Utilizar **una única variable independiente es en la mayoría de los casos insuficiente**.\n",
    "\n",
    "En este sentido, construiremos un modelo de regresión con múltiples variables independientes y cuya función no sea lineal. Para ello, utilizaremos una red neuronal con **múltiples capas ocultas cuyas funciones de activación sean no lineales** (ReLU, sigmoidea, tangente hiperbólica, etc.)."
   ]
  },
  {
   "cell_type": "markdown",
   "id": "e173bd70-b5ea-41c2-acb3-bae7bf14ed26",
   "metadata": {},
   "source": [
    "### 3.5.1 - Preparación de datos"
   ]
  },
  {
   "cell_type": "markdown",
   "id": "f22799be-5350-4866-b756-094419a0145f",
   "metadata": {},
   "source": [
    "Vamos a utilizar el [Ames Housing dataset de Kaggle](https://www.kaggle.com/datasets/prevek18/ames-housing-dataset). Sin embargo, en este caso vamos seleccionar un conjunto de variables independientes para el proceso de entrenamiento. Para este ejemplo, hemos seleccionado los siguientes 13 atributos:\n",
    "\n",
    "* **TotRms AbvGrd** : Total rooms above grade (does not include bathrooms)\n",
    "* **Mo Sold** : Month Sold\n",
    "* **Yr Sold** : Year Sold\n",
    "* **Overall Qual** : Overall material and finish quality\n",
    "* **Overall Cond** : Overall condition rating\n",
    "* **Year Built** : Original construction date\n",
    "* **Year Remod/Add** : Remodel date\n",
    "* **1st Flr SF** : First Floor square feet\n",
    "* **2nd Flr SF** : Second floor square feet\n",
    "* **Full Bath** : Full bathrooms above grade\n",
    "* **Half Bath** : Half baths above grade\n",
    "* **Bedroom AbvGr** : Number of bedrooms above basement level\n",
    "* **Kitchen AbvGr** : Number of kitchens\n",
    "\n",
    "Como variable objetivo (i.e., dependiente), hemos seleccionado el precio de venta de la vivienda (**SalePrice**), cuyo rango de valores se sitúa entre 34900 y 755000"
   ]
  },
  {
   "cell_type": "code",
   "execution_count": 8,
   "id": "849e2e9e-7628-4870-9449-908f11cf1d94",
   "metadata": {},
   "outputs": [
    {
     "data": {
      "text/html": [
       "<div>\n",
       "<style scoped>\n",
       "    .dataframe tbody tr th:only-of-type {\n",
       "        vertical-align: middle;\n",
       "    }\n",
       "\n",
       "    .dataframe tbody tr th {\n",
       "        vertical-align: top;\n",
       "    }\n",
       "\n",
       "    .dataframe thead th {\n",
       "        text-align: right;\n",
       "    }\n",
       "</style>\n",
       "<table border=\"1\" class=\"dataframe\">\n",
       "  <thead>\n",
       "    <tr style=\"text-align: right;\">\n",
       "      <th></th>\n",
       "      <th>TotRms AbvGrd</th>\n",
       "      <th>Mo Sold</th>\n",
       "      <th>Yr Sold</th>\n",
       "      <th>Overall Qual</th>\n",
       "      <th>Overall Cond</th>\n",
       "      <th>Year Built</th>\n",
       "      <th>Year Remod/Add</th>\n",
       "      <th>1st Flr SF</th>\n",
       "      <th>2nd Flr SF</th>\n",
       "      <th>Full Bath</th>\n",
       "      <th>Half Bath</th>\n",
       "      <th>Bedroom AbvGr</th>\n",
       "      <th>Kitchen AbvGr</th>\n",
       "    </tr>\n",
       "  </thead>\n",
       "  <tbody>\n",
       "    <tr>\n",
       "      <th>0</th>\n",
       "      <td>7</td>\n",
       "      <td>5</td>\n",
       "      <td>2010</td>\n",
       "      <td>6</td>\n",
       "      <td>5</td>\n",
       "      <td>1960</td>\n",
       "      <td>1960</td>\n",
       "      <td>1656</td>\n",
       "      <td>0</td>\n",
       "      <td>1</td>\n",
       "      <td>0</td>\n",
       "      <td>3</td>\n",
       "      <td>1</td>\n",
       "    </tr>\n",
       "    <tr>\n",
       "      <th>1</th>\n",
       "      <td>5</td>\n",
       "      <td>6</td>\n",
       "      <td>2010</td>\n",
       "      <td>5</td>\n",
       "      <td>6</td>\n",
       "      <td>1961</td>\n",
       "      <td>1961</td>\n",
       "      <td>896</td>\n",
       "      <td>0</td>\n",
       "      <td>1</td>\n",
       "      <td>0</td>\n",
       "      <td>2</td>\n",
       "      <td>1</td>\n",
       "    </tr>\n",
       "    <tr>\n",
       "      <th>2</th>\n",
       "      <td>6</td>\n",
       "      <td>6</td>\n",
       "      <td>2010</td>\n",
       "      <td>6</td>\n",
       "      <td>6</td>\n",
       "      <td>1958</td>\n",
       "      <td>1958</td>\n",
       "      <td>1329</td>\n",
       "      <td>0</td>\n",
       "      <td>1</td>\n",
       "      <td>1</td>\n",
       "      <td>3</td>\n",
       "      <td>1</td>\n",
       "    </tr>\n",
       "    <tr>\n",
       "      <th>3</th>\n",
       "      <td>8</td>\n",
       "      <td>4</td>\n",
       "      <td>2010</td>\n",
       "      <td>7</td>\n",
       "      <td>5</td>\n",
       "      <td>1968</td>\n",
       "      <td>1968</td>\n",
       "      <td>2110</td>\n",
       "      <td>0</td>\n",
       "      <td>2</td>\n",
       "      <td>1</td>\n",
       "      <td>3</td>\n",
       "      <td>1</td>\n",
       "    </tr>\n",
       "    <tr>\n",
       "      <th>4</th>\n",
       "      <td>6</td>\n",
       "      <td>3</td>\n",
       "      <td>2010</td>\n",
       "      <td>5</td>\n",
       "      <td>5</td>\n",
       "      <td>1997</td>\n",
       "      <td>1998</td>\n",
       "      <td>928</td>\n",
       "      <td>701</td>\n",
       "      <td>2</td>\n",
       "      <td>1</td>\n",
       "      <td>3</td>\n",
       "      <td>1</td>\n",
       "    </tr>\n",
       "    <tr>\n",
       "      <th>...</th>\n",
       "      <td>...</td>\n",
       "      <td>...</td>\n",
       "      <td>...</td>\n",
       "      <td>...</td>\n",
       "      <td>...</td>\n",
       "      <td>...</td>\n",
       "      <td>...</td>\n",
       "      <td>...</td>\n",
       "      <td>...</td>\n",
       "      <td>...</td>\n",
       "      <td>...</td>\n",
       "      <td>...</td>\n",
       "      <td>...</td>\n",
       "    </tr>\n",
       "    <tr>\n",
       "      <th>2925</th>\n",
       "      <td>6</td>\n",
       "      <td>3</td>\n",
       "      <td>2006</td>\n",
       "      <td>6</td>\n",
       "      <td>6</td>\n",
       "      <td>1984</td>\n",
       "      <td>1984</td>\n",
       "      <td>1003</td>\n",
       "      <td>0</td>\n",
       "      <td>1</td>\n",
       "      <td>0</td>\n",
       "      <td>3</td>\n",
       "      <td>1</td>\n",
       "    </tr>\n",
       "    <tr>\n",
       "      <th>2926</th>\n",
       "      <td>5</td>\n",
       "      <td>6</td>\n",
       "      <td>2006</td>\n",
       "      <td>5</td>\n",
       "      <td>5</td>\n",
       "      <td>1983</td>\n",
       "      <td>1983</td>\n",
       "      <td>902</td>\n",
       "      <td>0</td>\n",
       "      <td>1</td>\n",
       "      <td>0</td>\n",
       "      <td>2</td>\n",
       "      <td>1</td>\n",
       "    </tr>\n",
       "    <tr>\n",
       "      <th>2927</th>\n",
       "      <td>6</td>\n",
       "      <td>7</td>\n",
       "      <td>2006</td>\n",
       "      <td>5</td>\n",
       "      <td>5</td>\n",
       "      <td>1992</td>\n",
       "      <td>1992</td>\n",
       "      <td>970</td>\n",
       "      <td>0</td>\n",
       "      <td>1</td>\n",
       "      <td>0</td>\n",
       "      <td>3</td>\n",
       "      <td>1</td>\n",
       "    </tr>\n",
       "    <tr>\n",
       "      <th>2928</th>\n",
       "      <td>6</td>\n",
       "      <td>4</td>\n",
       "      <td>2006</td>\n",
       "      <td>5</td>\n",
       "      <td>5</td>\n",
       "      <td>1974</td>\n",
       "      <td>1975</td>\n",
       "      <td>1389</td>\n",
       "      <td>0</td>\n",
       "      <td>1</td>\n",
       "      <td>0</td>\n",
       "      <td>2</td>\n",
       "      <td>1</td>\n",
       "    </tr>\n",
       "    <tr>\n",
       "      <th>2929</th>\n",
       "      <td>9</td>\n",
       "      <td>11</td>\n",
       "      <td>2006</td>\n",
       "      <td>7</td>\n",
       "      <td>5</td>\n",
       "      <td>1993</td>\n",
       "      <td>1994</td>\n",
       "      <td>996</td>\n",
       "      <td>1004</td>\n",
       "      <td>2</td>\n",
       "      <td>1</td>\n",
       "      <td>3</td>\n",
       "      <td>1</td>\n",
       "    </tr>\n",
       "  </tbody>\n",
       "</table>\n",
       "<p>2930 rows × 13 columns</p>\n",
       "</div>"
      ],
      "text/plain": [
       "      TotRms AbvGrd  Mo Sold  Yr Sold  Overall Qual  Overall Cond  Year Built  \\\n",
       "0                 7        5     2010             6             5        1960   \n",
       "1                 5        6     2010             5             6        1961   \n",
       "2                 6        6     2010             6             6        1958   \n",
       "3                 8        4     2010             7             5        1968   \n",
       "4                 6        3     2010             5             5        1997   \n",
       "...             ...      ...      ...           ...           ...         ...   \n",
       "2925              6        3     2006             6             6        1984   \n",
       "2926              5        6     2006             5             5        1983   \n",
       "2927              6        7     2006             5             5        1992   \n",
       "2928              6        4     2006             5             5        1974   \n",
       "2929              9       11     2006             7             5        1993   \n",
       "\n",
       "      Year Remod/Add  1st Flr SF  2nd Flr SF  Full Bath  Half Bath  \\\n",
       "0               1960        1656           0          1          0   \n",
       "1               1961         896           0          1          0   \n",
       "2               1958        1329           0          1          1   \n",
       "3               1968        2110           0          2          1   \n",
       "4               1998         928         701          2          1   \n",
       "...              ...         ...         ...        ...        ...   \n",
       "2925            1984        1003           0          1          0   \n",
       "2926            1983         902           0          1          0   \n",
       "2927            1992         970           0          1          0   \n",
       "2928            1975        1389           0          1          0   \n",
       "2929            1994         996        1004          2          1   \n",
       "\n",
       "      Bedroom AbvGr  Kitchen AbvGr  \n",
       "0                 3              1  \n",
       "1                 2              1  \n",
       "2                 3              1  \n",
       "3                 3              1  \n",
       "4                 3              1  \n",
       "...             ...            ...  \n",
       "2925              3              1  \n",
       "2926              2              1  \n",
       "2927              3              1  \n",
       "2928              2              1  \n",
       "2929              3              1  \n",
       "\n",
       "[2930 rows x 13 columns]"
      ]
     },
     "execution_count": 8,
     "metadata": {},
     "output_type": "execute_result"
    }
   ],
   "source": [
    "import pandas as pd\n",
    "\n",
    "full_data = pd.read_csv(\"./data/AmesHousing.csv\")\n",
    "\n",
    "attributes = [\n",
    "    \"TotRms AbvGrd\",\n",
    "    \"Mo Sold\",\n",
    "    \"Yr Sold\",\n",
    "    \"Overall Qual\",\n",
    "    \"Overall Cond\",\n",
    "    \"Year Built\",\n",
    "    \"Year Remod/Add\",\n",
    "    \"1st Flr SF\",\n",
    "    \"2nd Flr SF\",\n",
    "    \"Full Bath\",\n",
    "    \"Half Bath\",\n",
    "    \"Bedroom AbvGr\",\n",
    "    \"Kitchen AbvGr\"\n",
    "]\n",
    "\n",
    "data_y = full_data[\"SalePrice\"]\n",
    "data_x = full_data[attributes]\n",
    "data_x\n",
    "#data_y"
   ]
  },
  {
   "cell_type": "markdown",
   "id": "7e2663ad-7d2e-42f9-97b8-a2e3bf50f526",
   "metadata": {},
   "source": [
    "----\n",
    "\n",
    "**Nota:** En este caso hemos seleccionado directamente los 13 atributos porque nuestro objetivo es explicar la regresión múltiple con redes neuronales. Sin embargo, en un caso real es muy importante analizar cada uno de estos atributos, así como el modo en que se relacionan entre sí. Por tanto, **se recomienda examinar la correlación existente entre los atributos** y el formato en el que se encuentran representados con el objetivo de **seleccionar aquellos que nos ofrezcan un mejor resultado** y determinar el tipo de transformaciones que debemos realizar sobre ellos.\n",
    "\n",
    "----\n",
    "\n",
    "Una vez cargados los datos vamos a **normalizar los valores de la variables independientes** con el objetivo de que estos se encuentren definidos en un rango comprendido entre 0 y 1, de manera que los valores de todas las variables estén representados de manera similar.\n",
    "\n",
    "Después, **transformar las instancias a formato de tensores**.\n",
    "\n",
    "Finalmente, vamos a dividir los datos en los **conjuntos de entrenamiento, test y validación**. En este caso, vamos a seguir el mismo acercamiento que las secciones 3.2 y 3.3, diviendo manualmente los datos en vez de utilizar el método `fit()` de Keras para generar el conjunto de validación."
   ]
  },
  {
   "cell_type": "code",
   "execution_count": 9,
   "id": "1d1ebecc-a9e0-42ba-b6fd-3b3d86cf98af",
   "metadata": {},
   "outputs": [],
   "source": [
    "from sklearn import preprocessing\n",
    "from sklearn.model_selection import train_test_split\n",
    "import tensorflow as tf\n",
    "import numpy as np\n",
    "\n",
    "# Aplicación de un proceso de normalización para que los valores se representen entre 0 y 1\n",
    "min_max_scaler = preprocessing.MinMaxScaler()\n",
    "\n",
    "data_x = pd.DataFrame(\n",
    "    data=min_max_scaler.fit_transform(data_x),\n",
    "    columns=data_x.columns\n",
    ")\n",
    "\n",
    "data_y = data_y / data_y.max()\n",
    "\n",
    "# Generación de los conjuntos de entrenamiento, test y validación\n",
    "x_train, x_test, y_train, y_test = train_test_split(\n",
    "    data_x,\n",
    "    data_y,\n",
    "    test_size=0.10,\n",
    "    random_state=0\n",
    ")\n",
    "\n",
    "x_train, x_val, y_train, y_val = train_test_split(\n",
    "    x_train,\n",
    "    y_train,\n",
    "    test_size=0.10,\n",
    "    random_state=0\n",
    ")\n",
    "\n",
    "# Transformación del conjunto de entrenamiento en tensores\n",
    "X_train = tf.convert_to_tensor(x_train, np.float32)\n",
    "y_train = tf.convert_to_tensor(y_train)\n",
    "\n",
    "# Transformación del conjunto de test en tensores\n",
    "X_test = tf.convert_to_tensor(x_test, np.float32)\n",
    "y_test = tf.convert_to_tensor(y_test)\n",
    "\n",
    "# Transformación del conjunto de validación en tensores\n",
    "X_val = tf.convert_to_tensor(x_val, np.float32)\n",
    "y_val = tf.convert_to_tensor(y_val)"
   ]
  },
  {
   "cell_type": "markdown",
   "id": "cf947543-1dfb-4c2f-864f-a8e3a2b0917e",
   "metadata": {},
   "source": [
    "### 3.5.2 - Construcción de la red"
   ]
  },
  {
   "cell_type": "markdown",
   "id": "70f0126b-e750-4b36-8496-cf64755ff1c3",
   "metadata": {},
   "source": [
    "Una vez preparados nuestros datos, podremos construir nuestra red de neuronas. En este caso vamos a considerar una red formada por cuatro capas (donde la primera capa combina la entrada con la primera capa densa):\n",
    "\n",
    "* Una capa densa con 13 neuronas (número de atributos de entrada) y una función de activación ReLU.\n",
    "* Una capa densa con 39 neuronas y una función de activación ReLU.\n",
    "* Una capa densa con 13 neuronas y una función de activación ReLU.\n",
    "* Una capa de salida con 1 neurona y una función de activación lineal.\n",
    "\n",
    "Para la última capa, hemos decidido utilizar una función de activación lineal. En este problema en particular, como **el precio de una vivienda no puede ser negativo**, podriamos haber utilizado en su lugar una función de activación final (i.e.,\"output\") ReLU en su lugar (podemos hacer la prueba y comparar resultado).\n",
    "\n",
    "<details>\n",
    "    <summary><b>Recordatorio funciones de activación</b></summary>\n",
    "<table>\n",
    "    <tr>\n",
    "        <th>Función lineal</th>\n",
    "        <th>Función ReLU</th>\n",
    "    </tr>\n",
    "    <tr>\n",
    "        <td><img src=\"images_1/funcion_lineal.png\" width=\"500\" data-align=\"center\"></td>\n",
    "        <td><img src=\"images_1/funcion_relu.png\" width=\"500\" data-align=\"center\"></td>\n",
    "    </tr>\n",
    "</table>\n",
    "</details>\n",
    "\n",
    "<br>\n",
    "\n",
    "Además, para cada una de las capas, vamos a realizar una inicialización mediante el **método He**, el cual utiliza una distribución normal con media $0$, así como una desviación estándar calculada de la siguiente manera:\n",
    "    $$\n",
    "    \\sigma = \\sqrt{\\frac{1}{n_{c-1}}}\n",
    "    $$\n",
    "En Tensorflow, se define mediante la función `variance_scaling_initializer`."
   ]
  },
  {
   "cell_type": "code",
   "execution_count": 10,
   "id": "811fe31e-bf97-4403-a2b2-718e176fa0b4",
   "metadata": {},
   "outputs": [
    {
     "name": "stdout",
     "output_type": "stream",
     "text": [
      "Model: \"non_linear_regression_multiple_model\"\n",
      "_________________________________________________________________\n",
      " Layer (type)                Output Shape              Param #   \n",
      "=================================================================\n",
      " dense_1 (Dense)             (None, 13)                182       \n",
      "                                                                 \n",
      " dense_2 (Dense)             (None, 39)                546       \n",
      "                                                                 \n",
      " dense_3 (Dense)             (None, 13)                520       \n",
      "                                                                 \n",
      " dense_4 (Dense)             (None, 1)                 14        \n",
      "                                                                 \n",
      "=================================================================\n",
      "Total params: 1,262\n",
      "Trainable params: 1,262\n",
      "Non-trainable params: 0\n",
      "_________________________________________________________________\n"
     ]
    }
   ],
   "source": [
    "import tensorflow as tf\n",
    "from tensorflow import keras\n",
    "\n",
    "# Creación de las capas que forman la estructura de la red\n",
    "layers = [\n",
    "    keras.layers.Dense(\n",
    "        units=13,\n",
    "        input_shape=(13,),\n",
    "        kernel_initializer=\"he_uniform\",\n",
    "        activation=tf.keras.activations.relu\n",
    "    ),\n",
    "    keras.layers.Dense(\n",
    "        units=39,\n",
    "        kernel_initializer=\"he_uniform\",\n",
    "        activation=tf.keras.activations.relu\n",
    "    ),\n",
    "    keras.layers.Dense(\n",
    "        units=13,\n",
    "        kernel_initializer=\"he_uniform\",\n",
    "        activation=tf.keras.activations.relu\n",
    "    ),\n",
    "    keras.layers.Dense(\n",
    "        units=1,\n",
    "        kernel_initializer=\"he_uniform\",\n",
    "        activation=tf.keras.activations.linear\n",
    "    )\n",
    "]\n",
    "\n",
    "# Compilación de la red neuronal\n",
    "model_nonlinear_multiple = keras.Sequential(layers, name=\"non_linear_regression_multiple_model\")\n",
    "\n",
    "# Configuración del algoritmo de optmización y funcion de loss\n",
    "model_nonlinear_multiple.compile(\n",
    "    optimizer=keras.optimizers.SGD(learning_rate=0.01),\n",
    "    loss=\"mse\",\n",
    "    metrics=[keras.metrics.RootMeanSquaredError(), \"mse\", \"mae\"]\n",
    ")\n",
    "\n",
    "model_nonlinear_multiple.summary()"
   ]
  },
  {
   "cell_type": "markdown",
   "id": "647b11bd-83f3-4277-a53b-3c5fce597e8a",
   "metadata": {},
   "source": [
    "Con respecto a los parámetros observamos lo siguiente:\n",
    "* La capa densa `dense_3` está formada por 13 neuronas, cada una de ellas con 13 parámetros de entrada y un parámetro de *bias*, haciendo un total de **182** (13 * 13 + 13).\n",
    "* La capa densa `dense_4` está formada por 39 neuronas, cada una de ellas con 13 parámetros de entrada y un parámetro de *bias*, haciendo un total de **546** (39 * 13 + 39).\n",
    "* La capa densa `dense_5` está formada por 13 neuronas, cada una de ellas con 13 parámetros de entrada y un parámetro de *bias*, haciendo un total de **520** (39 * 13 + 13).\n",
    "* La capa densa `dense_6` está formada por 1 neuronas, cada una de ellas con 13 parámetros de entrada y un parámetro de *bias*, haciendo un total de **14** (13 * 1 + 1)."
   ]
  },
  {
   "cell_type": "markdown",
   "id": "a3f53975-477f-486d-9229-b3378e2a81e1",
   "metadata": {},
   "source": [
    "### 3.5.3 - Entrenamiento"
   ]
  },
  {
   "cell_type": "markdown",
   "id": "80808aec-905c-4564-a911-51821c13e159",
   "metadata": {},
   "source": [
    "Una vez compilada nuestra red de neuronas, podemos iniciar el proceso de entrenamiento mediante la función `fit()`. En este caso, hemos seleccionado las siguientes opciones:\n",
    "\n",
    "* Número de epochs: 100\n",
    "* Tamaño del batch de entrenamiento: 250 instancias\n",
    "\n",
    "Al igual que en el ejemplo de regresión lineal anterior, no seleccionamos un porcentaje del conjunto de entrenamiento como validación sino que vamos a utilizar el conjunto de validación que hemos definido manualmnente."
   ]
  },
  {
   "cell_type": "code",
   "execution_count": 11,
   "id": "c59dbf03-3d45-4d34-ba6e-694a0b481ba4",
   "metadata": {},
   "outputs": [
    {
     "name": "stdout",
     "output_type": "stream",
     "text": [
      "Epoch 1/50\n",
      "10/10 [==============================] - 1s 39ms/step - loss: 0.1138 - root_mean_squared_error: 0.3373 - mse: 0.1138 - mae: 0.2727 - val_loss: 0.0239 - val_root_mean_squared_error: 0.1545 - val_mse: 0.0239 - val_mae: 0.1147\n",
      "Epoch 2/50\n",
      "10/10 [==============================] - 0s 10ms/step - loss: 0.0213 - root_mean_squared_error: 0.1461 - mse: 0.0213 - mae: 0.1075 - val_loss: 0.0199 - val_root_mean_squared_error: 0.1411 - val_mse: 0.0199 - val_mae: 0.1030\n",
      "Epoch 3/50\n",
      "10/10 [==============================] - 0s 9ms/step - loss: 0.0193 - root_mean_squared_error: 0.1390 - mse: 0.0193 - mae: 0.1020 - val_loss: 0.0190 - val_root_mean_squared_error: 0.1377 - val_mse: 0.0190 - val_mae: 0.1001\n",
      "Epoch 4/50\n",
      "10/10 [==============================] - 0s 8ms/step - loss: 0.0184 - root_mean_squared_error: 0.1357 - mse: 0.0184 - mae: 0.0993 - val_loss: 0.0182 - val_root_mean_squared_error: 0.1347 - val_mse: 0.0182 - val_mae: 0.0980\n",
      "Epoch 5/50\n",
      "10/10 [==============================] - 0s 9ms/step - loss: 0.0176 - root_mean_squared_error: 0.1328 - mse: 0.0176 - mae: 0.0970 - val_loss: 0.0174 - val_root_mean_squared_error: 0.1320 - val_mse: 0.0174 - val_mae: 0.0961\n",
      "Epoch 6/50\n",
      "10/10 [==============================] - 0s 8ms/step - loss: 0.0169 - root_mean_squared_error: 0.1301 - mse: 0.0169 - mae: 0.0951 - val_loss: 0.0168 - val_root_mean_squared_error: 0.1295 - val_mse: 0.0168 - val_mae: 0.0942\n",
      "Epoch 7/50\n",
      "10/10 [==============================] - 0s 10ms/step - loss: 0.0163 - root_mean_squared_error: 0.1276 - mse: 0.0163 - mae: 0.0930 - val_loss: 0.0162 - val_root_mean_squared_error: 0.1272 - val_mse: 0.0162 - val_mae: 0.0927\n",
      "Epoch 8/50\n",
      "10/10 [==============================] - 0s 9ms/step - loss: 0.0157 - root_mean_squared_error: 0.1255 - mse: 0.0157 - mae: 0.0914 - val_loss: 0.0157 - val_root_mean_squared_error: 0.1252 - val_mse: 0.0157 - val_mae: 0.0915\n",
      "Epoch 9/50\n",
      "10/10 [==============================] - 0s 9ms/step - loss: 0.0153 - root_mean_squared_error: 0.1235 - mse: 0.0153 - mae: 0.0902 - val_loss: 0.0152 - val_root_mean_squared_error: 0.1234 - val_mse: 0.0152 - val_mae: 0.0904\n",
      "Epoch 10/50\n",
      "10/10 [==============================] - 0s 9ms/step - loss: 0.0148 - root_mean_squared_error: 0.1217 - mse: 0.0148 - mae: 0.0890 - val_loss: 0.0148 - val_root_mean_squared_error: 0.1216 - val_mse: 0.0148 - val_mae: 0.0890\n",
      "Epoch 11/50\n",
      "10/10 [==============================] - 0s 8ms/step - loss: 0.0144 - root_mean_squared_error: 0.1200 - mse: 0.0144 - mae: 0.0878 - val_loss: 0.0144 - val_root_mean_squared_error: 0.1200 - val_mse: 0.0144 - val_mae: 0.0877\n",
      "Epoch 12/50\n",
      "10/10 [==============================] - 0s 10ms/step - loss: 0.0140 - root_mean_squared_error: 0.1184 - mse: 0.0140 - mae: 0.0868 - val_loss: 0.0140 - val_root_mean_squared_error: 0.1184 - val_mse: 0.0140 - val_mae: 0.0864\n",
      "Epoch 13/50\n",
      "10/10 [==============================] - 0s 9ms/step - loss: 0.0137 - root_mean_squared_error: 0.1169 - mse: 0.0137 - mae: 0.0858 - val_loss: 0.0137 - val_root_mean_squared_error: 0.1171 - val_mse: 0.0137 - val_mae: 0.0855\n",
      "Epoch 14/50\n",
      "10/10 [==============================] - 0s 9ms/step - loss: 0.0133 - root_mean_squared_error: 0.1155 - mse: 0.0133 - mae: 0.0850 - val_loss: 0.0134 - val_root_mean_squared_error: 0.1157 - val_mse: 0.0134 - val_mae: 0.0842\n",
      "Epoch 15/50\n",
      "10/10 [==============================] - 0s 9ms/step - loss: 0.0130 - root_mean_squared_error: 0.1142 - mse: 0.0130 - mae: 0.0838 - val_loss: 0.0131 - val_root_mean_squared_error: 0.1145 - val_mse: 0.0131 - val_mae: 0.0835\n",
      "Epoch 16/50\n",
      "10/10 [==============================] - 0s 9ms/step - loss: 0.0127 - root_mean_squared_error: 0.1128 - mse: 0.0127 - mae: 0.0831 - val_loss: 0.0128 - val_root_mean_squared_error: 0.1132 - val_mse: 0.0128 - val_mae: 0.0825\n",
      "Epoch 17/50\n",
      "10/10 [==============================] - 0s 8ms/step - loss: 0.0124 - root_mean_squared_error: 0.1115 - mse: 0.0124 - mae: 0.0822 - val_loss: 0.0126 - val_root_mean_squared_error: 0.1121 - val_mse: 0.0126 - val_mae: 0.0819\n",
      "Epoch 18/50\n",
      "10/10 [==============================] - 0s 8ms/step - loss: 0.0122 - root_mean_squared_error: 0.1103 - mse: 0.0122 - mae: 0.0814 - val_loss: 0.0123 - val_root_mean_squared_error: 0.1109 - val_mse: 0.0123 - val_mae: 0.0808\n",
      "Epoch 19/50\n",
      "10/10 [==============================] - 0s 8ms/step - loss: 0.0119 - root_mean_squared_error: 0.1091 - mse: 0.0119 - mae: 0.0803 - val_loss: 0.0122 - val_root_mean_squared_error: 0.1103 - val_mse: 0.0122 - val_mae: 0.0813\n",
      "Epoch 20/50\n",
      "10/10 [==============================] - 0s 8ms/step - loss: 0.0117 - root_mean_squared_error: 0.1079 - mse: 0.0117 - mae: 0.0800 - val_loss: 0.0118 - val_root_mean_squared_error: 0.1088 - val_mse: 0.0118 - val_mae: 0.0794\n",
      "Epoch 21/50\n",
      "10/10 [==============================] - 0s 8ms/step - loss: 0.0114 - root_mean_squared_error: 0.1068 - mse: 0.0114 - mae: 0.0787 - val_loss: 0.0116 - val_root_mean_squared_error: 0.1079 - val_mse: 0.0116 - val_mae: 0.0790\n",
      "Epoch 22/50\n",
      "10/10 [==============================] - 0s 9ms/step - loss: 0.0112 - root_mean_squared_error: 0.1059 - mse: 0.0112 - mae: 0.0782 - val_loss: 0.0115 - val_root_mean_squared_error: 0.1070 - val_mse: 0.0115 - val_mae: 0.0785\n",
      "Epoch 23/50\n",
      "10/10 [==============================] - 0s 9ms/step - loss: 0.0110 - root_mean_squared_error: 0.1049 - mse: 0.0110 - mae: 0.0774 - val_loss: 0.0113 - val_root_mean_squared_error: 0.1062 - val_mse: 0.0113 - val_mae: 0.0779\n",
      "Epoch 24/50\n",
      "10/10 [==============================] - 0s 9ms/step - loss: 0.0108 - root_mean_squared_error: 0.1040 - mse: 0.0108 - mae: 0.0769 - val_loss: 0.0111 - val_root_mean_squared_error: 0.1054 - val_mse: 0.0111 - val_mae: 0.0771\n",
      "Epoch 25/50\n",
      "10/10 [==============================] - 0s 7ms/step - loss: 0.0106 - root_mean_squared_error: 0.1032 - mse: 0.0106 - mae: 0.0761 - val_loss: 0.0109 - val_root_mean_squared_error: 0.1046 - val_mse: 0.0109 - val_mae: 0.0768\n",
      "Epoch 26/50\n",
      "10/10 [==============================] - 0s 9ms/step - loss: 0.0105 - root_mean_squared_error: 0.1023 - mse: 0.0105 - mae: 0.0755 - val_loss: 0.0107 - val_root_mean_squared_error: 0.1037 - val_mse: 0.0107 - val_mae: 0.0760\n",
      "Epoch 27/50\n",
      "10/10 [==============================] - 0s 8ms/step - loss: 0.0103 - root_mean_squared_error: 0.1015 - mse: 0.0103 - mae: 0.0748 - val_loss: 0.0106 - val_root_mean_squared_error: 0.1029 - val_mse: 0.0106 - val_mae: 0.0756\n",
      "Epoch 28/50\n",
      "10/10 [==============================] - 0s 10ms/step - loss: 0.0101 - root_mean_squared_error: 0.1007 - mse: 0.0101 - mae: 0.0741 - val_loss: 0.0105 - val_root_mean_squared_error: 0.1023 - val_mse: 0.0105 - val_mae: 0.0754\n",
      "Epoch 29/50\n",
      "10/10 [==============================] - 0s 10ms/step - loss: 0.0100 - root_mean_squared_error: 0.0999 - mse: 0.0100 - mae: 0.0738 - val_loss: 0.0103 - val_root_mean_squared_error: 0.1012 - val_mse: 0.0103 - val_mae: 0.0742\n",
      "Epoch 30/50\n",
      "10/10 [==============================] - 0s 7ms/step - loss: 0.0098 - root_mean_squared_error: 0.0991 - mse: 0.0098 - mae: 0.0730 - val_loss: 0.0101 - val_root_mean_squared_error: 0.1004 - val_mse: 0.0101 - val_mae: 0.0735\n",
      "Epoch 31/50\n",
      "10/10 [==============================] - 0s 8ms/step - loss: 0.0097 - root_mean_squared_error: 0.0983 - mse: 0.0097 - mae: 0.0723 - val_loss: 0.0100 - val_root_mean_squared_error: 0.0998 - val_mse: 0.0100 - val_mae: 0.0732\n",
      "Epoch 32/50\n",
      "10/10 [==============================] - 0s 9ms/step - loss: 0.0095 - root_mean_squared_error: 0.0975 - mse: 0.0095 - mae: 0.0719 - val_loss: 0.0098 - val_root_mean_squared_error: 0.0989 - val_mse: 0.0098 - val_mae: 0.0722\n",
      "Epoch 33/50\n",
      "10/10 [==============================] - 0s 8ms/step - loss: 0.0094 - root_mean_squared_error: 0.0968 - mse: 0.0094 - mae: 0.0710 - val_loss: 0.0097 - val_root_mean_squared_error: 0.0983 - val_mse: 0.0097 - val_mae: 0.0722\n",
      "Epoch 34/50\n",
      "10/10 [==============================] - 0s 9ms/step - loss: 0.0092 - root_mean_squared_error: 0.0961 - mse: 0.0092 - mae: 0.0706 - val_loss: 0.0096 - val_root_mean_squared_error: 0.0978 - val_mse: 0.0096 - val_mae: 0.0720\n",
      "Epoch 35/50\n",
      "10/10 [==============================] - 0s 9ms/step - loss: 0.0091 - root_mean_squared_error: 0.0954 - mse: 0.0091 - mae: 0.0703 - val_loss: 0.0094 - val_root_mean_squared_error: 0.0969 - val_mse: 0.0094 - val_mae: 0.0709\n",
      "Epoch 36/50\n",
      "10/10 [==============================] - 0s 8ms/step - loss: 0.0090 - root_mean_squared_error: 0.0947 - mse: 0.0090 - mae: 0.0695 - val_loss: 0.0093 - val_root_mean_squared_error: 0.0963 - val_mse: 0.0093 - val_mae: 0.0705\n",
      "Epoch 37/50\n",
      "10/10 [==============================] - 0s 8ms/step - loss: 0.0088 - root_mean_squared_error: 0.0940 - mse: 0.0088 - mae: 0.0690 - val_loss: 0.0091 - val_root_mean_squared_error: 0.0956 - val_mse: 0.0091 - val_mae: 0.0699\n",
      "Epoch 38/50\n",
      "10/10 [==============================] - 0s 7ms/step - loss: 0.0087 - root_mean_squared_error: 0.0934 - mse: 0.0087 - mae: 0.0686 - val_loss: 0.0090 - val_root_mean_squared_error: 0.0950 - val_mse: 0.0090 - val_mae: 0.0692\n",
      "Epoch 39/50\n",
      "10/10 [==============================] - 0s 8ms/step - loss: 0.0086 - root_mean_squared_error: 0.0928 - mse: 0.0086 - mae: 0.0678 - val_loss: 0.0089 - val_root_mean_squared_error: 0.0946 - val_mse: 0.0089 - val_mae: 0.0693\n",
      "Epoch 40/50\n",
      "10/10 [==============================] - 0s 8ms/step - loss: 0.0085 - root_mean_squared_error: 0.0922 - mse: 0.0085 - mae: 0.0675 - val_loss: 0.0088 - val_root_mean_squared_error: 0.0940 - val_mse: 0.0088 - val_mae: 0.0686\n",
      "Epoch 41/50\n",
      "10/10 [==============================] - 0s 8ms/step - loss: 0.0084 - root_mean_squared_error: 0.0916 - mse: 0.0084 - mae: 0.0670 - val_loss: 0.0088 - val_root_mean_squared_error: 0.0936 - val_mse: 0.0088 - val_mae: 0.0685\n",
      "Epoch 42/50\n",
      "10/10 [==============================] - 0s 9ms/step - loss: 0.0083 - root_mean_squared_error: 0.0911 - mse: 0.0083 - mae: 0.0668 - val_loss: 0.0086 - val_root_mean_squared_error: 0.0929 - val_mse: 0.0086 - val_mae: 0.0675\n",
      "Epoch 43/50\n",
      "10/10 [==============================] - 0s 10ms/step - loss: 0.0082 - root_mean_squared_error: 0.0907 - mse: 0.0082 - mae: 0.0661 - val_loss: 0.0085 - val_root_mean_squared_error: 0.0925 - val_mse: 0.0085 - val_mae: 0.0674\n",
      "Epoch 44/50\n",
      "10/10 [==============================] - 0s 10ms/step - loss: 0.0081 - root_mean_squared_error: 0.0902 - mse: 0.0081 - mae: 0.0657 - val_loss: 0.0085 - val_root_mean_squared_error: 0.0922 - val_mse: 0.0085 - val_mae: 0.0673\n",
      "Epoch 45/50\n",
      "10/10 [==============================] - 0s 10ms/step - loss: 0.0081 - root_mean_squared_error: 0.0897 - mse: 0.0081 - mae: 0.0656 - val_loss: 0.0084 - val_root_mean_squared_error: 0.0916 - val_mse: 0.0084 - val_mae: 0.0667\n",
      "Epoch 46/50\n",
      "10/10 [==============================] - 0s 9ms/step - loss: 0.0080 - root_mean_squared_error: 0.0892 - mse: 0.0080 - mae: 0.0652 - val_loss: 0.0083 - val_root_mean_squared_error: 0.0911 - val_mse: 0.0083 - val_mae: 0.0662\n",
      "Epoch 47/50\n",
      "10/10 [==============================] - 0s 8ms/step - loss: 0.0079 - root_mean_squared_error: 0.0889 - mse: 0.0079 - mae: 0.0648 - val_loss: 0.0082 - val_root_mean_squared_error: 0.0907 - val_mse: 0.0082 - val_mae: 0.0660\n",
      "Epoch 48/50\n",
      "10/10 [==============================] - 0s 9ms/step - loss: 0.0078 - root_mean_squared_error: 0.0884 - mse: 0.0078 - mae: 0.0646 - val_loss: 0.0081 - val_root_mean_squared_error: 0.0903 - val_mse: 0.0081 - val_mae: 0.0656\n",
      "Epoch 49/50\n",
      "10/10 [==============================] - 0s 9ms/step - loss: 0.0077 - root_mean_squared_error: 0.0880 - mse: 0.0077 - mae: 0.0644 - val_loss: 0.0081 - val_root_mean_squared_error: 0.0897 - val_mse: 0.0081 - val_mae: 0.0649\n",
      "Epoch 50/50\n",
      "10/10 [==============================] - 0s 9ms/step - loss: 0.0077 - root_mean_squared_error: 0.0877 - mse: 0.0077 - mae: 0.0639 - val_loss: 0.0080 - val_root_mean_squared_error: 0.0894 - val_mse: 0.0080 - val_mae: 0.0648\n"
     ]
    },
    {
     "data": {
      "text/plain": [
       "<keras.callbacks.History at 0x1bb26483730>"
      ]
     },
     "execution_count": 11,
     "metadata": {},
     "output_type": "execute_result"
    }
   ],
   "source": [
    "import datetime\n",
    "from time import time\n",
    "from keras.callbacks import TensorBoard\n",
    "\n",
    "# Definición de los callback de TF Board\n",
    "tensorboard_callback = TensorBoard(log_dir=\"logs_nonlinear_regression_multiple\")\n",
    "\n",
    "# Ejecución del proceso de aprendizaje\n",
    "model_nonlinear_multiple.fit(\n",
    "    X_train,\n",
    "    y_train,\n",
    "    epochs=50, # Numero de iteraciones\n",
    "    batch_size=250, # Tamaño de los batches\n",
    "    validation_data=(X_val, y_val),  # conjunto de validación\n",
    "    callbacks=[tensorboard_callback]\n",
    ")"
   ]
  },
  {
   "cell_type": "markdown",
   "id": "68c5eae0-29ed-425f-8965-80d2e6cc37ae",
   "metadata": {},
   "source": [
    "### 3.5.4 - Visualización"
   ]
  },
  {
   "cell_type": "code",
   "execution_count": 12,
   "id": "b0c51322-1ef0-4e2b-956d-d0c842f436df",
   "metadata": {},
   "outputs": [
    {
     "name": "stdout",
     "output_type": "stream",
     "text": [
      "75/75 [==============================] - 0s 1ms/step\n"
     ]
    },
    {
     "data": {
      "image/png": "[encoded data removed]",
      "text/plain": [
       "<Figure size 1008x432 with 1 Axes>"
      ]
     },
     "metadata": {
      "needs_background": "light"
     },
     "output_type": "display_data"
    },
    {
     "name": "stdout",
     "output_type": "stream",
     "text": [
      "10/10 [==============================] - 0s 1ms/step\n"
     ]
    },
    {
     "data": {
      "image/png": "[encoded data removed]",
      "text/plain": [
       "<Figure size 1008x432 with 1 Axes>"
      ]
     },
     "metadata": {
      "needs_background": "light"
     },
     "output_type": "display_data"
    }
   ],
   "source": [
    "import matplotlib.pyplot as plt\n",
    "\n",
    "def print_neural_regression_line(model, X_print, X, Y):\n",
    "    plt.rcParams[\"figure.figsize\"] = (14, 6)\n",
    "    plt.rcParams[\"lines.linewidth\"] = 3\n",
    "    plt.rcParams[\"axes.labelsize\"] = 20\n",
    "    plt.scatter(X_print, Y, label=\"Real\")\n",
    "    plt.scatter(X_print, model.predict(X).flatten(), label=\"Predecido\")\n",
    "    plt.legend([\"Real\", \"Predecido\"])\n",
    "    plt.show()\n",
    "    \n",
    "print_neural_regression_line(model_nonlinear_multiple, x_train[\"TotRms AbvGrd\"], X_train, y_train)\n",
    "print_neural_regression_line(model_nonlinear_multiple, x_test[\"TotRms AbvGrd\"], X_test, y_test)"
   ]
  },
  {
   "cell_type": "markdown",
   "id": "eb8c8ac1-7267-4360-ba2a-00e5c9a54f9f",
   "metadata": {},
   "source": [
    "En este caso, podemos observar que el modelo generado mediante una regresión múltiple es mucho mejor que el modelo lineal simple que habiamos definido anteriormente. Ésta evolución se observa tanto en los datos de entrenamiento como en los datos test.\n",
    "\n",
    "Importante señalar, que si bien es mejor, tiene aun rango de mejora. Quizás con más atributos, más capas y un mayor número de instancias podriamos obtener mejores resultados."
   ]
  },
  {
   "cell_type": "markdown",
   "id": "f85a8b22-1a83-4398-9f74-5753c18bde84",
   "metadata": {},
   "source": [
    "## 3.6 - Regularización"
   ]
  },
  {
   "cell_type": "markdown",
   "id": "4decb086-e915-4a5c-95e7-6cd713a1e8c9",
   "metadata": {},
   "source": [
    "La regularización es una técnica destinada a reducir la complejidad de los modelos de aprendizaje automático, de manera que estos sean capaces de generalizar mejor sobre datos nuevos que no se encuentren en los datos de entrenamiento.\n",
    "\n",
    "La regularización tiene como objetivo evitar o reducir el sobreajuste (i.e., overfitting). El sobreajuste se puede observar cuando el valor de pérdida en los datos de entrenamiento sigue decreciendo mientras que en los datos de validación comienza a crecer.\n",
    "\n",
    "<img src=\"images_3/overfitting.png\" width=\"500\" data-align=\"center\">\n",
    "\n",
    "Para tratar de evitar esta situación, se modifica la función de pérdida incluyendo **un nuevo elemento a minimizar durante el entrenamiento: la complejidad del modelo**. De este modo, además de minimizar el error, intentamos minimizar la complejidad del modelo con el objetivo de construir modelos mas sencillos que tengan poco error o pérdida.\n",
    "\n",
    "Por ejemplo, si estuvieramos si estuvieramos utilizando como función de pérdida el error cuadrático medio (MSE) y quisieramos algún tipo de regularización, deberiamos añadir un nuevo término que penalice la complejidad del modelo de la siguiente manera:\n",
    "\n",
    "$$\n",
    "\\text{Loss}(\\mathbf{y}, \\hat{\\mathbf{y}}) = MSE(\\mathbf{y}, \\hat{\\mathbf{y}}) + \\delta * C\n",
    "$$\n",
    "\n",
    "Donde $C$ es la medida de la complejidad del modelo y $\\delta$ es un hiperparámetro que nos indica el nivel de importancia que le otorgamos al proceso de regularización (con el objetivo de **balancear el rendimiento del modelo y su complejidad**). \n",
    "\n",
    "Las tres técnicas más comunes de regularización son:\n",
    "1. **Regularización L1**\n",
    "2. **Regularización L2**\n",
    "3. **Regularización *Elastic Net***\n",
    "\n",
    "----\n",
    "\n",
    "**Nota:** Si bien estamos explicando regularización poniendo como ejemplo una función de perdida apropiada para tareas de regresión, **podemos aplicar regularización a otros tipos de funciones de pérdida, como aquellas de tareas de clasificación.**\n",
    "\n",
    "----"
   ]
  },
  {
   "cell_type": "markdown",
   "id": "81c96ec4-66a7-4b06-a876-8f6e8f495c44",
   "metadata": {},
   "source": [
    "### 3.6.1 - Regularización L1"
   ]
  },
  {
   "cell_type": "markdown",
   "id": "93dd8500-5191-4c51-8829-b9e083a8824a",
   "metadata": {},
   "source": [
    "La regularización L1 o regularización *Lasso* **mide la complejidad como la media del valor absoluto de los parámetros del modelo** de la siguiente manera:\n",
    "\n",
    "$$\n",
    "C=\\frac{1}{m} \\sum_{j=1}^{m}|w_{j}|\n",
    "$$\n",
    "\n",
    "Donde $m$ representa el número de parámetros del modelo. En el caso de que quisiéramos aplicar este tipo de regularización sobre el error cuadrático medio, deberíamos recurrir a la siguiente fórmula:\n",
    "\n",
    "$$\n",
    "\\begin{align*}\n",
    "\\text{Loss}(\\mathbf{y}, \\hat{\\mathbf{y}}) &= MSE(\\mathbf{y}, \\hat{\\mathbf{y}}) + \\delta * C \\\\\n",
    "&= \\frac{1}{n} \\sum_{i=1}^{n}(y_{i} - \\hat{y}_{i})^{2} + \\delta * \\frac{1}{m} \\sum_{j=1}^{m}|w_{j}|\n",
    "\\end{align*}\n",
    "$$\n",
    "\n",
    "Donde $\\delta$ es un hiperparámetro que nos indica el nivel de importancia que le otorgamos al proceso de regularización. \n",
    "\n",
    "Este tipo de regularización nos permite simplificar el modelo en situaciones donde sospechamos que **algunos de los atributos de entrada son irrelevantes**, es decir, no ejercen ninguna influencia sobre la salida (e.g., son ruido).\n",
    "\n",
    "Desde un punto de vista matemático, este tipo de regularización **fuerza a que algunos de los parámetros de la red (i.e., pesos) adopten valores muy cercanos a $0$**, de forma que la influencia de la neurona a la que multiplican no tenga influencia desde el punto de vista del resultado.\n",
    "\n",
    "Se aplica a los pesos de las conexiones a traves de la propiedad `kernel_regularizer`, mediante el método `keras.regularizers.l1`."
   ]
  },
  {
   "cell_type": "code",
   "execution_count": 13,
   "id": "2c690cac-c2d7-4d41-bc34-5b296106e6fb",
   "metadata": {},
   "outputs": [],
   "source": [
    "import tensorflow as tf\n",
    "from tensorflow import keras\n",
    "\n",
    "# Creación de las capas que forman la estructura de la red\n",
    "layers = [\n",
    "    keras.layers.Dense(\n",
    "        units=8,\n",
    "        input_shape=(8,),\n",
    "        activation=tf.keras.activations.relu,\n",
    "        kernel_initializer=\"he_uniform\",\n",
    "        kernel_regularizer=keras.regularizers.l1(l=0.1) # 'l' representa el valor de importancia de la regularización\n",
    "    ),\n",
    "    keras.layers.Dense(\n",
    "        units=4,\n",
    "        activation=tf.keras.activations.relu,\n",
    "        kernel_initializer=\"he_uniform\",\n",
    "        kernel_regularizer=keras.regularizers.l1(l=0.1) # 'l' representa el valor de importancia de la regularización\n",
    "    ),\n",
    "    keras.layers.Dense(\n",
    "        units=1,\n",
    "        activation=tf.keras.activations.sigmoid\n",
    "    ),\n",
    "]\n",
    "\n",
    "# Compilación del modelo\n",
    "model = keras.models.Sequential(layers, name=\"L1_regularization_model\")\n",
    "\n",
    "# Configuración del algoritmo de optmización y funcion de loss\n",
    "model.compile(\n",
    "    optimizer=\"adam\",\n",
    "    loss=\"binary_crossentropy\",\n",
    "    metrics=[\"accuracy\"]\n",
    ")"
   ]
  },
  {
   "cell_type": "markdown",
   "id": "c4b62175-7acb-4bf5-bb19-5aa6f25ddca6",
   "metadata": {},
   "source": [
    "### 3.6.2 - Regularización L2"
   ]
  },
  {
   "cell_type": "markdown",
   "id": "365edb8b-5b59-4770-92ef-2245daf49aaf",
   "metadata": {},
   "source": [
    "La regularización L2 o regularización *Ridge* **mide la complejidad como la media del cuadrado absoluto de los parámetros del modelo** de la siguiente manera:\n",
    "\n",
    "$$\n",
    "C=\\frac{1}{2m}\\sum_{j=1}^{m}w_{j}^{2}\n",
    "$$\n",
    "\n",
    "Donde $m$ representa el número de parámetros del modelo. En el caso de que quisiéramos aplicar este tipo de regularización sobre el error cuadrático medio, deberíamos utilizar la siguiente fórmula:\n",
    "\n",
    "$$\n",
    "\\begin{align*}\n",
    "\\text{Loss}(\\mathbf{y}, \\hat{\\mathbf{y}}) &= MSE(\\mathbf{y}, \\hat{\\mathbf{y}}) + \\delta * C \\\\\n",
    "&= \\frac{1}{n} \\sum_{i=1}^{n}(y_{i} - \\hat{y}_{i})^{2} + \\delta * \\frac{1}{2m}\\sum_{j=1}^{m}w_{j}^{2}\n",
    "\\end{align*}\n",
    "$$\n",
    "\n",
    "Donde $\\delta$ es un hiperparámetro que nos indica el nivel de importancia que le otorgamos al proceso de regularización. \n",
    "\n",
    "Este tipo de regularización nos permite simplificar el modelo en situaciones donde sospechamos que **algunos de los atributos de entrada están correlacionados entre sí**. Funciona muy bien cuando la mayor parte de los atributos son relevantes pero existen ciertas correlaciones. \n",
    "\n",
    "Desde el punto de vista matemático, este tipo de regularización **fuerza que algunos de los parámetros de la red (i.e., pesos) adopten valores muy pequeños (sin llegar a 0 como en el caso de L1)** de forma que se reduzca su influencia (pero no se elimine totalmente).\n",
    "\n",
    "Se aplica a los pesos de las conexiones traves de la propiedad `kernel_regularizer`, mediante el método `keras.regularizers.l2`."
   ]
  },
  {
   "cell_type": "code",
   "execution_count": 14,
   "id": "de0cf88c-d392-4350-9d00-c06680b80b19",
   "metadata": {},
   "outputs": [],
   "source": [
    "import tensorflow as tf\n",
    "from tensorflow import keras\n",
    "\n",
    "# Creación de las capas que forman la estructura de la red\n",
    "layers = [\n",
    "    keras.layers.Dense(\n",
    "        units=8,\n",
    "        input_shape=(8,),\n",
    "        activation=tf.keras.activations.relu,\n",
    "        kernel_initializer=\"he_uniform\",\n",
    "        kernel_regularizer=keras.regularizers.l2(l=0.3) # 'l' representa el valor de importancia de la regularización\n",
    "    ),\n",
    "    keras.layers.Dense(\n",
    "        units=4,\n",
    "        activation=tf.keras.activations.relu,\n",
    "        kernel_initializer=\"he_uniform\",\n",
    "        kernel_regularizer=keras.regularizers.l2(l=0.3) # 'l' representa el valor de importancia de la regularización\n",
    "    ),\n",
    "    keras.layers.Dense(\n",
    "        units=1,\n",
    "        activation=tf.keras.activations.sigmoid\n",
    "    ),\n",
    "]\n",
    "\n",
    "# Compilación del modelo\n",
    "model = keras.models.Sequential(layers, name=\"L1_regularization_model\")\n",
    "\n",
    "# Configuración del algoritmo de optmización y funcion de loss\n",
    "model.compile(\n",
    "    optimizer=\"adam\",\n",
    "    loss=\"binary_crossentropy\",\n",
    "    metrics=[\"accuracy\"]\n",
    ")"
   ]
  },
  {
   "cell_type": "markdown",
   "id": "c037af28-85f6-4cba-9f28-fa7bffeabe71",
   "metadata": {},
   "source": [
    "### 3.6.3 - Regularización *Elastic Net*"
   ]
  },
  {
   "cell_type": "markdown",
   "id": "572a68d6-86b7-4d38-beda-2a198254490e",
   "metadata": {},
   "source": [
    "La regularización *Elastic Net* **mide la complejidad como la combinación de las regularizaciones L1 y L2** de la siguiente forma:\n",
    "\n",
    "$$\n",
    "C = \\delta_{L1} \\ L1 + \\delta_{L2} \\ L2\n",
    "$$\n",
    "\n",
    "En este casontamos con dos hiperparámetros de importancia, uno para cada método de regularización (i.e., $\\delta_{L1}$ y $\\delta_{L2}$). En el caso de que quisiéramos aplicar este tipo de regularización sobre el error cuadrático medio, deberíamos aplicar la siguiente fórmula:\n",
    "\n",
    "$$\n",
    "\\begin{align*}\n",
    "\\text{Loss}(\\mathbf{y}, \\hat{\\mathbf{y}}) &= MSE(\\mathbf{y}, \\hat{\\mathbf{y}}) + \\delta * C \\\\\n",
    "&= \\frac{1}{n} \\sum_{i=1}^{n}(y_{i} - \\hat{y}_{i})^{2} + \\delta_{L1} * \\frac{1}{m} \\sum_{j=1}^{m}|w_{j}| + \\delta_{L2} * \\frac{1}{2m}\\sum_{j=1}^{m}w_{j}^{2}\n",
    "\\end{align*}\n",
    "$$\n",
    "\n",
    "\n",
    "Este tipo de regularización se suele utilizar cuando el **número de atributos es muy elevado**, de manera que **contamos con una alta probabilidad de que existan atributos irrelevantes, así como correlacionados entre sí**.\n",
    "\n",
    "Se aplica a los pesos de las conexiones a traves de la propiedad `kernel_regularizer`, mediante el método `keras.regularizers.l1_l2`."
   ]
  },
  {
   "cell_type": "code",
   "execution_count": 15,
   "id": "b46ac574-b972-4c97-ac5b-e80b5e63e8e9",
   "metadata": {},
   "outputs": [],
   "source": [
    "import tensorflow as tf\n",
    "from tensorflow import keras\n",
    "\n",
    "# Creación de las capas que forman la estructura de la red\n",
    "layers = [\n",
    "    keras.layers.Dense(\n",
    "        units=8,\n",
    "        input_shape=(8,),\n",
    "        activation=tf.keras.activations.relu,\n",
    "        kernel_initializer=\"he_uniform\",\n",
    "        kernel_regularizer=keras.regularizers.l1_l2(l1=0.1, # 'l1' representa el valor de importancia de la regularización L1\n",
    "                                                    l2=0.3) # 'l2' representa el valor de importancia de la regularización L2\n",
    "    ),\n",
    "    keras.layers.Dense(\n",
    "        units=4,\n",
    "        activation=tf.keras.activations.relu,\n",
    "        kernel_initializer=\"he_uniform\",\n",
    "        kernel_regularizer=keras.regularizers.l1_l2(l1=0.1, # 'l1' representa el valor de importancia de la regularización L1\n",
    "                                                    l2=0.3) # 'l2' representa el valor de importancia de la regularización L2\n",
    "    ),\n",
    "    keras.layers.Dense(\n",
    "        units=1,\n",
    "        activation=tf.keras.activations.sigmoid\n",
    "    ),\n",
    "]\n",
    "\n",
    "# Compilación del modelo\n",
    "model = keras.models.Sequential(layers, name=\"L1_regularization_model\")\n",
    "\n",
    "# Configuración del algoritmo de optmización y funcion de loss\n",
    "model.compile(\n",
    "    optimizer=\"adam\",\n",
    "    loss=\"binary_crossentropy\",\n",
    "    metrics=[\"accuracy\"]\n",
    ")"
   ]
  },
  {
   "cell_type": "markdown",
   "id": "8059d894-0bc2-4314-8fd0-f959b19e3ea4",
   "metadata": {},
   "source": [
    "Las regularizaciones no solo pueden aplicarse a los pesos de las conexiones entre capas sino también a otros parámetros de la red como:\n",
    "* Bias. Se puede aplicar regularización sobre el sesgo de una capa mediante la propiedad `bias_regularizer`\n",
    "* Salida. Se puede aplicar regularización sobre la salida de una capa mediante la propiedad `activity_regularizer` (por ejemplo en la última capa del modelo)."
   ]
  }
 ],
 "metadata": {
  "kernelspec": {
   "display_name": "Python 3 (ipykernel)",
   "language": "python",
   "name": "python3"
  },
  "language_info": {
   "codemirror_mode": {
    "name": "ipython",
    "version": 3
   },
   "file_extension": ".py",
   "mimetype": "text/x-python",
   "name": "python",
   "nbconvert_exporter": "python",
   "pygments_lexer": "ipython3",
   "version": "3.10.4"
  }
 },
 "nbformat": 4,
 "nbformat_minor": 5
}
