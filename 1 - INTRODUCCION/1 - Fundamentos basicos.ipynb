{
 "cells": [
  {
   "cell_type": "markdown",
   "id": "abf30091-2cd0-4395-bc42-dfce3455d9d9",
   "metadata": {},
   "source": [
    "# 1 - Fundamentos básicos\n",
    "\n",
    "**Sumario**\n",
    "\n",
    "1. Introducción\n",
    "2. Fundamentos básicos de Machine Learning\n",
    "3. Fundamentos básicos de Deep Learning\n",
    "4. Herramientas básicas para el desarrollo de modelos\n",
    "5. Introducción a Scikit-learn"
   ]
  },
  {
   "cell_type": "markdown",
   "id": "05ec5cf5-2abb-481b-9210-c4b9aaa8bd37",
   "metadata": {
    "tags": []
   },
   "source": [
    "## 1.1 - Introducción"
   ]
  },
  {
   "cell_type": "markdown",
   "id": "65b0511f-af10-42dd-8d55-b1761328bd31",
   "metadata": {},
   "source": [
    "Una de las capacidades más importantes de los seres vivos es la de **aprender**, ya que esta les permite adaptarse a las necesidades del entorno con el objetivo de aumentar sus posibilidades de supervivencia. De este modo, **los seres vivos adquieren nuevas habilidades y/o conocimientos, modifican lo aprendido previamente o lo mejoran mediante la interacción con su entorno**. Es decir, los seres vivos siguen un proceso de adaptación al entorno, en muchos casos de manera autónoma, mediante un proceso de aprendizaje y **con el objetivo de maximizar su capacidad de supervivencia**.\n",
    "\n",
    "**Este proceso de adaptación es mucho más complejo en los seres humanos**, pues no solo se limita al entorno y a sus interacciones con él, sino que también influyen ciertos factores relacionados con valores, principios morales y reglas sociales que ejercen un impacto significativo sobre las diferentes habilidades, destrezas, conocimientos y/o conductas que estos son capaces de aprender."
   ]
  },
  {
   "cell_type": "markdown",
   "id": "155e0528-67e3-405e-9404-135a9e420a33",
   "metadata": {
    "tags": []
   },
   "source": [
    "### 1.1.1 - Algoritmos tradicionales"
   ]
  },
  {
   "cell_type": "markdown",
   "id": "f9e0f48f-35fd-4364-9c8e-1924e0fd8c81",
   "metadata": {},
   "source": [
    "Esta poderosa capacidad de los seres humanos para construir modelos de comportamiento en base a la información que obtienen del entorno les llevó al diseño de **algoritmos**, los cuales **reproducen comportamientos mediante una serie de reglas estáticas**:\n",
    "\n",
    "<img src=\"images_1/algoritmo_tradicional.png\" width=\"600\" data-align=\"center\">\n",
    "\n",
    "* **Datos**. Son los datos de entrada suministrados al algoritmo para generar una respuesta.\n",
    "\n",
    "* **Reglas estáticas**. Son las que rigen el comportamiento del algoritmo y que han sido definidas por un experto que posee un conocimiento avanzado del comportamiento que se quiere replicar. Este conjunto de reglas suele estar incluido en la estructura del algoritmo, de modo que suele ser complicado de modificar, pues implicaría la modificación del algoritmo.\n",
    "\n",
    "* **Resultado**. La respuesta del algoritmo.\n",
    "\n",
    "Este acercamiento presenta **muchas dificultades para adaptarse a nuevas situaciones** si estas no han sido previstas por los expertos a la hora de definir las diferentes reglas que utiliza el algoritmo. \n",
    "\n",
    "Dos tipos de tareas donde observamos las limitaciones de los algoritmos tradicionales son: \n",
    "\n",
    "* **Tareas en las cuales es dificil especificar nuestro conocimiento en forma de reglas**.\n",
    "    * Reconocimiento facial\n",
    "    * Sintetización de voz\n",
    "    * Diágnóstico médico\n",
    "    \n",
    "<img src=\"images_1/mars_rover.jpg\" width=\"300\" data-align=\"center\">\n",
    " \n",
    "* **Tareas en las que no tenemos conocimiento experto**.\n",
    "    * Exploración espacial\n",
    "    * Navegación bajo el agua\n",
    "    \n",
    "<img src=\"images_1/stereo_spectrum.png\" width=\"300\" data-align=\"center\">\n"
   ]
  },
  {
   "cell_type": "markdown",
   "id": "f5695b81-9711-4360-83b8-a78a44111d93",
   "metadata": {
    "tags": []
   },
   "source": [
    "### 1.1.2 - Algoritmos de aprendizaje automático"
   ]
  },
  {
   "cell_type": "markdown",
   "id": "74ec3b8d-7f39-4df5-8f02-af1bbc05e87c",
   "metadata": {},
   "source": [
    "Este tipo de limitaciones dieron lugar a diferentes áreas de investigación con el objetivo de imitar los modelos de aprendizaje humano:\n",
    "\n",
    "* **Aprendizaje inductivo**. Consiste en construir modelos a partir de un proceso de generalización mediante ejemplos simples.\n",
    "\n",
    "* **Aprendizaje deductivo** o analítico que consiste en construir modelos a partir de un proceso deductivo mediante la identificación de una descripción general a partir de un conjunto de ejemplos los cuales son explicados de forma específica y completa.\n",
    "\n",
    "* **Aprendizaje analógico** que consiste en construir modelos que permiten generar soluciones a problemas nuevos mediante la búsqueda de similitudes con problemas previamente resueltos.\n",
    "\n",
    "* **Aprendizaje conexionista** que consiste en construir modelos basados en las conexiones de entidades sencillas.\n",
    "\n",
    "----\n",
    "\n",
    "**Nota:** Hoy en dia cuando nos referimos a aprendizaje automatico o Machine Learning, solemos referirnos a implicitamente a la modalidad inductiva.\n",
    "\n",
    "----\n",
    "\n",
    "<img src=\"images_1/algoritmo_aprendizaje.png\" width=\"600\" data-align=\"center\">\n",
    "\n",
    "* **Datos**. Son los datos de entrada suministrados al algoritmo de aprendizaje automático para construir el modelo.\n",
    "\n",
    "* **Modelo**.La representación del comportamiento/patrón extraido a partir de los datos y del feedback generado por sus propias respuestas. \n",
    "\n",
    "* **Resultado**. La respuesta del modelo a los datos introducidos.\n",
    "\n",
    "* **Feedback**. La respuesta del entorno ante el resultado generado por el algoritmo. Cuanto mejor represente el modelo la tarea, mejor será el feedback del entorno. Es lo que le permite aprender y modificar su comportamiento adecuadamente.\n",
    "\n",
    "Este cambio de paradigma supuso **la aparición de diferentes tipos de familias de algoritmos que abordaban diferentes tipos de problemas**:\n",
    "\n",
    "* **Algoritmos de aprendizaje supervisado**\n",
    "    * Datos de aprendizaje + resultados esperados (etiquetas)\n",
    "* **Algoritmos de aprendizaje no-supervisado**\n",
    "    * Datos de aprendizaje (sin etiquetas)\n",
    "* **Algoritmos de aprendizaje semi-supervisado**\n",
    "    * Datos de aprendizaje + algunos resultados esperados (no todos los datos tienen etiquetas)\n",
    "* **Algoritmos de aprendizaje por refuerzo**\n",
    "    * Observaciones y recompensas periódicas a medida que el algoritmo toma acciones secuenciales en un entorno\n",
    "\n",
    "A su vez, surgieron gran cantidad de **tipos de modelos con los que abordar estos problemas de aprendizaje**:\n",
    "\n",
    "* Árboles de decision\n",
    "* Máquinas de vectores de soporte\n",
    "* Modelos probabilísticos gráficos (e.g., Naïve Bayes)\n",
    "* Modelos lineales generalizados (e.g., regresión lineal, regresión logística)\n",
    "* **Redes neuronales**\n",
    "* etc.\n"
   ]
  },
  {
   "cell_type": "markdown",
   "id": "9b3c7a93-67c5-4690-b91d-07cce9d8443f",
   "metadata": {
    "tags": []
   },
   "source": [
    "### 1.1.3 - Redes neuronales"
   ]
  },
  {
   "cell_type": "markdown",
   "id": "68ff34c1-ca27-422e-a17a-cefb3506b6c6",
   "metadata": {},
   "source": [
    "Una red neuronal es un modelo simplificado que emula el modo en que el cerebro humano procesa la información: Funciona simultaneando un número elevado de unidades de procesamiento interconectadas que parecen versiones abstractas de neuronas.\n",
    "\n",
    "Las familia de modelos de las redes neuronales ha evolucionado enormemente desde las primeras versiones del **perceptrón** [Minsky, 1969; Schmidhuber, 2015] hasta los complejos modelos construidos mediante la utilización del **aprendizaje profundo (Deep Learning en inglés)** conforme a millones de datos y complejas estructuras basadas en redes de neuronas [Mitchell, 1997].\n",
    "\n",
    "La gran evolución experimentada por las redes de neuronas de tipo profundo, ha posibilitado la aparición de un área de especialización específica dentro del aprendizaje automático:\n",
    "\n",
    "<img src=\"images_1/aprendizaje_automatico_globo.png\" width=\"300\" data-align=\"center\">\n",
    "\n",
    "Las redes neuronales profundas han demostrado una **gran capacidad para resolver tareas complejas** y se utilizan actualmente en gran cantidad de ambitos. Por ejemplo:\n",
    "\n",
    "* **Movilidad**. Identificación de rutas más eficientes por carretera que minimicen el número de embotellamientos en las principales arterias de las ciudades, disminuyendo el tiempo, el consumo y/o la contaminación.\n",
    "\n",
    "* **Agricultura**. Identificación de las áreas de cultivo más adecuadas para cada tipo de producto, de sus fechas de recogida en base al momento óptimo de maduración y de los posibles problemas durante el proceso de crecimiento mediante la detección de enfermedades (visión artificial).\n",
    "\n",
    "* **Medios de comunicación**. Personalización de la publicidad y de las recomendaciones mediante la utilización de datos multimodales referentes a los usuarios y las usuarias.\n",
    "\n",
    "Sin embargo, **dada la complejidad de su arquitectura** y de las operaciones matemáticas que se producen en su interior, **resulta extremadamente difícil construir una explicación fácilmente comprensible de por qué la red toma las decisiones que toma** en base a la configuración que ha aprendido a partir de los ejemplos de entrenamiento. \n",
    "\n",
    "Esta “debilidad” explica que las redes neuronales profundas no se puedan utilizar (o se deban se utilizar en conjunción con humanos) en aquellos ambitos donde la toma de decisiones del modelo podría influir significativamente sobre la salud o el bienestar de los mismos. Por ejemplo:\n",
    "\n",
    "* **Diagnóstico medico**. Las predicciones del modelo son analizadas por uno o varios médico que son los que toman la decisión final.\n",
    "\n",
    "* **Banca**. Los modelos de riesgo deben ser modelos completamente interpretables (por regulación gubernamental)."
   ]
  },
  {
   "cell_type": "markdown",
   "id": "a37cde1a-1976-462f-ae80-413345e7611d",
   "metadata": {},
   "source": [
    "## 1.2 - Fundamentos básicos de Machine Learning"
   ]
  },
  {
   "cell_type": "markdown",
   "id": "1f372ea9-775a-47fd-b47a-7e345b617667",
   "metadata": {},
   "source": [
    "### 1.2.1 - Componentes de toda aplicación de aprendizaje automatico"
   ]
  },
  {
   "cell_type": "markdown",
   "id": "fb776282-b143-4a8e-86cc-17fe26f40e0c",
   "metadata": {},
   "source": [
    "Aprender es equivalente a buscar (**optimización**) a través del espacio de modelos potenciales (**representación**) para encontrar el que mejor funciona (**evaluación**) con los datos de entrenamiento\n",
    "\n",
    "#### Representación\n",
    "* **¿Cómo se especifican los datos?**\n",
    "* **¿Cómo es la forma del modelo?**\n",
    "\n",
    "<table>\n",
    "  <tr>\n",
    "    <th>Funciones numéricas</th>\n",
    "    <th>Funciones simbólicas</th>\n",
    "    <th>Funciones basadas en instancias</th>\n",
    "    <th>Modelos gráficos probabilísticos</th>\n",
    "  </tr>\n",
    "  <tr>\n",
    "    <td>Regresión lineal</td>\n",
    "    <td>Árboles de decisión</td>\n",
    "    <td>K-vecinos cercanos</td>\n",
    "    <td>Naïve Bayes</td>\n",
    "  </tr>\n",
    "  <tr>\n",
    "    <td>Análisis</td>\n",
    "    <td>Reglas lógicas proposicionales</td>\n",
    "    <td>basado en casos</td>\n",
    "    <td>Redes Bayesianas</td>\n",
    "  </tr>\n",
    "  <tr>\n",
    "    <td><span style=\"color: blue;\">Redes neuronales</span></td>\n",
    "    <td>Reglas lógicas de primer orden</td>\n",
    "    <td></td>\n",
    "    <td>Redes de Markov</td>\n",
    "  </tr>\n",
    "</table>\n",
    "\n",
    "#### Optimización\n",
    "* **¿Cómo se entrena el modelo?**\n",
    "    * Descenso por gradiente\n",
    "    * Expectation-Maximization (EM)\n",
    "    * Programación dinamica\n",
    "    * Dividir y conquistar\n",
    "    * Computación evolutiva\n",
    "    * etc.\n",
    "\n",
    "#### Evaluación\n",
    "* **¿Cómo evaluamos el rendimiento del modelo?**\n",
    "    * Error cuadrático\n",
    "    * Verosimilitud (i.e., likelihood)\n",
    "    * Ganancia de infromación\n",
    "    * Accuracy\n",
    "    * Precision/recall\n",
    "    * etc."
   ]
  },
  {
   "cell_type": "markdown",
   "id": "bd4b42f3-c1db-484e-a47c-4e00fff8f1e7",
   "metadata": {},
   "source": [
    "### 1.2.2 - Tipos de aprendizaje"
   ]
  },
  {
   "cell_type": "markdown",
   "id": "dfc8a4a2-4163-478d-822a-0ba2f8945b09",
   "metadata": {},
   "source": [
    "A la hora de construir un modelo mediante ML, es necesario identificar de qué tipo será, ya que esto nos permitirá determinar el tipo de algoritmo que debemos utilizar para su entrenamiento\n",
    "\n",
    "#### Aprendizaje supervisado\n",
    "\n",
    "Conjunto de algoritmos que utilizan datos etiquetados para la construccion del modelo. Los datos de entrenamiento de tamaño $m$ y dimensionalidad $n$ ($\\mathbf{x}$) se utilizan para predecir el valor objetivo ($y$).\n",
    "\n",
    "<table>\n",
    "    <tr>\n",
    "        <td>$X_{1}$</td>\n",
    "        <td>$\\dots$</td>\n",
    "        <td>$X_{n}$</td>\n",
    "        <td>$Y$</td>\n",
    "    </tr>\n",
    "    <tr>\n",
    "        <td>$x_{1}^{(1)}$</td>\n",
    "        <td>$\\dots$</td>\n",
    "        <td>$x_{n}^{(1)}$</td>\n",
    "        <td>$y^{(1)}$</td>\n",
    "    </tr>\n",
    "    <tr>\n",
    "        <td>$x_{1}^{(2)}$</td>\n",
    "        <td>$\\dots$</td>\n",
    "        <td>$x_{n}^{(2)}$</td>\n",
    "        <td>$y^{(2)}$</td>\n",
    "    </tr>\n",
    "    <tr>\n",
    "        <td>$\\dots$</td>\n",
    "        <td>$\\dots$</td>\n",
    "        <td>$\\dots$</td>\n",
    "        <td>$\\dots$</td>\n",
    "    </tr>\n",
    "    <tr>\n",
    "        <td>$x_{1}^{(m)}$</td>\n",
    "        <td>$\\dots$</td>\n",
    "        <td>$x_{n}^{(m)}$</td>\n",
    "        <td>$y^{(m)}$</td>\n",
    "    </tr>\n",
    "</table>\n",
    "\n",
    "* **Regresión**\n",
    "    * $\\mathbf{x}$ esta compuesto de valores continuos\n",
    "    * $y$ es un valor continuo\n",
    "    \n",
    "* **Clasificación**\n",
    "    * $\\mathbf{x}$ esta compuesto de valores continuos y/o discretos\n",
    "    * $y$ es un valor discreto\n",
    "\n",
    "#### Aprendizaje no-supervisado\n",
    "\n",
    "Conjunto de algoritmos más complejos que los anteriores, ya que la información que utilizan durante el proceso de aprendizaje es incompleta (no etiquetada). Los datos de entrenamiento de tamaño $m$ y dimensionalidad $n$ ($\\mathbf{x}$) se utilizan para estimar el valor objetivo ($y$), el cual desconocemos.\n",
    "\n",
    "<table>\n",
    "    <tr>\n",
    "        <td>$X_{1}$</td>\n",
    "        <td>$\\dots$</td>\n",
    "        <td>$X_{n}$</td>\n",
    "        <td>$Y$</td>\n",
    "    </tr>\n",
    "    <tr>\n",
    "        <td>$x_{1}^{(1)}$</td>\n",
    "        <td>$\\dots$</td>\n",
    "        <td>$x_{n}^{(1)}$</td>\n",
    "        <td>$?$</td>\n",
    "    </tr>\n",
    "    <tr>\n",
    "        <td>$x_{1}^{(2)}$</td>\n",
    "        <td>$\\dots$</td>\n",
    "        <td>$x_{n}^{(2)}$</td>\n",
    "        <td>$?$</td>\n",
    "    </tr>\n",
    "    <tr>\n",
    "        <td>$\\dots$</td>\n",
    "        <td>$\\dots$</td>\n",
    "        <td>$\\dots$</td>\n",
    "        <td>$\\dots$</td>\n",
    "    </tr>\n",
    "    <tr>\n",
    "        <td>$x_{1}^{(m)}$</td>\n",
    "        <td>$\\dots$</td>\n",
    "        <td>$x_{n}^{(m)}$</td>\n",
    "        <td>$?$</td>\n",
    "    </tr>\n",
    "</table>\n",
    "\n",
    "* **Clustering**\n",
    "    * $\\mathbf{x}$ esta compuesto de valores discretos/continuos\n",
    "    * $y$ es un valor discreto\n",
    "    \n",
    "* **Reducción de dimensionalidad**\n",
    "    * $\\mathbf{x}$ esta compuesto de valores continuos\n",
    "    * $y_{1}, \\dots, y_{K}$ es un valor continuo\n",
    "    \n",
    "\n",
    "#### Apredizaje semi-supervisado\n",
    "Conjunto de algoritmos donde la información que utilizan para el aprendizaje es parcialmente incompleta (algunas instancias están etiquetadas y\n",
    "otras no).\n",
    "\n",
    "<table>\n",
    "    <tr>\n",
    "        <td>$X_{1}$</td>\n",
    "        <td>$\\dots$</td>\n",
    "        <td>$X_{n}$</td>\n",
    "        <td>$Y$</td>\n",
    "    </tr>\n",
    "    <tr>\n",
    "        <td>$x_{1}^{(1)}$</td>\n",
    "        <td>$\\dots$</td>\n",
    "        <td>$x_{n}^{(1)}$</td>\n",
    "        <td>$?$</td>\n",
    "    </tr>\n",
    "    <tr>\n",
    "        <td>$x_{1}^{(2)}$</td>\n",
    "        <td>$\\dots$</td>\n",
    "        <td>$x_{n}^{(2)}$</td>\n",
    "        <td>$y^{(2)}$</td>\n",
    "    </tr>\n",
    "    <tr>\n",
    "        <td>$\\dots$</td>\n",
    "        <td>$\\dots$</td>\n",
    "        <td>$\\dots$</td>\n",
    "        <td>$\\dots$</td>\n",
    "    </tr>\n",
    "    <tr>\n",
    "        <td>$x_{1}^{(m)}$</td>\n",
    "        <td>$\\dots$</td>\n",
    "        <td>$x_{n}^{(m)}$</td>\n",
    "        <td>$?$</td>\n",
    "    </tr>\n",
    "</table>\n",
    "\n",
    "----\n",
    "\n",
    "**Nota:** En algunas ocasiones, las técnicas semi-spervisadas se incluyen en uno de los dos grupos anteriores,\n",
    "ya que la mayor parte de los algoritmos de este grupo realizan algún tipo de transformación en los datos\n",
    "de entrada con el fin de poder aplicar alguno de los algoritmos de los grupos anteriores o bien combinan\n",
    "algoritmos de ambos grupos.\n",
    "\n",
    "----\n",
    "\n",
    "#### Apredizaje por refuerzo\n",
    "\n",
    "Conjunto de algoritmos de tipo especial que intentan simular el modelo de aprendizaje de los humanos, pues emplean una forma diferente de representación de los ejemplos de entrenamiento basada en la utilización de **estados** y **acciones** donde la aplicación de estas últimas produce una realimentación en el entorno mediante **recompensas** (reward). En el aprendizaje por refuerzo, el objetivo consiste en construir una **política** para resolver un determinado problema\n",
    "\n",
    "<img src=\"images_1/reinforcement_learning.png\" width=\"500\" data-align=\"center\">"
   ]
  },
  {
   "cell_type": "markdown",
   "id": "c445ad53-7cbc-46d7-812b-38644d4560b4",
   "metadata": {},
   "source": [
    "### 1.2.3 - Proceso de aprendizaje"
   ]
  },
  {
   "cell_type": "markdown",
   "id": "f77ea309-76df-463e-9e1e-40fb15ac252f",
   "metadata": {},
   "source": [
    "El proceso de aprendizaje se puede dividir de forma general en dos fases diferenciadas\n",
    "\n",
    "#### Proceso de entrenamiento\n",
    "Conjunto de operaciones utilizadas para la generación del modelo. El proceso de entrenamiento esta formado por los siguientes elementos:\n",
    "\n",
    "* **Datos de entrada**. La información que será utilizada para entrenar el modelo. En el caso supervisado/semisupervisado, contiene etiquetas.\n",
    "\n",
    "<img src=\"images_1/datos_entrada.png\" width=\"400\" data-align=\"center\">\n",
    "\n",
    "* **Algoritmo**. Se corresponde con el algoritmo seleccionado para realizar el proceso de aprendizaje.\n",
    "\n",
    "* **Función de *loss***. La función de *loss* o pérdida se utiliza para identificar la calidad del modelo durante el proceso de entrenamiento.\n",
    "\n",
    "* **Algoritmo de optimización**. Es el que se utiliza durante cada una de las iteraciones del proceso de entrenamiento con el objetivo de optimizar los valores asignados a las variables del modelo. Los más comunes son el **descenso por gradiente** y el **algoritmo de Adams**.\n",
    "\n",
    "* **Hiperparámetros**. Conjunto de variables que permiten configurar ciertas facetas del algoritmo de aprendizaje. Así, por ejemplo, un hiperparámetro común a la mayoría de los algoritmos de aprendizaje es la tasa de aprendizaje (learning rate), que es utilizada junto con el algoritmo de optimización. Este parámetro permite determinar el grado de aplicación de las modificaciones que se realizarán sobre las variables internas del modelo en cada iteración del proceso de aprendizaje con el objetivo de maximizar o minimizar el valor calculado por la función de pérdida.\n",
    "\n",
    "* **Modelo aprendido**. Resultado del proceso de aprendizaje.\n",
    "\n",
    "#### Proceso de inferencia\n",
    "Uso del modelo aprendido para predecir/generar resultados a partir de datos nuevos\n",
    "\n",
    "* **Datos de entrada**. La información \"nueva\" que será ingerida por el modelo para generar predicciones/resultados. En el caso supervisado **NO contiene etiquetas**\n",
    "* **Modelo aprendido**. El modelo generado durante el proceso de entrenamiento el cual utilizamos para inferir con los nuevos datos\n",
    "* **Valores resultado**. Las predicciones del modelo a partir de los datos de entrada."
   ]
  },
  {
   "cell_type": "markdown",
   "id": "397387ed-e978-430f-8d36-5cc0fe64f8f2",
   "metadata": {},
   "source": [
    "### 1.2.4 - Modos de aprendizaje"
   ]
  },
  {
   "cell_type": "markdown",
   "id": "5203ed51-6871-4bb6-ae71-621b0f4aa06d",
   "metadata": {},
   "source": [
    "El modo en el que se construya un modelo de aprendizaje puede influir significativamente en el tiempo que se tarde en desplegar durante la fase de inferencia.\n",
    "\n",
    "#### Apredizaje global\n",
    "El aprendizaje global o por lotes (batch) es el modo más utilizado, donde el proceso de aprendizaje se realiza de manera global sobre todo el conjunto de datos de entrada y, una vez generado el modelo resultante, es desplegado. \n",
    "\n",
    "Este modo de aprendizaje es uy sencillo pero tiene ciertos inconvenientes:\n",
    "\n",
    "* **Elevado tiempo de ejecución** por el gran de volumen de información utilizada para la creación del modelo.\n",
    "* **Elevado coste de almacenamiento**, ya que la informacion debe estar disponible en todo momento.\n",
    "* **Mayor coste** en caso de que se finalice inesperadamente la fase de entrenamiento\n",
    "* **No es el mas adecuado para modelos complejos** que requieran una elevada tasa de actualización.\n",
    "\n",
    "#### Apredizaje incremental\n",
    "\n",
    "El aprendizaje incremental construye un nuevo modelo y lo compara con el modelo anteriormente construido mediante algún tipo de métrica que permite evaluar su calidad. Así, el nuevo modelo será desplegado si presenta una calidad similar o superior al modelo anterior.\n",
    "\n",
    "<img src=\"images_1/aprendizaje_incremental.png\" width=\"500\" data-align=\"center\">"
   ]
  },
  {
   "cell_type": "markdown",
   "id": "6974cdb3-b323-43e8-8845-16662423dc6d",
   "metadata": {},
   "source": [
    "## 1.3 - Herramientas básicas para el desarrollo de modelos"
   ]
  },
  {
   "cell_type": "markdown",
   "id": "77fb05ce-86f6-4f1f-b5a6-d05f25ba0006",
   "metadata": {},
   "source": [
    "Existen diferentes herramientas, frameworks y/o tecnologías que utilizaremos para el desarrollo de nuestros modelos de aprendizaje a lo largo de este curso. Para simplificar su descripción, clasificaremos dichas tecnologías en cinco grupos:\n",
    "\n",
    "<img src=\"images_1/herramientas.png\" width=\"500\" data-align=\"center\">\n",
    "\n",
    "* **Herramientas de desarrollo:** en este grupo incluiremos las diferentes herramientas que vamos a utilizar para el desarrollo de nuestros modelos de aprendizaje.\n",
    "\n",
    "* **Herramientas de manipulación:** en este grupo incluiremos las diferentes herramientas o librerías que vamos a utilizar para la manipulación y transformación de los datos.\n",
    "\n",
    "* **Herramientas de aprendizaje:** en este grupo incluiremos las diferentes librerías y frameworks que vamos a utilizar para la ejecución de la fase de aprendizaje.\n",
    "\n",
    "* **Herramientas de evaluación:** en este grupo incluiremos las diferentes herramientas que vamos a utilizar para evaluar nuestros modelos, así como para analizar los valores de las distintas métricas de manera visual.\n",
    "\n",
    "* **Herramientas de despliegue:** en este grupo incluiremos las diferentes herramientas que vamos a utilizar para desplegar nuestros modelos y realizar el proceso de inferencia."
   ]
  },
  {
   "cell_type": "markdown",
   "id": "ab393001-d485-48e4-8ce4-cea533468a46",
   "metadata": {},
   "source": [
    "## 1.4 - Introduccion a Google Colab"
   ]
  },
  {
   "cell_type": "markdown",
   "id": "322c942c-27f5-45e6-97f0-b70cc6ad9930",
   "metadata": {},
   "source": [
    "## 1.5 - Ejemplo de aprendizaje con Scikit-Learn"
   ]
  },
  {
   "cell_type": "markdown",
   "id": "ebadbac9-6541-4159-bb0a-08e474ee317e",
   "metadata": {},
   "source": [
    "[Scikit-Learn](https://scikit-learn.org/stable/) (también conocido como Sklearn) es una libreria de aprendizaje automático de software libre para Python.\n",
    "\n",
    "En este apartado describiremos las características básicas de Sklearn con el objetivo de entender el funcionamiento de un proceso de aprendizaje automático antes de comenzar a desarrollar nuestras redes de neuronas."
   ]
  },
  {
   "cell_type": "markdown",
   "id": "c83a1566-e640-4895-bae2-d73e0e9a2033",
   "metadata": {},
   "source": [
    "### 1.5.1 - Carga de datos"
   ]
  },
  {
   "cell_type": "markdown",
   "id": "c969d396-b12c-4eb2-85cf-93488cfdb284",
   "metadata": {},
   "source": [
    "Como hemos visto anteriormente, el primer paso del proceso de aprendizaje es la carga de los datos. En este caso, vamos a trabajar con un dataset nativo, el cual viene incluido dentro de la libreria de Sklearn."
   ]
  },
  {
   "cell_type": "code",
   "execution_count": 1,
   "id": "cbc2bfce-2bb5-4b53-86b4-de5f37a823cd",
   "metadata": {},
   "outputs": [
    {
     "name": "stdout",
     "output_type": "stream",
     "text": [
      "{'data': array([[ 0.,  0.,  5., ...,  0.,  0.,  0.],\n",
      "       [ 0.,  0.,  0., ..., 10.,  0.,  0.],\n",
      "       [ 0.,  0.,  0., ..., 16.,  9.,  0.],\n",
      "       ...,\n",
      "       [ 0.,  0.,  1., ...,  6.,  0.,  0.],\n",
      "       [ 0.,  0.,  2., ..., 12.,  0.,  0.],\n",
      "       [ 0.,  0., 10., ..., 12.,  1.,  0.]]), 'target': array([0, 1, 2, ..., 8, 9, 8]), 'frame': None, 'feature_names': ['pixel_0_0', 'pixel_0_1', 'pixel_0_2', 'pixel_0_3', 'pixel_0_4', 'pixel_0_5', 'pixel_0_6', 'pixel_0_7', 'pixel_1_0', 'pixel_1_1', 'pixel_1_2', 'pixel_1_3', 'pixel_1_4', 'pixel_1_5', 'pixel_1_6', 'pixel_1_7', 'pixel_2_0', 'pixel_2_1', 'pixel_2_2', 'pixel_2_3', 'pixel_2_4', 'pixel_2_5', 'pixel_2_6', 'pixel_2_7', 'pixel_3_0', 'pixel_3_1', 'pixel_3_2', 'pixel_3_3', 'pixel_3_4', 'pixel_3_5', 'pixel_3_6', 'pixel_3_7', 'pixel_4_0', 'pixel_4_1', 'pixel_4_2', 'pixel_4_3', 'pixel_4_4', 'pixel_4_5', 'pixel_4_6', 'pixel_4_7', 'pixel_5_0', 'pixel_5_1', 'pixel_5_2', 'pixel_5_3', 'pixel_5_4', 'pixel_5_5', 'pixel_5_6', 'pixel_5_7', 'pixel_6_0', 'pixel_6_1', 'pixel_6_2', 'pixel_6_3', 'pixel_6_4', 'pixel_6_5', 'pixel_6_6', 'pixel_6_7', 'pixel_7_0', 'pixel_7_1', 'pixel_7_2', 'pixel_7_3', 'pixel_7_4', 'pixel_7_5', 'pixel_7_6', 'pixel_7_7'], 'target_names': array([0, 1, 2, 3, 4, 5, 6, 7, 8, 9]), 'images': array([[[ 0.,  0.,  5., ...,  1.,  0.,  0.],\n",
      "        [ 0.,  0., 13., ..., 15.,  5.,  0.],\n",
      "        [ 0.,  3., 15., ..., 11.,  8.,  0.],\n",
      "        ...,\n",
      "        [ 0.,  4., 11., ..., 12.,  7.,  0.],\n",
      "        [ 0.,  2., 14., ..., 12.,  0.,  0.],\n",
      "        [ 0.,  0.,  6., ...,  0.,  0.,  0.]],\n",
      "\n",
      "       [[ 0.,  0.,  0., ...,  5.,  0.,  0.],\n",
      "        [ 0.,  0.,  0., ...,  9.,  0.,  0.],\n",
      "        [ 0.,  0.,  3., ...,  6.,  0.,  0.],\n",
      "        ...,\n",
      "        [ 0.,  0.,  1., ...,  6.,  0.,  0.],\n",
      "        [ 0.,  0.,  1., ...,  6.,  0.,  0.],\n",
      "        [ 0.,  0.,  0., ..., 10.,  0.,  0.]],\n",
      "\n",
      "       [[ 0.,  0.,  0., ..., 12.,  0.,  0.],\n",
      "        [ 0.,  0.,  3., ..., 14.,  0.,  0.],\n",
      "        [ 0.,  0.,  8., ..., 16.,  0.,  0.],\n",
      "        ...,\n",
      "        [ 0.,  9., 16., ...,  0.,  0.,  0.],\n",
      "        [ 0.,  3., 13., ..., 11.,  5.,  0.],\n",
      "        [ 0.,  0.,  0., ..., 16.,  9.,  0.]],\n",
      "\n",
      "       ...,\n",
      "\n",
      "       [[ 0.,  0.,  1., ...,  1.,  0.,  0.],\n",
      "        [ 0.,  0., 13., ...,  2.,  1.,  0.],\n",
      "        [ 0.,  0., 16., ..., 16.,  5.,  0.],\n",
      "        ...,\n",
      "        [ 0.,  0., 16., ..., 15.,  0.,  0.],\n",
      "        [ 0.,  0., 15., ..., 16.,  0.,  0.],\n",
      "        [ 0.,  0.,  2., ...,  6.,  0.,  0.]],\n",
      "\n",
      "       [[ 0.,  0.,  2., ...,  0.,  0.,  0.],\n",
      "        [ 0.,  0., 14., ..., 15.,  1.,  0.],\n",
      "        [ 0.,  4., 16., ..., 16.,  7.,  0.],\n",
      "        ...,\n",
      "        [ 0.,  0.,  0., ..., 16.,  2.,  0.],\n",
      "        [ 0.,  0.,  4., ..., 16.,  2.,  0.],\n",
      "        [ 0.,  0.,  5., ..., 12.,  0.,  0.]],\n",
      "\n",
      "       [[ 0.,  0., 10., ...,  1.,  0.,  0.],\n",
      "        [ 0.,  2., 16., ...,  1.,  0.,  0.],\n",
      "        [ 0.,  0., 15., ..., 15.,  0.,  0.],\n",
      "        ...,\n",
      "        [ 0.,  4., 16., ..., 16.,  6.,  0.],\n",
      "        [ 0.,  8., 16., ..., 16.,  8.,  0.],\n",
      "        [ 0.,  1.,  8., ..., 12.,  1.,  0.]]]), 'DESCR': \".. _digits_dataset:\\n\\nOptical recognition of handwritten digits dataset\\n--------------------------------------------------\\n\\n**Data Set Characteristics:**\\n\\n    :Number of Instances: 1797\\n    :Number of Attributes: 64\\n    :Attribute Information: 8x8 image of integer pixels in the range 0..16.\\n    :Missing Attribute Values: None\\n    :Creator: E. Alpaydin (alpaydin '@' boun.edu.tr)\\n    :Date: July; 1998\\n\\nThis is a copy of the test set of the UCI ML hand-written digits datasets\\nhttps://archive.ics.uci.edu/ml/datasets/Optical+Recognition+of+Handwritten+Digits\\n\\nThe data set contains images of hand-written digits: 10 classes where\\neach class refers to a digit.\\n\\nPreprocessing programs made available by NIST were used to extract\\nnormalized bitmaps of handwritten digits from a preprinted form. From a\\ntotal of 43 people, 30 contributed to the training set and different 13\\nto the test set. 32x32 bitmaps are divided into nonoverlapping blocks of\\n4x4 and the number of on pixels are counted in each block. This generates\\nan input matrix of 8x8 where each element is an integer in the range\\n0..16. This reduces dimensionality and gives invariance to small\\ndistortions.\\n\\nFor info on NIST preprocessing routines, see M. D. Garris, J. L. Blue, G.\\nT. Candela, D. L. Dimmick, J. Geist, P. J. Grother, S. A. Janet, and C.\\nL. Wilson, NIST Form-Based Handprint Recognition System, NISTIR 5469,\\n1994.\\n\\n.. topic:: References\\n\\n  - C. Kaynak (1995) Methods of Combining Multiple Classifiers and Their\\n    Applications to Handwritten Digit Recognition, MSc Thesis, Institute of\\n    Graduate Studies in Science and Engineering, Bogazici University.\\n  - E. Alpaydin, C. Kaynak (1998) Cascading Classifiers, Kybernetika.\\n  - Ken Tang and Ponnuthurai N. Suganthan and Xi Yao and A. Kai Qin.\\n    Linear dimensionalityreduction using relevance weighted LDA. School of\\n    Electrical and Electronic Engineering Nanyang Technological University.\\n    2005.\\n  - Claudio Gentile. A New Approximate Maximal Margin Classification\\n    Algorithm. NIPS. 2000.\\n\"}\n",
      "<class 'sklearn.utils.Bunch'>\n"
     ]
    }
   ],
   "source": [
    "from sklearn import datasets\n",
    "\n",
    "# Cargamos el dataset de digitos que ofrece sklearn\n",
    "digits_by_sk = datasets.load_digits()\n",
    "\n",
    "print(digits_by_sk)\n",
    "\n",
    "print(type(digits_by_sk))"
   ]
  },
  {
   "cell_type": "markdown",
   "id": "e55908f9-72bc-42ca-b9ce-9b8eacb2d46e",
   "metadata": {},
   "source": [
    "### 1.5.2 - Creación del modelo"
   ]
  },
  {
   "cell_type": "code",
   "execution_count": null,
   "id": "c89c20a2-2ac5-4df1-93d4-5dcd63c8dc2e",
   "metadata": {},
   "outputs": [],
   "source": []
  },
  {
   "cell_type": "markdown",
   "id": "b354d408-11ac-46c9-ba67-475930185825",
   "metadata": {},
   "source": [
    "### 1.5.3 - Evaluación del modelo"
   ]
  },
  {
   "cell_type": "code",
   "execution_count": null,
   "id": "773fc39a-aa67-464b-aeeb-f6045383bfd5",
   "metadata": {},
   "outputs": [],
   "source": []
  },
  {
   "cell_type": "markdown",
   "id": "c45ef625-9e0e-4556-b43e-821a4a3f9af8",
   "metadata": {},
   "source": [
    "### 1.5.4 - Visualización del modelo"
   ]
  },
  {
   "cell_type": "code",
   "execution_count": null,
   "id": "2e18e2cf-075f-4fdc-8a4e-745d5c0783e6",
   "metadata": {},
   "outputs": [],
   "source": []
  }
 ],
 "metadata": {
  "kernelspec": {
   "display_name": "Python 3 (ipykernel)",
   "language": "python",
   "name": "python3"
  },
  "language_info": {
   "codemirror_mode": {
    "name": "ipython",
    "version": 3
   },
   "file_extension": ".py",
   "mimetype": "text/x-python",
   "name": "python",
   "nbconvert_exporter": "python",
   "pygments_lexer": "ipython3",
   "version": "3.10.4"
  }
 },
 "nbformat": 4,
 "nbformat_minor": 5
}
