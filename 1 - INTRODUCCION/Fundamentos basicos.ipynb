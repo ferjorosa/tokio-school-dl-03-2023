{
 "cells": [
  {
   "cell_type": "markdown",
   "id": "abf30091-2cd0-4395-bc42-dfce3455d9d9",
   "metadata": {},
   "source": [
    "# 1 - Fundamentos básicos\n",
    "\n",
    "**Sumario**\n",
    "\n",
    "1. Introducción\n",
    "2. Fundamentos básicos de Machine Learning\n",
    "3. Fundamentos básicos de Deep Learning\n",
    "4. Herramientas básicas para el desarrollo de modelos\n",
    "5. Introducción a Scikit-learn"
   ]
  },
  {
   "cell_type": "markdown",
   "id": "05ec5cf5-2abb-481b-9210-c4b9aaa8bd37",
   "metadata": {
    "tags": []
   },
   "source": [
    "## 1.1 - Introducción"
   ]
  },
  {
   "cell_type": "markdown",
   "id": "65b0511f-af10-42dd-8d55-b1761328bd31",
   "metadata": {},
   "source": [
    "Una de las capacidades más importantes de los seres vivos es la de **aprender**, ya que esta les permite adaptarse a las necesidades del entorno con el objetivo de aumentar sus posibilidades de supervivencia. De este modo, **los seres vivos adquieren nuevas habilidades y/o conocimientos, modifican lo aprendido previamente o lo mejoran mediante la interacción con su entorno**. Es decir, los seres vivos siguen un proceso de adaptación al entorno, en muchos casos de manera autónoma, mediante un proceso de aprendizaje y **con el objetivo de maximizar su capacidad de supervivencia**.\n",
    "\n",
    "**Este proceso de adaptación es mucho más complejo en los seres humanos**, pues no solo se limita al entorno y a sus interacciones con él, sino que también influyen ciertos factores relacionados con valores, principios morales y reglas sociales que ejercen un impacto significativo sobre las diferentes habilidades, destrezas, conocimientos y/o conductas que estos son capaces de aprender."
   ]
  },
  {
   "cell_type": "markdown",
   "id": "155e0528-67e3-405e-9404-135a9e420a33",
   "metadata": {
    "jp-MarkdownHeadingCollapsed": true,
    "tags": []
   },
   "source": [
    "### 1.1 - Algoritmos tradicionales"
   ]
  },
  {
   "cell_type": "markdown",
   "id": "f9e0f48f-35fd-4364-9c8e-1924e0fd8c81",
   "metadata": {},
   "source": [
    "Esta poderosa capacidad de los seres humanos para construir modelos de comportamiento en base a la información que obtienen del entorno les llevó al diseño de **algoritmos**, los cuales **reproducen comportamientos mediante una serie de reglas estáticas**:\n",
    "\n",
    "<img src=\"images_1/algoritmo_tradicional.png\" width=\"600\" data-align=\"center\">\n",
    "\n",
    "* **Datos**. Son los datos de entrada suministrados al algoritmo para generar una respuesta.\n",
    "\n",
    "* **Reglas estáticas**. Son las que rigen el comportamiento del algoritmo y que han sido definidas por un experto que posee un conocimiento avanzado del comportamiento que se quiere replicar. Este conjunto de reglas suele estar incluido en la estructura del algoritmo, de modo que suele ser complicado de modificar, pues implicaría la modificación del algoritmo.\n",
    "\n",
    "* **Resultado**. La respuesta del algoritmo.\n",
    "\n",
    "Este acercamiento presenta **muchas dificultades para adaptarse a nuevas situaciones** si estas no han sido previstas por los expertos a la hora de definir las diferentes reglas que utiliza el algoritmo. \n",
    "\n",
    "Dos tipos de tareas donde observamos las limitaciones de los algoritmos tradicionales son: \n",
    "\n",
    "* **Tareas en las cuales es dificil especificar nuestro conocimiento en forma de reglas**.\n",
    "    * Reconocimiento facial\n",
    "    * Sintetización de voz\n",
    "    * Diágnóstico médico\n",
    "    \n",
    "<img src=\"images_1/mars_rover.jpg\" width=\"300\" data-align=\"center\">\n",
    " \n",
    "* **Tareas en las que no tenemos conocimiento experto**.\n",
    "    * Exploración espacial\n",
    "    * Navegación bajo el agua\n",
    "    \n",
    "<img src=\"images_1/stereo_spectrum.png\" width=\"300\" data-align=\"center\">\n"
   ]
  },
  {
   "cell_type": "markdown",
   "id": "f5695b81-9711-4360-83b8-a78a44111d93",
   "metadata": {
    "jp-MarkdownHeadingCollapsed": true,
    "tags": []
   },
   "source": [
    "### 1.2 - Algoritmos de aprendizaje automático"
   ]
  },
  {
   "cell_type": "markdown",
   "id": "74ec3b8d-7f39-4df5-8f02-af1bbc05e87c",
   "metadata": {},
   "source": [
    "Este tipo de limitaciones dieron lugar a diferentes áreas de investigación con el objetivo de imitar los modelos de aprendizaje humano:\n",
    "\n",
    "* **Aprendizaje inductivo**. Consiste en construir modelos a partir de un proceso de generalización mediante ejemplos simples.\n",
    "\n",
    "* **Aprendizaje deductivo** o analítico que consiste en construir modelos a partir de un proceso deductivo mediante la identificación de una descripción general a partir de un conjunto de ejemplos los cuales son explicados de forma específica y completa.\n",
    "\n",
    "* **Aprendizaje analógico** que consiste en construir modelos que permiten generar soluciones a problemas nuevos mediante la búsqueda de similitudes con problemas previamente resueltos.\n",
    "\n",
    "* **Aprendizaje conexionista** que consiste en construir modelos basados en las conexiones de entidades sencillas.\n",
    "\n",
    "----\n",
    "\n",
    "**Nota:** Hoy en dia cuando nos referimos a aprendizaje automatico o Machine Learning, solemos referirnos a implicitamente a la modalidad inductiva.\n",
    "\n",
    "----\n",
    "\n",
    "<img src=\"images_1/algoritmo_aprendizaje.png\" width=\"600\" data-align=\"center\">\n",
    "\n",
    "* **Datos**. Son los datos de entrada suministrados al algoritmo de aprendizaje automático para construir el modelo.\n",
    "\n",
    "* **Modelo**.La representación del comportamiento/patrón extraido a partir de los datos y del feedback generado por sus propias respuestas. \n",
    "\n",
    "* **Resultado**. La respuesta del modelo a los datos introducidos.\n",
    "\n",
    "* **Feedback**. La respuesta del entorno ante el resultado generado por el algoritmo. Cuanto mejor represente el modelo la tarea, mejor será el feedback del entorno. Es lo que le permite aprender y modificar su comportamiento adecuadamente.\n",
    "\n",
    "Este cambio de paradigma supuso **la aparición de diferentes tipos de familias de algoritmos que abordaban diferentes tipos de problemas**:\n",
    "\n",
    "* **Algoritmos de aprendizaje supervisado**\n",
    "    * Datos de aprendizaje + resultados esperados (etiquetas)\n",
    "* **Algoritmos de aprendizaje no-supervisado**\n",
    "    * Datos de aprendizaje (sin etiquetas)\n",
    "* **Algoritmos de aprendizaje por refuerzo**\n",
    "    * Observaciones y recompensas periódicas a medida que el algoritmo toma acciones secuenciales en un entorno\n",
    "\n",
    "A su vez, surgieron gran cantidad de **tipos de modelos con los que abordar estos problemas de aprendizaje**:\n",
    "\n",
    "* Árboles de decision\n",
    "* Máquinas de vectores de soporte\n",
    "* Modelos probabilísticos gráficos (e.g., Naïve Bayes)\n",
    "* Modelos lineales generalizados (e.g., regresión lineal, regresión logística)\n",
    "* **Redes neuronales**\n",
    "* etc.\n"
   ]
  },
  {
   "cell_type": "markdown",
   "id": "9b3c7a93-67c5-4690-b91d-07cce9d8443f",
   "metadata": {
    "tags": []
   },
   "source": [
    "### 1.3 - Redes neuronales"
   ]
  },
  {
   "cell_type": "markdown",
   "id": "68ff34c1-ca27-422e-a17a-cefb3506b6c6",
   "metadata": {},
   "source": [
    "Una red neuronal es un modelo simplificado que emula el modo en que el cerebro humano procesa la información: Funciona simultaneando un número elevado de unidades de procesamiento interconectadas que parecen versiones abstractas de neuronas.\n",
    "\n",
    "Las familia de modelos de las redes neuronales ha evolucionado enormemente desde las primeras versiones del **perceptrón** [Minsky, 1969; Schmidhuber, 2015] hasta los complejos modelos construidos mediante la utilización del **aprendizaje profundo (Deep Learning en inglés)** conforme a millones de datos y complejas estructuras basadas en redes de neuronas [Mitchell, 1997].\n",
    "\n",
    "La gran evolución experimentada por las redes de neuronas de tipo profundo, ha posibilitado la aparición de un área de especialización específica dentro del aprendizaje automático:\n",
    "\n",
    "<img src=\"images_1/aprendizaje_automatico_globo.png\" width=\"300\" data-align=\"center\">\n",
    "\n",
    "Las redes neuronales profundas han demostrado una **gran capacidad para resolver tareas complejas** y se utilizan actualmente en gran cantidad de ambitos. Por ejemplo:\n",
    "\n",
    "* **Movilidad**. Identificación de rutas más eficientes por carretera que minimicen el número de embotellamientos en las principales arterias de las ciudades, disminuyendo el tiempo, el consumo y/o la contaminación.\n",
    "\n",
    "* **Agricultura**. Identificación de las áreas de cultivo más adecuadas para cada tipo de producto, de sus fechas de recogida en base al momento óptimo de maduración y de los posibles problemas durante el proceso de crecimiento mediante la detección de enfermedades (visión artificial).\n",
    "\n",
    "* **Medios de comunicación**. Personalización de la publicidad y de las recomendaciones mediante la utilización de datos multimodales referentes a los usuarios y las usuarias.\n",
    "\n",
    "Sin embargo, **dada la complejidad de su arquitectura** y de las operaciones matemáticas que se producen en su interior, **resulta extremadamente difícil construir una explicación fácilmente comprensible de por qué la red toma las decisiones que toma** en base a la configuración que ha aprendido a partir de los ejemplos de entrenamiento. \n",
    "\n",
    "Esta “debilidad” explica que las redes neuronales profundas no se puedan utilizar (o se deban se utilizar en conjunción con humanos) en aquellos ambitos donde la toma de decisiones del modelo podría influir significativamente sobre la salud o el bienestar de los mismos. Por ejemplo:\n",
    "\n",
    "* **Diagnóstico medico**. Las predicciones del modelo son analizadas por uno o varios médico que son los que toman la decisión final.\n",
    "\n",
    "* **Banca**. Los modelos de riesgo deben ser modelos completamente interpretables (por regulación gubernamental)."
   ]
  },
  {
   "cell_type": "markdown",
   "id": "a37cde1a-1976-462f-ae80-413345e7611d",
   "metadata": {},
   "source": [
    "## 2 - Fundamentos básicos de Machine Learning"
   ]
  },
  {
   "cell_type": "markdown",
   "id": "1f372ea9-775a-47fd-b47a-7e345b617667",
   "metadata": {},
   "source": []
  },
  {
   "cell_type": "markdown",
   "id": "fe58e754-403f-497b-8036-d82d33ceb548",
   "metadata": {},
   "source": [
    "## 3 - Fundamentos básicos de Deep Learning"
   ]
  },
  {
   "cell_type": "markdown",
   "id": "1c603378-5968-4e26-af07-b407b6da4114",
   "metadata": {},
   "source": []
  },
  {
   "cell_type": "markdown",
   "id": "6974cdb3-b323-43e8-8845-16662423dc6d",
   "metadata": {},
   "source": [
    "## 4 - Herramientas básicas para el desarrollo de modelos"
   ]
  },
  {
   "cell_type": "markdown",
   "id": "77fb05ce-86f6-4f1f-b5a6-d05f25ba0006",
   "metadata": {},
   "source": []
  },
  {
   "cell_type": "markdown",
   "id": "322c942c-27f5-45e6-97f0-b70cc6ad9930",
   "metadata": {},
   "source": [
    "## 5 - Introducción a scikit-learn"
   ]
  },
  {
   "cell_type": "markdown",
   "id": "ebadbac9-6541-4159-bb0a-08e474ee317e",
   "metadata": {},
   "source": []
  }
 ],
 "metadata": {
  "kernelspec": {
   "display_name": "Python 3 (ipykernel)",
   "language": "python",
   "name": "python3"
  },
  "language_info": {
   "codemirror_mode": {
    "name": "ipython",
    "version": 3
   },
   "file_extension": ".py",
   "mimetype": "text/x-python",
   "name": "python",
   "nbconvert_exporter": "python",
   "pygments_lexer": "ipython3",
   "version": "3.10.4"
  }
 },
 "nbformat": 4,
 "nbformat_minor": 5
}
