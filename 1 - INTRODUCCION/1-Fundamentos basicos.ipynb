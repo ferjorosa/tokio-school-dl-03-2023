{
 "cells": [
  {
   "cell_type": "markdown",
   "id": "abf30091-2cd0-4395-bc42-dfce3455d9d9",
   "metadata": {},
   "source": [
    "# 1 - Fundamentos básicos\n",
    "\n",
    "**Sumario**\n",
    "\n",
    "1. Introducción\n",
    "2. Fundamentos básicos de Machine Learning\n",
    "3. Herramientas básicas para el desarrollo de modelos\n",
    "4. Introducción a Google Colab\n",
    "5. Ejemplo de aprendizaje con Scikit-learn a Scikit-learn"
   ]
  },
  {
   "cell_type": "markdown",
   "id": "05ec5cf5-2abb-481b-9210-c4b9aaa8bd37",
   "metadata": {
    "jp-MarkdownHeadingCollapsed": true,
    "tags": []
   },
   "source": [
    "## 1.1 - Introducción"
   ]
  },
  {
   "cell_type": "markdown",
   "id": "65b0511f-af10-42dd-8d55-b1761328bd31",
   "metadata": {},
   "source": [
    "Una de las capacidades más importantes de los seres vivos es la de **aprender**, ya que esta les permite adaptarse a las necesidades del entorno con el objetivo de aumentar sus posibilidades de supervivencia. De este modo, **los seres vivos adquieren nuevas habilidades y/o conocimientos, modifican lo aprendido previamente o lo mejoran mediante la interacción con su entorno**. Es decir, los seres vivos siguen un proceso de adaptación al entorno, en muchos casos de manera autónoma, mediante un proceso de aprendizaje y **con el objetivo de maximizar su capacidad de supervivencia**.\n",
    "\n",
    "**Este proceso de adaptación es mucho más complejo en los seres humanos**, pues no solo se limita al entorno y a sus interacciones con él, sino que también influyen ciertos factores relacionados con valores, principios morales y reglas sociales que ejercen un impacto significativo sobre las diferentes habilidades, destrezas, conocimientos y/o conductas que estos son capaces de aprender."
   ]
  },
  {
   "cell_type": "markdown",
   "id": "155e0528-67e3-405e-9404-135a9e420a33",
   "metadata": {
    "tags": []
   },
   "source": [
    "### 1.1.1 - Algoritmos tradicionales"
   ]
  },
  {
   "cell_type": "markdown",
   "id": "f9e0f48f-35fd-4364-9c8e-1924e0fd8c81",
   "metadata": {},
   "source": [
    "Esta poderosa capacidad de los seres humanos para construir modelos de comportamiento en base a la información que obtienen del entorno les llevó al diseño de **algoritmos**, los cuales **reproducen comportamientos mediante una serie de reglas estáticas**:\n",
    "\n",
    "<img src=\"images_1/algoritmo_tradicional.png\" width=\"600\" data-align=\"center\">\n",
    "\n",
    "* **Datos**. Son los datos de entrada suministrados al algoritmo para generar una respuesta.\n",
    "\n",
    "* **Reglas estáticas**. Son las que rigen el comportamiento del algoritmo y que han sido definidas por un experto que posee un conocimiento avanzado del comportamiento que se quiere replicar. Este conjunto de reglas suele estar incluido en la estructura del algoritmo, de modo que suele ser complicado de modificar, pues implicaría la modificación del algoritmo.\n",
    "\n",
    "* **Resultado**. La respuesta del algoritmo.\n",
    "\n",
    "Este acercamiento presenta **muchas dificultades para adaptarse a nuevas situaciones** si estas no han sido previstas por los expertos a la hora de definir las diferentes reglas que utiliza el algoritmo. \n",
    "\n",
    "Dos tipos de tareas donde observamos las limitaciones de los algoritmos tradicionales son: \n",
    "\n",
    "* **Tareas en las cuales es dificil especificar nuestro conocimiento en forma de reglas**.\n",
    "    * Reconocimiento facial\n",
    "    * Sintetización de voz\n",
    "    * Diágnóstico médico\n",
    "    \n",
    "<img src=\"images_1/mars_rover.jpg\" width=\"300\" data-align=\"center\">\n",
    " \n",
    "* **Tareas en las que no tenemos conocimiento experto**.\n",
    "    * Exploración espacial\n",
    "    * Navegación bajo el agua\n",
    "    \n",
    "<img src=\"images_1/stereo_spectrum.png\" width=\"300\" data-align=\"center\">\n"
   ]
  },
  {
   "cell_type": "markdown",
   "id": "f5695b81-9711-4360-83b8-a78a44111d93",
   "metadata": {
    "tags": []
   },
   "source": [
    "### 1.1.2 - Algoritmos de aprendizaje automático"
   ]
  },
  {
   "cell_type": "markdown",
   "id": "74ec3b8d-7f39-4df5-8f02-af1bbc05e87c",
   "metadata": {},
   "source": [
    "Este tipo de limitaciones dieron lugar a diferentes áreas de investigación con el objetivo de imitar los modelos de aprendizaje humano:\n",
    "\n",
    "* **Aprendizaje inductivo**. Consiste en construir modelos a partir de un proceso de generalización mediante ejemplos simples.\n",
    "\n",
    "* **Aprendizaje deductivo** o analítico que consiste en construir modelos a partir de un proceso deductivo mediante la identificación de una descripción general a partir de un conjunto de ejemplos los cuales son explicados de forma específica y completa.\n",
    "\n",
    "* **Aprendizaje analógico** que consiste en construir modelos que permiten generar soluciones a problemas nuevos mediante la búsqueda de similitudes con problemas previamente resueltos.\n",
    "\n",
    "* **Aprendizaje conexionista** que consiste en construir modelos basados en las conexiones de entidades sencillas.\n",
    "\n",
    "----\n",
    "\n",
    "**Nota:** Hoy en dia cuando nos referimos a aprendizaje automatico o Machine Learning, solemos referirnos a implicitamente a la modalidad inductiva.\n",
    "\n",
    "----\n",
    "\n",
    "<img src=\"images_1/algoritmo_aprendizaje.png\" width=\"600\" data-align=\"center\">\n",
    "\n",
    "* **Datos**. Son los datos de entrada suministrados al algoritmo de aprendizaje automático para construir el modelo.\n",
    "\n",
    "* **Modelo**.La representación del comportamiento/patrón extraido a partir de los datos y del feedback generado por sus propias respuestas. \n",
    "\n",
    "* **Resultado**. La respuesta del modelo a los datos introducidos.\n",
    "\n",
    "* **Feedback**. La respuesta del entorno ante el resultado generado por el algoritmo. Cuanto mejor represente el modelo la tarea, mejor será el feedback del entorno. Es lo que le permite aprender y modificar su comportamiento adecuadamente.\n",
    "\n",
    "Este cambio de paradigma supuso **la aparición de diferentes tipos de familias de algoritmos que abordaban diferentes tipos de problemas**:\n",
    "\n",
    "* **Algoritmos de aprendizaje supervisado**\n",
    "    * Datos de aprendizaje + resultados esperados (etiquetas)\n",
    "* **Algoritmos de aprendizaje no-supervisado**\n",
    "    * Datos de aprendizaje (sin etiquetas)\n",
    "* **Algoritmos de aprendizaje semi-supervisado**\n",
    "    * Datos de aprendizaje + algunos resultados esperados (no todos los datos tienen etiquetas)\n",
    "* **Algoritmos de aprendizaje por refuerzo**\n",
    "    * Observaciones y recompensas periódicas a medida que el algoritmo toma acciones secuenciales en un entorno\n",
    "\n",
    "A su vez, surgieron gran cantidad de **tipos de modelos con los que abordar estos problemas de aprendizaje**:\n",
    "\n",
    "* Árboles de decision\n",
    "* Máquinas de vectores de soporte\n",
    "* Modelos probabilísticos gráficos (e.g., Naïve Bayes)\n",
    "* Modelos lineales generalizados (e.g., regresión lineal, regresión logística)\n",
    "* **Redes neuronales**\n",
    "* etc.\n"
   ]
  },
  {
   "cell_type": "markdown",
   "id": "9b3c7a93-67c5-4690-b91d-07cce9d8443f",
   "metadata": {
    "tags": []
   },
   "source": [
    "### 1.1.3 - Redes neuronales"
   ]
  },
  {
   "cell_type": "markdown",
   "id": "68ff34c1-ca27-422e-a17a-cefb3506b6c6",
   "metadata": {},
   "source": [
    "Una red neuronal es un modelo simplificado que emula el modo en que el cerebro humano procesa la información: Funciona simultaneando un número elevado de unidades de procesamiento interconectadas que parecen versiones abstractas de neuronas.\n",
    "\n",
    "Las familia de modelos de las redes neuronales ha evolucionado enormemente desde las primeras versiones del **perceptrón** [Minsky, 1969; Schmidhuber, 2015] hasta los complejos modelos construidos mediante la utilización del **aprendizaje profundo (Deep Learning en inglés)** conforme a millones de datos y complejas estructuras basadas en redes de neuronas [Mitchell, 1997].\n",
    "\n",
    "La gran evolución experimentada por las redes de neuronas de tipo profundo, ha posibilitado la aparición de un área de especialización específica dentro del aprendizaje automático:\n",
    "\n",
    "<img src=\"images_1/aprendizaje_automatico_globo.png\" width=\"300\" data-align=\"center\">\n",
    "\n",
    "Las redes neuronales profundas han demostrado una **gran capacidad para resolver tareas complejas** y se utilizan actualmente en gran cantidad de ambitos. Por ejemplo:\n",
    "\n",
    "* **Movilidad**. Identificación de rutas más eficientes por carretera que minimicen el número de embotellamientos en las principales arterias de las ciudades, disminuyendo el tiempo, el consumo y/o la contaminación.\n",
    "\n",
    "* **Agricultura**. Identificación de las áreas de cultivo más adecuadas para cada tipo de producto, de sus fechas de recogida en base al momento óptimo de maduración y de los posibles problemas durante el proceso de crecimiento mediante la detección de enfermedades (visión artificial).\n",
    "\n",
    "* **Medios de comunicación**. Personalización de la publicidad y de las recomendaciones mediante la utilización de datos multimodales referentes a los usuarios y las usuarias.\n",
    "\n",
    "Sin embargo, **dada la complejidad de su arquitectura** y de las operaciones matemáticas que se producen en su interior, **resulta extremadamente difícil construir una explicación fácilmente comprensible de por qué la red toma las decisiones que toma** en base a la configuración que ha aprendido a partir de los ejemplos de entrenamiento. \n",
    "\n",
    "Esta “debilidad” explica que las redes neuronales profundas no se puedan utilizar (o se deban se utilizar en conjunción con humanos) en aquellos ambitos donde la toma de decisiones del modelo podría influir significativamente sobre la salud o el bienestar de los mismos. Por ejemplo:\n",
    "\n",
    "* **Diagnóstico medico**. Las predicciones del modelo son analizadas por uno o varios médico que son los que toman la decisión final.\n",
    "\n",
    "* **Banca**. Los modelos de riesgo deben ser modelos completamente interpretables (por regulación gubernamental)."
   ]
  },
  {
   "cell_type": "markdown",
   "id": "a37cde1a-1976-462f-ae80-413345e7611d",
   "metadata": {
    "jp-MarkdownHeadingCollapsed": true,
    "tags": []
   },
   "source": [
    "## 1.2 - Fundamentos básicos de Machine Learning"
   ]
  },
  {
   "cell_type": "markdown",
   "id": "1f372ea9-775a-47fd-b47a-7e345b617667",
   "metadata": {},
   "source": [
    "### 1.2.1 - Componentes de toda aplicación de aprendizaje automatico"
   ]
  },
  {
   "cell_type": "markdown",
   "id": "fb776282-b143-4a8e-86cc-17fe26f40e0c",
   "metadata": {},
   "source": [
    "Aprender es equivalente a buscar (**optimización**) a través del espacio de modelos potenciales (**representación**) para encontrar el que mejor funciona (**evaluación**) con los datos de entrenamiento\n",
    "\n",
    "#### Representación\n",
    "* **¿Cómo se especifican los datos?**\n",
    "* **¿Cómo es la forma del modelo?**\n",
    "\n",
    "<table>\n",
    "  <tr>\n",
    "    <th>Funciones numéricas</th>\n",
    "    <th>Funciones simbólicas</th>\n",
    "    <th>Funciones basadas en instancias</th>\n",
    "    <th>Modelos gráficos probabilísticos</th>\n",
    "  </tr>\n",
    "  <tr>\n",
    "    <td>Regresión lineal</td>\n",
    "    <td>Árboles de decisión</td>\n",
    "    <td>K-vecinos cercanos</td>\n",
    "    <td>Naïve Bayes</td>\n",
    "  </tr>\n",
    "  <tr>\n",
    "    <td>Análisis</td>\n",
    "    <td>Reglas lógicas proposicionales</td>\n",
    "    <td>basado en casos</td>\n",
    "    <td>Redes Bayesianas</td>\n",
    "  </tr>\n",
    "  <tr>\n",
    "    <td><span style=\"color: blue;\">Redes neuronales</span></td>\n",
    "    <td>Reglas lógicas de primer orden</td>\n",
    "    <td></td>\n",
    "    <td>Redes de Markov</td>\n",
    "  </tr>\n",
    "</table>\n",
    "\n",
    "#### Optimización\n",
    "* **¿Cómo se entrena el modelo?**\n",
    "    * Descenso por gradiente\n",
    "    * Expectation-Maximization (EM)\n",
    "    * Programación dinamica\n",
    "    * Dividir y conquistar\n",
    "    * Computación evolutiva\n",
    "    * etc.\n",
    "\n",
    "#### Evaluación\n",
    "* **¿Cómo evaluamos el rendimiento del modelo?**\n",
    "    * Error cuadrático\n",
    "    * Verosimilitud (i.e., likelihood)\n",
    "    * Ganancia de infromación\n",
    "    * Accuracy\n",
    "    * Precision/recall\n",
    "    * etc."
   ]
  },
  {
   "cell_type": "markdown",
   "id": "bd4b42f3-c1db-484e-a47c-4e00fff8f1e7",
   "metadata": {},
   "source": [
    "### 1.2.2 - Tipos de aprendizaje"
   ]
  },
  {
   "cell_type": "markdown",
   "id": "dfc8a4a2-4163-478d-822a-0ba2f8945b09",
   "metadata": {},
   "source": [
    "A la hora de construir un modelo mediante ML, es necesario identificar de qué tipo será, ya que esto nos permitirá determinar el tipo de algoritmo que debemos utilizar para su entrenamiento\n",
    "\n",
    "#### Aprendizaje supervisado\n",
    "\n",
    "Conjunto de algoritmos que utilizan datos etiquetados para la construccion del modelo. Los datos de entrenamiento de tamaño $m$ y dimensionalidad $n$ ($\\mathbf{x}$) se utilizan para predecir el valor objetivo ($y$).\n",
    "\n",
    "<table>\n",
    "    <tr>\n",
    "        <td>$X_{1}$</td>\n",
    "        <td>$\\dots$</td>\n",
    "        <td>$X_{n}$</td>\n",
    "        <td>$Y$</td>\n",
    "    </tr>\n",
    "    <tr>\n",
    "        <td>$x_{1}^{(1)}$</td>\n",
    "        <td>$\\dots$</td>\n",
    "        <td>$x_{n}^{(1)}$</td>\n",
    "        <td>$y^{(1)}$</td>\n",
    "    </tr>\n",
    "    <tr>\n",
    "        <td>$x_{1}^{(2)}$</td>\n",
    "        <td>$\\dots$</td>\n",
    "        <td>$x_{n}^{(2)}$</td>\n",
    "        <td>$y^{(2)}$</td>\n",
    "    </tr>\n",
    "    <tr>\n",
    "        <td>$\\dots$</td>\n",
    "        <td>$\\dots$</td>\n",
    "        <td>$\\dots$</td>\n",
    "        <td>$\\dots$</td>\n",
    "    </tr>\n",
    "    <tr>\n",
    "        <td>$x_{1}^{(m)}$</td>\n",
    "        <td>$\\dots$</td>\n",
    "        <td>$x_{n}^{(m)}$</td>\n",
    "        <td>$y^{(m)}$</td>\n",
    "    </tr>\n",
    "</table>\n",
    "\n",
    "* **Regresión**\n",
    "    * $\\mathbf{x}$ esta compuesto de valores continuos\n",
    "    * $y$ es un valor continuo\n",
    "    \n",
    "* **Clasificación**\n",
    "    * $\\mathbf{x}$ esta compuesto de valores continuos y/o discretos\n",
    "    * $y$ es un valor discreto\n",
    "\n",
    "#### Aprendizaje no-supervisado\n",
    "\n",
    "Conjunto de algoritmos más complejos que los anteriores, ya que la información que utilizan durante el proceso de aprendizaje es incompleta (no etiquetada). Los datos de entrenamiento de tamaño $m$ y dimensionalidad $n$ ($\\mathbf{x}$) se utilizan para estimar el valor objetivo ($y$), el cual desconocemos.\n",
    "\n",
    "<table>\n",
    "    <tr>\n",
    "        <td>$X_{1}$</td>\n",
    "        <td>$\\dots$</td>\n",
    "        <td>$X_{n}$</td>\n",
    "        <td>$Y$</td>\n",
    "    </tr>\n",
    "    <tr>\n",
    "        <td>$x_{1}^{(1)}$</td>\n",
    "        <td>$\\dots$</td>\n",
    "        <td>$x_{n}^{(1)}$</td>\n",
    "        <td>$?$</td>\n",
    "    </tr>\n",
    "    <tr>\n",
    "        <td>$x_{1}^{(2)}$</td>\n",
    "        <td>$\\dots$</td>\n",
    "        <td>$x_{n}^{(2)}$</td>\n",
    "        <td>$?$</td>\n",
    "    </tr>\n",
    "    <tr>\n",
    "        <td>$\\dots$</td>\n",
    "        <td>$\\dots$</td>\n",
    "        <td>$\\dots$</td>\n",
    "        <td>$\\dots$</td>\n",
    "    </tr>\n",
    "    <tr>\n",
    "        <td>$x_{1}^{(m)}$</td>\n",
    "        <td>$\\dots$</td>\n",
    "        <td>$x_{n}^{(m)}$</td>\n",
    "        <td>$?$</td>\n",
    "    </tr>\n",
    "</table>\n",
    "\n",
    "* **Clustering**\n",
    "    * $\\mathbf{x}$ esta compuesto de valores discretos/continuos\n",
    "    * $y$ es un valor discreto\n",
    "    \n",
    "* **Reducción de dimensionalidad**\n",
    "    * $\\mathbf{x}$ esta compuesto de valores continuos\n",
    "    * $y_{1}, \\dots, y_{K}$ es un valor continuo\n",
    "    \n",
    "\n",
    "#### Apredizaje semi-supervisado\n",
    "Conjunto de algoritmos donde la información que utilizan para el aprendizaje es parcialmente incompleta (algunas instancias están etiquetadas y\n",
    "otras no).\n",
    "\n",
    "<table>\n",
    "    <tr>\n",
    "        <td>$X_{1}$</td>\n",
    "        <td>$\\dots$</td>\n",
    "        <td>$X_{n}$</td>\n",
    "        <td>$Y$</td>\n",
    "    </tr>\n",
    "    <tr>\n",
    "        <td>$x_{1}^{(1)}$</td>\n",
    "        <td>$\\dots$</td>\n",
    "        <td>$x_{n}^{(1)}$</td>\n",
    "        <td>$?$</td>\n",
    "    </tr>\n",
    "    <tr>\n",
    "        <td>$x_{1}^{(2)}$</td>\n",
    "        <td>$\\dots$</td>\n",
    "        <td>$x_{n}^{(2)}$</td>\n",
    "        <td>$y^{(2)}$</td>\n",
    "    </tr>\n",
    "    <tr>\n",
    "        <td>$\\dots$</td>\n",
    "        <td>$\\dots$</td>\n",
    "        <td>$\\dots$</td>\n",
    "        <td>$\\dots$</td>\n",
    "    </tr>\n",
    "    <tr>\n",
    "        <td>$x_{1}^{(m)}$</td>\n",
    "        <td>$\\dots$</td>\n",
    "        <td>$x_{n}^{(m)}$</td>\n",
    "        <td>$?$</td>\n",
    "    </tr>\n",
    "</table>\n",
    "\n",
    "----\n",
    "\n",
    "**Nota:** En algunas ocasiones, las técnicas semi-spervisadas se incluyen en uno de los dos grupos anteriores,\n",
    "ya que la mayor parte de los algoritmos de este grupo realizan algún tipo de transformación en los datos\n",
    "de entrada con el fin de poder aplicar alguno de los algoritmos de los grupos anteriores o bien combinan\n",
    "algoritmos de ambos grupos.\n",
    "\n",
    "----\n",
    "\n",
    "#### Apredizaje por refuerzo\n",
    "\n",
    "Conjunto de algoritmos de tipo especial que intentan simular el modelo de aprendizaje de los humanos, pues emplean una forma diferente de representación de los ejemplos de entrenamiento basada en la utilización de **estados** y **acciones** donde la aplicación de estas últimas produce una realimentación en el entorno mediante **recompensas** (reward). En el aprendizaje por refuerzo, el objetivo consiste en construir una **política** para resolver un determinado problema\n",
    "\n",
    "<img src=\"images_1/reinforcement_learning.png\" width=\"500\" data-align=\"center\">"
   ]
  },
  {
   "cell_type": "markdown",
   "id": "c445ad53-7cbc-46d7-812b-38644d4560b4",
   "metadata": {},
   "source": [
    "### 1.2.3 - Proceso de aprendizaje"
   ]
  },
  {
   "cell_type": "markdown",
   "id": "f77ea309-76df-463e-9e1e-40fb15ac252f",
   "metadata": {},
   "source": [
    "El proceso de aprendizaje se puede dividir de forma general en dos fases diferenciadas\n",
    "\n",
    "#### Proceso de entrenamiento\n",
    "Conjunto de operaciones utilizadas para la generación del modelo. El proceso de entrenamiento esta formado por los siguientes elementos:\n",
    "\n",
    "* **Datos de entrada**. La información que será utilizada para entrenar el modelo. En el caso supervisado/semisupervisado, contiene etiquetas.\n",
    "\n",
    "<img src=\"images_1/datos_entrada.png\" width=\"400\" data-align=\"center\">\n",
    "\n",
    "* **Algoritmo**. Se corresponde con el algoritmo seleccionado para realizar el proceso de aprendizaje.\n",
    "\n",
    "* **Función de *loss***. La función de *loss* o pérdida se utiliza para identificar la calidad del modelo durante el proceso de entrenamiento.\n",
    "\n",
    "* **Algoritmo de optimización**. Es el que se utiliza durante cada una de las iteraciones del proceso de entrenamiento con el objetivo de optimizar los valores asignados a las variables del modelo. Los más comunes son el **descenso por gradiente** y el **algoritmo de Adams**.\n",
    "\n",
    "* **Hiperparámetros**. Conjunto de variables que permiten configurar ciertas facetas del algoritmo de aprendizaje. Así, por ejemplo, un hiperparámetro común a la mayoría de los algoritmos de aprendizaje es la tasa de aprendizaje (learning rate), que es utilizada junto con el algoritmo de optimización. Este parámetro permite determinar el grado de aplicación de las modificaciones que se realizarán sobre las variables internas del modelo en cada iteración del proceso de aprendizaje con el objetivo de maximizar o minimizar el valor calculado por la función de pérdida.\n",
    "\n",
    "* **Modelo aprendido**. Resultado del proceso de aprendizaje.\n",
    "\n",
    "#### Proceso de inferencia\n",
    "Uso del modelo aprendido para predecir/generar resultados a partir de datos nuevos\n",
    "\n",
    "* **Datos de entrada**. La información \"nueva\" que será ingerida por el modelo para generar predicciones/resultados. En el caso supervisado **NO contiene etiquetas**\n",
    "* **Modelo aprendido**. El modelo generado durante el proceso de entrenamiento el cual utilizamos para inferir con los nuevos datos\n",
    "* **Valores resultado**. Las predicciones del modelo a partir de los datos de entrada."
   ]
  },
  {
   "cell_type": "markdown",
   "id": "397387ed-e978-430f-8d36-5cc0fe64f8f2",
   "metadata": {},
   "source": [
    "### 1.2.4 - Modos de aprendizaje"
   ]
  },
  {
   "cell_type": "markdown",
   "id": "5203ed51-6871-4bb6-ae71-621b0f4aa06d",
   "metadata": {},
   "source": [
    "El modo en el que se construya un modelo de aprendizaje puede influir significativamente en el tiempo que se tarde en desplegar durante la fase de inferencia.\n",
    "\n",
    "#### Apredizaje global\n",
    "El aprendizaje global o por lotes (batch) es el modo más utilizado, donde el proceso de aprendizaje se realiza de manera global sobre todo el conjunto de datos de entrada y, una vez generado el modelo resultante, es desplegado. \n",
    "\n",
    "Este modo de aprendizaje es uy sencillo pero tiene ciertos inconvenientes:\n",
    "\n",
    "* **Elevado tiempo de ejecución** por el gran de volumen de información utilizada para la creación del modelo.\n",
    "* **Elevado coste de almacenamiento**, ya que la informacion debe estar disponible en todo momento.\n",
    "* **Mayor coste** en caso de que se finalice inesperadamente la fase de entrenamiento\n",
    "* **No es el mas adecuado para modelos complejos** que requieran una elevada tasa de actualización.\n",
    "\n",
    "#### Apredizaje incremental\n",
    "\n",
    "El aprendizaje incremental construye un nuevo modelo y lo compara con el modelo anteriormente construido mediante algún tipo de métrica que permite evaluar su calidad. Así, el nuevo modelo será desplegado si presenta una calidad similar o superior al modelo anterior.\n",
    "\n",
    "<img src=\"images_1/aprendizaje_incremental.png\" width=\"500\" data-align=\"center\">"
   ]
  },
  {
   "cell_type": "markdown",
   "id": "6974cdb3-b323-43e8-8845-16662423dc6d",
   "metadata": {
    "jp-MarkdownHeadingCollapsed": true,
    "tags": []
   },
   "source": [
    "## 1.3 - Herramientas básicas para el desarrollo de modelos"
   ]
  },
  {
   "cell_type": "markdown",
   "id": "77fb05ce-86f6-4f1f-b5a6-d05f25ba0006",
   "metadata": {},
   "source": [
    "Existen diferentes herramientas, frameworks y/o tecnologías que utilizaremos para el desarrollo de nuestros modelos de aprendizaje a lo largo de este curso. Para simplificar su descripción, clasificaremos dichas tecnologías en cinco grupos:\n",
    "\n",
    "<img src=\"images_1/herramientas.png\" width=\"500\" data-align=\"center\">\n",
    "\n",
    "* **Herramientas de desarrollo:** en este grupo incluiremos las diferentes herramientas que vamos a utilizar para el desarrollo de nuestros modelos de aprendizaje.\n",
    "\n",
    "* **Herramientas de manipulación:** en este grupo incluiremos las diferentes herramientas o librerías que vamos a utilizar para la manipulación y transformación de los datos.\n",
    "\n",
    "* **Herramientas de aprendizaje:** en este grupo incluiremos las diferentes librerías y frameworks que vamos a utilizar para la ejecución de la fase de aprendizaje.\n",
    "\n",
    "* **Herramientas de evaluación:** en este grupo incluiremos las diferentes herramientas que vamos a utilizar para evaluar nuestros modelos, así como para analizar los valores de las distintas métricas de manera visual.\n",
    "\n",
    "* **Herramientas de despliegue:** en este grupo incluiremos las diferentes herramientas que vamos a utilizar para desplegar nuestros modelos y realizar el proceso de inferencia."
   ]
  },
  {
   "cell_type": "markdown",
   "id": "ab393001-d485-48e4-8ce4-cea533468a46",
   "metadata": {
    "jp-MarkdownHeadingCollapsed": true,
    "tags": []
   },
   "source": [
    "## 1.4 - Introduccion a Google Colab"
   ]
  },
  {
   "cell_type": "markdown",
   "id": "322c942c-27f5-45e6-97f0-b70cc6ad9930",
   "metadata": {
    "jp-MarkdownHeadingCollapsed": true,
    "tags": []
   },
   "source": [
    "## 1.5 - Ejemplo de aprendizaje con Scikit-Learn"
   ]
  },
  {
   "cell_type": "markdown",
   "id": "ebadbac9-6541-4159-bb0a-08e474ee317e",
   "metadata": {},
   "source": [
    "[Scikit-Learn](https://scikit-learn.org/stable/) (también conocido como Sklearn) es una libreria de aprendizaje automático de software libre para Python.\n",
    "\n",
    "En este apartado describiremos las características básicas de Sklearn con el objetivo de entender el funcionamiento de un proceso de aprendizaje automático antes de comenzar a desarrollar nuestras redes de neuronas."
   ]
  },
  {
   "cell_type": "markdown",
   "id": "c83a1566-e640-4895-bae2-d73e0e9a2033",
   "metadata": {
    "tags": []
   },
   "source": [
    "### 1.5.1 - Carga de datos"
   ]
  },
  {
   "cell_type": "markdown",
   "id": "c969d396-b12c-4eb2-85cf-93488cfdb284",
   "metadata": {},
   "source": [
    "Como hemos visto anteriormente, el primer paso del proceso de aprendizaje es la carga de los datos. En este caso, vamos a trabajar con un dataset nativo, el cual viene incluido dentro de la libreria de Sklearn."
   ]
  },
  {
   "cell_type": "code",
   "execution_count": 1,
   "id": "cbc2bfce-2bb5-4b53-86b4-de5f37a823cd",
   "metadata": {},
   "outputs": [
    {
     "name": "stdout",
     "output_type": "stream",
     "text": [
      "<class 'sklearn.utils.Bunch'>\n"
     ]
    }
   ],
   "source": [
    "from sklearn import datasets\n",
    "\n",
    "# Cargamos el dataset de digitos que ofrece sklearn\n",
    "digits_by_sk = datasets.load_digits()\n",
    "\n",
    "print(type(digits_by_sk))"
   ]
  },
  {
   "cell_type": "code",
   "execution_count": 2,
   "id": "e58fe758-bd64-49fd-bb84-2de8a53f3906",
   "metadata": {},
   "outputs": [
    {
     "name": "stdout",
     "output_type": "stream",
     "text": [
      "[[ 0.  0.  5. 13.  9.  1.  0.  0.]\n",
      " [ 0.  0. 13. 15. 10. 15.  5.  0.]\n",
      " [ 0.  3. 15.  2.  0. 11.  8.  0.]\n",
      " [ 0.  4. 12.  0.  0.  8.  8.  0.]\n",
      " [ 0.  5.  8.  0.  0.  9.  8.  0.]\n",
      " [ 0.  4. 11.  0.  1. 12.  7.  0.]\n",
      " [ 0.  2. 14.  5. 10. 12.  0.  0.]\n",
      " [ 0.  0.  6. 13. 10.  0.  0.  0.]]\n"
     ]
    },
    {
     "data": {
      "text/plain": [
       "<Figure size 432x288 with 0 Axes>"
      ]
     },
     "metadata": {},
     "output_type": "display_data"
    },
    {
     "data": {
      "image/png": "[encoded data removed]",
      "text/plain": [
       "<Figure size 288x288 with 1 Axes>"
      ]
     },
     "metadata": {
      "needs_background": "light"
     },
     "output_type": "display_data"
    }
   ],
   "source": [
    "import matplotlib.pyplot as plt\n",
    "\n",
    "# Transformamos la forma de los datos de 64x1 a 8x8\n",
    "data_image_format_sk = digits_by_sk.data.reshape((1797, 8,8))\n",
    "\n",
    "index = 0\n",
    "print(data_image_format_sk[index])\n",
    "\n",
    "plt.gray()\n",
    "plt.matshow(data_image_format_sk[index])\n",
    "plt.show()"
   ]
  },
  {
   "cell_type": "markdown",
   "id": "bce55c36-956f-4662-ac09-e37c17976606",
   "metadata": {},
   "source": [
    "Los datos se encuentran en formato de array Numpy. Sin embargo, para trabajar mejor con ellos suele ser mas recomendable utilizar un objeto de tipo *dataframe* de Pandas. Esta\n",
    "librería ofrece una gran cantidad de funcionalidades para facilitar las transformaciones y manipulaciones\n",
    "de los datos contenidos en el dataframe.\n",
    "\n",
    "Otra cualidad de la libreria Pandas es que nos permite cargar archivos que no se encuentran en local sino en una URL:"
   ]
  },
  {
   "cell_type": "code",
   "execution_count": 3,
   "id": "a748d222-2e86-4f33-9206-420cc0c01bfa",
   "metadata": {},
   "outputs": [
    {
     "name": "stdout",
     "output_type": "stream",
     "text": [
      "<class 'pandas.core.frame.DataFrame'>\n"
     ]
    },
    {
     "data": {
      "text/html": [
       "<div>\n",
       "<style scoped>\n",
       "    .dataframe tbody tr th:only-of-type {\n",
       "        vertical-align: middle;\n",
       "    }\n",
       "\n",
       "    .dataframe tbody tr th {\n",
       "        vertical-align: top;\n",
       "    }\n",
       "\n",
       "    .dataframe thead th {\n",
       "        text-align: right;\n",
       "    }\n",
       "</style>\n",
       "<table border=\"1\" class=\"dataframe\">\n",
       "  <thead>\n",
       "    <tr style=\"text-align: right;\">\n",
       "      <th></th>\n",
       "      <th>0</th>\n",
       "      <th>1</th>\n",
       "      <th>2</th>\n",
       "      <th>3</th>\n",
       "      <th>4</th>\n",
       "      <th>5</th>\n",
       "      <th>6</th>\n",
       "      <th>7</th>\n",
       "      <th>8</th>\n",
       "      <th>9</th>\n",
       "      <th>...</th>\n",
       "      <th>55</th>\n",
       "      <th>56</th>\n",
       "      <th>57</th>\n",
       "      <th>58</th>\n",
       "      <th>59</th>\n",
       "      <th>60</th>\n",
       "      <th>61</th>\n",
       "      <th>62</th>\n",
       "      <th>63</th>\n",
       "      <th>64</th>\n",
       "    </tr>\n",
       "  </thead>\n",
       "  <tbody>\n",
       "    <tr>\n",
       "      <th>0</th>\n",
       "      <td>0</td>\n",
       "      <td>1</td>\n",
       "      <td>6</td>\n",
       "      <td>15</td>\n",
       "      <td>12</td>\n",
       "      <td>1</td>\n",
       "      <td>0</td>\n",
       "      <td>0</td>\n",
       "      <td>0</td>\n",
       "      <td>7</td>\n",
       "      <td>...</td>\n",
       "      <td>0</td>\n",
       "      <td>0</td>\n",
       "      <td>0</td>\n",
       "      <td>6</td>\n",
       "      <td>14</td>\n",
       "      <td>7</td>\n",
       "      <td>1</td>\n",
       "      <td>0</td>\n",
       "      <td>0</td>\n",
       "      <td>0</td>\n",
       "    </tr>\n",
       "    <tr>\n",
       "      <th>1</th>\n",
       "      <td>0</td>\n",
       "      <td>0</td>\n",
       "      <td>10</td>\n",
       "      <td>16</td>\n",
       "      <td>6</td>\n",
       "      <td>0</td>\n",
       "      <td>0</td>\n",
       "      <td>0</td>\n",
       "      <td>0</td>\n",
       "      <td>7</td>\n",
       "      <td>...</td>\n",
       "      <td>0</td>\n",
       "      <td>0</td>\n",
       "      <td>0</td>\n",
       "      <td>10</td>\n",
       "      <td>16</td>\n",
       "      <td>15</td>\n",
       "      <td>3</td>\n",
       "      <td>0</td>\n",
       "      <td>0</td>\n",
       "      <td>0</td>\n",
       "    </tr>\n",
       "    <tr>\n",
       "      <th>2</th>\n",
       "      <td>0</td>\n",
       "      <td>0</td>\n",
       "      <td>8</td>\n",
       "      <td>15</td>\n",
       "      <td>16</td>\n",
       "      <td>13</td>\n",
       "      <td>0</td>\n",
       "      <td>0</td>\n",
       "      <td>0</td>\n",
       "      <td>1</td>\n",
       "      <td>...</td>\n",
       "      <td>0</td>\n",
       "      <td>0</td>\n",
       "      <td>0</td>\n",
       "      <td>9</td>\n",
       "      <td>14</td>\n",
       "      <td>0</td>\n",
       "      <td>0</td>\n",
       "      <td>0</td>\n",
       "      <td>0</td>\n",
       "      <td>7</td>\n",
       "    </tr>\n",
       "    <tr>\n",
       "      <th>3</th>\n",
       "      <td>0</td>\n",
       "      <td>0</td>\n",
       "      <td>0</td>\n",
       "      <td>3</td>\n",
       "      <td>11</td>\n",
       "      <td>16</td>\n",
       "      <td>0</td>\n",
       "      <td>0</td>\n",
       "      <td>0</td>\n",
       "      <td>0</td>\n",
       "      <td>...</td>\n",
       "      <td>0</td>\n",
       "      <td>0</td>\n",
       "      <td>0</td>\n",
       "      <td>0</td>\n",
       "      <td>1</td>\n",
       "      <td>15</td>\n",
       "      <td>2</td>\n",
       "      <td>0</td>\n",
       "      <td>0</td>\n",
       "      <td>4</td>\n",
       "    </tr>\n",
       "    <tr>\n",
       "      <th>4</th>\n",
       "      <td>0</td>\n",
       "      <td>0</td>\n",
       "      <td>5</td>\n",
       "      <td>14</td>\n",
       "      <td>4</td>\n",
       "      <td>0</td>\n",
       "      <td>0</td>\n",
       "      <td>0</td>\n",
       "      <td>0</td>\n",
       "      <td>0</td>\n",
       "      <td>...</td>\n",
       "      <td>0</td>\n",
       "      <td>0</td>\n",
       "      <td>0</td>\n",
       "      <td>4</td>\n",
       "      <td>12</td>\n",
       "      <td>14</td>\n",
       "      <td>7</td>\n",
       "      <td>0</td>\n",
       "      <td>0</td>\n",
       "      <td>6</td>\n",
       "    </tr>\n",
       "  </tbody>\n",
       "</table>\n",
       "<p>5 rows × 65 columns</p>\n",
       "</div>"
      ],
      "text/plain": [
       "   0   1   2   3   4   5   6   7   8   9   ...  55  56  57  58  59  60  61  \\\n",
       "0   0   1   6  15  12   1   0   0   0   7  ...   0   0   0   6  14   7   1   \n",
       "1   0   0  10  16   6   0   0   0   0   7  ...   0   0   0  10  16  15   3   \n",
       "2   0   0   8  15  16  13   0   0   0   1  ...   0   0   0   9  14   0   0   \n",
       "3   0   0   0   3  11  16   0   0   0   0  ...   0   0   0   0   1  15   2   \n",
       "4   0   0   5  14   4   0   0   0   0   0  ...   0   0   0   4  12  14   7   \n",
       "\n",
       "   62  63  64  \n",
       "0   0   0   0  \n",
       "1   0   0   0  \n",
       "2   0   0   7  \n",
       "3   0   0   4  \n",
       "4   0   0   6  \n",
       "\n",
       "[5 rows x 65 columns]"
      ]
     },
     "execution_count": 3,
     "metadata": {},
     "output_type": "execute_result"
    }
   ],
   "source": [
    "# Cargamos la librería pandas\n",
    "import pandas as pd\n",
    "\n",
    "url = \"http://archive.ics.uci.edu/ml/machine-learning-databases/optdigits/optdigits.tra\"\n",
    "\n",
    "# Load in the data with read_csv()*\n",
    "digits_by_pd = pd.read_csv (url, header=None)\n",
    "\n",
    "#visualizamos el tipo del objeto\n",
    "print (type(digits_by_pd))\n",
    "\n",
    "# visualizamos los datos\n",
    "digits_by_pd.head()"
   ]
  },
  {
   "cell_type": "markdown",
   "id": "fc11d32b-6c5f-4406-983e-f75324918397",
   "metadata": {},
   "source": [
    "Las primeras 64 columnas se corresponden con los pixeles de la imagen, mientras que la columna 65 es la etiqueta que indica el digito que corresponde a la imagen. Podria ser interesante renombrar las columnas para que sea mas entendible su significado. Esto es muy fácil de implementar con Pandas:"
   ]
  },
  {
   "cell_type": "code",
   "execution_count": 4,
   "id": "0c1fa64a-7aca-4f40-89d0-05886b7c1705",
   "metadata": {},
   "outputs": [
    {
     "data": {
      "text/html": [
       "<div>\n",
       "<style scoped>\n",
       "    .dataframe tbody tr th:only-of-type {\n",
       "        vertical-align: middle;\n",
       "    }\n",
       "\n",
       "    .dataframe tbody tr th {\n",
       "        vertical-align: top;\n",
       "    }\n",
       "\n",
       "    .dataframe thead th {\n",
       "        text-align: right;\n",
       "    }\n",
       "</style>\n",
       "<table border=\"1\" class=\"dataframe\">\n",
       "  <thead>\n",
       "    <tr style=\"text-align: right;\">\n",
       "      <th></th>\n",
       "      <th>pixel_1</th>\n",
       "      <th>pixel_2</th>\n",
       "      <th>pixel_3</th>\n",
       "      <th>pixel_4</th>\n",
       "      <th>pixel_5</th>\n",
       "      <th>pixel_6</th>\n",
       "      <th>pixel_7</th>\n",
       "      <th>pixel_8</th>\n",
       "      <th>pixel_9</th>\n",
       "      <th>pixel_10</th>\n",
       "      <th>...</th>\n",
       "      <th>pixel_56</th>\n",
       "      <th>pixel_57</th>\n",
       "      <th>pixel_58</th>\n",
       "      <th>pixel_59</th>\n",
       "      <th>pixel_60</th>\n",
       "      <th>pixel_61</th>\n",
       "      <th>pixel_62</th>\n",
       "      <th>pixel_63</th>\n",
       "      <th>pixel_64</th>\n",
       "      <th>clase</th>\n",
       "    </tr>\n",
       "  </thead>\n",
       "  <tbody>\n",
       "    <tr>\n",
       "      <th>0</th>\n",
       "      <td>0</td>\n",
       "      <td>1</td>\n",
       "      <td>6</td>\n",
       "      <td>15</td>\n",
       "      <td>12</td>\n",
       "      <td>1</td>\n",
       "      <td>0</td>\n",
       "      <td>0</td>\n",
       "      <td>0</td>\n",
       "      <td>7</td>\n",
       "      <td>...</td>\n",
       "      <td>0</td>\n",
       "      <td>0</td>\n",
       "      <td>0</td>\n",
       "      <td>6</td>\n",
       "      <td>14</td>\n",
       "      <td>7</td>\n",
       "      <td>1</td>\n",
       "      <td>0</td>\n",
       "      <td>0</td>\n",
       "      <td>0</td>\n",
       "    </tr>\n",
       "    <tr>\n",
       "      <th>1</th>\n",
       "      <td>0</td>\n",
       "      <td>0</td>\n",
       "      <td>10</td>\n",
       "      <td>16</td>\n",
       "      <td>6</td>\n",
       "      <td>0</td>\n",
       "      <td>0</td>\n",
       "      <td>0</td>\n",
       "      <td>0</td>\n",
       "      <td>7</td>\n",
       "      <td>...</td>\n",
       "      <td>0</td>\n",
       "      <td>0</td>\n",
       "      <td>0</td>\n",
       "      <td>10</td>\n",
       "      <td>16</td>\n",
       "      <td>15</td>\n",
       "      <td>3</td>\n",
       "      <td>0</td>\n",
       "      <td>0</td>\n",
       "      <td>0</td>\n",
       "    </tr>\n",
       "    <tr>\n",
       "      <th>2</th>\n",
       "      <td>0</td>\n",
       "      <td>0</td>\n",
       "      <td>8</td>\n",
       "      <td>15</td>\n",
       "      <td>16</td>\n",
       "      <td>13</td>\n",
       "      <td>0</td>\n",
       "      <td>0</td>\n",
       "      <td>0</td>\n",
       "      <td>1</td>\n",
       "      <td>...</td>\n",
       "      <td>0</td>\n",
       "      <td>0</td>\n",
       "      <td>0</td>\n",
       "      <td>9</td>\n",
       "      <td>14</td>\n",
       "      <td>0</td>\n",
       "      <td>0</td>\n",
       "      <td>0</td>\n",
       "      <td>0</td>\n",
       "      <td>7</td>\n",
       "    </tr>\n",
       "    <tr>\n",
       "      <th>3</th>\n",
       "      <td>0</td>\n",
       "      <td>0</td>\n",
       "      <td>0</td>\n",
       "      <td>3</td>\n",
       "      <td>11</td>\n",
       "      <td>16</td>\n",
       "      <td>0</td>\n",
       "      <td>0</td>\n",
       "      <td>0</td>\n",
       "      <td>0</td>\n",
       "      <td>...</td>\n",
       "      <td>0</td>\n",
       "      <td>0</td>\n",
       "      <td>0</td>\n",
       "      <td>0</td>\n",
       "      <td>1</td>\n",
       "      <td>15</td>\n",
       "      <td>2</td>\n",
       "      <td>0</td>\n",
       "      <td>0</td>\n",
       "      <td>4</td>\n",
       "    </tr>\n",
       "    <tr>\n",
       "      <th>4</th>\n",
       "      <td>0</td>\n",
       "      <td>0</td>\n",
       "      <td>5</td>\n",
       "      <td>14</td>\n",
       "      <td>4</td>\n",
       "      <td>0</td>\n",
       "      <td>0</td>\n",
       "      <td>0</td>\n",
       "      <td>0</td>\n",
       "      <td>0</td>\n",
       "      <td>...</td>\n",
       "      <td>0</td>\n",
       "      <td>0</td>\n",
       "      <td>0</td>\n",
       "      <td>4</td>\n",
       "      <td>12</td>\n",
       "      <td>14</td>\n",
       "      <td>7</td>\n",
       "      <td>0</td>\n",
       "      <td>0</td>\n",
       "      <td>6</td>\n",
       "    </tr>\n",
       "  </tbody>\n",
       "</table>\n",
       "<p>5 rows × 65 columns</p>\n",
       "</div>"
      ],
      "text/plain": [
       "   pixel_1  pixel_2  pixel_3  pixel_4  pixel_5  pixel_6  pixel_7  pixel_8  \\\n",
       "0        0        1        6       15       12        1        0        0   \n",
       "1        0        0       10       16        6        0        0        0   \n",
       "2        0        0        8       15       16       13        0        0   \n",
       "3        0        0        0        3       11       16        0        0   \n",
       "4        0        0        5       14        4        0        0        0   \n",
       "\n",
       "   pixel_9  pixel_10  ...  pixel_56  pixel_57  pixel_58  pixel_59  pixel_60  \\\n",
       "0        0         7  ...         0         0         0         6        14   \n",
       "1        0         7  ...         0         0         0        10        16   \n",
       "2        0         1  ...         0         0         0         9        14   \n",
       "3        0         0  ...         0         0         0         0         1   \n",
       "4        0         0  ...         0         0         0         4        12   \n",
       "\n",
       "   pixel_61  pixel_62  pixel_63  pixel_64  clase  \n",
       "0         7         1         0         0      0  \n",
       "1        15         3         0         0      0  \n",
       "2         0         0         0         0      7  \n",
       "3        15         2         0         0      4  \n",
       "4        14         7         0         0      6  \n",
       "\n",
       "[5 rows x 65 columns]"
      ]
     },
     "execution_count": 4,
     "metadata": {},
     "output_type": "execute_result"
    }
   ],
   "source": [
    "# Renombramos las columnas para como 'pixel_X' y 'clase'\n",
    "digits_by_pd.columns = [\"pixel_\" + str(col+1) for col in digits_by_pd.columns[:64]] + [\"clase\"]\n",
    "digits_by_pd.head()"
   ]
  },
  {
   "cell_type": "markdown",
   "id": "e3e1cc5c-973c-416c-9c3a-31d39c5ed551",
   "metadata": {},
   "source": [
    "Los objetos dataframe de Pandas tienen \"por debajo\" un array Numpy. Podemos acceder a este array utilizando `.values` y mostrarlo en forma de plot, al igual que en el caso de Sklearn:"
   ]
  },
  {
   "cell_type": "code",
   "execution_count": 5,
   "id": "78b95e47-c20b-4c9c-8709-027fefab67fe",
   "metadata": {},
   "outputs": [
    {
     "name": "stdout",
     "output_type": "stream",
     "text": [
      "[[ 0  1  6 15 12  1  0  0]\n",
      " [ 0  7 16  6  6 10  0  0]\n",
      " [ 0  8 16  2  0 11  2  0]\n",
      " [ 0  5 16  3  0  5  7  0]\n",
      " [ 0  7 13  3  0  8  7  0]\n",
      " [ 0  4 12  0  1 13  5  0]\n",
      " [ 0  0 14  9 15  9  0  0]\n",
      " [ 0  0  6 14  7  1  0  0]]\n"
     ]
    },
    {
     "data": {
      "text/plain": [
       "<Figure size 432x288 with 0 Axes>"
      ]
     },
     "metadata": {},
     "output_type": "display_data"
    },
    {
     "data": {
      "image/png": "[encoded data removed]",
      "text/plain": [
       "<Figure size 288x288 with 1 Axes>"
      ]
     },
     "metadata": {
      "needs_background": "light"
     },
     "output_type": "display_data"
    }
   ],
   "source": [
    "# Seleccionamos las primeras 64 columnas de la fila con indice 'index' en formato Numpy y lo pasamos de 64x1 a 8x8\n",
    "data_image_format_pd = digits_by_pd.iloc[index, :64].values.reshape((8,8))\n",
    "\n",
    "print(data_image_format_pd)\n",
    "\n",
    "plt.gray()\n",
    "plt.matshow(data_image_format_pd)\n",
    "plt.show()"
   ]
  },
  {
   "cell_type": "markdown",
   "id": "f75dd2e9-1089-43a6-b89c-496134d240c8",
   "metadata": {},
   "source": [
    "----\n",
    "\n",
    "**Nota:** Mirando las imagenes y los arrays podemos observar que hay pequeñas diferencias en los datasets de Pandas y Sklearn (aunque representan practicamente lo mismo). Estas diferencias no tienen nada que ver con el \"formato\" de los datos, sino con como se crearon cada uno de los datasets\n",
    "\n",
    "----\n",
    "\n",
    "Una vez se han cargado los datos, es posible utilizar diferentes librerías para su análisis y preparación. Para este ejemplo, vamos a generar directamente los conjuntos de entrenamiento\n",
    "y test, sin realizar ningún tipo de transformación o procesamiento, mediante el siguiente código:"
   ]
  },
  {
   "cell_type": "code",
   "execution_count": 6,
   "id": "d5dca389-a5d8-4f58-9ef0-9aa7d2c63ba3",
   "metadata": {},
   "outputs": [
    {
     "name": "stdout",
     "output_type": "stream",
     "text": [
      "(3440, 64)\n",
      "(383, 64)\n"
     ]
    }
   ],
   "source": [
    "# Importamos la función de división\n",
    "from sklearn.model_selection import train_test_split\n",
    "pd.options.mode.chained_assignment = None\n",
    "\n",
    "# Dividimos nuestro conjunto entre entrenamiento y test\n",
    "# Características: 64 valores iniciales\n",
    "# Clase: valor numérico entre 0 y 9\n",
    "X_train, X_test, y_train, y_test= train_test_split (digits_by_pd, digits_by_pd[\"clase\"], test_size=0.10, random_state=0)\n",
    "\n",
    "# Eliminamos la característica que representa la clase del conjunto # de entrenamiento.\n",
    "X_train.drop([\"clase\"], axis='columns', inplace=True)\n",
    "X_test.drop([\"clase\"], axis='columns', inplace=True)\n",
    "\n",
    "# Imprimimos el tamaño del conjunto de entrenamiento \n",
    "print(X_train.shape)\n",
    "\n",
    "# Imprimimos el tamaño del conjunto de test\n",
    "print(X_test.shape)"
   ]
  },
  {
   "cell_type": "markdown",
   "id": "e55908f9-72bc-42ca-b9ce-9b8eacb2d46e",
   "metadata": {},
   "source": [
    "### 1.5.2 - Creación del modelo"
   ]
  },
  {
   "cell_type": "markdown",
   "id": "885dc44d-207c-41ac-8cba-4bd908383d80",
   "metadata": {},
   "source": [
    "Una vez definidos los conjuntos de entrenamiento y test, podremos crear nuestro modelo seleccionando un **algoritmo de aprendizaje**. En este caso, seleccionaremos un algoritmo de aprendizaje supervisado denominado **árbol de decisión**.\n",
    "\n",
    "Los árboles de decisión están formados por tres elementos:\n",
    "* Los **nodos intermedios**, incluida la raíz, que se corresponden con un determinado atributo de la estructura de las instancias.\n",
    "* Los **nodos hoja**, que representan las clases objetivo; estas, dependiendo de si el árbol es de clasificación o de regresión, serán atributos de tipo discreto o continuo, respectivamente.\n",
    "* Los **arcos** (alternativas de decisión) que unen los nodos intermedios con sus sucesores (nodos intermedios y hojas) y que representan los posibles valores de los atributos que han sido seleccionado para producir el modelo.\n",
    "\n",
    "<table>\n",
    "    <tr>\n",
    "        <th>Paso 1</th>\n",
    "        <th>Paso 2</th>\n",
    "    </tr>\n",
    "    <tr>\n",
    "        <td><img src=\"images_1/arbol_decision_ejemplo_1.png\" width=\"500\" data-align=\"center\"></td>\n",
    "        <td><img src=\"images_1/arbol_decision_ejemplo_2.png\" width=\"500\" data-align=\"center\"></td>\n",
    "    </tr>\n",
    "</table>\n",
    "\n",
    "\n",
    "Para poder crear nuestro árbol de decisión, tenemos que utilizar la clase `DecisionTreeClasifier` y ejecutar un proceso de entrenamiento mediante el método `fit()`"
   ]
  },
  {
   "cell_type": "code",
   "execution_count": 7,
   "id": "72388ab7-d352-4b92-9670-f865698d0258",
   "metadata": {},
   "outputs": [],
   "source": [
    "# Importamos la clase para crear un clasificador basado en arboles de decision\n",
    "from sklearn.tree import DecisionTreeClassifier\n",
    "\n",
    "# Creamos nuestro clasificador\n",
    "classifier = DecisionTreeClassifier()\n",
    "\n",
    "# Entrenamos nuestro modelo utilizando los conjuntos definidos previamente\n",
    "model = classifier.fit(X_train, y_train)"
   ]
  },
  {
   "cell_type": "markdown",
   "id": "b354d408-11ac-46c9-ba67-475930185825",
   "metadata": {},
   "source": [
    "### 1.5.3 - Evaluación del modelo"
   ]
  },
  {
   "cell_type": "markdown",
   "id": "6737a004-e44a-423a-ad84-2502402a64d8",
   "metadata": {},
   "source": [
    "Una vez hemos construido nuestro modelo, podremos analizar su calidad. Para ello, vamos a calcular su eficacia mediante **acurracy**. La eficacia nos permite saber cuál es el porcentaje de acierto de nuestro modelo sobre un determinado conjunto de datos. En este caso, utilizaremos el **conjutno de test**, que está formado por instancias no vistas durante el entrenamiento"
   ]
  },
  {
   "cell_type": "code",
   "execution_count": 11,
   "id": "773fc39a-aa67-464b-aeeb-f6045383bfd5",
   "metadata": {},
   "outputs": [
    {
     "name": "stdout",
     "output_type": "stream",
     "text": [
      "La eficacia del modelo es de un 88.77%\n"
     ]
    },
    {
     "data": {
      "text/plain": [
       "<AxesSubplot:>"
      ]
     },
     "execution_count": 11,
     "metadata": {},
     "output_type": "execute_result"
    },
    {
     "data": {
      "image/png": "[encoded data removed]",
      "text/plain": [
       "<Figure size 432x288 with 2 Axes>"
      ]
     },
     "metadata": {
      "needs_background": "light"
     },
     "output_type": "display_data"
    }
   ],
   "source": [
    "# Cargamos las funcionalidades de evaluación que nos ofrece skLearn\n",
    "from sklearn.metrics import accuracy_score\n",
    "from sklearn.metrics import confusion_matrix as cm\n",
    "import seaborn as sns\n",
    "\n",
    "labels = [0, 1, 2, 3, 4, 5, 6, 7, 8, 9]\n",
    "\n",
    "# Predecimos los valores del modelo para el conjunto de test \n",
    "y_pred = model.predict (X_test)\n",
    "\n",
    "# Calculamos la matriz de confusión\n",
    "cf_matrix = cm (y_test, y_pred, labels = labels)\n",
    "\n",
    "# Calculamos la eficacia del modelo generado \n",
    "score = accuracy_score (y_test, y_pred)\n",
    "\n",
    "# Imprimimos la eficacia del modelo\n",
    "print(f\"La eficacia del modelo es de un {round(score*100,2)}%\")\n",
    "      \n",
    "# Imprimimos la matriz de confusión \n",
    "sns.heatmap (cf_matrix, annot = True)"
   ]
  },
  {
   "cell_type": "markdown",
   "id": "8f775e19-02c6-419c-92d9-0749a710c624",
   "metadata": {},
   "source": [
    "Además, hemos generado también la matriz de confusión, que nos muestra de manera gráfica como se han distribuido los aciertos y los errores de nuestro modelo. La diagonal principal de la matriz de confusión nos indica aquellos ejemplos que han sido clasificados correctamente."
   ]
  },
  {
   "cell_type": "markdown",
   "id": "c45ef625-9e0e-4556-b43e-821a4a3f9af8",
   "metadata": {},
   "source": [
    "### 1.5.4 - Visualización del modelo"
   ]
  },
  {
   "cell_type": "markdown",
   "id": "b240cf92-edb6-4f99-a026-16717d2f920b",
   "metadata": {},
   "source": [
    "En algunos casos, es posible visualizar el modelo generado. Los árboles de decisión, concretamente, dado que han sido generados en forma de árbol, resultan sencillos de visualizar y de entender. Para poder crear una imagen del árbol que hemos construido, [podemos utilizar la funcion `plot_tree` de Sklearn](https://scikit-learn.org/stable/modules/generated/sklearn.tree.plot_tree.html):"
   ]
  },
  {
   "cell_type": "code",
   "execution_count": 22,
   "id": "32b2f58d-df12-431a-b671-ebd3fd2e47cc",
   "metadata": {},
   "outputs": [
    {
     "data": {
      "image/png": "[encoded data removed]",
      "text/plain": [
       "<Figure size 2000x800 with 1 Axes>"
      ]
     },
     "metadata": {
      "needs_background": "light"
     },
     "output_type": "display_data"
    }
   ],
   "source": [
    "from sklearn.tree import plot_tree\n",
    "from matplotlib.pyplot import figure\n",
    "\n",
    "fig = figure(figsize=(25, 10), dpi=80)\n",
    "plot_tree(model)\n",
    "plt.show()"
   ]
  },
  {
   "cell_type": "markdown",
   "id": "eb4ca637-c290-48c6-b9d1-69bdaa31a9b1",
   "metadata": {},
   "source": [
    "Si echamos un vistazo más de cerca, podemos ver las reglas que componen el árbol de decisión:"
   ]
  },
  {
   "cell_type": "code",
   "execution_count": 26,
   "id": "0c3bda3d-94fa-4e09-a21c-948cda949b99",
   "metadata": {},
   "outputs": [
    {
     "data": {
      "image/png": "[encoded data removed]",
      "text/plain": [
       "<Figure size 1280x640 with 1 Axes>"
      ]
     },
     "metadata": {
      "needs_background": "light"
     },
     "output_type": "display_data"
    }
   ],
   "source": [
    "fig = figure(figsize=(16, 8), dpi=80)\n",
    "plot_tree(decision_tree=model, max_depth=1)\n",
    "plt.show()"
   ]
  }
 ],
 "metadata": {
  "kernelspec": {
   "display_name": "Python 3 (ipykernel)",
   "language": "python",
   "name": "python3"
  },
  "language_info": {
   "codemirror_mode": {
    "name": "ipython",
    "version": 3
   },
   "file_extension": ".py",
   "mimetype": "text/x-python",
   "name": "python",
   "nbconvert_exporter": "python",
   "pygments_lexer": "ipython3",
   "version": "3.10.4"
  }
 },
 "nbformat": 4,
 "nbformat_minor": 5
}
