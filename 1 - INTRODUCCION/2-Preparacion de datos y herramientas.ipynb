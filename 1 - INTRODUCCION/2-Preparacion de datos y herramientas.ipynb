{
 "cells": [
  {
   "cell_type": "markdown",
   "id": "81f32a1c-3783-4355-9f79-44dc337e9f66",
   "metadata": {},
   "source": [
    "# 2 - Preparación de datos y herramientas\n",
    "\n",
    "**Sumario**\n",
    "\n",
    "1. Introducción\n",
    "2. Información de entrada\n",
    "3. Información de salida\n",
    "4. Información de entrenamiento"
   ]
  },
  {
   "cell_type": "markdown",
   "id": "7c234ff3-1c48-4240-84a4-fe9addcb91bc",
   "metadata": {},
   "source": [
    "## 2.1 - Introducción"
   ]
  },
  {
   "cell_type": "markdown",
   "id": "20aa85be-43f3-4985-a437-2e480666726f",
   "metadata": {},
   "source": [
    "El proceso de construcción de modelos de comportamiento basados en algoritmos de aprendizaje automático implica utilizar información que sea capaz de describir, de manera directa o indirecta, el comportamiento que queremos aprender. Es decir, si queremos construir un modelo de comportamiento que permita predecir, por ejemplo, el precio de una vivienda, deberíamos disponer de información descriptiva referida a las viviendas y a los precios a los que estas han sido vendidas.\n",
    "\n",
    "Distinguimos tres tipos de información:\n",
    "\n",
    "* **Información de entrada**. Información que será utilizada para construir el modelo mediante un algoritmo de aprendizaje. Normalmente, esta información ha de ser preprocesada, limpiada y transformada con el objetivo de prepararla para el proceso de entrenamiento.\n",
    "\n",
    "* **Información de salida**. Información que se corresponde con el etiquetado (clase) de la información de entrada. Esta información es opcional, ya que en muchos caso no está disponible o o puede no utilizarse según la naturaleza del algoritmo de aprendizaje. Así, por ejemplo, la información de salida no es necesaria si usamos un algoritmo de aprendizaje no supervisado.\n",
    "\n",
    "* **Información de entrenamiento**. Información que se corresponde con los tres elementos básicos del proceso de entrenamiento:\n",
    "    * El **algoritmo de aprendizaje** que será utilizado \n",
    "    * El **algoritmo de optimización** que será utilizado con la funión de pérdida (*loss*)\n",
    "    * **La función de pérdida (*loss*)** que será utilizada para medir la calidad del modelo durante el entrenamiento\n",
    "    \n",
    "<img src=\"images_2/tipos_de_informacion.png\" width=\"600\" data-align=\"center\">"
   ]
  },
  {
   "cell_type": "markdown",
   "id": "b5131073-cbbe-440a-b6d8-f088104526cb",
   "metadata": {},
   "source": [
    "## 2.2 - Información de entrada"
   ]
  },
  {
   "cell_type": "code",
   "execution_count": null,
   "id": "b4297e42-251f-4ad4-88ac-1b19143911d9",
   "metadata": {},
   "outputs": [],
   "source": []
  },
  {
   "cell_type": "markdown",
   "id": "dd7e4d69-d7fd-4f16-9e3e-0fed409e0f0d",
   "metadata": {},
   "source": [
    "## 2.3 - Información de salida"
   ]
  },
  {
   "cell_type": "code",
   "execution_count": null,
   "id": "d551f960-7d48-40d9-90e5-0a80cf37d469",
   "metadata": {},
   "outputs": [],
   "source": []
  },
  {
   "cell_type": "markdown",
   "id": "bb36acbd-128e-4f2a-a368-1fd8dc64b0c1",
   "metadata": {},
   "source": [
    "## 2.4 - Información de entrenamiento"
   ]
  },
  {
   "cell_type": "code",
   "execution_count": null,
   "id": "e13b8756-bc96-44e5-8935-acb8491c4770",
   "metadata": {},
   "outputs": [],
   "source": []
  }
 ],
 "metadata": {
  "kernelspec": {
   "display_name": "Python 3 (ipykernel)",
   "language": "python",
   "name": "python3"
  },
  "language_info": {
   "codemirror_mode": {
    "name": "ipython",
    "version": 3
   },
   "file_extension": ".py",
   "mimetype": "text/x-python",
   "name": "python",
   "nbconvert_exporter": "python",
   "pygments_lexer": "ipython3",
   "version": "3.10.4"
  }
 },
 "nbformat": 4,
 "nbformat_minor": 5
}
