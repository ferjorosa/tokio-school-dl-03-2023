{
 "cells": [
  {
   "cell_type": "markdown",
   "id": "81f32a1c-3783-4355-9f79-44dc337e9f66",
   "metadata": {},
   "source": [
    "# 2 - Preparación de datos y herramientas\n",
    "\n",
    "**Sumario**\n",
    "\n",
    "1. Introducción\n",
    "2. Información de entrada\n",
    "3. Información de salida\n",
    "4. Información de entrenamiento"
   ]
  },
  {
   "cell_type": "markdown",
   "id": "7c234ff3-1c48-4240-84a4-fe9addcb91bc",
   "metadata": {},
   "source": [
    "## 2.1 - Introducción"
   ]
  },
  {
   "cell_type": "markdown",
   "id": "20aa85be-43f3-4985-a437-2e480666726f",
   "metadata": {},
   "source": [
    "El proceso de construcción de modelos de comportamiento basados en algoritmos de aprendizaje automático implica utilizar información que sea capaz de describir, de manera directa o indirecta, el comportamiento que queremos aprender. Es decir, si queremos construir un modelo de comportamiento que permita predecir, por ejemplo, el precio de una vivienda, deberíamos disponer de información descriptiva referida a las viviendas y a los precios a los que estas han sido vendidas.\n",
    "\n",
    "Distinguimos tres tipos de información:\n",
    "\n",
    "* **Información de entrada**. Información que será utilizada para construir el modelo mediante un algoritmo de aprendizaje. Normalmente, esta información ha de ser preprocesada, limpiada y transformada con el objetivo de prepararla para el proceso de entrenamiento.\n",
    "\n",
    "* **Información de salida**. Información que se corresponde con el etiquetado (clase) de la información de entrada. Esta información es opcional, ya que en muchos caso no está disponible o o puede no utilizarse según la naturaleza del algoritmo de aprendizaje. Así, por ejemplo, la información de salida no es necesaria si usamos un algoritmo de aprendizaje no supervisado.\n",
    "\n",
    "* **Información de entrenamiento**. Información que se corresponde con los tres elementos básicos del proceso de entrenamiento:\n",
    "    * El **algoritmo de aprendizaje** que será utilizado \n",
    "    * El **algoritmo de optimización** que será utilizado con la funión de pérdida (*loss*)\n",
    "    * **La función de pérdida (*loss*)** que será utilizada para medir la calidad del modelo durante el entrenamiento\n",
    "    \n",
    "<img src=\"images_2/tipos_de_informacion.png\" width=\"600\" data-align=\"center\">"
   ]
  },
  {
   "cell_type": "markdown",
   "id": "b5131073-cbbe-440a-b6d8-f088104526cb",
   "metadata": {},
   "source": [
    "## 2.2 - Información de entrada"
   ]
  },
  {
   "cell_type": "markdown",
   "id": "fb0bea7a-cd4f-4519-b8be-7fe0b287d053",
   "metadata": {},
   "source": [
    "A la hora de definir la información de entrada, consideraremos que los datos se encuentran representados mediante **instancias formadas por atributos**.\n",
    "\n",
    "Los **atributos** son las unidades básicas e indivisibles de información utilizadas para representar algún tipo de conocimiento específico sobre cada instancia. Este tipo de información representa una **característica básica y atómica** que intenta describir algún tipo de **rasgo sobre los datos** (color, tamaño, distancia, etc.). Los atributos suelen clasificarse en dos categorías en base a los valores que pueden adoptar:\n",
    "\n",
    "* **Continuos**. Aquellos atributos que adoptan un valor fijo dentro de un **intervalo no finito perfectamente acotado** donde, dados dos valores observables, siempre existe un tercer valor intermedio que podría adoptar el atributo continuo. Por ejemplo, la temperatura media de una habitación\n",
    "* **Discretos**. Aquellos atributos que adoptan su valor entre los elementos que forman un conjunto finito. Por ejemplo, los colores disponibles para pintar un vehiculo (rojo, azul, amarillo, etc.)\n",
    "\n",
    "**Cada secuencia finita de atributos se agrupa en una instancia**, que es la estructura de información básica utilizada para representar cada uno de los ejemplos que conforman los conjuntos de datos que serán utilizados en el proceso de aprendizaje. **Las instancias de un mismo conjunto han de estar formadas por el mismo tipo de atributos**.\n",
    "\n",
    "<img src=\"images_2/datos_entrada.png\" width=\"600\" data-align=\"center\">\n",
    "\n",
    "A la hora de utilizar conjuntos de datos es necesario analaizar la informacion contenida con el objetivo de asgurar dos propiedades fundamentales:\n",
    "* **Calidad de la información.** ¿Contienen las instancias la información necesaria para aprender la tarea objetivo?\n",
    "* **Cantidad de la información.** ¿Tenemos suficientes instancias para aprender la tarea objetivo?"
   ]
  },
  {
   "cell_type": "code",
   "execution_count": 1,
   "id": "5e44537a-d66b-423b-a21e-dfd277d73829",
   "metadata": {},
   "outputs": [
    {
     "data": {
      "text/html": [
       "<div>\n",
       "<style scoped>\n",
       "    .dataframe tbody tr th:only-of-type {\n",
       "        vertical-align: middle;\n",
       "    }\n",
       "\n",
       "    .dataframe tbody tr th {\n",
       "        vertical-align: top;\n",
       "    }\n",
       "\n",
       "    .dataframe thead th {\n",
       "        text-align: right;\n",
       "    }\n",
       "</style>\n",
       "<table border=\"1\" class=\"dataframe\">\n",
       "  <thead>\n",
       "    <tr style=\"text-align: right;\">\n",
       "      <th></th>\n",
       "      <th>symboling</th>\n",
       "      <th>normalized-losses</th>\n",
       "      <th>make</th>\n",
       "      <th>fuel-type</th>\n",
       "      <th>aspiration</th>\n",
       "      <th>num-of-doors</th>\n",
       "      <th>body-style</th>\n",
       "      <th>drive-wheels</th>\n",
       "      <th>engine-location</th>\n",
       "      <th>wheel-base</th>\n",
       "      <th>...</th>\n",
       "      <th>engine-size</th>\n",
       "      <th>fuel-system</th>\n",
       "      <th>bore</th>\n",
       "      <th>stroke</th>\n",
       "      <th>compression-ratio</th>\n",
       "      <th>horsepower</th>\n",
       "      <th>peak-rpm</th>\n",
       "      <th>city-mpg</th>\n",
       "      <th>highway-mpg</th>\n",
       "      <th>price</th>\n",
       "    </tr>\n",
       "  </thead>\n",
       "  <tbody>\n",
       "    <tr>\n",
       "      <th>0</th>\n",
       "      <td>3</td>\n",
       "      <td>?</td>\n",
       "      <td>alfa-romero</td>\n",
       "      <td>gas</td>\n",
       "      <td>std</td>\n",
       "      <td>two</td>\n",
       "      <td>convertible</td>\n",
       "      <td>rwd</td>\n",
       "      <td>front</td>\n",
       "      <td>88.6</td>\n",
       "      <td>...</td>\n",
       "      <td>130</td>\n",
       "      <td>mpfi</td>\n",
       "      <td>3.47</td>\n",
       "      <td>2.68</td>\n",
       "      <td>9.0</td>\n",
       "      <td>111</td>\n",
       "      <td>5000</td>\n",
       "      <td>21</td>\n",
       "      <td>27</td>\n",
       "      <td>13495</td>\n",
       "    </tr>\n",
       "    <tr>\n",
       "      <th>1</th>\n",
       "      <td>3</td>\n",
       "      <td>?</td>\n",
       "      <td>alfa-romero</td>\n",
       "      <td>gas</td>\n",
       "      <td>std</td>\n",
       "      <td>two</td>\n",
       "      <td>convertible</td>\n",
       "      <td>rwd</td>\n",
       "      <td>front</td>\n",
       "      <td>88.6</td>\n",
       "      <td>...</td>\n",
       "      <td>130</td>\n",
       "      <td>mpfi</td>\n",
       "      <td>3.47</td>\n",
       "      <td>2.68</td>\n",
       "      <td>9.0</td>\n",
       "      <td>111</td>\n",
       "      <td>5000</td>\n",
       "      <td>21</td>\n",
       "      <td>27</td>\n",
       "      <td>16500</td>\n",
       "    </tr>\n",
       "    <tr>\n",
       "      <th>2</th>\n",
       "      <td>1</td>\n",
       "      <td>?</td>\n",
       "      <td>alfa-romero</td>\n",
       "      <td>gas</td>\n",
       "      <td>std</td>\n",
       "      <td>two</td>\n",
       "      <td>hatchback</td>\n",
       "      <td>rwd</td>\n",
       "      <td>front</td>\n",
       "      <td>94.5</td>\n",
       "      <td>...</td>\n",
       "      <td>152</td>\n",
       "      <td>mpfi</td>\n",
       "      <td>2.68</td>\n",
       "      <td>3.47</td>\n",
       "      <td>9.0</td>\n",
       "      <td>154</td>\n",
       "      <td>5000</td>\n",
       "      <td>19</td>\n",
       "      <td>26</td>\n",
       "      <td>16500</td>\n",
       "    </tr>\n",
       "    <tr>\n",
       "      <th>3</th>\n",
       "      <td>2</td>\n",
       "      <td>164</td>\n",
       "      <td>audi</td>\n",
       "      <td>gas</td>\n",
       "      <td>std</td>\n",
       "      <td>four</td>\n",
       "      <td>sedan</td>\n",
       "      <td>fwd</td>\n",
       "      <td>front</td>\n",
       "      <td>99.8</td>\n",
       "      <td>...</td>\n",
       "      <td>109</td>\n",
       "      <td>mpfi</td>\n",
       "      <td>3.19</td>\n",
       "      <td>3.4</td>\n",
       "      <td>10.0</td>\n",
       "      <td>102</td>\n",
       "      <td>5500</td>\n",
       "      <td>24</td>\n",
       "      <td>30</td>\n",
       "      <td>13950</td>\n",
       "    </tr>\n",
       "    <tr>\n",
       "      <th>4</th>\n",
       "      <td>2</td>\n",
       "      <td>164</td>\n",
       "      <td>audi</td>\n",
       "      <td>gas</td>\n",
       "      <td>std</td>\n",
       "      <td>four</td>\n",
       "      <td>sedan</td>\n",
       "      <td>4wd</td>\n",
       "      <td>front</td>\n",
       "      <td>99.4</td>\n",
       "      <td>...</td>\n",
       "      <td>136</td>\n",
       "      <td>mpfi</td>\n",
       "      <td>3.19</td>\n",
       "      <td>3.4</td>\n",
       "      <td>8.0</td>\n",
       "      <td>115</td>\n",
       "      <td>5500</td>\n",
       "      <td>18</td>\n",
       "      <td>22</td>\n",
       "      <td>17450</td>\n",
       "    </tr>\n",
       "  </tbody>\n",
       "</table>\n",
       "<p>5 rows × 26 columns</p>\n",
       "</div>"
      ],
      "text/plain": [
       "   symboling normalized-losses         make fuel-type aspiration num-of-doors  \\\n",
       "0          3                 ?  alfa-romero       gas        std          two   \n",
       "1          3                 ?  alfa-romero       gas        std          two   \n",
       "2          1                 ?  alfa-romero       gas        std          two   \n",
       "3          2               164         audi       gas        std         four   \n",
       "4          2               164         audi       gas        std         four   \n",
       "\n",
       "    body-style drive-wheels engine-location  wheel-base  ...  engine-size  \\\n",
       "0  convertible          rwd           front        88.6  ...          130   \n",
       "1  convertible          rwd           front        88.6  ...          130   \n",
       "2    hatchback          rwd           front        94.5  ...          152   \n",
       "3        sedan          fwd           front        99.8  ...          109   \n",
       "4        sedan          4wd           front        99.4  ...          136   \n",
       "\n",
       "   fuel-system  bore  stroke compression-ratio horsepower  peak-rpm city-mpg  \\\n",
       "0         mpfi  3.47    2.68               9.0        111      5000       21   \n",
       "1         mpfi  3.47    2.68               9.0        111      5000       21   \n",
       "2         mpfi  2.68    3.47               9.0        154      5000       19   \n",
       "3         mpfi  3.19     3.4              10.0        102      5500       24   \n",
       "4         mpfi  3.19     3.4               8.0        115      5500       18   \n",
       "\n",
       "  highway-mpg  price  \n",
       "0          27  13495  \n",
       "1          27  16500  \n",
       "2          26  16500  \n",
       "3          30  13950  \n",
       "4          22  17450  \n",
       "\n",
       "[5 rows x 26 columns]"
      ]
     },
     "execution_count": 1,
     "metadata": {},
     "output_type": "execute_result"
    }
   ],
   "source": [
    "import numpy as np\n",
    "import pandas as pd\n",
    "\n",
    "# automobile_nomissing = pd.read_csv(\"https://raw.githubusercontent.com/ferjorosa/telefonica-talentum-ai-10-2020/main/Data/automobile_nomissing.csv\")\n",
    "automobile = pd.read_csv(\"https://raw.githubusercontent.com/ferjorosa/telefonica-talentum-ai-10-2020/main/Data/automobile.csv\")\n",
    "automobile.head(5)"
   ]
  },
  {
   "cell_type": "markdown",
   "id": "b47f6b1b-540b-4b83-8901-7c73dc14ed0a",
   "metadata": {},
   "source": [
    "### 2.2.1 - Calidad de la información"
   ]
  },
  {
   "cell_type": "markdown",
   "id": "b94a2450-9d6d-4ab5-8ab8-52e1e6599043",
   "metadata": {},
   "source": [
    "Como ya hemos mencionado, se trata de uno de los principales elementos que debemos tener en cuenta a la hora de construir un modelo. A la hora de utilizar un conjunto de datos, hay que analizar ciertos aspectos relacionados con ellos.\n",
    "\n",
    "#### Valores atípicos\n",
    "Los valores atípicos u outliers son valores que pueden adoptar los atributos y que resultan muy distantes con respecto a los valores que poseen el resto de instancias del conjunto. Estos valores pueden significar que se ha producido un error en la medición o que se ha detectado un caso inusual que no suele reproducirse.\n",
    "\n",
    "Normalmente estos valores suelen ser eliminados, aunque hay que ser cuidadoso de no eliminar información relevante para el modelo. Algunos de los métodos más utilizados para la detección de estos valores son:\n",
    "\n",
    "1. Métodos monovariables. Buscan valores atípicos de forma individual en cada atributo (con el fin de eliminarlos).\n",
    "2. Métodos multivariables. Bsucan valores atípicos teniendo en consideración multiples atributos (con el fin de eliminarlos).\n",
    "3. Método de error de Minkowski. A diferencia de los dos anteriores, no intenta eliminar los valores atípicos sino que los ranquea utilizando una variante del error cuadrático que se ve menos afectada por los valores atípicos. La principal diferencia es la introducción del parametro de Minkowski, que sustituye al cuadrado:\n",
    "\n",
    "$$\n",
    "\\text{error_cuadratico} = \\frac{\\sum(\\text{outputs} - \\text{targets})^{2}}{\\text{n_instancias}}\n",
    "$$\n",
    "\n",
    "$$\n",
    "\\text{error_miknowski} = \\frac{\\sum(\\text{outputs} - \\text{targets})^{\\text{parametro_minkowski}}}{\\text{n_instancias}}\n",
    "$$\n",
    "\n",
    "Un valor típico del parámetro de Minkowski es $1.5$. Por ejemplo, si un valor atípico tiene un error de 10, el error cuadrático para esa instancia es $10^{2}=100$, mientras que el error de Minkowski es $10^{1.5}=31.62$.\n",
    "\n",
    "#### Uniformidad\n",
    "Algunos ejemplos típicos de falta de uniformidad son:\n",
    "\n",
    "* **Unidades de medición diferentes**. En muchos casos, a la hora de combinar información de diversas fuentes, nos podemos encontrar con que la información ha sido expresada en diferentes unidades métricas; así, por ejemplo, la altura de una persona se puede expresar en centímetros o en metros. Por tanto, es importante elegir el tipo de unidad de medida que se va a utilizar y aplicar las correspondientes transformaciones.\n",
    "\n",
    "* **Falta de información**. En ciertos casos, algunos atributos carecen de valor dado que el sistema de extracción de información permite a los usuarios y a las usuarias no introducir un valor o bien existe un error en dicho proceso de extracción. Por tanto, es necesario decidir si esas instancias son eliminadas, si el atributo es ignorado, o si utilizamos algún método de estimación de valores missing.\n",
    "\n",
    "* **Precisión en las mediciones**. En ciertos casos, el sensor con el que obtenemos las mediciones puede deteriorarse y con ello la calidad de los datos. Es importante tener esto en cuenta antes de aprender un modelo, no sea que consideremos datos no-reales por culpa del sensor en cuestión.\n",
    "\n",
    "#### Ruido\n",
    "El ruido es el conjunto de valores de un atributo específico que no aportan ningún tipo de información al proceso de aprendizaje y que pueden haber sido introducidos mediante un proceso de medición incorrecto (ruido de muestreo) o a causa de un error en la inserción de los datos.\n",
    "\n",
    "Generalmente, el ruido presenta numerosas desventajas a la hora de construir un modelo, ya que tiende a aumentar la complejidad de los datos dificultando la ejecución de los algoritmos (i.e., le cuesta más esfuerzo al modelo encontrar los patrones \"verdaderos\").\n",
    "\n",
    "<img src=\"images_2/ruido.png\" width=\"500\" data-align=\"center\">"
   ]
  },
  {
   "cell_type": "markdown",
   "id": "67f29897-c4e2-4d0e-9bd3-4a265bdaef09",
   "metadata": {},
   "source": [
    "### 2.2.2 - Cantidad de la información"
   ]
  },
  {
   "cell_type": "markdown",
   "id": "8a29478d-5544-48c8-8289-8d03f9f42721",
   "metadata": {},
   "source": [
    "La falta de información puede hacer que el algoritmo de aprendizaje sea incapaz de construir un modelo que represente los patrones esperados. En base a esto, distinguimos dos tipos de problemas relacionados con la falta de información:\n",
    "\n",
    "* **Falta de información global**, cuando tenemos muy poca información o todos los ejemplos son muy similares, dando lugar a un modelo que no es capaz de aprender.\n",
    "* **Falta de información parcial**, cuando tenemos información no equilibrada entre las posibles salidas del modelo que queremos construir. Por ejemplo, si queremos construir un modelo que prediga los diferentes estados de la actividad física de una persona y tenemos para ello un conjunto de 5000 instancias distribuidos de la siguiente forma:\n",
    "    1. 1700 ejemplos para `andar`\n",
    "    2. 300 ejemplos para `correr ligeramente`\n",
    "    3. 2800 ejemplos para `correr intensamente`\n",
    "    4. 200 ejemplos para `quedarse quieto`\n",
    "    \n",
    "    Hay pocos ejemplos de `correr ligeramente` y `quedarse quieto`, lo cual puede producr que el modelo no sea capaz de predecir estos estados de forma confiable.\n",
    "\n",
    "#### Aumentación\n",
    "\n",
    "El proceso de aumentación de datos (*Data Augmentation*) consiste en **generar información artificial válida mediante la aplicación de sampleo o transformaciones simples** con el objetivo de aumentar el número de ejemplos disponibles en el conjunto de entrada. Esta técnica es muy útil cuando esos pequeños cambios no suponen una introducción de errores en el conjunto de datos.\n",
    "\n",
    "Por ejemplo, si nuestro conjunto de datos es una imagen, el proceso de aumentación de datos podría generar nuevas aplicando pequeñas transformaciones sobre la imagen general."
   ]
  },
  {
   "cell_type": "markdown",
   "id": "789259a1-dc9c-4515-a174-6a360bb81938",
   "metadata": {},
   "source": [
    "### 2.2.3 - Preparación de datos"
   ]
  },
  {
   "cell_type": "markdown",
   "id": "fda808b2-8551-4a95-963d-ae22bda1c712",
   "metadata": {},
   "source": [
    "El proceso de preparación de datos consiste en analizar y procesar un conjunto de datos con el objetivo de **limpiarlos**, **enriquecerlos**, y **generar los diferentes conjuntos necesarios para la fase de entrenamiento**."
   ]
  },
  {
   "cell_type": "code",
   "execution_count": 2,
   "id": "9210f323-2f04-41f1-8625-f38cb25034c9",
   "metadata": {},
   "outputs": [],
   "source": [
    "df_breast_cancer = pd.read_csv(\"https://archive.ics.uci.edu/ml/machine-learning-databases/breast-cancer-wisconsin/breast-cancer-wisconsin.data\", header=None)\n",
    "df_breast_cancer.columns = [\"col_\" + str(i) for i in df_breast_cancer.columns]"
   ]
  },
  {
   "cell_type": "markdown",
   "id": "72710334-499d-4276-a6a8-0e4ae4bdabaf",
   "metadata": {
    "tags": []
   },
   "source": [
    "#### Exploración de datos\n",
    "\n",
    "Antes de realizar el proceso de entrenamiento, es conviente realizar una exploración de los mismos. La libreria Pandas contiene multiples funciones y atributos que nos pueden ayudar en esta exploración.\n",
    "\n",
    "Para un pequeño recordatorio de las principales funciones de Pandas, [W3 provee de un buen tutorial](https://www.w3schools.com/python/pandas/default.asp)"
   ]
  },
  {
   "cell_type": "markdown",
   "id": "19f43710-e3d7-461e-a77c-679ab8bfefea",
   "metadata": {},
   "source": [
    "##### `head()`"
   ]
  },
  {
   "cell_type": "code",
   "execution_count": 3,
   "id": "1720dfa5-4db8-4bd3-b8c3-2a862f5f938d",
   "metadata": {},
   "outputs": [
    {
     "data": {
      "text/html": [
       "<div>\n",
       "<style scoped>\n",
       "    .dataframe tbody tr th:only-of-type {\n",
       "        vertical-align: middle;\n",
       "    }\n",
       "\n",
       "    .dataframe tbody tr th {\n",
       "        vertical-align: top;\n",
       "    }\n",
       "\n",
       "    .dataframe thead th {\n",
       "        text-align: right;\n",
       "    }\n",
       "</style>\n",
       "<table border=\"1\" class=\"dataframe\">\n",
       "  <thead>\n",
       "    <tr style=\"text-align: right;\">\n",
       "      <th></th>\n",
       "      <th>col_0</th>\n",
       "      <th>col_1</th>\n",
       "      <th>col_2</th>\n",
       "      <th>col_3</th>\n",
       "      <th>col_4</th>\n",
       "      <th>col_5</th>\n",
       "      <th>col_6</th>\n",
       "      <th>col_7</th>\n",
       "      <th>col_8</th>\n",
       "      <th>col_9</th>\n",
       "      <th>col_10</th>\n",
       "    </tr>\n",
       "  </thead>\n",
       "  <tbody>\n",
       "    <tr>\n",
       "      <th>0</th>\n",
       "      <td>1000025</td>\n",
       "      <td>5</td>\n",
       "      <td>1</td>\n",
       "      <td>1</td>\n",
       "      <td>1</td>\n",
       "      <td>2</td>\n",
       "      <td>1</td>\n",
       "      <td>3</td>\n",
       "      <td>1</td>\n",
       "      <td>1</td>\n",
       "      <td>2</td>\n",
       "    </tr>\n",
       "    <tr>\n",
       "      <th>1</th>\n",
       "      <td>1002945</td>\n",
       "      <td>5</td>\n",
       "      <td>4</td>\n",
       "      <td>4</td>\n",
       "      <td>5</td>\n",
       "      <td>7</td>\n",
       "      <td>10</td>\n",
       "      <td>3</td>\n",
       "      <td>2</td>\n",
       "      <td>1</td>\n",
       "      <td>2</td>\n",
       "    </tr>\n",
       "    <tr>\n",
       "      <th>2</th>\n",
       "      <td>1015425</td>\n",
       "      <td>3</td>\n",
       "      <td>1</td>\n",
       "      <td>1</td>\n",
       "      <td>1</td>\n",
       "      <td>2</td>\n",
       "      <td>2</td>\n",
       "      <td>3</td>\n",
       "      <td>1</td>\n",
       "      <td>1</td>\n",
       "      <td>2</td>\n",
       "    </tr>\n",
       "    <tr>\n",
       "      <th>3</th>\n",
       "      <td>1016277</td>\n",
       "      <td>6</td>\n",
       "      <td>8</td>\n",
       "      <td>8</td>\n",
       "      <td>1</td>\n",
       "      <td>3</td>\n",
       "      <td>4</td>\n",
       "      <td>3</td>\n",
       "      <td>7</td>\n",
       "      <td>1</td>\n",
       "      <td>2</td>\n",
       "    </tr>\n",
       "    <tr>\n",
       "      <th>4</th>\n",
       "      <td>1017023</td>\n",
       "      <td>4</td>\n",
       "      <td>1</td>\n",
       "      <td>1</td>\n",
       "      <td>3</td>\n",
       "      <td>2</td>\n",
       "      <td>1</td>\n",
       "      <td>3</td>\n",
       "      <td>1</td>\n",
       "      <td>1</td>\n",
       "      <td>2</td>\n",
       "    </tr>\n",
       "  </tbody>\n",
       "</table>\n",
       "</div>"
      ],
      "text/plain": [
       "     col_0  col_1  col_2  col_3  col_4  col_5 col_6  col_7  col_8  col_9  \\\n",
       "0  1000025      5      1      1      1      2     1      3      1      1   \n",
       "1  1002945      5      4      4      5      7    10      3      2      1   \n",
       "2  1015425      3      1      1      1      2     2      3      1      1   \n",
       "3  1016277      6      8      8      1      3     4      3      7      1   \n",
       "4  1017023      4      1      1      3      2     1      3      1      1   \n",
       "\n",
       "   col_10  \n",
       "0       2  \n",
       "1       2  \n",
       "2       2  \n",
       "3       2  \n",
       "4       2  "
      ]
     },
     "execution_count": 3,
     "metadata": {},
     "output_type": "execute_result"
    }
   ],
   "source": [
    "df_breast_cancer.head(5)"
   ]
  },
  {
   "cell_type": "markdown",
   "id": "41cfa820-f305-4baf-bc16-24a925f301f5",
   "metadata": {},
   "source": [
    "##### `dtypes`\n",
    "\n",
    "Los principales tipos almacenados en los objetos `DataFrame` de Pandas son `object`, `float`, `int`, `bool` y `datetime64`. Podemos mostrar los tipos"
   ]
  },
  {
   "cell_type": "code",
   "execution_count": 4,
   "id": "c693af8f-c089-4c99-ab9a-7323cd785156",
   "metadata": {},
   "outputs": [
    {
     "data": {
      "text/plain": [
       "col_0      int64\n",
       "col_1      int64\n",
       "col_2      int64\n",
       "col_3      int64\n",
       "col_4      int64\n",
       "col_5      int64\n",
       "col_6     object\n",
       "col_7      int64\n",
       "col_8      int64\n",
       "col_9      int64\n",
       "col_10     int64\n",
       "dtype: object"
      ]
     },
     "execution_count": 4,
     "metadata": {},
     "output_type": "execute_result"
    }
   ],
   "source": [
    "df_breast_cancer.dtypes"
   ]
  },
  {
   "cell_type": "code",
   "execution_count": 5,
   "id": "ca411744-198e-4109-835c-dfadc8cbf4c4",
   "metadata": {},
   "outputs": [],
   "source": [
    "# df_breast_cancer[\"col_6\"].astype(int) # No podemos cambiar el tipo de datos de esta columna a \"int\" porque contiene caracteres \"?\""
   ]
  },
  {
   "cell_type": "markdown",
   "id": "1daf7153-8a20-4498-8363-740a9dd1fae9",
   "metadata": {},
   "source": [
    "##### `describe()`"
   ]
  },
  {
   "cell_type": "code",
   "execution_count": 6,
   "id": "db15ad8d-24da-477d-9652-4d9831e6d410",
   "metadata": {},
   "outputs": [
    {
     "data": {
      "text/html": [
       "<div>\n",
       "<style scoped>\n",
       "    .dataframe tbody tr th:only-of-type {\n",
       "        vertical-align: middle;\n",
       "    }\n",
       "\n",
       "    .dataframe tbody tr th {\n",
       "        vertical-align: top;\n",
       "    }\n",
       "\n",
       "    .dataframe thead th {\n",
       "        text-align: right;\n",
       "    }\n",
       "</style>\n",
       "<table border=\"1\" class=\"dataframe\">\n",
       "  <thead>\n",
       "    <tr style=\"text-align: right;\">\n",
       "      <th></th>\n",
       "      <th>col_0</th>\n",
       "      <th>col_1</th>\n",
       "      <th>col_2</th>\n",
       "      <th>col_3</th>\n",
       "      <th>col_4</th>\n",
       "      <th>col_5</th>\n",
       "      <th>col_7</th>\n",
       "      <th>col_8</th>\n",
       "      <th>col_9</th>\n",
       "      <th>col_10</th>\n",
       "    </tr>\n",
       "  </thead>\n",
       "  <tbody>\n",
       "    <tr>\n",
       "      <th>count</th>\n",
       "      <td>6.990000e+02</td>\n",
       "      <td>699.000000</td>\n",
       "      <td>699.000000</td>\n",
       "      <td>699.000000</td>\n",
       "      <td>699.000000</td>\n",
       "      <td>699.000000</td>\n",
       "      <td>699.000000</td>\n",
       "      <td>699.000000</td>\n",
       "      <td>699.000000</td>\n",
       "      <td>699.000000</td>\n",
       "    </tr>\n",
       "    <tr>\n",
       "      <th>mean</th>\n",
       "      <td>1.071704e+06</td>\n",
       "      <td>4.417740</td>\n",
       "      <td>3.134478</td>\n",
       "      <td>3.207439</td>\n",
       "      <td>2.806867</td>\n",
       "      <td>3.216023</td>\n",
       "      <td>3.437768</td>\n",
       "      <td>2.866953</td>\n",
       "      <td>1.589413</td>\n",
       "      <td>2.689557</td>\n",
       "    </tr>\n",
       "    <tr>\n",
       "      <th>std</th>\n",
       "      <td>6.170957e+05</td>\n",
       "      <td>2.815741</td>\n",
       "      <td>3.051459</td>\n",
       "      <td>2.971913</td>\n",
       "      <td>2.855379</td>\n",
       "      <td>2.214300</td>\n",
       "      <td>2.438364</td>\n",
       "      <td>3.053634</td>\n",
       "      <td>1.715078</td>\n",
       "      <td>0.951273</td>\n",
       "    </tr>\n",
       "    <tr>\n",
       "      <th>min</th>\n",
       "      <td>6.163400e+04</td>\n",
       "      <td>1.000000</td>\n",
       "      <td>1.000000</td>\n",
       "      <td>1.000000</td>\n",
       "      <td>1.000000</td>\n",
       "      <td>1.000000</td>\n",
       "      <td>1.000000</td>\n",
       "      <td>1.000000</td>\n",
       "      <td>1.000000</td>\n",
       "      <td>2.000000</td>\n",
       "    </tr>\n",
       "    <tr>\n",
       "      <th>25%</th>\n",
       "      <td>8.706885e+05</td>\n",
       "      <td>2.000000</td>\n",
       "      <td>1.000000</td>\n",
       "      <td>1.000000</td>\n",
       "      <td>1.000000</td>\n",
       "      <td>2.000000</td>\n",
       "      <td>2.000000</td>\n",
       "      <td>1.000000</td>\n",
       "      <td>1.000000</td>\n",
       "      <td>2.000000</td>\n",
       "    </tr>\n",
       "    <tr>\n",
       "      <th>50%</th>\n",
       "      <td>1.171710e+06</td>\n",
       "      <td>4.000000</td>\n",
       "      <td>1.000000</td>\n",
       "      <td>1.000000</td>\n",
       "      <td>1.000000</td>\n",
       "      <td>2.000000</td>\n",
       "      <td>3.000000</td>\n",
       "      <td>1.000000</td>\n",
       "      <td>1.000000</td>\n",
       "      <td>2.000000</td>\n",
       "    </tr>\n",
       "    <tr>\n",
       "      <th>75%</th>\n",
       "      <td>1.238298e+06</td>\n",
       "      <td>6.000000</td>\n",
       "      <td>5.000000</td>\n",
       "      <td>5.000000</td>\n",
       "      <td>4.000000</td>\n",
       "      <td>4.000000</td>\n",
       "      <td>5.000000</td>\n",
       "      <td>4.000000</td>\n",
       "      <td>1.000000</td>\n",
       "      <td>4.000000</td>\n",
       "    </tr>\n",
       "    <tr>\n",
       "      <th>max</th>\n",
       "      <td>1.345435e+07</td>\n",
       "      <td>10.000000</td>\n",
       "      <td>10.000000</td>\n",
       "      <td>10.000000</td>\n",
       "      <td>10.000000</td>\n",
       "      <td>10.000000</td>\n",
       "      <td>10.000000</td>\n",
       "      <td>10.000000</td>\n",
       "      <td>10.000000</td>\n",
       "      <td>4.000000</td>\n",
       "    </tr>\n",
       "  </tbody>\n",
       "</table>\n",
       "</div>"
      ],
      "text/plain": [
       "              col_0       col_1       col_2       col_3       col_4  \\\n",
       "count  6.990000e+02  699.000000  699.000000  699.000000  699.000000   \n",
       "mean   1.071704e+06    4.417740    3.134478    3.207439    2.806867   \n",
       "std    6.170957e+05    2.815741    3.051459    2.971913    2.855379   \n",
       "min    6.163400e+04    1.000000    1.000000    1.000000    1.000000   \n",
       "25%    8.706885e+05    2.000000    1.000000    1.000000    1.000000   \n",
       "50%    1.171710e+06    4.000000    1.000000    1.000000    1.000000   \n",
       "75%    1.238298e+06    6.000000    5.000000    5.000000    4.000000   \n",
       "max    1.345435e+07   10.000000   10.000000   10.000000   10.000000   \n",
       "\n",
       "            col_5       col_7       col_8       col_9      col_10  \n",
       "count  699.000000  699.000000  699.000000  699.000000  699.000000  \n",
       "mean     3.216023    3.437768    2.866953    1.589413    2.689557  \n",
       "std      2.214300    2.438364    3.053634    1.715078    0.951273  \n",
       "min      1.000000    1.000000    1.000000    1.000000    2.000000  \n",
       "25%      2.000000    2.000000    1.000000    1.000000    2.000000  \n",
       "50%      2.000000    3.000000    1.000000    1.000000    2.000000  \n",
       "75%      4.000000    5.000000    4.000000    1.000000    4.000000  \n",
       "max     10.000000   10.000000   10.000000   10.000000    4.000000  "
      ]
     },
     "execution_count": 6,
     "metadata": {},
     "output_type": "execute_result"
    }
   ],
   "source": [
    "df_breast_cancer.describe() # Ignora la columna \"col_6\" porque no es de tipo int/float"
   ]
  },
  {
   "cell_type": "markdown",
   "id": "557e7097-5f2f-4759-ae28-f7044c828c7d",
   "metadata": {},
   "source": [
    "##### `value_counts()`"
   ]
  },
  {
   "cell_type": "code",
   "execution_count": 15,
   "id": "adcdb654-4116-4664-bb55-cd17e05f2cf2",
   "metadata": {},
   "outputs": [
    {
     "data": {
      "text/plain": [
       "1182404    6\n",
       "1276091    5\n",
       "1198641    3\n",
       "897471     2\n",
       "1116192    2\n",
       "          ..\n",
       "1232225    1\n",
       "1236043    1\n",
       "1241232    1\n",
       "1241559    1\n",
       "814265     1\n",
       "Name: col_0, Length: 645, dtype: int64"
      ]
     },
     "execution_count": 15,
     "metadata": {},
     "output_type": "execute_result"
    }
   ],
   "source": [
    "df_breast_cancer[\"col_0\"].value_counts()"
   ]
  },
  {
   "cell_type": "markdown",
   "id": "096577f2-f549-4b27-96c0-ed30062c7a15",
   "metadata": {},
   "source": [
    "##### **Valores missing**"
   ]
  },
  {
   "cell_type": "code",
   "execution_count": 8,
   "id": "3e658717-48c3-44b7-b57d-1efcfe22df92",
   "metadata": {},
   "outputs": [],
   "source": [
    "# replace \"?\" to NaN\n",
    "df_breast_cancer.replace(\"?\", np.nan, inplace = True)"
   ]
  },
  {
   "cell_type": "markdown",
   "id": "8ede7e07-e519-4b38-addf-b5632e68e55b",
   "metadata": {},
   "source": [
    "Los valores \"?\" se convierten a los valores missing predeterminados de Python. Ahora podemos usar las funciones integradas de Python para identificar estos valores missing:\n",
    "\n",
    "* `.isnull()`. Indica con True/False \n",
    "\n",
    "Podemos contar el numero de missings en cada columna con una list-comprehension:"
   ]
  },
  {
   "cell_type": "code",
   "execution_count": 11,
   "id": "dc9a1240-47b4-44de-a4b6-68a018d6a7a2",
   "metadata": {},
   "outputs": [
    {
     "data": {
      "text/plain": [
       "[('col_6', 16),\n",
       " ('col_0', 0),\n",
       " ('col_1', 0),\n",
       " ('col_2', 0),\n",
       " ('col_3', 0),\n",
       " ('col_4', 0),\n",
       " ('col_5', 0),\n",
       " ('col_7', 0),\n",
       " ('col_8', 0),\n",
       " ('col_9', 0),\n",
       " ('col_10', 0)]"
      ]
     },
     "execution_count": 11,
     "metadata": {},
     "output_type": "execute_result"
    }
   ],
   "source": [
    "missing_data = df_breast_cancer.isnull()\n",
    "missing_counts = [(column, missing_data[column].values.sum()) for column in missing_data.columns]\n",
    "missing_counts.sort(key=lambda x:x[1], reverse = True)\n",
    "missing_counts"
   ]
  },
  {
   "cell_type": "markdown",
   "id": "00b42889-5dfb-4c27-8994-83a1f2de3e0b",
   "metadata": {},
   "source": [
    "#### Análisis de correlaciones\n",
    "\n",
    "La correlación es una medida de dependencia estadística. En la literatura de Machine Learning, se suele referir al coeficiente de correlación de Pearson $\\rho$, el cual mide la dependencia lineal existente entre dos variables. Tiene un valor entre $+1$ y $-1$, donde $1$ significa una correlación positiva máxima. $0$ indica que no existe correlación, y $-1$ significa que existe una correlación negativa máxima. Es una medida simétrica. Dado un par de variables aleatorias $\\displaystyle (X,Y)$, su correlación de Pearson $\\rho_{X,Y}$ es\n",
    "\n",
    "$$ \\rho_{X,Y} = \\rho_{Y,X} = \\frac{cov(X,Y)}{\\sigma_{X} \\sigma_{Y}},$$ \n",
    "\n",
    "donde la estimación de $cov(X,Y)$ se realiza mediante la siguiente formula:\n",
    "\n",
    "$$ cov(X,Y) = \\frac{1}{m-1} \\sum_{i}^{m} (x_{i} - \\bar{x})(y_{i} - \\bar{y})$$\n",
    "\n",
    "----\n",
    "\n",
    "**Correlación e independencia estadística:** Si las variables son estadísticamente independientes su coefiente de correlacción de Pearson es 0. Sin embargo, lo opuesto no tiene porque ser verdad ya que el coeficiente de correlacción solo detecta dependencias **lineal** entre variables.\n",
    "\n",
    "<img src=\"images_2/correlaccion_dependencia.png\" width=\"600\" data-align=\"center\">\n",
    "\n",
    "----"
   ]
  },
  {
   "cell_type": "code",
   "execution_count": 12,
   "id": "3e5a5fdf-69e6-442e-9ea8-1bcd217c0177",
   "metadata": {},
   "outputs": [
    {
     "name": "stdout",
     "output_type": "stream",
     "text": [
      "          col_2     col_3\n",
      "col_2  1.000000  0.906882\n",
      "col_3  0.906882  1.000000\n",
      "          col_2     col_4\n",
      "col_2  1.000000  0.705582\n",
      "col_4  0.705582  1.000000\n"
     ]
    }
   ],
   "source": [
    "print(df_breast_cancer[[\"col_2\", \"col_3\"]].corr())\n",
    "print(df_breast_cancer[[\"col_2\", \"col_4\"]].corr())"
   ]
  },
  {
   "cell_type": "code",
   "execution_count": 17,
   "id": "923b7866-c29b-4047-9244-6bcd853394fc",
   "metadata": {},
   "outputs": [
    {
     "data": {
      "text/plain": [
       "<AxesSubplot:>"
      ]
     },
     "execution_count": 17,
     "metadata": {},
     "output_type": "execute_result"
    },
    {
     "data": {
      "image/png": "[encoded data removed]",
      "text/plain": [
       "<Figure size 864x720 with 2 Axes>"
      ]
     },
     "metadata": {
      "needs_background": "light"
     },
     "output_type": "display_data"
    }
   ],
   "source": [
    "import matplotlib.pyplot as plt\n",
    "import seaborn as sns\n",
    "\n",
    "# Ignoramos la columna 0 porque actua como un ID\n",
    "df = df_breast_cancer.drop([\"col_0\"], axis=1)\n",
    "\n",
    "# Generamos la matriz de correlacción\n",
    "corr = df.corr()\n",
    "\n",
    "# Generamos una máscara con Numpy que ignora la triangular superior (ya que es simétrica) y la diagonal\n",
    "mask = np.zeros_like(corr, dtype=bool)\n",
    "mask[np.triu_indices_from(mask)] = True\n",
    "\n",
    "# Preparamos la figura de Matplotlib\n",
    "f, ax = plt.subplots(figsize=(12, 10))\n",
    "\n",
    "# Generamos un colormap\n",
    "cmap = sns.diverging_palette(220, 10, as_cmap=True)\n",
    "\n",
    "# Dibujamos el heatmap\n",
    "sns.heatmap(corr, mask=mask, cmap=cmap, vmax=.9, center=0,\n",
    "            square=True, linewidths=.5, cbar_kws={\"shrink\": .5})"
   ]
  },
  {
   "cell_type": "markdown",
   "id": "cc0c4c48-876b-4051-b1dc-b76b802379eb",
   "metadata": {},
   "source": [
    "#### Normalización de valores\n",
    "\n",
    "Otro de los problemas a los que nos enfrentaremos cuando trabajemos con valores es la escala en la que estos están representados. En algunas ocasiones, los valores presentan una escala demasiado grande, lo que supone que existen diferencias considerables entre unos y otros. Normalmente, esto puede suponer un problema para los algoritmos de ML, que **no son capaces de extraer patrones correctamente debido a las grandes diferencias producidas por la escala**.\n",
    "\n",
    "Existen diferentes maneras de normalizar los datos, pero las más comunes son:\n",
    "\n",
    "* **Normalización estándar**. Transforma los valores a una escala $[0,1]$ sin tener en cuenta el valor mínimo. se suele aplicar para transformar los valores de los píxeles de las imágenes,\n",
    "que se representan con valores de entre 0 y 255 y no necesitan normalizarse en base al valor mínimo.\n",
    "\n",
    "$$\n",
    "x_{i}' = \\frac{x_{i}}{\\text{max}(x)}\n",
    "$$"
   ]
  },
  {
   "cell_type": "code",
   "execution_count": 36,
   "id": "28c4ecef-4d55-4483-9356-b8b3787f8749",
   "metadata": {},
   "outputs": [
    {
     "data": {
      "text/html": [
       "<div>\n",
       "<style scoped>\n",
       "    .dataframe tbody tr th:only-of-type {\n",
       "        vertical-align: middle;\n",
       "    }\n",
       "\n",
       "    .dataframe tbody tr th {\n",
       "        vertical-align: top;\n",
       "    }\n",
       "\n",
       "    .dataframe thead th {\n",
       "        text-align: right;\n",
       "    }\n",
       "</style>\n",
       "<table border=\"1\" class=\"dataframe\">\n",
       "  <thead>\n",
       "    <tr style=\"text-align: right;\">\n",
       "      <th></th>\n",
       "      <th>col_1</th>\n",
       "      <th>scaled_col_1</th>\n",
       "    </tr>\n",
       "  </thead>\n",
       "  <tbody>\n",
       "    <tr>\n",
       "      <th>0</th>\n",
       "      <td>5</td>\n",
       "      <td>0.5</td>\n",
       "    </tr>\n",
       "    <tr>\n",
       "      <th>1</th>\n",
       "      <td>5</td>\n",
       "      <td>0.5</td>\n",
       "    </tr>\n",
       "    <tr>\n",
       "      <th>2</th>\n",
       "      <td>3</td>\n",
       "      <td>0.3</td>\n",
       "    </tr>\n",
       "    <tr>\n",
       "      <th>3</th>\n",
       "      <td>6</td>\n",
       "      <td>0.6</td>\n",
       "    </tr>\n",
       "    <tr>\n",
       "      <th>4</th>\n",
       "      <td>4</td>\n",
       "      <td>0.4</td>\n",
       "    </tr>\n",
       "  </tbody>\n",
       "</table>\n",
       "</div>"
      ],
      "text/plain": [
       "   col_1  scaled_col_1\n",
       "0      5           0.5\n",
       "1      5           0.5\n",
       "2      3           0.3\n",
       "3      6           0.6\n",
       "4      4           0.4"
      ]
     },
     "execution_count": 36,
     "metadata": {},
     "output_type": "execute_result"
    }
   ],
   "source": [
    "from sklearn.preprocessing import MaxAbsScaler\n",
    "\n",
    "scaler = MaxAbsScaler()\n",
    "\n",
    "original_col_data = df_breast_cancer[[\"col_1\"]]\n",
    "scaled_col_data = scaler.fit_transform(df_breast_cancer[[\"col_1\"]])\n",
    "scaled_col_data = pd.DataFrame(scaled_col_data, columns=[\"scaled_col_1\"])\n",
    "\n",
    "# Combinamos ambos conjuntos de datos\n",
    "pd.concat([original_col_data, scaled_col_data], axis=1).head(5)"
   ]
  },
  {
   "cell_type": "markdown",
   "id": "de649c95-8141-433f-97fe-5aaff65da22e",
   "metadata": {},
   "source": [
    "* **Normalización min-max**.Transforma los valores a una escala $[0,1]$ teniendo en cuenta el valor mínimo. Suele utilizarse con datos tabulares en los que se queire mantener forma de la distribución.\n",
    "\n",
    "$$\n",
    "x_{i}' = \\frac{x_{i} - \\text{min}(x)}{\\text{max}(x) - \\text{min}(x)}\n",
    "$$"
   ]
  },
  {
   "cell_type": "code",
   "execution_count": 35,
   "id": "68a073e3-042d-49b9-82b2-21ce044b7160",
   "metadata": {},
   "outputs": [
    {
     "data": {
      "text/html": [
       "<div>\n",
       "<style scoped>\n",
       "    .dataframe tbody tr th:only-of-type {\n",
       "        vertical-align: middle;\n",
       "    }\n",
       "\n",
       "    .dataframe tbody tr th {\n",
       "        vertical-align: top;\n",
       "    }\n",
       "\n",
       "    .dataframe thead th {\n",
       "        text-align: right;\n",
       "    }\n",
       "</style>\n",
       "<table border=\"1\" class=\"dataframe\">\n",
       "  <thead>\n",
       "    <tr style=\"text-align: right;\">\n",
       "      <th></th>\n",
       "      <th>col_1</th>\n",
       "      <th>scaled_col_1</th>\n",
       "    </tr>\n",
       "  </thead>\n",
       "  <tbody>\n",
       "    <tr>\n",
       "      <th>0</th>\n",
       "      <td>5</td>\n",
       "      <td>0.444444</td>\n",
       "    </tr>\n",
       "    <tr>\n",
       "      <th>1</th>\n",
       "      <td>5</td>\n",
       "      <td>0.444444</td>\n",
       "    </tr>\n",
       "    <tr>\n",
       "      <th>2</th>\n",
       "      <td>3</td>\n",
       "      <td>0.222222</td>\n",
       "    </tr>\n",
       "    <tr>\n",
       "      <th>3</th>\n",
       "      <td>6</td>\n",
       "      <td>0.555556</td>\n",
       "    </tr>\n",
       "    <tr>\n",
       "      <th>4</th>\n",
       "      <td>4</td>\n",
       "      <td>0.333333</td>\n",
       "    </tr>\n",
       "  </tbody>\n",
       "</table>\n",
       "</div>"
      ],
      "text/plain": [
       "   col_1  scaled_col_1\n",
       "0      5      0.444444\n",
       "1      5      0.444444\n",
       "2      3      0.222222\n",
       "3      6      0.555556\n",
       "4      4      0.333333"
      ]
     },
     "execution_count": 35,
     "metadata": {},
     "output_type": "execute_result"
    }
   ],
   "source": [
    "from sklearn.preprocessing import MinMaxScaler\n",
    "\n",
    "scaler = MinMaxScaler()\n",
    "\n",
    "original_col_data = df_breast_cancer[[\"col_1\"]]\n",
    "scaled_col_data = scaler.fit_transform(df_breast_cancer[[\"col_1\"]])\n",
    "scaled_col_data = pd.DataFrame(scaled_col_data, columns=[\"scaled_col_1\"])\n",
    "\n",
    "# Combinamos ambos conjuntos de datos\n",
    "pd.concat([original_col_data, scaled_col_data], axis=1).head(5)"
   ]
  },
  {
   "cell_type": "markdown",
   "id": "a50594a9-edf9-4e80-a154-d34383ae86dc",
   "metadata": {},
   "source": [
    "* **Normalización z-score**. Transforma los valores en base a su distribución normal. Se utiliza comunmente con PCA, regresiones lineales, redes neuronales, etc.\n",
    "\n",
    "$$\n",
    "x_{i}' = \\frac{x_{i} - \\mu}{\\sigma}\n",
    "$$"
   ]
  },
  {
   "cell_type": "code",
   "execution_count": 29,
   "id": "49112267-820f-42e2-b780-c8f10d5ea275",
   "metadata": {},
   "outputs": [
    {
     "data": {
      "text/html": [
       "<div>\n",
       "<style scoped>\n",
       "    .dataframe tbody tr th:only-of-type {\n",
       "        vertical-align: middle;\n",
       "    }\n",
       "\n",
       "    .dataframe tbody tr th {\n",
       "        vertical-align: top;\n",
       "    }\n",
       "\n",
       "    .dataframe thead th {\n",
       "        text-align: right;\n",
       "    }\n",
       "</style>\n",
       "<table border=\"1\" class=\"dataframe\">\n",
       "  <thead>\n",
       "    <tr style=\"text-align: right;\">\n",
       "      <th></th>\n",
       "      <th>col_1</th>\n",
       "      <th>scaled_col_1</th>\n",
       "    </tr>\n",
       "  </thead>\n",
       "  <tbody>\n",
       "    <tr>\n",
       "      <th>0</th>\n",
       "      <td>5</td>\n",
       "      <td>0.206936</td>\n",
       "    </tr>\n",
       "    <tr>\n",
       "      <th>1</th>\n",
       "      <td>5</td>\n",
       "      <td>0.206936</td>\n",
       "    </tr>\n",
       "    <tr>\n",
       "      <th>2</th>\n",
       "      <td>3</td>\n",
       "      <td>-0.503866</td>\n",
       "    </tr>\n",
       "    <tr>\n",
       "      <th>3</th>\n",
       "      <td>6</td>\n",
       "      <td>0.562336</td>\n",
       "    </tr>\n",
       "    <tr>\n",
       "      <th>4</th>\n",
       "      <td>4</td>\n",
       "      <td>-0.148465</td>\n",
       "    </tr>\n",
       "  </tbody>\n",
       "</table>\n",
       "</div>"
      ],
      "text/plain": [
       "   col_1  scaled_col_1\n",
       "0      5      0.206936\n",
       "1      5      0.206936\n",
       "2      3     -0.503866\n",
       "3      6      0.562336\n",
       "4      4     -0.148465"
      ]
     },
     "execution_count": 30,
     "metadata": {},
     "output_type": "execute_result"
    }
   ],
   "source": [
    "from sklearn.preprocessing import StandardScaler\n",
    "\n",
    "scaler = StandardScaler()\n",
    "\n",
    "original_col_data = df_breast_cancer[[\"col_1\"]]\n",
    "scaled_col_data = scaler.fit_transform(df_breast_cancer[[\"col_1\"]])\n",
    "scaled_col_data = pd.DataFrame(scaled_col_data, columns=[\"scaled_col_1\"])\n",
    "\n",
    "# Combinamos ambos conjuntos de datos\n",
    "pd.concat([original_col_data, scaled_col_data], axis=1).head(5)"
   ]
  },
  {
   "cell_type": "markdown",
   "id": "e2aacc3d-6c93-4b15-a7b3-bb16bb720a2e",
   "metadata": {},
   "source": [
    "#### Transformaciones sobre atributos categóricos\n",
    "\n",
    "Uno de los principales problemas que surgen a la hora de preparar nuestros conjuntos de datos para el proceso de entrenamiento es la definición de atributos que contienen texto o se refieren a valores categorizados, ya que la mayoría de los algoritmos de ML trabajan únicamente con valores numéricos o se comportan mejor con ellos.\n",
    "\n",
    "Existen múltiples opciones a la hora de trabajar con estos atributos. La más común es la **codificación mediante etiquetas numéricas**, que permite transformar los valores alfanuméricos en valores numéricos mediante una codificación 1 a 1. Por ejemplo, si tuviésemos que transformar un atributo con tres valores (aéreo, marítimo y terrestre) realizaríamos una transformación 1 a 1 donde cada uno de los valores adoptaría un valor numérico comenzando por el cero (aéreo = 0, marítimo = 1 y terrestre = 2).\n",
    "\n",
    "**Este acercamiento se suele utilizar para etiquetas de clasificación donde tenemos que representar numéricamente dicha variable ya que el método de aprendizaje así lo requiere (e.g., redes neuronales)**"
   ]
  },
  {
   "cell_type": "code",
   "execution_count": 34,
   "id": "dfdfa206-43c0-4495-9ffb-bac8054eeb2e",
   "metadata": {},
   "outputs": [
    {
     "name": "stdout",
     "output_type": "stream",
     "text": [
      "[2, 2, 2, 2, 2, 4, 2, 2, 2, 2]\n",
      "[0 0 0 0 0 1 0 0 0 0]\n"
     ]
    }
   ],
   "source": [
    "from sklearn.preprocessing import LabelEncoder\n",
    "\n",
    "encoder = LabelEncoder()\n",
    "\n",
    "label = df_breast_cancer[\"col_10\"]\n",
    "label_encoded = encoder.fit_transform(label)\n",
    "\n",
    "# Mostramos los primers 10 valores como ejemplo\n",
    "print(label[:10].to_list())\n",
    "print(label_encoded[:10])"
   ]
  },
  {
   "cell_type": "markdown",
   "id": "0d467d35-4f1d-40c3-a297-32f5cffb9148",
   "metadata": {},
   "source": [
    "La **codificación one-hot** se utiliza en aquellos casos donde queremos utilizar **un atributo categórico como input para nuestro algoritmo de aprendizaje** (e.g., si tenemos una variable categorica con pocos estados que queremos utilizar en una regresión lineal o en una red neuronal).\n",
    "\n",
    "Así, el atributo se transforma en un vector de valores binarios cuya longitud viene definida por el numero de posibles valores del atributo y donde solo uno de los elementos presentará el valor 1."
   ]
  },
  {
   "cell_type": "code",
   "execution_count": 42,
   "id": "8766035e-1673-40ff-9beb-3077b67929cf",
   "metadata": {},
   "outputs": [
    {
     "name": "stdout",
     "output_type": "stream",
     "text": [
      "[[0. 0. 0. ... 0. 0. 0.]\n",
      " [0. 0. 0. ... 0. 0. 0.]\n",
      " [0. 0. 1. ... 0. 0. 0.]\n",
      " ...\n",
      " [0. 0. 0. ... 0. 0. 0.]\n",
      " [0. 0. 0. ... 0. 0. 0.]\n",
      " [0. 0. 0. ... 0. 0. 0.]]\n"
     ]
    }
   ],
   "source": [
    "from sklearn.preprocessing import OneHotEncoder\n",
    "\n",
    "encoder = OneHotEncoder()\n",
    "label = df_breast_cancer[\"col_1\"]\n",
    "label_1hot = encoder.fit_transform(label.values.reshape(-1, 1))\n",
    "print(label_1hot.toarray())"
   ]
  },
  {
   "cell_type": "markdown",
   "id": "9792115e-1331-4b8f-b984-800f8a2be3e5",
   "metadata": {
    "tags": []
   },
   "source": [
    "#### Conjuntos de información\n",
    "\n",
    "La información suele dividirse en tres conjuntos independientes con el objetivo de construir un modelo de mejor calidad:\n",
    "\n",
    "* **Conjunto de entrenamiento.** Suele contener entre el 80% y el 90% de los datos. Proporciona la **información de entrenamiento** que será utilizada para generar el modelo.\n",
    "* **Conjunto de validación.** Suele contener entre el 5% y el 10% de los datos. Se usa para efecturar una **evaluación parcial** del modelo durante la fase de aprenziaje. Por ejemplo, para escoger los hiperparametros del algoritmo.\n",
    "* **Conjunto de test.** Suele contener entre el 5% y el 10% de los datos. Se usa para efectuar una **evaluación imparcial** del modelo generado tras el proceso de aprendizaje. Por ejemplo, para comparar diferentes modelos (una vez hemos escogido los hiperparametros deseados)."
   ]
  },
  {
   "cell_type": "code",
   "execution_count": null,
   "id": "e1cd5770-d40f-45fd-8286-b098424318e8",
   "metadata": {},
   "outputs": [],
   "source": [
    "from sklearn.model_selection import train_test_split\n",
    "\n",
    "test_proportion = 0.05\n",
    "val_proportion = 0.05\n",
    "n_test = int(df_breast_cancer.shape[0] * test_proportion)\n",
    "n_val = int(df_breast_cancer.shape[0] * val_proportion)\n",
    "\n",
    "df_train, df_test = train_test_split(df_breast_cancer, test_size=n_test, random_state=0)\n",
    "df_train, df_val = train_test_split(df_train, test_size=n_val, random_state=0)\n",
    "\n",
    "print(df_train.shape)\n",
    "print(df_val.shape)\n",
    "print(df_test.shape)"
   ]
  },
  {
   "cell_type": "markdown",
   "id": "e86b22b1-f784-449e-979e-33e23a0fa4fa",
   "metadata": {},
   "source": [
    "Uno de los grandes problemas que suelen surgir a la hora de construir los conjuntos de datos para el proceso de entrenamiento está relacionado con el **algoritmo de muestreo** utilizado. Existen diferentes algoritmos de muestreo, siendo los más utilizados:\n",
    "\n",
    "* **Muestreo aleatorio**. Este tipo muestreo es una buena forma de distribuir la información en conjuntos de tamaño muy elevado, y en problemas de clasificación balancedos\n",
    "* **Muestreo estratificado**. Este tipo de muestreo intentar distribuir los datos de tal forma que **se mantenga la distribución de una o varias columnas** (e.g., la distribución de valores de la clase)"
   ]
  },
  {
   "cell_type": "code",
   "execution_count": null,
   "id": "85dc243d-6b37-4823-8856-426fea689a9c",
   "metadata": {},
   "outputs": [],
   "source": [
    "# Distribución de valores tras un split con muestreo aleatorio\n",
    "print(df_breast_cancer[\"col_10\"].value_counts()/df_breast_cancer.shape[0]*100)\n",
    "print(df_train[\"col_10\"].value_counts()/df_train.shape[0]*100)\n",
    "print(df_val[\"col_10\"].value_counts()/df_val.shape[0]*100)\n",
    "print(df_test[\"col_10\"].value_counts()/df_test.shape[0]*100)"
   ]
  },
  {
   "cell_type": "code",
   "execution_count": null,
   "id": "30af44dd-7ca6-48a5-b2e5-eba4a505cf4d",
   "metadata": {},
   "outputs": [],
   "source": [
    "df_train_stratified, df_test_stratified = train_test_split(df_breast_cancer, test_size=n_test, random_state=0, stratify=df_breast_cancer[\"col_10\"])\n",
    "df_train_stratified, df_val_stratified = train_test_split(df_train_stratified, test_size=n_val, random_state=0, stratify=df_train_stratified[\"col_10\"])\n",
    "\n",
    "# Distribución de valores tras un split con muestreo aleatorio\n",
    "print(df_breast_cancer[\"col_10\"].value_counts()/df_breast_cancer.shape[0]*100)\n",
    "print(df_train_stratified[\"col_10\"].value_counts()/df_train_stratified.shape[0]*100)\n",
    "print(df_val_stratified[\"col_10\"].value_counts()/df_val_stratified.shape[0]*100)\n",
    "print(df_test_stratified[\"col_10\"].value_counts()/df_test_stratified.shape[0]*100)"
   ]
  },
  {
   "cell_type": "markdown",
   "id": "81d71134-07e5-4b78-b8b4-5d0dbce8193c",
   "metadata": {},
   "source": [
    "Si bien las diferencias en este caso no son muy grandes, en aquellos casos donde la variable de referencia tiene muchos valores diferentes, la estratificación nos ofrece grandes beneficios, ya que un mal muestreo haria que ciertas clases pudieran ni aparecer en el conjunto de datos de entrenamiento."
   ]
  },
  {
   "cell_type": "markdown",
   "id": "dd7e4d69-d7fd-4f16-9e3e-0fed409e0f0d",
   "metadata": {},
   "source": [
    "## 2.3 - Información de salida"
   ]
  },
  {
   "cell_type": "code",
   "execution_count": null,
   "id": "d551f960-7d48-40d9-90e5-0a80cf37d469",
   "metadata": {},
   "outputs": [],
   "source": []
  },
  {
   "cell_type": "markdown",
   "id": "bb36acbd-128e-4f2a-a368-1fd8dc64b0c1",
   "metadata": {},
   "source": [
    "## 2.4 - Información de entrenamiento"
   ]
  },
  {
   "cell_type": "code",
   "execution_count": null,
   "id": "e13b8756-bc96-44e5-8935-acb8491c4770",
   "metadata": {},
   "outputs": [],
   "source": []
  }
 ],
 "metadata": {
  "kernelspec": {
   "display_name": "Python 3 (ipykernel)",
   "language": "python",
   "name": "python3"
  },
  "language_info": {
   "codemirror_mode": {
    "name": "ipython",
    "version": 3
   },
   "file_extension": ".py",
   "mimetype": "text/x-python",
   "name": "python",
   "nbconvert_exporter": "python",
   "pygments_lexer": "ipython3",
   "version": "3.10.4"
  }
 },
 "nbformat": 4,
 "nbformat_minor": 5
}
