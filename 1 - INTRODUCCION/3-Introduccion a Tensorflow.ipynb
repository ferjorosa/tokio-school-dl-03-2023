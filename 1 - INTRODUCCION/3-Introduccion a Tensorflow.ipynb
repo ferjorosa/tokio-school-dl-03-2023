{
 "cells": [
  {
   "cell_type": "markdown",
   "id": "efb09a3c-4959-40bf-826a-29ae3c884b91",
   "metadata": {},
   "source": [
    "# 3 - Introducción a Tensorflow\n",
    "\n",
    "**Sumario**\n",
    "\n",
    "1. Introducción\n",
    "2. Dispositivos de ejecución\n",
    "3. Operaciones básicas\n",
    "4. Cálculo de gradientes\n",
    "5. Funciones\n",
    "6. Operaciones matriciales"
   ]
  },
  {
   "cell_type": "markdown",
   "id": "af8b85da-781f-444e-be9b-32ff5a81d4d9",
   "metadata": {},
   "source": [
    "## 3.1 - Introducción"
   ]
  },
  {
   "cell_type": "markdown",
   "id": "c84da7d2-b784-4542-955e-682a76d08832",
   "metadata": {},
   "source": [
    "**TensorFlow (TF)** es una librería de software diseñada inicialmente por Google brain para facilitar el desarrollo de modelos basados en redes neuronales profundas. En adición a la libreria principal, hay dos versiones que permiten su despliegue en diferentes tipos de dispositivos y entornos:\n",
    "\n",
    "* **TensorFlow Lite.** Conjunto de herramientas que ayudan a los desarrolladores a ejecutar modelos de TensorFlow en dispositivos incorporados, móviles o de IoT. Permite la inferencia de aprendizaje automático en dispositivos con una latencia baja y un tamaño de objeto binario reducido.\n",
    "* **TensorFlow JS.** Biblioteca de JavaScript para el entrenamiento y la implementación de modelos de aprendizaje automático en navegadores y en Node.js."
   ]
  },
  {
   "cell_type": "code",
   "execution_count": 1,
   "id": "41e6f466-00b6-435d-925e-0aa7d1a6d20d",
   "metadata": {},
   "outputs": [
    {
     "name": "stdout",
     "output_type": "stream",
     "text": [
      "2.11.0\n"
     ]
    }
   ],
   "source": [
    "import tensorflow as tf\n",
    "\n",
    "print(tf.__version__)"
   ]
  },
  {
   "cell_type": "markdown",
   "id": "bb61e289-0ad4-4045-8cb5-7238c7630372",
   "metadata": {},
   "source": [
    "## 3.2 - Dispositivos de ejecución"
   ]
  },
  {
   "cell_type": "markdown",
   "id": "e3ce8808-cf9c-4537-86bb-1bad68f74c1b",
   "metadata": {},
   "source": [
    "Una de las ventajas que nos ofrecen las librerías de desarrollo como TF es que podemos utilizar diferentes dispositivos de ejecución\n",
    "1. CPU\n",
    "2. GPU\n",
    "3. TPU\n",
    "\n",
    "Dependiendo del tipo de *hardware* que utilicemos, podremos incrementar la velocidad de nuestro proyecto de aprendizaje, si bien antes deberíamos comprobar cuáles de estos dispositivos se encuentran disponibles en nuestro entorno:"
   ]
  },
  {
   "cell_type": "code",
   "execution_count": 2,
   "id": "5c424f04-4d13-4f5a-a060-cf2b5c2bc399",
   "metadata": {},
   "outputs": [
    {
     "name": "stdout",
     "output_type": "stream",
     "text": [
      "Dispositivos disponibles: \n",
      " ['/physical_device:CPU:0']\n"
     ]
    }
   ],
   "source": [
    "print(('Dispositivos disponibles: \\n {0}').format([device.name for device in tf.config.experimental.list_physical_devices()]))"
   ]
  },
  {
   "cell_type": "markdown",
   "id": "51e150e6-d586-4390-b7a6-1ce3985f31ed",
   "metadata": {},
   "source": [
    "De este modo, podemos utilizar diferentes dispositivos *hardware* a la hora de ejecutar nuestro código. Para ello, debemos seleccionar el dispositivo sobre el que queremos ejecutar utilizando `tf.device` e indicando el nombre del dispositivo que queremos utilizar."
   ]
  },
  {
   "cell_type": "code",
   "execution_count": 3,
   "id": "5a493183-2ade-4bc4-b017-917c52781adb",
   "metadata": {},
   "outputs": [
    {
     "name": "stdout",
     "output_type": "stream",
     "text": [
      "2.01548171043396\n"
     ]
    }
   ],
   "source": [
    "import time\n",
    "cpu_slot = 0\n",
    "gpu_slot = 0\n",
    "\n",
    "# Selecionamos el dispositivo hardware de tipo CPU\n",
    "with tf.device('/CPU: ' + str(cpu_slot)):\n",
    "    # Inicialización de un temporizador\n",
    "    start = time.time()\n",
    "    # Realización de una operación \n",
    "    for i in range(1, 10000):\n",
    "        tf.eye(2,2)\n",
    "    # Finalización del temporizador\n",
    "    end = time.time() - start\n",
    "    print (end)\n",
    "    \n",
    "# Selecionamos el dispositivo hardware de tipo GPU \n",
    "# with tf.device('/GPU: ' + str(cpu_slot)):\n",
    "#     # Inicialización de un temporizador\n",
    "#     start = time.time()\n",
    "#     # Realización de una operación \n",
    "#     for i in range(1, 10000):\n",
    "#         tf.eye(2,2)\n",
    "#     # Finalización del temporizador\n",
    "#     end = time.time() - start\n",
    "#     print (end)"
   ]
  },
  {
   "cell_type": "markdown",
   "id": "96179fb9-42fa-4b17-aac9-68495cf4de84",
   "metadata": {},
   "source": [
    "## 3.3 - Operaciones básicas"
   ]
  },
  {
   "cell_type": "markdown",
   "id": "ac5fcccd-1728-4c24-b5c4-4475ee648f32",
   "metadata": {},
   "source": [
    "### 3.3.1 - Creación específica de tensores"
   ]
  },
  {
   "cell_type": "markdown",
   "id": "c527320f-008f-4124-8fa0-c07d76efe43a",
   "metadata": {},
   "source": [
    "Toda la información en TF se almacena mediante tensores que pueden representarse por medio de dos tipos de elementos:\n",
    "1. constantes, que son variables inmutables durante la ejecución\n",
    "2. variables, cuyo valor y formato pueden cambiar durante la ejecución\n",
    "    \n",
    "En el siguiente fragmento de código se describe como crear cada uno de estos dos tipos de elementos:"
   ]
  },
  {
   "cell_type": "code",
   "execution_count": 4,
   "id": "93411977-1dc4-4fee-888f-62726504dfba",
   "metadata": {},
   "outputs": [
    {
     "name": "stdout",
     "output_type": "stream",
     "text": [
      "tf.Tensor([12], shape=(1,), dtype=int32)\n",
      "<tf.Variable 'VA:0' shape=(2, 2) dtype=int32, numpy=\n",
      "array([[1, 2],\n",
      "       [3, 4]])>\n"
     ]
    }
   ],
   "source": [
    "# Creación de una constante\n",
    "C = tf.constant([12])\n",
    "print(C)\n",
    "\n",
    "# Creación de una variable\n",
    "VA = tf.Variable([[1,2], [3,4]], name=\"VA\")\n",
    "print(VA)"
   ]
  },
  {
   "cell_type": "markdown",
   "id": "26fc2281-eec2-4d46-9ea8-15086ee48d93",
   "metadata": {},
   "source": [
    "### 3.3.2 - Creación general de tensores"
   ]
  },
  {
   "cell_type": "markdown",
   "id": "8f63c7d5-9240-4f90-97ac-8135ff527fff",
   "metadata": {},
   "source": [
    "La generación específica de tensores mediante las clases `tf.Variable` y `tf.constant` puede llegar a ser un tanto tediosa si tenemos que crear tensores de gran tamaño, así que vamos a ver cómo generar grandes matrices de forma mucho más sencilla por medio de tres funciones:\n",
    "* `tf.zeros`, que permite construir tensores de diferente tamaño inicializando todas las variables a 0.\n",
    "* `tf.ones`, que permite construir tensores de diferente tamaño inicializando todas las variables 1.\n",
    "* `tf.random`, que permite construir un generador de valores aleatorio con el objetivo de crear tensores de diferentes tamaños."
   ]
  },
  {
   "cell_type": "code",
   "execution_count": 5,
   "id": "5f1e4f78-6767-4fd7-9a1b-46d3362736e3",
   "metadata": {},
   "outputs": [
    {
     "name": "stdout",
     "output_type": "stream",
     "text": [
      "tf.Tensor(\n",
      "[[ 0.71007586  1.2155863   0.9044451 ]\n",
      " [ 0.4229328   1.4938642   0.05864731]\n",
      " [-0.88086957 -1.7961171   0.23109847]], shape=(3, 3), dtype=float32)\n"
     ]
    }
   ],
   "source": [
    "# Creación de un tensor inicializado a ceros. # shape=[filas, columnas]\n",
    "ceros = tf.zeros(shape=[3, 2], dtype=tf.int32)\n",
    "\n",
    "# Creación de un tensor inicializado a unos.\n",
    "# shape=[filas, columnas]\n",
    "unos = tf.ones (shape=[4, 4], dtype=tf.float32)\n",
    "\n",
    "# Creación de un tensor con valores aleatorios mediante semilla. \n",
    "# shape=[filas, columnas]\n",
    "generador_1 = tf.random. Generator.from_seed (523434, alg='philox')\n",
    "aleatorio_1 = generador_1.normal (shape=[3, 3])\n",
    "\n",
    "print(aleatorio_1)"
   ]
  },
  {
   "cell_type": "markdown",
   "id": "2d5dd9ec-2839-43ee-bc6a-669e5cb14c3c",
   "metadata": {},
   "source": [
    "### 3.3.3 - Concatenación de sensores"
   ]
  },
  {
   "cell_type": "markdown",
   "id": "aa6d8776-a3be-41c9-948d-0f81a26d33c9",
   "metadata": {},
   "source": [
    "En algunas ocasiones, es necesario combinar la información de múltiples tensores, para ellos utilizamos la función `concat`:"
   ]
  },
  {
   "cell_type": "code",
   "execution_count": 6,
   "id": "d10b0429-d0ba-449b-bd8f-a6f212bfc91c",
   "metadata": {},
   "outputs": [
    {
     "name": "stdout",
     "output_type": "stream",
     "text": [
      "[[1 1 3 3]\n",
      " [2 2 4 4]]\n",
      "\n",
      "[[1 1]\n",
      " [2 2]\n",
      " [3 3]\n",
      " [4 4]]\n"
     ]
    }
   ],
   "source": [
    "A = tf.constant(\n",
    "    [[1,1],\n",
    "    [2,2]]\n",
    ")\n",
    "B = tf.constant(\n",
    "    [[3,3],\n",
    "    [4,4]]\n",
    ")\n",
    "\n",
    "# Concatenación de filas\n",
    "AB_filas = tf.concat(values=[A,B], axis=1)\n",
    "print(f\"{AB_filas.numpy()}\\n\")\n",
    "\n",
    "# Concatenación de columnas\n",
    "AB_columnas = tf.concat(values=[A,B], axis=0)\n",
    "print(AB_columnas.numpy())"
   ]
  },
  {
   "cell_type": "markdown",
   "id": "a74217b2-a331-42f7-a7b0-5525b58b7515",
   "metadata": {},
   "source": [
    "### 3.3.4 - Redefinición de tamaño de tensores"
   ]
  },
  {
   "cell_type": "markdown",
   "id": "6176a821-05cb-4068-8446-fac2be46040c",
   "metadata": {},
   "source": [
    "En ciertas ocasiones, debemos realizar diferentes tipos de transformaciones sobre los tensores que implican modificar su tamaño (shape). Así, por ejemplo, si tenemos que transformar un tensor cuadrado de 2x2 en un tensor columna 1x4, podríamos transformar directamente el tamaño. Es muy importante tener en cuenta que los tamaños iniciales y finales deben ser complementarios."
   ]
  },
  {
   "cell_type": "code",
   "execution_count": 7,
   "id": "0f170a03-03c7-43c1-8b02-1520a13ae46b",
   "metadata": {},
   "outputs": [
    {
     "name": "stdout",
     "output_type": "stream",
     "text": [
      "[[1 2]\n",
      " [3 4]]\n",
      "\n",
      "[[1 2 3 4]]\n",
      "\n"
     ]
    }
   ],
   "source": [
    "inicial = tf.constant(\n",
    "    [[1,2],\n",
    "     [3,4]]\n",
    ")\n",
    "final = tf.reshape(tensor = inicial, shape = [1,4])\n",
    "\n",
    "print(f\"{inicial.numpy()}\\n\")\n",
    "print(f\"{final.numpy()}\\n\")"
   ]
  },
  {
   "cell_type": "markdown",
   "id": "10592e56-26f4-4908-9759-95fb599f44c4",
   "metadata": {},
   "source": [
    "### 3.3.5 - Transformando tensores en otro tipo de datos"
   ]
  },
  {
   "cell_type": "markdown",
   "id": "c3062e79-777a-4d20-9f25-7c254e678d80",
   "metadata": {},
   "source": [
    "En algunos casos resulta necesario transformar el tipo de datos almacenado en los tensores. Así por ejemplo, podemos reducir la precisión de la información de una matriz al transformar los valores reales en enteros. "
   ]
  },
  {
   "cell_type": "code",
   "execution_count": 8,
   "id": "2abb7f8a-6809-495c-8626-ac6a5dc286e3",
   "metadata": {},
   "outputs": [
    {
     "name": "stdout",
     "output_type": "stream",
     "text": [
      "Tensor en format float: \n",
      "<bound method _EagerTensorBase.numpy of <tf.Tensor: shape=(2, 2), dtype=float32, numpy=\n",
      "array([[1.2, 3.4],\n",
      "       [8.2, 1.3]], dtype=float32)>>\n",
      "\n",
      "Tensor en format int: \n",
      "<bound method _EagerTensorBase.numpy of <tf.Tensor: shape=(2, 2), dtype=int32, numpy=\n",
      "array([[1, 3],\n",
      "       [8, 1]])>>\n",
      "\n"
     ]
    }
   ],
   "source": [
    "inicial = tf.constant(\n",
    "    [[1.2, 3.4],[8.2, 1.3]], dtype=tf.float32)\n",
    "final = tf.cast(inicial, tf.int32)\n",
    "\n",
    "print(f\"Tensor en format float: \\n{inicial.numpy}\\n\")\n",
    "print(f\"Tensor en format int: \\n{final.numpy}\\n\")"
   ]
  },
  {
   "cell_type": "markdown",
   "id": "c3ccccaa-bd35-4c64-908f-ac76efaaf1db",
   "metadata": {},
   "source": [
    "## 3.4 - Cálculo de gradientes"
   ]
  },
  {
   "cell_type": "markdown",
   "id": "700310e7-2985-4b1e-b6db-adf69ff5cdcd",
   "metadata": {},
   "source": [
    "Uno de los pasos más importantes a la hora de construir un proceso de aprendizaje es la generación de los diferentes gradientes que serán utilizados para el proceso de entrenamiento. Para poder extraer los gradientes de cualquier operación en TF, podemos utilizar GradientTape, que registra el gradiente de cualquier operación ejecutada bajo el tipo de gradiente. \n",
    "\n",
    "Así, si quisiéramos obtener el gradiente de la función \"tangente hiperbólica\" (una de las funciones de activación más utilizadas para la construcción de redes de neurones), deberíamos ejecutar el siguiente código:\n",
    "\n",
    "$$\n",
    "\\text{tanh}(x) = \\frac{e^{x} - e^{-x}}{e^{x} + e^{-x}}\n",
    "$$"
   ]
  },
  {
   "cell_type": "code",
   "execution_count": 9,
   "id": "b421eb2d-a280-4d33-8d48-616715fd1996",
   "metadata": {},
   "outputs": [
    {
     "name": "stdout",
     "output_type": "stream",
     "text": [
      "0.18070673942565918 es el gradiente TANH para x=1.5\n"
     ]
    }
   ],
   "source": [
    "def my_function(x):\n",
    "    return tf.tanh(x)\n",
    "\n",
    "def get_gradient(input, activation_function):\n",
    "    \n",
    "    with tf.GradientTape() as gt:\n",
    "        output = activation_function(input)\n",
    "        \n",
    "    return gt.gradient(output, input).numpy()\n",
    "\n",
    "x = tf.Variable(1.5)\n",
    "gradient = get_gradient(x, my_function)\n",
    "\n",
    "print(f\"{gradient} es el gradiente TANH para x={x.numpy()}\")"
   ]
  },
  {
   "cell_type": "markdown",
   "id": "49ac76d6-67b9-4ff3-916d-3221161f8041",
   "metadata": {},
   "source": [
    "## 3.5 - Funciones"
   ]
  },
  {
   "cell_type": "markdown",
   "id": "9d6781d9-b384-4a71-a537-63ee041b6d2f",
   "metadata": {},
   "source": [
    "TF permite **ejecutar conjuntos de operaciones de manera eficiente y/o paralelizada** en diferentes tipos de dispositivos *hardware* utilizando **grafos de computación**. Los grafos son estructuras de datos que permiten la ejecución de **algoritmos construidos mediante dos componentes**:\n",
    "1. Operaciones, que representan las diferentes unidades de cálculos que deben realizarse sobre la información\n",
    "2. Tensores, que representan las distintas unidades de información que fluyen entre las operaciones.\n",
    "\n",
    "Para poder crear un grafo mediante TF, debemos utilizar tf.function mediante una llamada directa o un decorador. Por ejemplo, en el siguiente código ejecutamos una capa convolucional:"
   ]
  },
  {
   "cell_type": "code",
   "execution_count": 10,
   "id": "07e8535d-5717-4916-8d51-fc1851f817a7",
   "metadata": {},
   "outputs": [
    {
     "name": "stdout",
     "output_type": "stream",
     "text": [
      "Tiempo sin @tf.function: 3.2401181999593973\n",
      "Tiempo con @tf.function: 2.798629099968821\n",
      "Diferencia de tiempos: 0.4414890999905765\n"
     ]
    }
   ],
   "source": [
    "import timeit\n",
    "\n",
    "convolution_layer = tf.keras.layers.Conv2D(100, 3)\n",
    "\n",
    "@tf.function\n",
    "def convolution_fn(image):\n",
    "    return convolution_layer(image)\n",
    "\n",
    "image = tf.zeros([1, 500, 500, 100])\n",
    "\n",
    "# Ejecutamos la capa sin encapsular en una función\n",
    "result_no_tf_fn = timeit.timeit(lambda: convolution_layer(image), number=12)\n",
    "\n",
    "# Ejecutamos la capa encapsulada en una función\n",
    "result_tf_fn = timeit.timeit(lambda: convolution_fn(image), number=12)\n",
    "\n",
    "difference = result_no_tf_fn - result_tf_fn\n",
    "print(f\"Tiempo sin @tf.function: {result_no_tf_fn}\")\n",
    "print(f\"Tiempo con @tf.function: {result_tf_fn}\")\n",
    "print(f\"Diferencia de tiempos: {difference}\")"
   ]
  },
  {
   "cell_type": "markdown",
   "id": "a46cfafb-0b2d-47c7-a78a-b58042bf5197",
   "metadata": {},
   "source": [
    "La diferencia entre las dos ejecuciones es muy pequeña. Sin embargo, si estamos entrenando un red neuronal donde esta ejecución se repite millones de veces, la diferencia de tiempo puede ser muy elevada."
   ]
  },
  {
   "cell_type": "markdown",
   "id": "4b7663ca-df63-486a-a75b-608faaade2c0",
   "metadata": {},
   "source": [
    "## 3.6 - Operaciones matriciales"
   ]
  },
  {
   "cell_type": "markdown",
   "id": "f45b0162-e5f1-4a09-a6c2-4d9513625cc6",
   "metadata": {},
   "source": [
    "### 3.6.1 - Suma de matrices"
   ]
  },
  {
   "cell_type": "code",
   "execution_count": 11,
   "id": "2a7a4025-2de3-444e-b4d2-ee473912f23c",
   "metadata": {},
   "outputs": [
    {
     "data": {
      "text/plain": [
       "<tf.Tensor: shape=(2, 2), dtype=int32, numpy=\n",
       "array([[11, 13],\n",
       "       [ 2, 14]])>"
      ]
     },
     "execution_count": 11,
     "metadata": {},
     "output_type": "execute_result"
    }
   ],
   "source": [
    "A = tf.constant(\n",
    "    [[3,7],\n",
    "     [1,9]]\n",
    ")\n",
    "B = tf.constant(\n",
    "    [[8,6],\n",
    "     [1,5]]\n",
    ")\n",
    "\n",
    "tf.math.add(A,B)"
   ]
  },
  {
   "cell_type": "markdown",
   "id": "bea06060-ff14-496c-a6c1-3168bacffe2c",
   "metadata": {},
   "source": [
    "### 3.6.2 - Transposición de matrices"
   ]
  },
  {
   "cell_type": "markdown",
   "id": "846edd11-adeb-4230-b934-9042adbcd2e6",
   "metadata": {},
   "source": [
    "La trasposición de una matriz $A$ consiste en colocar sus filas en forma de columna respetando su orden"
   ]
  },
  {
   "cell_type": "code",
   "execution_count": 12,
   "id": "bcb067fd-74d1-4eff-9952-9afb3d2ecd13",
   "metadata": {},
   "outputs": [
    {
     "data": {
      "text/plain": [
       "<tf.Tensor: shape=(2, 2), dtype=int32, numpy=\n",
       "array([[3, 1],\n",
       "       [7, 9]])>"
      ]
     },
     "execution_count": 12,
     "metadata": {},
     "output_type": "execute_result"
    }
   ],
   "source": [
    "A = tf.constant(\n",
    "    [[3,7],\n",
    "     [1,9]]\n",
    ")\n",
    "\n",
    "tf.transpose(A)"
   ]
  },
  {
   "cell_type": "markdown",
   "id": "52a468f1-6b80-4c32-b03a-f5bf00f42caa",
   "metadata": {},
   "source": [
    "### 3.6.3 - Multiplicación de matrices"
   ]
  },
  {
   "cell_type": "markdown",
   "id": "6aa424f8-2c52-4cfb-aabb-63dad66040ce",
   "metadata": {},
   "source": [
    "La multiplicación de matrices es una operación que genera una nueva matriz cuyo tamaño estará definido por el número de filas de la matriz $A$ y el número de columnas de la matriz $B$. Esto implica que, para que dos matrices\n",
    "puedan ser multiplicadas, el número de columnas de la matriz $A$ ha de ser igual al número de filas de la matriz $B$, siendo $A$ la primera matriz de la operación y $B$ la segunda."
   ]
  },
  {
   "cell_type": "code",
   "execution_count": 13,
   "id": "9643e496-efe7-4a65-8b3b-7cb3401ca3f9",
   "metadata": {},
   "outputs": [
    {
     "data": {
      "text/plain": [
       "<tf.Tensor: shape=(2, 2), dtype=int32, numpy=\n",
       "array([[31, 53],\n",
       "       [17, 51]])>"
      ]
     },
     "execution_count": 13,
     "metadata": {},
     "output_type": "execute_result"
    }
   ],
   "source": [
    "A = tf.constant(\n",
    "    [[3,7],\n",
    "     [1,9]]\n",
    ")\n",
    "B = tf.constant(\n",
    "    [[8,6],\n",
    "     [1,5]]\n",
    ")\n",
    "\n",
    "tf.linalg.matmul(A,B)"
   ]
  },
  {
   "cell_type": "markdown",
   "id": "4ea117c8-ec55-43fb-8c28-bf03c4cf79a0",
   "metadata": {},
   "source": [
    "### 3.6.4 - Determinante de una matriz"
   ]
  },
  {
   "cell_type": "markdown",
   "id": "38ae384a-8a4e-499b-af85-f4710915c465",
   "metadata": {},
   "source": [
    "El determinante de una matriz es una operación matemática que consiste en restar la multiplicación de los elementos de la diagonal principal a la multiplicación de los elementos de la diagonal secundaria."
   ]
  },
  {
   "cell_type": "code",
   "execution_count": 14,
   "id": "cdcab4c5-9b7e-4649-999e-4e2c46414a93",
   "metadata": {},
   "outputs": [
    {
     "data": {
      "text/plain": [
       "<tf.Tensor: shape=(), dtype=float32, numpy=-225.00002>"
      ]
     },
     "execution_count": 14,
     "metadata": {},
     "output_type": "execute_result"
    }
   ],
   "source": [
    "A = tf.constant(\n",
    "    [[3,21],\n",
    "     [12,9]]\n",
    ")\n",
    "# El determinante debe tener un formato decimal\n",
    "A = tf.dtypes.cast(A, tf.float32)\n",
    "\n",
    "tf.linalg.det(A)"
   ]
  },
  {
   "cell_type": "markdown",
   "id": "60bfa387-3c68-4ded-b251-b219d0e8689e",
   "metadata": {},
   "source": [
    "### 3.6.5 - Producto escalar de matrices"
   ]
  },
  {
   "cell_type": "markdown",
   "id": "2e535ce6-2156-442d-a0ee-b5e943d86c02",
   "metadata": {},
   "source": [
    "El producto escalar de matrices es una operación matemática que genera un valor escalar, es decir, un número a partir de dos matrices. Esto implica que, para que dos matrices puedan ser multiplicadas, el número de columnas de la matriz $A$ tiene que ser igual que el número de filas de la matriz $B$, siendo $A$ la primera matriz de la operación y $B$ la segunda."
   ]
  },
  {
   "cell_type": "code",
   "execution_count": 15,
   "id": "75834a6a-8401-4ea0-b87c-ed223d9996d6",
   "metadata": {},
   "outputs": [
    {
     "data": {
      "text/plain": [
       "<tf.Tensor: shape=(), dtype=int32, numpy=112>"
      ]
     },
     "execution_count": 15,
     "metadata": {},
     "output_type": "execute_result"
    }
   ],
   "source": [
    "A = tf.constant(\n",
    "    [[3,7],\n",
    "     [1,9]]\n",
    ")\n",
    "B = tf.constant(\n",
    "    [[8,6],\n",
    "     [1,5]]\n",
    ")\n",
    "\n",
    "tf.tensordot(a=A, b=B, axes=2)"
   ]
  },
  {
   "cell_type": "markdown",
   "id": "8f1aec95-f21b-4aa4-b3ac-ec34a9ca3ede",
   "metadata": {},
   "source": [
    "### 3.6.6 - Matriz identidad"
   ]
  },
  {
   "cell_type": "markdown",
   "id": "3f477ef0-d219-4642-8c54-c362cac7fad9",
   "metadata": {},
   "source": [
    "La matriz identidad es un tipo de matriz especial donde todos los valores son ceros ($0$), excepto los valores de ladiagonal principal, que son unos ($1$)."
   ]
  },
  {
   "cell_type": "code",
   "execution_count": 16,
   "id": "24f05402-9c59-473d-acf3-d5aedbc9b232",
   "metadata": {},
   "outputs": [
    {
     "data": {
      "text/plain": [
       "<tf.Tensor: shape=(3, 3), dtype=int32, numpy=\n",
       "array([[1, 0, 0],\n",
       "       [0, 1, 0],\n",
       "       [0, 0, 1]])>"
      ]
     },
     "execution_count": 16,
     "metadata": {},
     "output_type": "execute_result"
    }
   ],
   "source": [
    "# Creamos una matriz de identidad cuadratica de tamaño (3,3)\n",
    "tf.eye(num_rows = 3, num_columns = 3, dtype = tf.int32)"
   ]
  }
 ],
 "metadata": {
  "kernelspec": {
   "display_name": "Python 3 (ipykernel)",
   "language": "python",
   "name": "python3"
  },
  "language_info": {
   "codemirror_mode": {
    "name": "ipython",
    "version": 3
   },
   "file_extension": ".py",
   "mimetype": "text/x-python",
   "name": "python",
   "nbconvert_exporter": "python",
   "pygments_lexer": "ipython3",
   "version": "3.9.15"
  }
 },
 "nbformat": 4,
 "nbformat_minor": 5
}
