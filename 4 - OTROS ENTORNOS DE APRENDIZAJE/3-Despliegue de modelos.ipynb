{
 "cells": [
  {
   "cell_type": "markdown",
   "id": "f7dccb78-7f08-4998-9ee9-e7ac92acf2dd",
   "metadata": {},
   "source": [
    "# 3 - Despliegue de modelos\n",
    "\n",
    "**Sumario**\n",
    "\n",
    "1. Introducción\n",
    "2. Despliegue de modelos mediante una API\n",
    "3. Despliegue de modelos mediante operaciones\n",
    "4. Despliegue de modelos en dispositivos"
   ]
  },
  {
   "cell_type": "markdown",
   "id": "a75b65a9-94cb-429b-aba6-6dd3ad1388a2",
   "metadata": {},
   "source": [
    "## 3.1 - Introducción"
   ]
  },
  {
   "cell_type": "markdown",
   "id": "a9ff54ef-368d-4dcf-96b1-ab4361789617",
   "metadata": {},
   "source": [
    "El proceso de construcción de modelos de razonamiento basados en Machine Learning (ML) o en Deep Learning (DL) está dirigido a construir modelos que puedan ser utilizados en diferentes tipos de entornos mediante el proceso de inferencia. Este proceso de uso se conoce como **despliegue de modelos** y, en el caso de que estos sean desplegados en un entorno de tipo productivo, se suele denominar **productivización de modelos**.\n",
    "\n",
    "Como ya hemos estudiado, el ciclo de vida de los modelos consta de dos fases:\n",
    "1. **Fase de entrenamiento**.\n",
    "2. **Fase de inferencia**.\n",
    "\n",
    "<table>\n",
    "    <tr>\n",
    "        <td><img src=\"images_3/fases.png\" width=\"600\" data-align=\"center\"></td>\n",
    "    </tr>\n",
    "</table>\n",
    "\n",
    "A la hora de definir el proceso de puesta en producción de los modelos, hay que considerar dos factores que\n",
    "pueden influir significativamente en cómo se concreta tanto la fase de entrenamiento como la fase de inferencia:\n",
    "1. El **modo de puesta en producción** que se va a realizar.\n",
    "2. El **entorno donde se va a productivizar**.\n",
    "\n",
    "El **modo de puesta en producción o despliegue** se suele llevar a cabo de dos maneras:\n",
    "\n",
    "* **Productivización o despliegue manual**. Consiste en poner en funcionamiento un modelo mediante la realización manual de todo el proceso. En la mayoría de los casos, los mismos equipos de ingeniería que desarrollan los modelos son los encargados de desplegarlos, lo que garantiza un proceso de despliegue manual preciso.\n",
    "\n",
    "* **Productivización automática**. Consiste poner en funcionamiento un modelo a través de la automatización de varias operaciones. Esto permite que el modelo pueda entrenarse y desplegarse en producción de manera completamente automática, sin la intervención de ningún ingeniero o ingeniera fuera del proceso de diseño, desarrollo y automatización de las operaciones.\n",
    "\n",
    "Una vez definido el modo de productivización, es importante identificar dónde se va a desplegar nuestro modelo. se pueden utilizar tres tipos de entornos de despliegue diferentes:\n",
    "\n",
    "* **Entorno *cloud* público.** Suele ser el entorno más común y consiste en desplegar los modelos mediante los diferentes sistemas de computación disponibles, que van desde la utilización de instancias de ejecución tradicionales -que se corresponden con un sistema operativo donde ejecutamos algún tipo de servidor que nos permite solicitar predicciones a nuestro modelos- hasta el empleo de clústeres de Kubernetes, donde podemos desplegar contenedores que permiten realizar predicciones.\n",
    "    * [Amazon Web Services (AWS).](https://aws.amazon.com/es/)\n",
    "    * [Microsoft Azure.](https://azure.microsoft.com/es-es)\n",
    "    * [Google Cloud Plataform (GCP).](https://cloud.google.com/?hl=es)\n",
    "    * [IBM Cloud](https://www.ibm.com/es-es/cloud)\n",
    "\n",
    "* **Entorno *cloud* privado.** Es similar al entorno público, pero ofrece un menor número de herramientas para la productivización de modelos a nivel automático, ya que muchas de las nuevas herramientas de automatización solo están implementadas en ciertos entornos de tipo cloud público a nivel nativo.\n",
    "    * [OpenStack.](https://www.openstack.org/)\n",
    "    * [Azure Stack.](https://azure.microsoft.com/es-es/products/azure-stack)\n",
    "    * [Red Hat OpenShift.](https://www.redhat.com/en/technologies/cloud-computing/openshift)\n",
    "\n",
    "* **Entorno *edge*.** Modelo híbrido donde la mayor parte de la computación y el almacenamiento se realiza de forma local o muy cercana al lugar de aplicación. Surgen principalmente por consideraciones de seguridad y por la alta capacidad de computación de los dispositivos actuales. Aplicaciones:\n",
    "    * Internet of Things.\n",
    "    * Industria 4.0.\n",
    "    * Vehículos autónomos.\n",
    "    \n",
    "A lo largo de esta unidad, nos ocuparemos de aquellos conceptos básicos asociados a los procesos de productivización de modelos, tanto a nivel manual como a nivel automático. Además, describiremos las diferentes herramientas disponibles para el despliegue de los modelos, tanto en entornos cloud como en entornos de tipo *edge*. "
   ]
  },
  {
   "cell_type": "markdown",
   "id": "01b9bafb-01ef-40c0-a90d-95874de3f04d",
   "metadata": {},
   "source": [
    "## 3.2 - Despliegue de modelos mediante una API"
   ]
  },
  {
   "cell_type": "markdown",
   "id": "9b4e53c2-7a63-4f6b-96a2-2770fc001245",
   "metadata": {},
   "source": [
    "El término API es una abreviatura de **Application Programming Interfaces**, que en español significa \"interfaz de\n",
    "programación de aplicaciones\". Las API son un conjunto de \"reglas\" destinadas a permitir la comunicación entre dos o más aplicaciones de software independientes a través de un protocolo de comunicaciones (e.g., HTTP).\n",
    "\n",
    "La productivización de modelos mediante las API se trata, probablemente, de la forma más extendida de utilizar\n",
    "modelos **con independencia del tipo de *framework* de desarrollo que empleemos para su entrenamiento**.\n",
    "\n",
    "En algunos casos, los propios frameworks de ML/DL ofrecen funcionalidades para la construcción automática de estos servicios, como es el caso de TensorFlow, que proporciona ciertas funcionalidades para el servicio de modelos; sin embargo, en otras ocasiones, **resulta más sencillo crear una API de tipo genérico destinada a productivizar modelos de cualquier tipo**.\n",
    "\n",
    "La utilización de las API permite la creación de servicios independientes para acceder a las diferentes funcionalidades que ofrecen los modelos, tanto en lo relativo a la predicción como a la inserción de nuevos ejemplos de entrenamiento que puedan llegar a desencadenar nuevos procesos.\n",
    "\n",
    "Actualmente, los modelos de API mas utilizados son:\n",
    "\n",
    "* REST\n",
    "* GraphQL\n",
    "\n",
    "<table>\n",
    "    <tr>\n",
    "        <td><img src=\"images_3/api_models.jpg\" width=\"600\" data-align=\"center\"></td>\n",
    "    </tr>\n",
    "</table>\n",
    "\n",
    "A continuación, describiremos cómo funcionan diferentes tipos de API y cómo podemos utilizarlas para productivizar\n",
    "los modelos de razonamiento basados en aprendizaje profundo que hemos construido en los anteriores capítulos."
   ]
  },
  {
   "cell_type": "markdown",
   "id": "c830ff7f-60e7-461b-be50-bb9c4f8ce5ff",
   "metadata": {},
   "source": [
    "### 3.2.1 - REST\n"
   ]
  },
  {
   "cell_type": "markdown",
   "id": "34d9f4b4-d9cb-43dd-bbe2-597766414f3f",
   "metadata": {},
   "source": [
    "El término REST (Representational State Transfer) fue definido en el año 2000 por Roy Fielding, uno de los creadores de la especificación HTTP. **Un servicio REST es un conjunto de reglas que sirven para crear aplicaciones web mediante el protocolo HTTP**.\n",
    "\n",
    "Las principales características de un servicio REST son:\n",
    "\n",
    "* **Bajo acomplamiento entre cliente y servidor.** El cliente no tiene que saber los detalles de implementación del servidor y viceversa.\n",
    "\n",
    "* **Sin estado.** Cualquier petición que reciba el servidor debe ser independiente, esto es, no es necesario mantener ningún tipo de sesión con respecto a la petición, aunque es posible definir una sesión para controlar el acceso a los diferentes recursos.\n",
    "\n",
    "* **Interfaz uniforme.** Cada recurso del servicio REST debe contar con una única dirección mediante una “URI”.\n",
    "\n",
    "* **Cacheable.** Los recursos pueden ser cacheados de tal forma que las sucesivas peticiones a un mismo recurso no generen exceso de computación."
   ]
  },
  {
   "cell_type": "markdown",
   "id": "520b59d1-79c4-4d7a-8c01-e3ca5618cdc1",
   "metadata": {},
   "source": [
    "#### Funcionamiento\n",
    "\n",
    "[**Ejemplo de API REST**](https://reqres.in/)\n",
    "\n",
    "Para entender el funcionamiento de una API de tipo REST sobre el protocolo HTTP, vamos a describir cómo\n",
    "funcionaría una API que ofreciera información sobre los usuarios de una red social de manera que pudiera acceder a tres conjuntos de datos:\n",
    "\n",
    "<table>\n",
    "    <tr>\n",
    "        <th>Información de los usuarios</th>\n",
    "    </tr>\n",
    "    <tr>\n",
    "        <td><img src=\"images_3/rest_users.png\" width=\"600\" data-align=\"center\"></td>\n",
    "    </tr> \n",
    "</table>\n",
    "\n",
    "<table>\n",
    "    <tr>\n",
    "        <th>Información sobre las publicaciones de cada usuario</th>\n",
    "    </tr>\n",
    "    <tr>\n",
    "        <td><img src=\"images_3/rest_posts.png\" width=\"600\" data-align=\"center\"></td>\n",
    "    </tr> \n",
    "</table>\n",
    "\n",
    "<table>\n",
    "    <tr>\n",
    "        <th>Información sobre los seguidores de cada usuario</th>\n",
    "    </tr>\n",
    "    <tr>\n",
    "        <td><img src=\"images_3/rest_followers.png\" width=\"600\" data-align=\"center\"></td>\n",
    "    </tr> \n",
    "</table>"
   ]
  },
  {
   "cell_type": "markdown",
   "id": "3a47ec07-880f-46d8-a6e6-c6c62e59c96d",
   "metadata": {},
   "source": [
    "#### Definición de las URI (nombrado)\n",
    "\n",
    "Las **URI** (Uniform Resource Identifier) son **cadenas de caracteres que identifican los recursos forma\n",
    "unívoca**. \n",
    "\n",
    "Las URL (Uniform Resource Locator) son un tipo especifico de URI que se utiliza para localizar y acceder a un recurso en particular a través de una red, como internet. La URL proporciona la ubicación exacta del recurso y el protocolo utilizado para acceder a él, como HTTP, HTTPS, FTP, etc. \n",
    "\n",
    "Existe un conjunto de reglas básicas para definir el nombrado a la URI de un recurso:\n",
    "* Los nombres de las URI no deben implicar una acción; por lo tanto, debemos evitar usar verbos en ellos.\n",
    "* Han de ser únicas, esto es, no debemos disponer de más de una URI para identificar un mismo recurso.\n",
    "* Deben ser independientes de formato.\n",
    "* Deben mantener una jerarquía lógica.\n",
    "* No deben implicar acciones.\n",
    "* Los filtrados de información de un recurso no se hacen en la URI."
   ]
  },
  {
   "cell_type": "markdown",
   "id": "3d81fdd1-cab0-4668-8fb4-5a81a6ca3102",
   "metadata": {},
   "source": [
    "#### Protocolo de comunicaciones (métodos)\n",
    "\n",
    "El protocolo de comunicaciones HTTP soporta el funcionamiento de las API REST. Para las diferentes funcionalidades\n",
    "que puede ofrecer un recurso, se basa en los métodos disponibles del protocolo HTTP:\n",
    "\n",
    "* **GET** para consultar y obtener información de los usuarios y las usuarias.\n",
    "* **POST** para crear un nuevo usuario o una nueva usuaria.\n",
    "* **PUT** para editar o actualizar usuarios y usuarias.\n",
    "* **DELETE** para eliminar usuarios y usuarias.\n",
    "* **PATCH** para editar partes de un recurso como, por ejemplo, un conjunto de atributos.\n",
    "\n",
    "Así, por ejemplo, para crear un recurso basado en el ejemplo anterior, dispondríamos de las siguientes acciones:\n",
    "* `GET /users`, que nos permite obtener al listado de usuarios y usuarias.\n",
    "* `GET / users /1`, que nos permite obtener la información del usuario o usuaria con identificador 1.\n",
    "* `POST /users /?id=1`, que nos permite crear un nuevo usuario o usuaria con identificador (id) 1.\n",
    "* `DELETE /users /1`, que nos permite eliminar al usuario o usuaria con identificador (id) 1."
   ]
  },
  {
   "cell_type": "markdown",
   "id": "39b57e80-7ccc-437b-8e94-f0daab27e3c2",
   "metadata": {},
   "source": [
    "#### Gestión de códigos de estado (definición)\n",
    "\n",
    "Existen diferentes maneras de definir los códigos de estado en un sistema REST. El régimen general se basa en los del protocolo HTTP. [**Lista de códigos de estado HTTP.**](https://es.wikipedia.org/wiki/Anexo:C%C3%B3digos_de_estado_HTTP)\n",
    "\n"
   ]
  },
  {
   "cell_type": "markdown",
   "id": "82e26dff-4fa6-4ded-a78e-6e28952e4666",
   "metadata": {},
   "source": [
    "###  3.2.2 - GraphQL"
   ]
  },
  {
   "cell_type": "markdown",
   "id": "b5802b84-452f-4f59-83fd-8ab7dab19b56",
   "metadata": {},
   "source": [
    "[**GraphQL**](https://graphql.org/) es un lenguaje de consultas (Query Language) similar a [PL-SQL](https://www.oracle.com/es/database/technologies/appdev/plsql.html) que permite la generación de consultas\n",
    "específicas sobre los datos.\n",
    "\n",
    "**Este sistema está basado en consultas complejas que no siguen un patrón definido por recursos**. \n",
    "\n",
    "La creación de las API mediante GraphQL ofrece acceso a la descripción de los datos, permitiendo realizar consultas específicas sobre estos y, por tanto, minimizar la cantidad de información superflua en las consultas. De este modo, se facilita el acceso a los datos al proporcionar una mayor capacidad a los desarrolladores y las desarrolladoras.\n",
    "\n",
    "<table>\n",
    "    <tr>\n",
    "        <td><img src=\"images_3/graphql.png\" width=\"600\" data-align=\"center\"></td>\n",
    "    </tr> \n",
    "</table>\n",
    "\n",
    "Este sistema de construcción de las API no es tan común a la hora de desplegar modelos, pero **podría ser una\n",
    "alternativa en caso de contar con múltiples modelos similares**."
   ]
  },
  {
   "cell_type": "markdown",
   "id": "8be6f123-119a-4d62-9750-baf9da21cfb8",
   "metadata": {},
   "source": [
    "### 3.2.3 - Construyendo una API de tipo REST"
   ]
  },
  {
   "cell_type": "code",
   "execution_count": null,
   "id": "5cc7d443-a91d-4405-a2dd-608c7377d49c",
   "metadata": {},
   "outputs": [],
   "source": []
  },
  {
   "cell_type": "markdown",
   "id": "3bdb418f-dcc6-4f8d-be80-afd7f0f91a35",
   "metadata": {},
   "source": [
    "## 3.3 - Despliegue de modelos mediante operaciones"
   ]
  },
  {
   "cell_type": "markdown",
   "id": "b3c74577-71eb-48f8-9150-42190d95ee19",
   "metadata": {},
   "source": [
    "El proceso de productivización de modelos es más complejo de lo que comúnmente se cree. Para poder productivizar un modelo, es decir, para ponerlo\n",
    "en producción de cara a su uso, resulta necesario desplegar un amplio número de sistemas y servicios entre los cuales el proceso de entrenamiento suele ser el más sencillo (desde un punto de vista de ingenieria).\n",
    "\n",
    "<table>\n",
    "    <tr>\n",
    "        <td><img src=\"images_3/mlops_1.jpg\" width=\"600\" data-align=\"center\"></td>\n",
    "    </tr> \n",
    "</table>\n",
    "\n",
    "Los sistemas basados en Machine Learning o Deep Learning poseen la denominada **“deuda técnica oculta”** derivada\n",
    "del elevado número de componentes que se requieren para ponerlos en producción de manera correcta. De este modo, el proceso de automatización de la productivización de modelos de razonamiento resulta aún más complicado dada la **gran cantidad de sistemas que deben ser orquestados y los diferentes componentes que han de ejecutarse para entrenar y desplegar los modelos.**\n",
    "\n",
    "Para poder automatizar todos los procesos u operaciones que forman parte del ciclo de vida de los modelos,\n",
    "surgieron las denominadas ***Machine Learning Operations* (MLOps)**, que intentaban paliar las deficiencias que\n",
    "presentaban dichos procesos en el software tradicional basado en el modelo **DevOps**, donde se automatiza\n",
    "todo el proceso de compilación, evaluación y despliegue de manera automática:\n",
    "\n",
    "<table>\n",
    "    <tr>\n",
    "        <td><img src=\"images_3/mlops_2.jpg\" width=\"400\" data-align=\"center\"></td>\n",
    "    </tr> \n",
    "</table>\n",
    "\n",
    "Este proceso de automatización del ciclo de vida de las aplicaciones tradicionales no era suficiente para cubrir\n",
    "las necesidades del ciclo de vida de las aplicaciones basadas en Machine Learning, ya que **no incluían los procesos relacionados con los datos que se utilizaban para construir y evaluar los modelos de razonamiento o con los propios modelos**. Además, era necesario automatizar tanto el código del software para el procesamiento y la\n",
    "transformación de los datos como el código para el entrenamiento, el despliegue y la monitorización de los modelos.\n",
    "\n",
    "<table>\n",
    "    <tr>\n",
    "        <td><img src=\"images_3/mlops_3.jpg\" width=\"420\" data-align=\"center\"></td>\n",
    "    </tr> \n",
    "</table>\n",
    "\n",
    "Las aplicaciones software basadas en Machine Learning poseen tres componentes básicos (código, datos y modelos). En consecuencia, es necesario incluir operaciones relacionadas con los siguientes procesos:\n",
    "\n",
    "* Datos (preparación, análisis y tratamiento).\n",
    "* Validación de datos.\n",
    "* Entrenamiento.\n",
    "* Validación del modelo.\n",
    "* Empaquetado del modelo.\n",
    "* Entrega (despliegue) del modelo.\n",
    "* Monitorización del modelo.\n",
    "\n",
    "Para poder incluir estas nuevas operaciones, fue necesario añadir un nuevo ciclo dentro del ciclo de DevOps,\n",
    "dando lugar a lo que se conoce como el **ciclo MLOps**:\n",
    "\n",
    "<table>\n",
    "    <tr>\n",
    "        <td><img src=\"images_3/mlops_4.jpg\" width=\"550\" data-align=\"center\"></td>\n",
    "    </tr> \n",
    "</table>\n",
    "\n",
    "En este nuevo ciclo, además de las operaciones tradicionales del ciclo DevOps, se incluyen cinco nuevas operaciones relacionadas con los procesos de ML:\n",
    "\n",
    "* **Entrenamiento**. Esta fase se corresponde con todas las operaciones de extracción (preparación de datos), transformación, limpieza y ejecución del proceso de entrenamiento de manera reproducible. \n",
    "\n",
    "* **Empaquetado**. Se corresponde con la creación de un paquete desplegable para llevar a cabo el proceso de inferencia. Este paquete debe incorporar todo el software necesario para la correcta ejecución del modelo.\n",
    "\n",
    "* **Evaluación**. Esta fase se corresponde con la evaluación del funcionamiento del modelo (inferencia) utilizando el conjunto de test a nivel funcional y de acceso.\n",
    "\n",
    "* **Despliegue (inferencia)**. Se corresponde con el despliegue del paquete en el entorno de ejecución (cloud, edge) para su uso en tiempo real, en streaming o en batch (inferencia). \n",
    "\n",
    "* **Monitorización**. Se corresponde con el despliegue y con el proceso de monitorización de toda la información del modelo a nivel de comportamiento y negocio."
   ]
  },
  {
   "cell_type": "markdown",
   "id": "3d7f37cb-15d5-4f6e-9b4e-d2a91c4d2b83",
   "metadata": {},
   "source": [
    "### 3.3.1 - Niveles de automatización"
   ]
  },
  {
   "cell_type": "markdown",
   "id": "c26b482a-f13e-4881-a0a5-bf89073c9e2e",
   "metadata": {},
   "source": [
    "Un sistema puede estar mas o menos automatizado **dependiendo del nivel automatización de las diferentes operaciones descritas anteriormente en base a tres características principales**:\n",
    "\n",
    "* **Integración continua (IC)**. Este proceso implica la comprobación de todos los componentes involucrados en el proceso de entrenamiento y despliegue del modelo:\n",
    "    - Comprobar y validar el código fuente y los componentes.\n",
    "    - Comprobar y validar los datos utilizados durante el proceso de entrenamiento.\n",
    "    - Comprobar y validar los modelos.\n",
    "<br></br>\n",
    "* **Entrega continua (EC)**. El proceso de entrega es mucho más complejo que en los sistemas de generación de software tradicionales, donde solo se debe entregar un paquete de software, pues, en este caso, han de entregarse diferentes elementos:\n",
    "    - Modelo que se genera a través de una canalización de entrenamiento.\n",
    "    - Servicio que debe desplegar el modelo mediante un sistema de entrega fiable.\n",
    "<br></br>\n",
    "* **Entrenamiento incremental (EI)**. Se trata del proceso de mejora continua del modelo basado en aprendizaje automático. Las aplicaciones software fundamentadas en ML deben permitir mejorar de manera incremental los modelos creados previamente ejecutando de nuevo procesos de entrenamiento con información parcial y manteniendo todo lo aprendido en las iteraciones previas.\n",
    "\n",
    "**Dependiendo de cómo se apliquen estas tres características sobre las diferentes operaciones del ciclo de vida\n",
    "de los modelos, podremos identificar diferentes niveles de automatización.**"
   ]
  },
  {
   "cell_type": "markdown",
   "id": "e76465e4-cd19-45d8-afbe-4d83caa5bbcf",
   "metadata": {},
   "source": [
    "#### Nivel de automatización 0\n",
    "\n",
    "El nivel de automatización 0, el más básico de todos, **constituye un proceso manual, interactivo y controlado\n",
    "por medio de secuencias de comandos** ejecutadas por el equipo científico de datos o por el de ingeniería de\n",
    "aprendizaje automático.\n",
    "\n",
    "Cada parte del proceso se ejecuta de forma manual, de manera que el equipo de ingeniería que ejecuta la fase de entrenamiento (preparación, entrenamiento y evaluación) entrega manualmente el modelo al equipo de ingeniería de operaciones, que se encarga de realizar el despliegue, generalmente también de manera manual.\n",
    "\n",
    "<table>\n",
    "    <tr>\n",
    "        <td><img src=\"images_3/auto_1.png\" width=\"800\" data-align=\"center\"></td>\n",
    "    </tr> \n",
    "</table>\n",
    "\n",
    "Se pueden identificar las siguientes características del nivel:\n",
    "* Ejecución manual de cada paso (operación).\n",
    "* Desconexión entre las fases de entrenamiento y despliegue.\n",
    "* Bajo nivel de actualización (no hay versionado de modelos).\n",
    "* No existe integración continua (IC).\n",
    "* No existe entrega continua (EC).\n",
    "* Registro de modelos (no suele existir).\n",
    "* No existe monitorización.\n",
    "* No se almacenan metadatos.\n",
    "\n",
    "En ocasiones, en este nivel existen pequeños procesos de automatización dentro de algunos de los procesos, pero estos últimos son ejecutados de manera manual. **Este nivel de automatización es el más extendido actualmente a nivel comercial e industrial.**"
   ]
  },
  {
   "cell_type": "markdown",
   "id": "e8b5bfb6-e8bd-4a19-9acf-bfa7f738fdf7",
   "metadata": {},
   "source": [
    "#### Nivel de automatización 1\n",
    "\n",
    "<table>\n",
    "    <tr>\n",
    "        <td><img src=\"images_3/auto_2.jpg\" width=\"900\" data-align=\"center\"></td>\n",
    "    </tr> \n",
    "</table>"
   ]
  },
  {
   "cell_type": "markdown",
   "id": "438b71eb-31ba-4040-ae56-4ce5693d296f",
   "metadata": {},
   "source": [
    "#### Nivel de automatización 2\n",
    "\n",
    "<table>\n",
    "    <tr>\n",
    "        <td><img src=\"images_3/auto_3.jpg\" width=\"900\" data-align=\"center\"></td>\n",
    "    </tr> \n",
    "</table>"
   ]
  },
  {
   "cell_type": "markdown",
   "id": "7032f23f-a2ef-466e-8c51-a383cac63e49",
   "metadata": {
    "tags": []
   },
   "source": [
    "### 3.3.2 - Tecnologías"
   ]
  },
  {
   "cell_type": "markdown",
   "id": "43ff3d8c-7d7e-4815-bd82-be1c1be66d0e",
   "metadata": {},
   "source": [
    "## 3.4 - Despliegue de modelos en dispositivos"
   ]
  },
  {
   "cell_type": "markdown",
   "id": "3586580d-a771-4f15-9a3f-fa82dd4ac3db",
   "metadata": {},
   "source": [
    "### 3.4.1 - Construcción de modelos Lite"
   ]
  }
 ],
 "metadata": {
  "kernelspec": {
   "display_name": "Python 3 (ipykernel)",
   "language": "python",
   "name": "python3"
  },
  "language_info": {
   "codemirror_mode": {
    "name": "ipython",
    "version": 3
   },
   "file_extension": ".py",
   "mimetype": "text/x-python",
   "name": "python",
   "nbconvert_exporter": "python",
   "pygments_lexer": "ipython3",
   "version": "3.9.15"
  }
 },
 "nbformat": 4,
 "nbformat_minor": 5
}
