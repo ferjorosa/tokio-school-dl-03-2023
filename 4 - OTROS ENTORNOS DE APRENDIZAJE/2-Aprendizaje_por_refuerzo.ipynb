{
 "cells": [
  {
   "cell_type": "markdown",
   "id": "48ea1445-9262-4923-942b-f88674cbb3c4",
   "metadata": {},
   "source": [
    "# 2 - Redes recurrentes orientadas al procesamiento de lenguaje natural\n",
    "\n",
    "**Sumario**\n",
    "\n",
    "1. Introducción\n",
    "2. Aprendizaje por refuerzo\n",
    "3. Deep Reinforcement Learning\n",
    "4. Construyendo un agente mediante una red DQNN"
   ]
  },
  {
   "cell_type": "markdown",
   "id": "dc605d89-89c6-4ed6-ad6b-d2c879b72b94",
   "metadata": {},
   "source": [
    "## 2.1 - Introducción"
   ]
  },
  {
   "cell_type": "markdown",
   "id": "d5e9f807-cd18-4874-87eb-bedcdb149e3a",
   "metadata": {},
   "source": [
    "## 2.2 - Aprendizaje por refuerzo"
   ]
  },
  {
   "cell_type": "markdown",
   "id": "24a632c9-7c06-49df-a12b-c4f9ae38b94f",
   "metadata": {},
   "source": [
    "### 2.2.1 - Cadena de Markov"
   ]
  },
  {
   "cell_type": "markdown",
   "id": "d8edb3fe-d482-4eef-ab02-3b598ccfa1e9",
   "metadata": {},
   "source": [
    "### 2.2.2 - Proceso de decisión de Markov"
   ]
  },
  {
   "cell_type": "markdown",
   "id": "52d51124-05ef-47c2-b5d8-fd5261c9e2a5",
   "metadata": {},
   "source": [
    "### 2.2.3 - Funciones de valor"
   ]
  },
  {
   "cell_type": "markdown",
   "id": "962d177b-635f-45ec-a83d-42820ede752d",
   "metadata": {},
   "source": [
    "### 2.2.4 - Función de Bellman"
   ]
  },
  {
   "cell_type": "markdown",
   "id": "9f3332ec-27f1-4ee9-a831-09648f424d17",
   "metadata": {},
   "source": [
    "### 2.2.5 - Algoritmos tradicionales"
   ]
  },
  {
   "cell_type": "markdown",
   "id": "1af8884d-7773-419f-a776-55c05f3c0ab2",
   "metadata": {},
   "source": [
    "### 2.2.6 - Algoritmos basados en tablas"
   ]
  },
  {
   "cell_type": "markdown",
   "id": "74ffd42d-9f0a-47f9-8d98-527182349b3a",
   "metadata": {},
   "source": [
    "## 2.3 - Deep Reinforcement Learning"
   ]
  },
  {
   "cell_type": "markdown",
   "id": "ecb910ed-f74f-413e-8e10-3d0dfc5927c8",
   "metadata": {},
   "source": [
    "## 2.4 - Construyendo un agente mediante una red DQNN"
   ]
  },
  {
   "cell_type": "markdown",
   "id": "b54613f5-0914-48ad-bd32-f78742f4d45e",
   "metadata": {},
   "source": [
    "### 2.4.1 - Importación de librerías"
   ]
  },
  {
   "cell_type": "markdown",
   "id": "215f72c4-46f0-4b9b-9030-02b1a0a9ff95",
   "metadata": {},
   "source": [
    "### 2.4.2 - Construcción del agente"
   ]
  },
  {
   "cell_type": "markdown",
   "id": "a8e45b49-5ef2-4c08-bd3c-e5e957af5bec",
   "metadata": {},
   "source": [
    "### 2.4.3 - Construcción del método `main()`"
   ]
  }
 ],
 "metadata": {
  "kernelspec": {
   "display_name": "Python 3 (ipykernel)",
   "language": "python",
   "name": "python3"
  },
  "language_info": {
   "codemirror_mode": {
    "name": "ipython",
    "version": 3
   },
   "file_extension": ".py",
   "mimetype": "text/x-python",
   "name": "python",
   "nbconvert_exporter": "python",
   "pygments_lexer": "ipython3",
   "version": "3.10.4"
  }
 },
 "nbformat": 4,
 "nbformat_minor": 5
}
