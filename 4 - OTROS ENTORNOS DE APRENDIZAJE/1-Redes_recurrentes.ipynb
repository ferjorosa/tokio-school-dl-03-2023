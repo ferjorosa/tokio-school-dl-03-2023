{
 "cells": [
  {
   "cell_type": "markdown",
   "id": "bad60f56-bf1c-4745-9619-dc3cfd2134d7",
   "metadata": {},
   "source": [
    "# 1 - Redes recurrentes orientadas al procesamiento de lenguaje natural\n",
    "\n",
    "**Sumario**\n",
    "\n",
    "1. Introducción\n",
    "2. Procesamiento de lenguaje natural\n",
    "3. Redes neuronales recurrentes (RNN)\n",
    "4. Encoders - Decoders\n",
    "5. Modelos de atención\n",
    "6. Transformers\n",
    "7. Construcción de una red recurrente"
   ]
  },
  {
   "cell_type": "markdown",
   "id": "46b7064e-f1ce-4b06-8a65-b9cd7f5d1c02",
   "metadata": {},
   "source": [
    "## 1.1 - Introducción"
   ]
  },
  {
   "cell_type": "markdown",
   "id": "4da7eb49-ff34-4b9f-9a75-470eb48c5fb9",
   "metadata": {},
   "source": [
    "## 1.2 - Procesamiento de lenguaje natural"
   ]
  },
  {
   "cell_type": "markdown",
   "id": "24fe4bba-e31d-45af-a09d-9e83aabd15ca",
   "metadata": {},
   "source": [
    "### 1.2.1 - Bags of words"
   ]
  },
  {
   "cell_type": "markdown",
   "id": "90311c11-76b3-4d53-9c9c-8a5ac1e8f267",
   "metadata": {},
   "source": [
    "### 1.2.2 - Embeddings"
   ]
  },
  {
   "cell_type": "markdown",
   "id": "939da059-e2e8-456f-a3c4-e3f23a6579e5",
   "metadata": {},
   "source": [
    "## 1.3 - Redes neuronales recurrentes"
   ]
  },
  {
   "cell_type": "markdown",
   "id": "cc36f381-aad2-4632-a290-422958a4ebaf",
   "metadata": {},
   "source": [
    "### 1.3.1 - Redes recurrentes simples"
   ]
  },
  {
   "cell_type": "markdown",
   "id": "524ae447-b270-40b0-8376-db1177c895de",
   "metadata": {},
   "source": [
    "### 1.3.2 - Redes recurrentes complejas"
   ]
  },
  {
   "cell_type": "markdown",
   "id": "9349e7e8-67e9-41c5-8896-9de1505b436a",
   "metadata": {},
   "source": [
    "## 1.4 - Encoders-Decoders"
   ]
  },
  {
   "cell_type": "markdown",
   "id": "a50f15d6-b0b6-48f6-945e-c5f35d0051b0",
   "metadata": {},
   "source": [
    "## 1.5 - Modelos de atención"
   ]
  },
  {
   "cell_type": "markdown",
   "id": "302050c3-18f8-4d92-b6f8-1d9813fba0cd",
   "metadata": {},
   "source": [
    "## 1.6 - Transformers"
   ]
  },
  {
   "cell_type": "markdown",
   "id": "32ee8923-ac86-4452-96b6-f5eb33145a9f",
   "metadata": {},
   "source": [
    "## 1.7 - Construcción de una red recurrente"
   ]
  },
  {
   "cell_type": "markdown",
   "id": "feaa3c7e-7d47-4329-b77c-32142b7021bf",
   "metadata": {},
   "source": [
    "### 1.7.1 - Importación de la librería"
   ]
  },
  {
   "cell_type": "markdown",
   "id": "bfe53283-d891-44ef-aa68-3bab6d5fad3d",
   "metadata": {
    "jp-MarkdownHeadingCollapsed": true,
    "tags": []
   },
   "source": [
    "### 1.7.2 - Carga de datos"
   ]
  },
  {
   "cell_type": "markdown",
   "id": "a5e5811f-3ecc-4bf9-a5d8-65038b8d55ed",
   "metadata": {},
   "source": [
    "### 1.7.3 - Preparación del sistema de codificación de palabras"
   ]
  },
  {
   "cell_type": "markdown",
   "id": "caee69c8-02a4-4fff-9e68-0f31f245c372",
   "metadata": {},
   "source": [
    "### 1.7.4 - Creación de la red recurrente"
   ]
  },
  {
   "cell_type": "markdown",
   "id": "fa390f29-f39a-460e-976f-cd1fcd75af00",
   "metadata": {},
   "source": [
    "### 1.7.5 - Entrenamiento"
   ]
  },
  {
   "cell_type": "markdown",
   "id": "b0c59f62-e68f-4a7d-883e-1a18a9d10ad8",
   "metadata": {},
   "source": [
    "### 1.7.6 - Prueba del modelo"
   ]
  }
 ],
 "metadata": {
  "kernelspec": {
   "display_name": "Python 3 (ipykernel)",
   "language": "python",
   "name": "python3"
  },
  "language_info": {
   "codemirror_mode": {
    "name": "ipython",
    "version": 3
   },
   "file_extension": ".py",
   "mimetype": "text/x-python",
   "name": "python",
   "nbconvert_exporter": "python",
   "pygments_lexer": "ipython3",
   "version": "3.10.4"
  }
 },
 "nbformat": 4,
 "nbformat_minor": 5
}
