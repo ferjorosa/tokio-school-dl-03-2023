{
 "cells": [
  {
   "cell_type": "markdown",
   "id": "f7dccb78-7f08-4998-9ee9-e7ac92acf2dd",
   "metadata": {},
   "source": [
    "# 3 - Despliegue de modelos\n",
    "\n",
    "**Sumario**\n",
    "\n",
    "1. Introducción\n",
    "2. Despliegue de modelos mediante apificación\n",
    "3. Despliegue de modelos mediante operaciones\n",
    "4. Despliegue de modelos en dispositivos"
   ]
  },
  {
   "cell_type": "markdown",
   "id": "a75b65a9-94cb-429b-aba6-6dd3ad1388a2",
   "metadata": {},
   "source": [
    "## 3.1 - Introducción"
   ]
  },
  {
   "cell_type": "markdown",
   "id": "01b9bafb-01ef-40c0-a90d-95874de3f04d",
   "metadata": {},
   "source": [
    "## 3.2 - Despliegue de modelos mediante apificación"
   ]
  },
  {
   "cell_type": "markdown",
   "id": "c973c7f8-109d-41f4-921a-4ba56f24a65c",
   "metadata": {},
   "source": [
    "### 3.2.1 - Construcción de las API"
   ]
  },
  {
   "cell_type": "markdown",
   "id": "8be6f123-119a-4d62-9750-baf9da21cfb8",
   "metadata": {},
   "source": [
    "### 3.2.2 - Construyendo una API de tipo REST"
   ]
  },
  {
   "cell_type": "markdown",
   "id": "3bdb418f-dcc6-4f8d-be80-afd7f0f91a35",
   "metadata": {},
   "source": [
    "## 3.3 - Despliegue de modelos mediante operaciones"
   ]
  },
  {
   "cell_type": "markdown",
   "id": "3d7f37cb-15d5-4f6e-9b4e-d2a91c4d2b83",
   "metadata": {},
   "source": [
    "### 3.3.1 - Niveles de automatización"
   ]
  },
  {
   "cell_type": "markdown",
   "id": "7032f23f-a2ef-466e-8c51-a383cac63e49",
   "metadata": {
    "tags": []
   },
   "source": [
    "### 3.3.2 - Tecnologías"
   ]
  },
  {
   "cell_type": "markdown",
   "id": "43ff3d8c-7d7e-4815-bd82-be1c1be66d0e",
   "metadata": {},
   "source": [
    "## 3.4 - Despliegue de modelos en dispositivos"
   ]
  },
  {
   "cell_type": "markdown",
   "id": "3586580d-a771-4f15-9a3f-fa82dd4ac3db",
   "metadata": {},
   "source": [
    "### 3.4.1 - Construcción de modelos Lite"
   ]
  }
 ],
 "metadata": {
  "kernelspec": {
   "display_name": "Python 3 (ipykernel)",
   "language": "python",
   "name": "python3"
  },
  "language_info": {
   "codemirror_mode": {
    "name": "ipython",
    "version": 3
   },
   "file_extension": ".py",
   "mimetype": "text/x-python",
   "name": "python",
   "nbconvert_exporter": "python",
   "pygments_lexer": "ipython3",
   "version": "3.10.4"
  }
 },
 "nbformat": 4,
 "nbformat_minor": 5
}
