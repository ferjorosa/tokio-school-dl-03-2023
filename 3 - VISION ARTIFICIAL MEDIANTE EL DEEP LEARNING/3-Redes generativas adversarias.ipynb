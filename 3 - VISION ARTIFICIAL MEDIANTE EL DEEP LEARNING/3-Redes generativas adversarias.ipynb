{
 "cells": [
  {
   "cell_type": "markdown",
   "id": "c51e7960-83af-4a13-8203-05688ec3cf12",
   "metadata": {},
   "source": [
    "# 3 - Redes generativas adversarias (GANs)\n",
    "\n",
    "**Sumario**\n",
    "\n",
    "1. Introducción\n",
    "2. Redes generativas adversarias (GANs)\n",
    "3. Construcción de una Deep GAN (DGAN)\n",
    "4. Diferentes tipos de GANs"
   ]
  },
  {
   "cell_type": "markdown",
   "id": "0cab743d-488f-4978-9925-bfda0e00fa06",
   "metadata": {},
   "source": [
    "## 3.1 - Introducción"
   ]
  },
  {
   "cell_type": "markdown",
   "id": "90e7faa0-8c3c-4c1c-9fab-61e57bb1a0d3",
   "metadata": {},
   "source": [
    "En 2014, un estudiante de doctorado de la Universidad de Montreal llamado Ian Goodfellow presentó las denominadas redes generativas adversarias (Generative Adversarial Networks, GAN por sus siglas en inglés). Mediante esta técnica se abrió camino a tareas que hasta ese momento se habian considerado practicamente imposibles:\n",
    "\n",
    "* Generar imágenes falsas con una calidad similar al mundo real\n",
    "* Convertir un garabato en una imagen similar a una fotografía\n",
    "* Transformar imagenes de un video de un caballo galopando en una cebra\n",
    "* etc.\n",
    "\n",
    "En 2014, cuando apareció la primera versión de las GANs, lo más avanzado que podían llegar a producir los modelos construidos mediante este tipo de redes era un semblante borroso pero, incluso esto, fue definido como un éxito revolucionario dado que nada de ese calibre era posible en ese momento.\n",
    "\n",
    "<img src=\"images_3/caras.png\" width=\"500\" data-align=\"center\">\n",
    "\n",
    "Sin embargo, solo tres años más tarde de su creación, en 2017, las GANs ya podian sintetizar caras falsas cuya calidad rivalizaba con imágenes de alta resolución. Actualmente, es posible generar imágenes totalmente realistas donde resulta practicamente imposible discernir su veracidad.\n",
    "\n",
    "A lo largo de este capítulo, describiremos los conceptos básicos asociados a las GANs y examinaremos de manera detallada sus componentes, el proceso de aprendizaje que emplean y sus diferentes tipos. Asimismo, **veremos cómo construir una GAN destinada a producir dígitos manuscritos**."
   ]
  },
  {
   "cell_type": "markdown",
   "id": "4157f01b-c450-44ad-a578-26e265a4ac44",
   "metadata": {},
   "source": [
    "## 3.2 - Redes generativas adversarias"
   ]
  },
  {
   "cell_type": "markdown",
   "id": "c14bf80d-da78-4e08-bdc6-2311a939ec64",
   "metadata": {},
   "source": [
    "En las GANs se combinan dos procesos:\n",
    "\n",
    "* **Proceso discriminativo**, que consiste en utilizar técnicas de **aprendizaje supervisado** para construir modelos capaces de distinguir entre varias clases o etiquetas.\n",
    "\n",
    "* **Proceso generativo**, que consiste en utilizar técnicas de **aprendizaje no supervisados** para construir modelos capaces de ejemplos de diferentes clases o etiquetas.\n",
    "\n",
    "<img src=\"images_3/procesos_gan.png\" width=\"500\" data-align=\"center\">\n",
    "\n",
    "La arquitectura de las GANs consiste en una combinación de varios modelos que, generalmente, se construyen mediante redes de neuronas de tipo profundo entrenadas simultáneamente:\n",
    "\n",
    "* Un **modelo generador**, el cual se entrena para generar datos falsos.\n",
    "* Un **modelo discriminador**, el cual se entrena para discernir si los datos son ejemplos reales o falsos.\n",
    "\n",
    "Con todo esto, el nombre \"Red Generativa Adversaria\" permite entrever su estructura básica de funcionamiento:\n",
    "\n",
    "* El término **\"generativa\"** indica el propóstio general del modelo, que consiste en crear nuevos datos a partir de la información de entrenamiento.\n",
    "\n",
    "* El término **\"adversaria\"** apunta a la dinámica competitiva del proceso de entrenamiento, es decir, los modelos compiten entre sí para conseguir ganar el juego de generación-detección.\n",
    "\n",
    "Este tipo de redes \"compuestas\" se pueden construir utilizando cualqueira de los modelos que hemos descrito en los capitulos anteriores, desde simples redes neuronales de clasificación pasando por convolucionales, hasta variantes más complejas como las redes recurrentes que veremos más adelante,"
   ]
  },
  {
   "cell_type": "markdown",
   "id": "63dbba15-7bdb-41f9-8abe-ea44f7a83350",
   "metadata": {},
   "source": [
    "### 3.2.1 - Estructura lógica de la red GAN"
   ]
  },
  {
   "cell_type": "markdown",
   "id": "b3dc3ba5-11d1-4bcc-a432-e0ed9c2531c0",
   "metadata": {},
   "source": [
    "Como ya hemos señalado, la estructura de una red o \"metared\" GAN se una combinación de dos redes neuronales, una generadora y otra discriminadora.\n",
    "\n",
    "* El **objetivo del modelo generador** es producir ejemplos que capturen las características de los ejemplos de entrenamiento utilizados por el modelo discriminador de manera que aquellos geneados sean indistinguibles de los datos de entrenamiento. \n",
    "\n",
    "* **El objetivo del modelo discriminador**, por su parte, es determinar si un ejemplo en particular es real (procedente del conjunto de datos de entrenamiento) o artificial (creado por el generador).\n",
    "\n",
    "Podemos describir cada uno de los componentes de una red GAN en base a su entrada y salida:\n"
   ]
  },
  {
   "cell_type": "markdown",
   "id": "955063cb-6e81-4c8d-a6df-e06b3a4cc9e5",
   "metadata": {},
   "source": [
    "#### Red generadora\n",
    "\n",
    "* **Entrada**. Dos tipos de valores de entrada representados como un vector finito:\n",
    "    1. Ejemplos construidos mediante valores aleatorios (ruido), normalmente generados mediante una distribución gaussiana.\n",
    "    2. Ejemplos sobre los que se quiere realizar una transformación o adaptación.\n",
    "    <br></br>\n",
    "* **Salida**. Ejemplos con un formato idéntico al de los incluidos en el conjunto de entrenamiento."
   ]
  },
  {
   "cell_type": "markdown",
   "id": "71a59b76-129d-42b3-9bab-72dd346e6b1a",
   "metadata": {},
   "source": [
    "#### Red discriminadora\n",
    "\n",
    "* **Entrada**. Utiliza siempre dos fuentes de datos diferentes:\n",
    "    1. Ejemplos artificiales creados por el modelo generador.\n",
    "    2. Ejemplos reales que proceden del conjunto de entrenamiento.\n",
    "    <br></br>\n",
    "* **Salida**. La probabilidad de que un ejemplo sea real o no (real = 1.0)."
   ]
  },
  {
   "cell_type": "markdown",
   "id": "01e68ef6-c2c7-4c6a-98f4-b7562cc922e9",
   "metadata": {},
   "source": [
    "### 3.2.2 - Funcionamiento de una red GAN"
   ]
  },
  {
   "cell_type": "markdown",
   "id": "1588f6fd-5853-4db8-b083-6b59be0d2f62",
   "metadata": {},
   "source": [
    "La estructura básica de una GAN comprende los siguientes componentes:\n",
    "\n",
    "<img src=\"images_3/estructura_gan.png\" width=\"500\" data-align=\"center\">\n",
    "\n",
    "**Conjunto de datos de entrenamiento.** Este conjunto ($X$) se utiliza como entrada de la red discriminadora y es el \"objetivo\" de la red generadora (i.e., debe generar ejemplos similares).\n",
    "\n",
    "**Conjunto de ruido aleatorio.** Este conjunto ($Z$) se utiliza como entrada de la red generadora, se establece mediante algún tipo de distribución (e.g., Gaussiana) y se utiliza como punto de partida para sintetizar ejemplos artificiales.\n",
    "\n",
    "**Red generadora.** Red neuronal profunda que genera los ejemplos artificiales $X^{*}$ a partir del conjunto de ruido $Z$.\n",
    "\n",
    "**Red discriminadora.** Red neuronal profunda que determina la probabilidad de que un ejemplo provenga del conjunto de ejemplos reales $X$ o del conjunto de ejemplos artificiales $X^{*}$.\n",
    "\n",
    "**Error generador.** Es el error de clasificación de los ejemplos artificiales.\n",
    "\n",
    "**Error discriminador.** Es la suma de los errores de clasificación de los ejemplos reales y artificiales.\n",
    "\n",
    "La siguiente animación muestra una serie de imágenes producidas por el generador a medida que fue entrenado durante 50 epochs. Las imágenes comienzan como un ruido aleatorio y, con el tiempo, se parecen cada vez más a dígitos escritos a mano (conjunto de datos MNIST):\n",
    "\n",
    "<img src=\"images_3/dcgan.gif\" width=\"300\" data-align=\"center\">"
   ]
  },
  {
   "cell_type": "markdown",
   "id": "92f706eb-b2f2-4f1d-975a-8bdeb533a5a2",
   "metadata": {},
   "source": [
    "### 3.2.3 - Cálculo de la función de pérdida"
   ]
  },
  {
   "cell_type": "markdown",
   "id": "2e59cf4e-f2a0-4165-a615-c3d57b027b43",
   "metadata": {},
   "source": [
    "Las GANs intentan replicar el funcionamiento de una **distribución de probabilidad** para expresar como de \"reales\" son los ejemplos generados.\n",
    "\n",
    "Para ello, se utilizan funciones de pérdida que reflejan la **distancia** entre la distribución de los ejemplos producidos por la red generadora y la distribución de los ejemplos reales del conjunto de entrenamiento, siendo las más utilizadas las que se describen a continuación:\n",
    "\n",
    "* **Función de pérdida *minimax*.** Es la función de pérdida original introducida en el artículo de Goodfellow (2014). En dicho artículo, la red generadora intenta minimizar la función, mientras que la red discriminadora intenta maximizarla. Esta función se deriva de la [**entropía cruzada**](https://en.wikipedia.org/wiki/Cross_entropy) entre las distribuciones real y artificial.\n",
    "<br></br>\n",
    "$$\n",
    "f(X, X^{*}) = E_{X}[\\log(D(X))] + E_{X^{*}}[\\log(1-D(G(X^{*})))]\n",
    "$$\n",
    "<br></br>\n",
    "    * $D(X)$ es la probabilidad de que un ejemplo de entrenamiento sea real, según el discriminador.\n",
    "    * $D(G(X^{*}))$ es la probabilidad de que un ejemplo artificial producido por el generador sea real, según el discriminador.\n",
    "    * $E_{X}$ es el valor esperado sobre todas las las instancias de datos reales y se debería corresponder con una probabilidad de 1.\n",
    "    * $E_{X^{*}}$ es el valor esperado sobre todas las entradas artificiales creadas por el generador y se corresponderá con una probabilidad de 0.\n",
    "<br></br>\n",
    "\n",
    "    Como se puede observar, el generador únicamente afecta al término $ \\log(1-D(G(X^{*}))) $. De modo que minimizar la pérdida es equivalente a minimizar dicho termino. Esto se corresponde a un juego de suma cero (i.e., solo hay un ganador) donde ambos modelos compiten y la suma de pérdidas debe ser igual a 1.\n",
    "\n",
    "* **Función de pérdida de Wasserstein.** En vez de asignar una probabilidad a cada ejemplo sobre si es real o artificial, se le asigna un valor numérico real que evalua la \"realidad\" de un ejemplo. A nivel conceptual, la idea es la misma, ya que el modelo generador va a intentar asignar a los ejemplos reales un valor muy alto y a los ejemplos artificiales un valor muy bajo (no tienen porque estar comprendidos entre 0 y 1). Sin embargo, se ha observado que ayuda a la convergencia del modelo.\n",
    "\n",
    "    El discriminador intenta maximizar su salida para instancias reales y falsas mediante la siguiente función, la cual se deriva de la [**distancia de Wesserstein**](https://en.wikipedia.org/wiki/Wasserstein_metric):\n",
    "    <br></br>\n",
    "    $$\n",
    "    f(X, X^{*}) = D(X) - D(G(X^{*}))\n",
    "    $$\n",
    "    \n",
    "    El generador por su parte intenta minimizar esa misma función.\n",
    "    * $D(X)$ es la salida de la red discriminadora para una instancia real.\n",
    "    * $D(G(X^{*}))$ es la salida de la red discriminadora para una instancia artificial producida por la red generadora."
   ]
  },
  {
   "cell_type": "markdown",
   "id": "317636c9-dfde-4a3f-90a4-3760b01fe4cc",
   "metadata": {},
   "source": [
    "## 3.3 - Construcción de una Deep GAN (DGAN)"
   ]
  },
  {
   "cell_type": "markdown",
   "id": "a351f777-1362-42e1-bd05-bfe09b04a47d",
   "metadata": {},
   "source": [
    "Tensorflow ofrece algunos componentes para la construcción de GANs por medio de la libreria [**tensorflow/gan**](https://github.com/tensorflow/gan), pero con el objeto de entender correctamente el funcionamiento de este tipo de redes, construiremos los componentes nosotros mismos.\n",
    "\n",
    "Nuestro objetivo es crear **componentes reutilizables**, es decir, que se puedan utilizar tanto con los datos de este captíulo como con otros datos diferentes de un futuro.\n",
    "\n",
    "-----\n",
    "\n",
    "**Nota:** Si bien los componentes son reutilizables para otros datasets, por simplicidad nos vamos a centrar unicamente en imágenes en blanco y negro. [El cambio a color no es muy complicado, recomiendo echarle un ojo al siguiente tutorial](https://pub.towardsai.net/how-to-make-a-gan-to-generate-color-images-33d29f8a79c8). Principalmetnte habría que cambiar el input de la red y las dimensiones internas de los tensores.\n",
    "\n",
    "----"
   ]
  },
  {
   "cell_type": "code",
   "execution_count": 1,
   "id": "0c7c2905-601a-4111-8d8c-1de5f6cb029b",
   "metadata": {},
   "outputs": [],
   "source": [
    "import glob\n",
    "import matplotlib.pyplot as plt\n",
    "import numpy as np\n",
    "import os\n",
    "import PIL\n",
    "import tensorflow as tf\n",
    "from tensorflow import keras\n",
    "from tensorflow.keras import layers\n",
    "import datetime\n",
    "import time\n",
    "from tensorflow.keras.losses import BinaryCrossentropy\n",
    "\n",
    "from IPython import display"
   ]
  },
  {
   "cell_type": "markdown",
   "id": "3152daff-8dc9-4dc4-a5b6-eac2141423d8",
   "metadata": {},
   "source": [
    "### 3.3.1 - Carga de datos"
   ]
  },
  {
   "cell_type": "markdown",
   "id": "2f048906-10f0-4297-8a32-b6eb4a138115",
   "metadata": {},
   "source": [
    "La primera etapa es siempre la carga de datos. En este caso, vamos a utilizar el dataset MNIST, que se corresponde con 60000 imágenes de números manuscritos y se encuentra disponible en la librería Keras.\n",
    "\n",
    "Para la ello, vamos a crear una función de carga con cuatro parámetros:\n",
    "\n",
    "* ***height (int)***, i.e., la altura de la imagen.\n",
    "* ***width (int)***, i.e., la anchura de la imagen.\n",
    "* ***batch_size (int)***, i.e., el tamaño del batch.\n",
    "* ***normalization_value (float)***, i.e., el valor utilizado para la normalización de los valores. Por defecto es 255."
   ]
  },
  {
   "cell_type": "code",
   "execution_count": 2,
   "id": "a8469127-0b6a-4f43-82b4-0ef378ab6405",
   "metadata": {},
   "outputs": [],
   "source": [
    "def generate_dataset(\n",
    "    height: int,\n",
    "    weight: int,\n",
    "    batch_size: int,\n",
    "    normalization_value: float = 255\n",
    "):\n",
    "    # En este caso solo nos interesa la parte de aprendizaje, \n",
    "    # ya que no vamos a utilizar un conjunto de test, aunque \n",
    "    # podriamos combinar ambos para tener más ejemplos de entrenamiento\n",
    "    (train_images, train_labels), (_, _) = keras.datasets.mnist.load_data()\n",
    "    \n",
    "    dataset_size = train_images.shape[0]\n",
    "    \n",
    "    # Cambiamos el tamaño de las imágenes (en caso de que sea necesario)\n",
    "    train_images = train_images.reshape(\n",
    "        dataset_size,\n",
    "        height,\n",
    "        width,\n",
    "        1\n",
    "    ).astype(\"float32\")\n",
    "    \n",
    "    # Normalizamos los valores de las imágenes\n",
    "    train_images = train_images / normalization_value\n",
    "    \n",
    "    # Creamos un Dataset,  barajamos las imágenes aleatoriamente y lo dividimos según el batch size\n",
    "    train = tf.data.Dataset.from_tensor_slices(train_images).shuffle(dataset_size).batch(batch_size)\n",
    "    \n",
    "    return train, train_labels"
   ]
  },
  {
   "cell_type": "markdown",
   "id": "d330f128-4d56-4d00-ab5f-e92eeaaa97b1",
   "metadata": {},
   "source": [
    "### 3.3.2 - Construcción de la red generadora"
   ]
  },
  {
   "cell_type": "markdown",
   "id": "e24497d3-95ad-4969-9e0a-915c3f2eff90",
   "metadata": {},
   "source": [
    "Seguidamente, podemos comenzar a crear la primera de las redes neuronales necesarias para nuestra \"metared\" GAN. En este caso, vamos a crear el generador.\n",
    "\n",
    "La red del generador contará con un total de 11 capas. A continuación se describen los diferentes tipos de capas utilizadas:\n",
    "\n",
    "* **Full-connected** (i.e., `layers.Dense`).\n",
    "* **Reshape** (i.e., `layers.Reshape`).\n",
    "* **Transposición** (i.e., `layers.Conv2DTranspose`). Capa de sobremuestreo que produce una imagen a partir de una semilla (ruido aleatorio).\n",
    "* **Leaky ReLU** (i.e., `layers.LeakyReLU`)\n",
    "* **Normalización batch** (i.e., `layers.BatchNormalization`).\n",
    "\n",
    "Para la definición de esta red, vamos a crear una función denominada `build_generator_model` que estará formada po cuatro parámetros de entrada:\n",
    "\n",
    "* ***name (string)***, i.e., el identificador del modelo.\n",
    "* ***height (int)***, i.e., la altura de la imagen.\n",
    "* ***width (int)***, i.e., la anchura de la imagen.\n",
    "* ***dims (int)***, i.e., número de canales de la imagen. En este ejemplo vamos a trabajar con imágenes monocromáticas (blanco y negro), así que solo contaremos con un canal."
   ]
  },
  {
   "cell_type": "code",
   "execution_count": 3,
   "id": "754c7d1a-e750-4e82-8f85-a286c19e57d8",
   "metadata": {},
   "outputs": [],
   "source": [
    "def build_generator_model(\n",
    "    name: str,\n",
    "    height: int,\n",
    "    width: int,\n",
    "):\n",
    "    model = keras.Sequential()\n",
    "    model.add(layers.Dense(7*7*256, \n",
    "                           use_bias=False, \n",
    "                           input_shape=(height*width,)))\n",
    "    model.add(layers.BatchNormalization())\n",
    "    model.add(layers.LeakyReLU())\n",
    "    \n",
    "    model.add(layers.Reshape((7, 7, 256)))\n",
    "    assert model.output_shape == (None, 7, 7, 256)  # Nota: \"None\" corresponde al batch size\n",
    "    \n",
    "    model.add(layers.Conv2DTranspose(128, (5, 5), strides=(1, 1), padding='same', use_bias=False))\n",
    "    assert model.output_shape == (None, 7, 7, 128)\n",
    "    model.add(layers.BatchNormalization())\n",
    "    model.add(layers.LeakyReLU())\n",
    "    \n",
    "    model.add(layers.Conv2DTranspose(64, (5, 5), strides=(2, 2), padding='same', use_bias=False))\n",
    "    assert model.output_shape == (None, 14, 14, 64)\n",
    "    model.add(layers.BatchNormalization())\n",
    "    model.add(layers.LeakyReLU())\n",
    "    \n",
    "    model.add(layers.Conv2DTranspose(1, (5, 5), strides=(2, 2), padding='same', use_bias=False, activation='tanh'))\n",
    "    assert model.output_shape == (None, height, width, 1) # 1 es el número de dimensiones final (i.e., blanco y negro)\n",
    "\n",
    "    return model    "
   ]
  },
  {
   "cell_type": "markdown",
   "id": "baa35241-dfaa-4aaf-bbb1-a121265f5189",
   "metadata": {},
   "source": [
    "Si utilizamos nuestro generador (sin entrenar) veremos que simplemente devuelve ruido (similar al que utiliza internamente como base para la generación de imágenes):"
   ]
  },
  {
   "cell_type": "code",
   "execution_count": 4,
   "id": "45baf05a-e99c-4a07-bd33-addd80afd327",
   "metadata": {},
   "outputs": [
    {
     "data": {
      "text/plain": [
       "<matplotlib.image.AxesImage at 0x15589ac54b0>"
      ]
     },
     "execution_count": 4,
     "metadata": {},
     "output_type": "execute_result"
    },
    {
     "data": {
      "image/png": "[encoded data removed]",
      "text/plain": [
       "<Figure size 432x288 with 1 Axes>"
      ]
     },
     "metadata": {
      "needs_background": "light"
     },
     "output_type": "display_data"
    }
   ],
   "source": [
    "width = 28\n",
    "height = 28\n",
    "generator = build_generator_model(\"generator\", height, width)\n",
    "\n",
    "# Le pasamos un vector de 784 valores aleatorios como input\n",
    "noise = tf.random.normal([1, height*width])\n",
    "generated_image = generator(noise, training=False)\n",
    "\n",
    "plt.imshow(generated_image[0, :, :, 0], cmap='gray')"
   ]
  },
  {
   "cell_type": "markdown",
   "id": "92152a0b-d448-46a9-8b41-7a2804eb31e5",
   "metadata": {},
   "source": [
    "### 3.3.3 - Construcción de la red discriminadora"
   ]
  },
  {
   "cell_type": "markdown",
   "id": "c56376cb-a6e0-467d-a85e-127729f3907e",
   "metadata": {},
   "source": [
    "Una vez creada la red generadora, podemos abordar la construcción de la red discriminadora, que se trata de una red de clasificación binaria formada a su vez por 11 capas. A continuación se describen los diferentes tipos de capas utilizadas:\n",
    "\n",
    "* **Full-connected** (i.e., `layers.Dense`).\n",
    "* **Coonvolución de dos dimensiones** (i.e., `layers.Conv2D`).\n",
    "* **Leaky ReLU** (i.e., `layers.LeakyReLU`)\n",
    "* **Dropout** (i.e., `layers.Dropout`). Capa que vuelve a 0 las activaciones de neuronas con una probabilidad entre 0 y 1.\n",
    "* **Aplanamiento** (i.e., `layers.Flatten`).\n",
    "\n",
    "Para la definición de esta red, vamos a crear una función denominada `build_discriminator_model` que estará formada po cuatro parámetros de entrada:\n",
    "\n",
    "* ***name (string)***, i.e., el identificador del modelo.\n",
    "* ***height (int)***, i.e., la altura de la imagen.\n",
    "* ***width (int)***, i.e., la anchura de la imagen.\n",
    "* ***dims (int)***, i.e., número de canales de la imagen. En este ejemplo vamos a trabajar con imágenes monocromáticas (blanco y negro), así que solo contaremos con un canal."
   ]
  },
  {
   "cell_type": "code",
   "execution_count": 5,
   "id": "9a75159a-47f7-405a-9d49-17f249725a82",
   "metadata": {},
   "outputs": [],
   "source": [
    "def build_discriminator_model(\n",
    "    name: str,\n",
    "    height: int,\n",
    "    width: int,\n",
    "):\n",
    "    model = tf.keras.Sequential()\n",
    "    model.add(layers.Conv2D(64, (5, 5), strides=(2, 2), padding='same',\n",
    "                                     input_shape=[height, width, 1])) # 1 es el numero de dimensiones\n",
    "    model.add(layers.LeakyReLU())\n",
    "    model.add(layers.Dropout(0.3))\n",
    "\n",
    "    model.add(layers.Conv2D(128, (5, 5), strides=(2, 2), padding='same'))\n",
    "    model.add(layers.LeakyReLU())\n",
    "    model.add(layers.Dropout(0.3))\n",
    "\n",
    "    model.add(layers.Flatten())\n",
    "    model.add(layers.Dense(1))\n",
    "\n",
    "    return model"
   ]
  },
  {
   "cell_type": "markdown",
   "id": "ef2f227d-8efb-484e-86df-0c3fc2af6f68",
   "metadata": {},
   "source": [
    "Si utilizamos nuestro discriminador (sin entrenar) sobre la imagen generada, veremos que devuelve \"ruido\":"
   ]
  },
  {
   "cell_type": "code",
   "execution_count": 6,
   "id": "f6bc6b54-63af-4db6-b795-0e9db39f67b7",
   "metadata": {},
   "outputs": [
    {
     "name": "stdout",
     "output_type": "stream",
     "text": [
      "tf.Tensor([[-0.00184514]], shape=(1, 1), dtype=float32)\n"
     ]
    }
   ],
   "source": [
    "discriminator = build_discriminator_model(\"discriminator\", height, width)\n",
    "decision = discriminator(generated_image)\n",
    "print (decision)"
   ]
  },
  {
   "cell_type": "markdown",
   "id": "6020b9bd-b291-40c5-9ceb-5a50c45c4fcb",
   "metadata": {},
   "source": [
    "### 3.3.4 - Creación de la clase DGAN"
   ]
  },
  {
   "cell_type": "markdown",
   "id": "bd46aeb3-9a24-4b84-83b8-145b32332633",
   "metadata": {},
   "source": [
    "Una vez definidos los componentes básicos, vamos a delimitar la estructura de la metared GAN mediante la creación de na clase denominada `DGAN` (Deep Generative Adversarial Network).\n",
    "\n",
    "Esta clase estará formada por una serie de atributos que serán creados y/o inicializados en el constructor (`__init__()`):\n",
    "\n",
    "* **Red generadora** (`generator`). \n",
    "* **Red discriminadora** (`discriminator`).\n",
    "* **Algoritmo de optimización del generador** (`generator_optimizer`). En este caso vamos a usar el algoritmo de \"Adam\".\n",
    "* **Algoritmo de optimización del discriminador** (`discriminator_optimizer`). En este caso vamos a usar el algoritmo de \"Adam\".\n",
    "* **El directorio de almacenamiento de *checkoints***.\n",
    "* **El prefijo para el nombre de los *checkpoints***. \n",
    "* **El objeto de *checkpoint*** (`checkpoint`). Nos permite crear o restaurar puntos de guardado.\n",
    "\n",
    "Una vez finalizada la definición del método de creación, es necesario establecer una serie de métodos y propiedades para manipular los diferentes atributos de la clase"
   ]
  },
  {
   "cell_type": "code",
   "execution_count": 7,
   "id": "1ac4c044-2df3-412c-a527-a452f855d0ca",
   "metadata": {},
   "outputs": [],
   "source": [
    "class DGAN:\n",
    "    \n",
    "    def __init__(\n",
    "        self,\n",
    "        height,\n",
    "        width,\n",
    "    ):\n",
    "        self._generator = build_generator_model(\n",
    "            \"generator\",\n",
    "            height,\n",
    "            width\n",
    "        )\n",
    "        self._discriminator = build_discriminator_model(\n",
    "            \"discriminator\",\n",
    "            height,\n",
    "            width\n",
    "        )\n",
    "        self._cross_entropy = BinaryCrossentropy(from_logits=True)\n",
    "        self._generator_optimizer = keras.optimizers.Adam(\n",
    "            learning_rate=0.001,\n",
    "            beta_1=0.9,\n",
    "            beta_2=0.999,\n",
    "            epsilon=1e-07\n",
    "        )\n",
    "        self._discriminator_optimizer = keras.optimizers.Adam(\n",
    "            learning_rate=0.001,\n",
    "            beta_1=0.9,\n",
    "            beta_2=0.999,\n",
    "            epsilon=1e-07\n",
    "        )\n",
    "        self._checkpoint_dir = \"./training_checkpoints\"\n",
    "        self._checkpoint_prefix = os.path.join(self._checkpoint_dir, \"ckpt\")\n",
    "        self._checkpoint = tf.train.Checkpoint(\n",
    "            generator_optimizer=self._generator_optimizer,\n",
    "            discriminator_optimizer=self._discriminator_optimizer,\n",
    "            generator=self._generator,\n",
    "            discriminator=self._discriminator\n",
    "        )\n",
    "        \n",
    "        # Comprobamos si existe alguna versión previa del modelo (checkpoint)\n",
    "        # para continuar el proceso de entrenamiento a partir de él\n",
    "        self._checkpoint.restore(\n",
    "            tf.train.latest_checkpoint(self._checkpoint_dir)\n",
    "        )\n",
    "        \n",
    "    def generator_summary(self):\n",
    "        \"\"\"\n",
    "        Método para la visualización de la estructura de la red generadora\n",
    "        \"\"\"\n",
    "        return self._generator.summary()\n",
    "\n",
    "    def discriminator_summary(self):\n",
    "        \"\"\"\n",
    "        Método para la visualización de la estructura de la red discriminadora\n",
    "        \"\"\"\n",
    "        return self._discriminator.summary()\n",
    "\n",
    "    @property\n",
    "    def generator(self):\n",
    "        \"\"\"\n",
    "        Propiedad que nos devuelve el generador\n",
    "        \"\"\"\n",
    "        return self._generator\n",
    "\n",
    "    @property\n",
    "    def discriminator(self):\n",
    "        \"\"\"\n",
    "        Propiedad que nos devuelve el discriminador\n",
    "        \"\"\"    \n",
    "        return self._discriminator\n",
    "\n",
    "    @property\n",
    "    def generator_optimizer(self):\n",
    "        \"\"\"\n",
    "        Propiedad que nos devuelve el método de optimización del generador\n",
    "        \"\"\"    \n",
    "        return self._generator_optimizer\n",
    "\n",
    "    @property\n",
    "    def discriminator_optimizer(self):\n",
    "        \"\"\"\n",
    "        Propiedad que nos devuelve el método de optimización del discriminador\n",
    "        \"\"\"    \n",
    "        return self._discriminator_optimizer\n",
    "\n",
    "    # Indicamos a TF que no queremos que transforme esta función en un grafo.\n",
    "    # Simplemente es una función \"normal y corriente\"\n",
    "    @tf.autograph.experimental.do_not_convert\n",
    "    def discriminator_loss(\n",
    "        self,\n",
    "        real_output,\n",
    "        fake_output\n",
    "    ):\n",
    "        \"\"\"\n",
    "        Método que calcula el valor de pérdidad de la red discriminadora\n",
    "\n",
    "        Args:\n",
    "            real_output: valor que indica si el ejemplo es real o artificial\n",
    "            fake_output: predicción del modelo discriminador\n",
    "\n",
    "        Return:\n",
    "            Valor de pérdida, comprendido entre 0 e infinito\n",
    "        \"\"\"\n",
    "        real_loss = self._cross_entropy(\n",
    "            tf.ones_like(real_output),\n",
    "            real_output\n",
    "        )\n",
    "        fake_loss = self._cross_entropy(\n",
    "            tf.zeros_like(fake_output),\n",
    "            fake_output\n",
    "        )\n",
    "\n",
    "        return real_loss + fake_loss\n",
    "\n",
    "    # Indicamos a TF que no queremos que transforme esta función en un grafo.\n",
    "    # Simplemente es una función \"normal y corriente\"\n",
    "    @tf.autograph.experimental.do_not_convert\n",
    "    def generator_loss(\n",
    "        self,\n",
    "        fake_output\n",
    "    ):\n",
    "        \"\"\"\n",
    "        Método que calcula el valor de pérdida de los ejemplos \n",
    "        generados por la red generadora\n",
    "\n",
    "        Args:\n",
    "            fake_output: representa el ejemplo creado por la red generadora\n",
    "        \"\"\"\n",
    "        return self._cross_entropy(\n",
    "            tf.ones_like(fake_output),\n",
    "            fake_output\n",
    "        )\n",
    "\n",
    "    def create_checkpoint(self):\n",
    "        \"\"\"\n",
    "        Método para generar los puntos de guardado de la red\n",
    "        durante el proceso de entrenamiento\n",
    "        \"\"\"\n",
    "        self._checkpoint.save(file_prefix=self._checkpoint_prefix)"
   ]
  },
  {
   "cell_type": "markdown",
   "id": "c4988d75-5ec2-42c6-9b2b-d0787c892601",
   "metadata": {},
   "source": [
    "### 3.3.5 - Creación de la función de entrenamiento por epoch"
   ]
  },
  {
   "cell_type": "markdown",
   "id": "d323ebf4-ea75-40f5-bca4-6542b2d86d82",
   "metadata": {},
   "source": [
    "Tras la definición de la estructura de nuestra DGAN, es necesario preparar todas las funciones relativas al proceso de entrenamiento.\n",
    "\n",
    "----\n",
    "\n",
    "**Nota:** este tipo de funciones se podrian haber creado como métodos de la clase `DGAN` pero los hemos separado para simplificar el proceso.\n",
    "\n",
    "----\n",
    "\n",
    "El primero de ellos se corresponde con la etapa de entrenamiento que ocurre en cada epoch, el cual cuenta con seis parámetros de entrada:\n",
    "* ***model* (Model)**, i.e., el modelo que está siendo entrenado.\n",
    "* ***writer* (TF Writer)**, i.e., el objeto utilizado para almacenar la información del proceso de entrenamiento\n",
    "* ***Images* (Tensor Slices)**, i.e., las imágenes reales utilizadas para entrenar a la red discriminadora.\n",
    "* ***num_examples* (int)**, i.e., el número de imágenes generadas en cada iteración de entrenamiento.\n",
    "* ***example_shape* (Tuple[int, int])**, i.e., la estructura de las imágenes.\n",
    "* ***epoch* (int)**, i.e., iteración actual del proceso de entrenamiento."
   ]
  },
  {
   "cell_type": "code",
   "execution_count": 8,
   "id": "0cf96b26-0868-46c7-88d0-68c795206558",
   "metadata": {},
   "outputs": [],
   "source": [
    "# El decorador convierte esta función en un TF graph \n",
    "# para que su ejecución sea más eficiente\n",
    "@tf.function\n",
    "def fit_step(\n",
    "    model,\n",
    "    writer,\n",
    "    images,\n",
    "    example_num,\n",
    "    example_shape,\n",
    "    epoch\n",
    "):\n",
    "    examples = tf.random.normal([example_num, example_shape])\n",
    "    \n",
    "    with writer.as_default():\n",
    "        with tf.GradientTape() as gen_tape, tf.GradientTape() as disc_tape:\n",
    "            \n",
    "            generated_images = model.generator(examples, training=True)\n",
    "            \n",
    "            real_output = model.discriminator(images, training=True)\n",
    "            fake_output = model.discriminator(generated_images, training=True)\n",
    "            \n",
    "            gen_loss = model.generator_loss(fake_output)\n",
    "            disc_loss = model.discriminator_loss(real_output, fake_output)\n",
    "        \n",
    "        tf.summary.scalar(\"generator loss\", gen_loss, step=epoch+1)\n",
    "        tf.summary.scalar(\"discriminator loss\", disc_loss, step=epoch+1)\n",
    "        \n",
    "        gradients_of_generator = gen_tape.gradient(\n",
    "            gen_loss,\n",
    "            model.generator.trainable_variables\n",
    "        )\n",
    "        gradients_of_discriminator = disc_tape.gradient(\n",
    "            disc_loss,\n",
    "            model.discriminator.trainable_variables\n",
    "        )\n",
    "        \n",
    "        model.generator_optimizer.apply_gradients(\n",
    "            zip(\n",
    "                gradients_of_generator,\n",
    "                model.generator.trainable_variables\n",
    "            )\n",
    "        )\n",
    "        model.discriminator_optimizer.apply_gradients(\n",
    "            zip(\n",
    "                gradients_of_discriminator,\n",
    "                model.discriminator.trainable_variables\n",
    "            )\n",
    "        )        \n",
    "    \n",
    "    return gen_loss, disc_loss"
   ]
  },
  {
   "cell_type": "markdown",
   "id": "6cd595d6-1f15-45bf-8710-e5854906192f",
   "metadata": {},
   "source": [
    "### 3.3.6 - Creación de la función de visualización y test"
   ]
  },
  {
   "cell_type": "markdown",
   "id": "4e0a1ef9-0fef-4196-9f1b-9863dd6e5b8f",
   "metadata": {},
   "source": [
    "Vamos a crear un método de visualización y test para poder comprobar como evoluciona el proceso de entrenamiento de nuestra red DGAN.\n",
    "\n",
    "En este sentido, creamos, mediante el decorador `tf.function`, una función denominada `generate_and_test_images()` que recibirá cinco parámetros de entrada:\n",
    "\n",
    "* ***model* (Model)**, i.e., el modelo que está siendo entrenado.\n",
    "* ***writer* (TF Writer)**, i.e., el objeto utilizado para almacenar la información del proceso de entrenamiento\n",
    "* ***num_examples* (int)**, i.e., el número de imágenes generadas en cada iteración de entrenamiento.\n",
    "* ***example_shape* (Tuple[int, int])**, i.e., la estructura de las imágenes.\n",
    "* ***epoch* (int)**, i.e., iteración actual del proceso de entrenamiento."
   ]
  },
  {
   "cell_type": "code",
   "execution_count": 9,
   "id": "c7b3d53b-2e98-4335-b704-5a42b73295cc",
   "metadata": {},
   "outputs": [],
   "source": [
    "def generate_and_test_images(\n",
    "    model,\n",
    "    writer,\n",
    "    epoch,\n",
    "    num_examples,\n",
    "    example_size\n",
    "):\n",
    "    examples = tf.random.normal([num_examples, example_size])\n",
    "    \n",
    "    with writer.as_default():\n",
    "        predictions = model.generator(examples, training=False)\n",
    "        test_loss = model.generator_loss(predictions)\n",
    "        \n",
    "        tf.summary.scalar(\"test loss\", test_loss, step=epoch+1)\n",
    "        \n",
    "        fig = plt.figure(figsize=(3,3))\n",
    "        \n",
    "        for i in range(predictions.shape[0]):\n",
    "            plt.subplot(3,3, i+1)\n",
    "            plt.imshow(predictions[i, :, :, 0] * 1024 + 1024, cmap=\"gray\")\n",
    "            plt.axis(\"off\")\n",
    "            \n",
    "        plt.savefig(f\"image_at_epoch_{epoch}.png\")\n",
    "        plt.show()"
   ]
  },
  {
   "cell_type": "markdown",
   "id": "e719034f-dcf8-4c6d-adfd-2a7dfddfc7a2",
   "metadata": {},
   "source": [
    "### 3.3.7 - Creación de la función de entrenamiento"
   ]
  },
  {
   "cell_type": "markdown",
   "id": "d3831796-5a51-4452-868b-3ce1f71aa030",
   "metadata": {},
   "source": [
    "Cuando hemos definido todas las variables y funciones necesarias para el aprendizaje, podemo construir el bucle de entrenamiento mediante el método `fit()`, formado por cinco parámetros:\n",
    "\n",
    "* ***dataset* (TF Slice)**, i.e., conjunto de ejemplos de entrenamiento.\n",
    "* ***epoch* (int)**, i.e., número de iteraciones del proceso de entrenamiento.\n",
    "* ***examples_num* (int)**, i.e., número de vectores de ruido aleatorio que se utilizarán para generar los ejemplos artificiales.\n",
    "* ***height* (int)**, i.e., la altura de las imágenes que se utilizarán en el proceso.\n",
    "* ***width* (int)**, i.e., el ancho de las imágenes que se utilizarán en el proceso.\n",
    "* ***log_dir (str)**, i.e., la ruta donde se almacenarán los ficheros de *log*."
   ]
  },
  {
   "cell_type": "code",
   "execution_count": 10,
   "id": "0e46fd58-84df-4dcb-9df0-8a3a80e1c5ef",
   "metadata": {},
   "outputs": [],
   "source": [
    "def fit(\n",
    "    dataset,\n",
    "    epochs,\n",
    "    examples_num,\n",
    "    height,\n",
    "    width,\n",
    "    log_dir\n",
    "):\n",
    "    model = DGAN(height, width)\n",
    "    writer = tf.summary.create_file_writer(log_dir)\n",
    "    example_size = width * height\n",
    "    \n",
    "    for epoch in range(epochs):\n",
    "        start = time.time()\n",
    "        \n",
    "        for images_batch in dataset:\n",
    "            gen_loss, disc_loss = fit_step(\n",
    "                model,\n",
    "                writer,\n",
    "                images_batch,\n",
    "                examples_num,\n",
    "                example_size,\n",
    "                epoch\n",
    "            )\n",
    "            \n",
    "        display.clear_output(wait=True)\n",
    "        \n",
    "        generate_and_test_images(\n",
    "            model,\n",
    "            writer,\n",
    "            epoch+1,\n",
    "            9,\n",
    "            example_size\n",
    "        )\n",
    "        \n",
    "        if (epoch + 1) % 15 == 0:\n",
    "            model.create_checkpoint()\n",
    "        \n",
    "        print(f\"Time for epoch {epoch + 1} is {time.time() - start} sec - G_loss: {gen_loss} D_loss: {disc_loss}\")\n",
    "        \n",
    "    display.clear_output(wait=True)\n",
    "    \n",
    "    return model"
   ]
  },
  {
   "cell_type": "markdown",
   "id": "297a8e71-0d34-48e6-963a-8db3b22c46e1",
   "metadata": {},
   "source": [
    "### 3.3.8 - Entrenando nuestro modelo"
   ]
  },
  {
   "cell_type": "code",
   "execution_count": 11,
   "id": "4bd913c7-b077-49eb-8d7a-07bc2faf8da0",
   "metadata": {},
   "outputs": [
    {
     "data": {
      "image/png": "[encoded data removed]",
      "text/plain": [
       "<Figure size 216x216 with 9 Axes>"
      ]
     },
     "metadata": {
      "needs_background": "light"
     },
     "output_type": "display_data"
    },
    {
     "name": "stdout",
     "output_type": "stream",
     "text": [
      "Time for epoch 2 is 352.5922431945801 sec - G_loss: 3.2385811805725098 D_loss: 0.4105023741722107\n"
     ]
    }
   ],
   "source": [
    "BATCH_SIZE = 256\n",
    "WIDTH = 28\n",
    "HEIGHT = 28\n",
    "\n",
    "log_dir = \"./gans/\" + datetime.datetime.now().strftime(\"%Y%m%d-%H%M%S\")\n",
    "\n",
    "train_data, train_labels = generate_dataset(\n",
    "    HEIGHT, WIDTH, BATCH_SIZE\n",
    ")\n",
    "\n",
    "model = fit(\n",
    "    train_data,\n",
    "    50,\n",
    "    BATCH_SIZE,\n",
    "    HEIGHT,\n",
    "    WIDTH,\n",
    "    log_dir\n",
    ")"
   ]
  },
  {
   "cell_type": "markdown",
   "id": "313975d7-be80-4820-a1eb-579e0c20a968",
   "metadata": {},
   "source": [
    "### 3.3.9 - Utilización del modelo"
   ]
  },
  {
   "cell_type": "markdown",
   "id": "62e4fb9f-38c7-4ddd-ad17-bbf145020dfa",
   "metadata": {},
   "source": [
    "Una vez generado el modelo, podemos comprobar su correcto funcionamiento mediante el siguiente fragmento de código:"
   ]
  },
  {
   "cell_type": "code",
   "execution_count": 13,
   "id": "7fb54fd3-efb4-4e55-b4b6-e5489518ad8c",
   "metadata": {},
   "outputs": [
    {
     "data": {
      "image/png": "[encoded data removed]",
      "text/plain": [
       "<Figure size 1296x1296 with 2 Axes>"
      ]
     },
     "metadata": {
      "needs_background": "light"
     },
     "output_type": "display_data"
    }
   ],
   "source": [
    "def plot_image(\n",
    "    plt,\n",
    "    data,\n",
    "    label,\n",
    "    size,\n",
    "    location\n",
    "):\n",
    "    plt.subplot(location)\n",
    "    img = np.reshape(data, size)\n",
    "    plt.imshow(img)\n",
    "    plt.title(f\"(Label: {label})\")\n",
    "\n",
    "example = tf.random.normal([1, WIDTH * HEIGHT])\n",
    "prediction = model.generator(example, training=False)\n",
    "\n",
    "plt.figure(figsize=[18,18])\n",
    "\n",
    "plot_image(\n",
    "    plt,\n",
    "    example, \n",
    "    \"original\",\n",
    "    (WIDTH, HEIGHT),\n",
    "    121\n",
    ")\n",
    "\n",
    "plot_image(\n",
    "    plt,\n",
    "    prediction[0, :, :, 0],\n",
    "    \"generada\",\n",
    "    (WIDTH, HEIGHT),\n",
    "    122\n",
    ")"
   ]
  },
  {
   "cell_type": "markdown",
   "id": "f64cafa1-8c72-4798-9e5d-eabaa9f2f0bf",
   "metadata": {},
   "source": [
    "## 3.4 - Diferentes tipos de GANs"
   ]
  },
  {
   "cell_type": "markdown",
   "id": "384f3583-50d1-4450-a170-bb479a1238ca",
   "metadata": {},
   "source": [
    "Las DGANs (Deep Generative Adversarial Networks) no son el único tipo de GAN existentnes. En esta sección describiremos el funcionamiento básico de tres tipos de GANs que también son capaces de producir información artificial:\n",
    "\n",
    "* GANs semisupervisadas (SGAN).\n",
    "* GANs condicionales (CGAN).\n",
    "* *CycleGANs*."
   ]
  },
  {
   "cell_type": "markdown",
   "id": "a6a3c4c9-8bca-49ec-a531-c632437951e3",
   "metadata": {},
   "source": [
    "### 3.4.1 - GANs semisupervisadas (*SGANs*)"
   ]
  },
  {
   "cell_type": "markdown",
   "id": "8e40faf6-adea-450d-bc86-3aaa08476b57",
   "metadata": {},
   "source": [
    "El aprendizaje semisupervisado, situado en la frontera entre el aprendizaje supervisado y el no supervisado constituye una de las áreas más prometedoras dentro de las aplicaciones prácticas de las GAN. \n",
    "\n",
    "GAN semisupervisada (SGAN) constituye un tipo de GAN cuyo discriminador estará formado por dos clasificadores:\n",
    "* Un **clasificador multiclase**. Predicción de etiqueta de los datos de entrenamiento.\n",
    "* Un **clasificador binario**. PRedicción sobre la autenticidad del ejemplo (real o artificial)\n",
    "\n",
    "Ambos modelos tienen diferentes capas de salida pero **comparten todas las capas de extracción de características**. Esto significa que las actualizaciones de uno de los modelos de clasificador afectarán a ambos modelos.\n",
    "\n",
    "De esta manera, el discriminador se entrena en dos modos:\n",
    "* **Modo no supervisado**. El discriminador se entrena de la misma manera que el GAN tradicional, para predecir si el ejemplo es real o falso (i.e., clasificador binario).\n",
    "* **Modo supervisado**. El discriminador es entrenado  para predecir la etiqueta de clase (i.e., clasificador multiclase).\n",
    "\n",
    "El entrenamiento en modo no supervisado permite que el modelo aprenda capacidades útiles de extracción de características de un gran conjunto de datos sin etiquetar, mientras que el entrenamiento en modo supervisado permite que el modelo use las características extraídas en la clasificación de etiqueta.\n",
    "\n",
    "El resultado es un modelo clasificador que puede lograr resultados del estado del arte en problemas estándar como MNIST cuando se entrena en muy pocos ejemplos etiquetados, como decenas, centenas o mil. Además, el proceso de entrenamiento también puede generar imágenes de mejor calidad generadas por el modelo generador.\n",
    "\n",
    "Por ejemplo, [en 2016, Augustus Odena demostró la eficacia de este modelo en MNIST](https://arxiv.org/pdf/1606.01583.pdf) tanto en la tarea no supervisada (versus una GAN tradicional) como en la tarea supervisada (versus una CNN tradicional):\n",
    "\n",
    "<table>\n",
    "    <tr>\n",
    "        <th><i>Tarea no supervisada</i></th>\n",
    "        <th><i>Tarea supervisada</i></th>\n",
    "    </tr>\n",
    "    <tr>\n",
    "        <td><img src=\"images_3/sgan_results_unsupervised.png\" width=\"350\" data-align=\"center\"></td>\n",
    "        <td><img src=\"images_3/sgan_results.png\" width=\"350\" data-align=\"center\"></td>\n",
    "    </tr>\n",
    "</table>\n",
    "\n",
    "En la siguiente figura se presenta la arquitectura de una SGAN, donde observamos los tres tipos de datos de entrada que recibe el discriminador:\n",
    "* Ejemplos reales etiquetados.\n",
    "* Ejemplos reales sin etiqueta.\n",
    "* Ejemplos artificiales creados por el generador.\n",
    "\n",
    "\n",
    "<img src=\"images_3/estructura_sgan.png\" width=\"450\" data-align=\"center\">\n",
    "\n",
    "----\n",
    "\n",
    "**Nota:** Tecnicamente esta imagen se corresponde al caso donde tenemos un único modelo dentro del discriminador, pero nos vale para demostrar el funcionamiento de la SGAN. Para más información, [recomiendo echarle un ojo al siguiente tutorial](https://machinelearningmastery.com/semi-supervised-generative-adversarial-network/).\n",
    "\n",
    "----"
   ]
  },
  {
   "cell_type": "markdown",
   "id": "41626ea0-7ecc-4c6a-9b99-3b4de07333e9",
   "metadata": {},
   "source": [
    "### 3.4.2 - GANs condicionales (*CGANs*)"
   ]
  },
  {
   "cell_type": "markdown",
   "id": "2b6cc91c-efbe-41d3-8b1d-908f0eff667c",
   "metadata": {},
   "source": [
    "En este capítulo hemos visto como generar dígitos de manera aleatoria. Sin embargo, cuando construimos ejemplos de **un determinado dominio**, la aleatoriedad a la hora de crearlos puede suponer un problema, ya que **no controlamos el proceso de generación** y, por tanto, no podemos elegir si queremos que nuestra red escriba un número de manera específica.\n",
    "\n",
    "Las GANs condicionales (CGANs) constituyen la primera técnica que ha permitido la generación específica de ejemplos artificiales mediante la aplicación de un proceso de configuración durante el entrenamiento. **Esta configuración permite definir el tipo de ejemplo que vamos a identificar**.\n",
    "\n",
    "En este caso, la red generadora aprende a producir ejemplos artificiales para cada una de las etiquetas de forma separada ya que la discriminadora descarta no solo aquellos ejemplos que son artificiales sino tambien los que no coinciden con la etiqueta especificada en la configuración.\n",
    "\n",
    "Por consiguiente, **el discriminador no solo debe identificar si una imagen es artificial o no, sino también si la etiqueta se corresponde con la imagen generada**.\n",
    "\n",
    "Por ejemplo, el generador podría producir un ejemplo cuya imagen pareciera un 3 totalmente real, pero si la configuración habia establecido que queria un 8, el modelo seria identificado, probablemente, como artificial por el discriminador.\n",
    "\n",
    "En la siguiente figura, se presenta la arquitectura de una CGAN donde los ejemplos artificiales son etiquetados doblemente, de manera que se indica cuál es la etiqueta que representa el ejemplo artificial:\n",
    "\n",
    "<img src=\"images_3/estructura_cgan.png\" width=\"450\" data-align=\"center\">\n",
    "\n",
    "A la hora de construir la red generadora, es común incluir una capa de tipo embedding para definir la etiqueta y poder combinarla con el ruido aleatorio mediante una operación de suma o multiplicación."
   ]
  },
  {
   "cell_type": "markdown",
   "id": "7002a63e-83fd-48cc-87bc-1a3d2670a2ae",
   "metadata": {},
   "source": [
    "### 3.4.3 - GANs cíclicas (*CycleGANs*)"
   ]
  },
  {
   "cell_type": "markdown",
   "id": "a7e14f69-b6fc-45e3-a6c9-acc05573477d",
   "metadata": {},
   "source": [
    "Una de las grandes habilidades que han demostrado las redes de tipo GAN es la traducción de imagen a imagen, de manera que son capaces de transformar un determinado objeto en otro similar. Por ejemplo, un caballo en una cebra o una manzana en una naranja.\n",
    "\n",
    "<img src=\"images_3/caballo_cebra.jpg\" width=\"400\" data-align=\"center\">\n",
    "\n",
    "Para esta transformación entre dominios, se utilizan las redes generativas adversarias cíclicas (CycleGANs), que difieren de las DGAN porque **utilizan un numero mayor de redes que generan un ciclo entre sí**.\n",
    "\n",
    "La arquitectura de este tipo de red está conformada por cuatro redes de neuronas:\n",
    "1. **red generadora-B-2-A**, que convierte imágenes del dominio B en imágenes del dominio A.\n",
    "2. **red generadora-A-2-B**, que convierte imágenes del dominio A en imágenes del dominio B.\n",
    "3. **discriminador-A**, que predice si las imágenes del dominio A son reales o falsas.\n",
    "4. **discriminador-B**, que predice si las imágenes del dominio B son reales o falsas.\n",
    "\n",
    "La siguiente figura muestra la arquitectura simplificada de una CycleGAN donde se presentan dos flujos de tipo cíclico\n",
    "\n",
    "* Flujo A-B-A, que comienza utilizando un ejemplo del dominio A (caballos) para traducirlo al dominio B (cebras)\n",
    "* Flujo B-A-B, que comienza utilizando un ejemplo del dominio B (cebras) para traducirlo al dominio A (caballos)\n",
    "\n",
    "**El cíclo consiste en transformar y reconstruir una imagen mediante la utilización de ambos generadores y, a continuación, evaluarla para identificar si es real o artificial con el objetivo de medir la pérdida cíclica producida por el proceso de traducción y reconstrucción.**\n",
    "\n",
    "<img src=\"images_3/estructura_cyclegan.png\" width=\"650\" data-align=\"center\">\n",
    "\n",
    "\n",
    "Este tipo de GAN presenta una importante diferencia con respecto a las otras GAN que han sido descritas en este capítulo: **no utiliza información aleatoria para la generación de los ejemplos artificiales, sino información del otro dominio**, de manera que la red generadora-A usa imágenes de entrenamiento del dominio y la red generadora-B usa imágenes de entrenamiento del dominio A.\n",
    "\n",
    "En cierto sentido, el proceso de transformación de imágenes es un **caso especial de la GAN condicional** donde estamos condicionando una imagen completa (en lugar de una sola clase) que se proporciona a la red generadora como una especie de \"etiqueta\"."
   ]
  }
 ],
 "metadata": {
  "kernelspec": {
   "display_name": "Python 3 (ipykernel)",
   "language": "python",
   "name": "python3"
  },
  "language_info": {
   "codemirror_mode": {
    "name": "ipython",
    "version": 3
   },
   "file_extension": ".py",
   "mimetype": "text/x-python",
   "name": "python",
   "nbconvert_exporter": "python",
   "pygments_lexer": "ipython3",
   "version": "3.9.15"
  }
 },
 "nbformat": 4,
 "nbformat_minor": 5
}
