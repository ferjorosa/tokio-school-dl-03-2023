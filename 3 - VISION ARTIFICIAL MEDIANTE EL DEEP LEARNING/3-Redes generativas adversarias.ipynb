{
 "cells": [
  {
   "cell_type": "markdown",
   "id": "c51e7960-83af-4a13-8203-05688ec3cf12",
   "metadata": {},
   "source": [
    "# 3 - Redes generativas adversarias (GANs)\n",
    "\n",
    "**Sumario**\n",
    "\n",
    "1. Introducción\n",
    "2. Redes generativas adversarias (GANs)\n",
    "3. Construcción de una Deep GAN (DGAN)\n",
    "4. Diferentes tipos de GANs"
   ]
  },
  {
   "cell_type": "markdown",
   "id": "0cab743d-488f-4978-9925-bfda0e00fa06",
   "metadata": {},
   "source": [
    "## 3.1 - Introducción"
   ]
  },
  {
   "cell_type": "code",
   "execution_count": null,
   "id": "4e864739-c5c7-4d6d-a2bf-88828a7961a5",
   "metadata": {},
   "outputs": [],
   "source": []
  },
  {
   "cell_type": "markdown",
   "id": "4157f01b-c450-44ad-a578-26e265a4ac44",
   "metadata": {},
   "source": [
    "## 3.2 - Redes generativas adversarias"
   ]
  },
  {
   "cell_type": "code",
   "execution_count": null,
   "id": "f5f732d8-7e54-4ac6-8771-1e70a2b133a2",
   "metadata": {},
   "outputs": [],
   "source": []
  },
  {
   "cell_type": "markdown",
   "id": "63dbba15-7bdb-41f9-8abe-ea44f7a83350",
   "metadata": {},
   "source": [
    "### 3.2.1 - Estructura lógica de la red GAN"
   ]
  },
  {
   "cell_type": "code",
   "execution_count": null,
   "id": "1e5b61a4-0d75-4d79-afd9-da39ebb5a8f6",
   "metadata": {},
   "outputs": [],
   "source": []
  },
  {
   "cell_type": "markdown",
   "id": "01e68ef6-c2c7-4c6a-98f4-b7562cc922e9",
   "metadata": {},
   "source": [
    "### 3.2.2 - Funcionamiento de una red GAN"
   ]
  },
  {
   "cell_type": "code",
   "execution_count": null,
   "id": "2d46e7f9-4972-46d3-8e25-44f036cd0ae6",
   "metadata": {},
   "outputs": [],
   "source": []
  },
  {
   "cell_type": "markdown",
   "id": "92f706eb-b2f2-4f1d-975a-8bdeb533a5a2",
   "metadata": {},
   "source": [
    "### 3.2.3 - Cálculo de la función de pérdida"
   ]
  },
  {
   "cell_type": "code",
   "execution_count": null,
   "id": "bc672619-cc00-4c3a-a1d9-48021d6132f8",
   "metadata": {},
   "outputs": [],
   "source": []
  },
  {
   "cell_type": "markdown",
   "id": "653a0f7e-8fce-40b1-a124-5f0ef95dcb8b",
   "metadata": {},
   "source": [
    "### 3.2.4 - Juego competitivo"
   ]
  },
  {
   "cell_type": "code",
   "execution_count": null,
   "id": "3ad9d69c-96ef-4c2f-b6b8-98f6705de9f3",
   "metadata": {},
   "outputs": [],
   "source": []
  },
  {
   "cell_type": "markdown",
   "id": "317636c9-dfde-4a3f-90a4-3760b01fe4cc",
   "metadata": {},
   "source": [
    "## 3.3 - Construcción de una Deep GAN (DGAN)"
   ]
  },
  {
   "cell_type": "code",
   "execution_count": null,
   "id": "d73c8db1-2a7a-4f8b-89bb-d65824fc7f11",
   "metadata": {},
   "outputs": [],
   "source": []
  },
  {
   "cell_type": "markdown",
   "id": "3152daff-8dc9-4dc4-a5b6-eac2141423d8",
   "metadata": {},
   "source": [
    "### 3.3.1 - Carga de datos"
   ]
  },
  {
   "cell_type": "code",
   "execution_count": null,
   "id": "a674a7dd-91a8-4c23-9065-eacf9cc02987",
   "metadata": {},
   "outputs": [],
   "source": []
  },
  {
   "cell_type": "markdown",
   "id": "d330f128-4d56-4d00-ab5f-e92eeaaa97b1",
   "metadata": {},
   "source": [
    "### 3.3.2 - Construcción de la red generadora"
   ]
  },
  {
   "cell_type": "code",
   "execution_count": null,
   "id": "196eadc2-1525-460f-a8de-c6d3bd169222",
   "metadata": {},
   "outputs": [],
   "source": []
  },
  {
   "cell_type": "markdown",
   "id": "92152a0b-d448-46a9-8b41-7a2804eb31e5",
   "metadata": {},
   "source": [
    "### 3.3.3 - Construcción de la red discriminadora"
   ]
  },
  {
   "cell_type": "code",
   "execution_count": null,
   "id": "076a44b1-9561-4d72-a929-d5aaeb1b906e",
   "metadata": {},
   "outputs": [],
   "source": []
  },
  {
   "cell_type": "markdown",
   "id": "6020b9bd-b291-40c5-9ceb-5a50c45c4fcb",
   "metadata": {},
   "source": [
    "### 3.3.4 - Creación de la clase DGAN"
   ]
  },
  {
   "cell_type": "code",
   "execution_count": null,
   "id": "6c621c5e-ce88-4afc-9631-51a0c05cbee3",
   "metadata": {},
   "outputs": [],
   "source": []
  },
  {
   "cell_type": "markdown",
   "id": "c4988d75-5ec2-42c6-9b2b-d0787c892601",
   "metadata": {},
   "source": [
    "### 3.3.5 - Creación de la función de entrenamiento por epoch"
   ]
  },
  {
   "cell_type": "code",
   "execution_count": null,
   "id": "dac65210-e32b-4d2e-a064-dd214ae0d874",
   "metadata": {},
   "outputs": [],
   "source": []
  },
  {
   "cell_type": "markdown",
   "id": "6cd595d6-1f15-45bf-8710-e5854906192f",
   "metadata": {},
   "source": [
    "### 3.3.6 - Creación de la función de visualización y test"
   ]
  },
  {
   "cell_type": "code",
   "execution_count": null,
   "id": "9dc509d5-c8db-44ba-b51e-b85906730f58",
   "metadata": {},
   "outputs": [],
   "source": []
  },
  {
   "cell_type": "markdown",
   "id": "e719034f-dcf8-4c6d-adfd-2a7dfddfc7a2",
   "metadata": {},
   "source": [
    "### 3.3.7 - Creación de la función de entrenamiento"
   ]
  },
  {
   "cell_type": "code",
   "execution_count": null,
   "id": "5e402a02-eb0f-4757-aef1-d54237b76011",
   "metadata": {},
   "outputs": [],
   "source": []
  },
  {
   "cell_type": "markdown",
   "id": "297a8e71-0d34-48e6-963a-8db3b22c46e1",
   "metadata": {},
   "source": [
    "### 3.3.8 - Entrenando nuestro modelo"
   ]
  },
  {
   "cell_type": "code",
   "execution_count": null,
   "id": "4bd913c7-b077-49eb-8d7a-07bc2faf8da0",
   "metadata": {},
   "outputs": [],
   "source": []
  },
  {
   "cell_type": "markdown",
   "id": "313975d7-be80-4820-a1eb-579e0c20a968",
   "metadata": {},
   "source": [
    "### 3.3.9 - Utilización del modelo"
   ]
  },
  {
   "cell_type": "code",
   "execution_count": null,
   "id": "b208f20f-255d-42b0-9cda-9e045f8c9829",
   "metadata": {},
   "outputs": [],
   "source": []
  },
  {
   "cell_type": "markdown",
   "id": "f64cafa1-8c72-4798-9e5d-eabaa9f2f0bf",
   "metadata": {},
   "source": [
    "## 3.4 - Diferentes tipos de GANs"
   ]
  },
  {
   "cell_type": "code",
   "execution_count": null,
   "id": "be032f4b-bc19-4396-aeb1-30b63bf73114",
   "metadata": {},
   "outputs": [],
   "source": []
  },
  {
   "cell_type": "markdown",
   "id": "a6a3c4c9-8bca-49ec-a531-c632437951e3",
   "metadata": {},
   "source": [
    "### 3.4.1 - GANs semisupervisadas"
   ]
  },
  {
   "cell_type": "code",
   "execution_count": null,
   "id": "b3920e7f-090c-42c0-ac73-53bdc4cf85e8",
   "metadata": {},
   "outputs": [],
   "source": []
  },
  {
   "cell_type": "markdown",
   "id": "41626ea0-7ecc-4c6a-9b99-3b4de07333e9",
   "metadata": {},
   "source": [
    "### 3.4.2 - GANs condicionales"
   ]
  },
  {
   "cell_type": "code",
   "execution_count": null,
   "id": "ffffe947-9ea4-477f-904d-949774185372",
   "metadata": {},
   "outputs": [],
   "source": []
  },
  {
   "cell_type": "markdown",
   "id": "7002a63e-83fd-48cc-87bc-1a3d2670a2ae",
   "metadata": {},
   "source": [
    "### 3.4.3 - GANs cíclicas"
   ]
  },
  {
   "cell_type": "code",
   "execution_count": null,
   "id": "2c0d39ee-66cb-4d17-9de7-35c703037e26",
   "metadata": {},
   "outputs": [],
   "source": []
  }
 ],
 "metadata": {
  "kernelspec": {
   "display_name": "Python 3 (ipykernel)",
   "language": "python",
   "name": "python3"
  },
  "language_info": {
   "codemirror_mode": {
    "name": "ipython",
    "version": 3
   },
   "file_extension": ".py",
   "mimetype": "text/x-python",
   "name": "python",
   "nbconvert_exporter": "python",
   "pygments_lexer": "ipython3",
   "version": "3.10.4"
  }
 },
 "nbformat": 4,
 "nbformat_minor": 5
}
