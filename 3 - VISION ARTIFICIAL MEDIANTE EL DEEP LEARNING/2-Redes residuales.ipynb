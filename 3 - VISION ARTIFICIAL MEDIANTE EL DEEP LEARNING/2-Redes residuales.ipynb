{
 "cells": [
  {
   "cell_type": "markdown",
   "id": "d1737885-5617-4515-87e6-bcc336b39fb1",
   "metadata": {},
   "source": [
    "# 2 - Redes neuronales residuales (ResNets)\n",
    "\n",
    "**Sumario**\n",
    "\n",
    "1. Redes neuronales residuales (ResNet)\n",
    "2. Transferencia de aprendizaje sobre ResNet"
   ]
  },
  {
   "cell_type": "markdown",
   "id": "080f3702-71a1-4a7f-9761-ee02b20511a1",
   "metadata": {},
   "source": [
    "## 2.1 - Redes neuronales residuales (ResNet)"
   ]
  },
  {
   "cell_type": "markdown",
   "id": "a01a302b-d4e6-453e-87a1-9a2c65fae422",
   "metadata": {},
   "source": [
    "Las redes convolucionales son muy escalables. De este modo, **cuanto mayor sea la cantidad de información que queramos obtener o más compleja, mayor será el número de capas de la sección de extracción** (i.e., capas convolucionales y de pooling) que debemos utilizar, lo que aumentará considerablemente la profundidad de la red y, por tanto, su complejidad. Este aumento de la profundidad puede suponer la aparición del problema del **desvanecimiento del gradiente**.\n",
    "\n",
    "[Este fenómeno fue observado en 2015 por Kaiming He et al.](https://arxiv.org/pdf/1512.03385.pdf) Incluso después de aplicar *batch normalization*, vieron que una red que usaba más capas funcionaba peor que una red que usaba menos capas, y no había otras diferencias entre los modelos. Lo más interesante es que la diferencia se observó no solo en el conjunto de validación, sino también en el conjunto de entrenamiento; entonces, **no era solo un problema de generalización, sino un problema de entrenamiento**.\n",
    "\n",
    "<img src=\"images_2/problema_convolucionales.png\" width=\"600\" data-align=\"center\">\n",
    "\n",
    "Con el objetivo de evitar este problema, se desarrollaron las redes residuales (*Residual Networks*, ResNet por sus siglas en inglés), que constituyen una evolución de las redes convolucionales donde **se incluyen \"atajos\" o saltos entre las diferentes capas**. Estas nuevas conexiones otorgan flexibilidad de aprendizaje a la red sin añadir casi parámetros. Son interesantes porque le permiten \"no utilizar\" ciertas capas a menos que sea necesario y le ayudan a reducir el problema del desvanecimiento del gradiente.\n",
    "\n",
    "<img src=\"images_2/bloque_residual.png\" width=\"500\" data-align=\"center\">\n",
    "\n",
    "Consideremos que tenemos un bloque residual formado por dos capas convolucionales que devuelve $y = x + \\text{bloque}(x)$. Dado que $x$ es la información del bloque anterior, lo que estamos buscando que aprenda la red aqui es la diferencia entre $x$ e $y$. Es decir, si el nuevo bloque aporta información nueva o con la que teníamos en el bloque anterior ya es suficiente. \n",
    "\n",
    "Por lo tanto, **una ResNet es buena para aprender sobre las ligeras diferencias entre no hacer nada y pasar a través de un bloque de dos capas convolucionales (con pesos entrenables)**. Así es como estos modelos obtuvieron su nombre: **predicen residuos** (el residuo es valor obtenido de restar la predicción menos el objetivo). A continuación se muestra la estructura de una ResNet profunda que incluye saltos cada dos capas convolucionales (i.e., un \"bloque\").\n",
    "\n",
    "<img src=\"images_2/resnet.png\" width=\"600\" data-align=\"center\">\n",
    "\n",
    "Este tipo de \"capa\" o bloque no está incluida entra las que ofrece Keras, así que debemos crearlo manualmnte mediante otras capas más básicas. Para ello, incluiremos una serie de modificaciones sobre el modelo convolucional definido en la unidad anterior."
   ]
  },
  {
   "cell_type": "markdown",
   "id": "2bac6dc5-65cd-4588-839f-4d77eae18a64",
   "metadata": {},
   "source": [
    "### 2.1.1 - Importación de librerías"
   ]
  },
  {
   "cell_type": "code",
   "execution_count": 1,
   "id": "3930ad6e-0fc1-4dfc-b1f4-3f73e1e3019b",
   "metadata": {},
   "outputs": [],
   "source": [
    "from keras import Input\n",
    "from keras import Model\n",
    "from keras.layers import Conv2D, Flatten, Dense, MaxPooling2D, Activation\n",
    "from keras.layers import Add, BatchNormalization"
   ]
  },
  {
   "cell_type": "markdown",
   "id": "3d9eddd6-3fb3-4595-b9b7-eb22ae579e78",
   "metadata": {},
   "source": [
    "### 2.1.2 - Definición del bloque residual"
   ]
  },
  {
   "cell_type": "markdown",
   "id": "b85d2240-6a4a-49f2-88e1-9e3a517e9a85",
   "metadata": {},
   "source": [
    "Para este ejemplo, vamos a construir un bloque residual similar al que hemos presentado anteriormente. Se le denomina a veces como \"bloque residual V1\". "
   ]
  },
  {
   "cell_type": "code",
   "execution_count": null,
   "id": "66a5e7bc-f992-4460-a0cc-62e6842dad41",
   "metadata": {},
   "outputs": [],
   "source": []
  },
  {
   "cell_type": "markdown",
   "id": "cff83663-1872-42a1-9000-3afebc3433cf",
   "metadata": {},
   "source": [
    "### 2.1.3 - Definición de la red de neuronas"
   ]
  },
  {
   "cell_type": "code",
   "execution_count": null,
   "id": "a7bb5f7a-625e-4dae-9ab1-8efeef0789d1",
   "metadata": {},
   "outputs": [],
   "source": []
  },
  {
   "cell_type": "markdown",
   "id": "8d45e8b3-1974-4613-9f86-fb35c850f867",
   "metadata": {},
   "source": [
    "### 2.1.4 - Otros tipos de bloques ResNet"
   ]
  },
  {
   "cell_type": "code",
   "execution_count": null,
   "id": "b34a7264-601a-41cc-9d0f-8838a4629d36",
   "metadata": {},
   "outputs": [],
   "source": []
  },
  {
   "cell_type": "markdown",
   "id": "f5142773-8240-4f65-94d4-105fa284236c",
   "metadata": {},
   "source": [
    "## 2.2 - Transferencia de aprendizaje sobre ResNet"
   ]
  },
  {
   "cell_type": "code",
   "execution_count": null,
   "id": "02d48195-077e-4096-b940-d174b1287c61",
   "metadata": {},
   "outputs": [],
   "source": []
  },
  {
   "cell_type": "markdown",
   "id": "8d806732-be28-4c7c-9c24-aa22bab87a8c",
   "metadata": {},
   "source": [
    "### 2.2.1 - Importación de librerías"
   ]
  },
  {
   "cell_type": "code",
   "execution_count": null,
   "id": "05a307ab-5e95-455b-9a3e-4dd292cb4518",
   "metadata": {},
   "outputs": [],
   "source": []
  },
  {
   "cell_type": "markdown",
   "id": "d981819e-2b4f-414f-8ecf-693a185d5039",
   "metadata": {},
   "source": [
    "### 2.2.2 - Creación de la red"
   ]
  },
  {
   "cell_type": "code",
   "execution_count": null,
   "id": "67fea8a8-0543-4a86-b958-2036c5583254",
   "metadata": {},
   "outputs": [],
   "source": []
  }
 ],
 "metadata": {
  "kernelspec": {
   "display_name": "Python 3 (ipykernel)",
   "language": "python",
   "name": "python3"
  },
  "language_info": {
   "codemirror_mode": {
    "name": "ipython",
    "version": 3
   },
   "file_extension": ".py",
   "mimetype": "text/x-python",
   "name": "python",
   "nbconvert_exporter": "python",
   "pygments_lexer": "ipython3",
   "version": "3.10.4"
  }
 },
 "nbformat": 4,
 "nbformat_minor": 5
}
