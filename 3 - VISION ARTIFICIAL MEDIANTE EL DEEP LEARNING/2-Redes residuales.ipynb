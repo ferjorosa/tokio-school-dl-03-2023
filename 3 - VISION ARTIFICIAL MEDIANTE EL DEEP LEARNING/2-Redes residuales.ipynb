{
 "cells": [
  {
   "cell_type": "markdown",
   "id": "d1737885-5617-4515-87e6-bcc336b39fb1",
   "metadata": {},
   "source": [
    "# 2 - Redes neuronales residuales (ResNets)\n",
    "\n",
    "**Sumario**\n",
    "\n",
    "1. Redes neuronales residuales (ResNet)\n",
    "2. Transferencia de aprendizaje sobre ResNet"
   ]
  },
  {
   "cell_type": "markdown",
   "id": "080f3702-71a1-4a7f-9761-ee02b20511a1",
   "metadata": {},
   "source": [
    "## 2.1 - Redes neuronales residuales (ResNet)"
   ]
  },
  {
   "cell_type": "code",
   "execution_count": null,
   "id": "df271e19-18be-4885-8a1c-0c5ff2d5e91d",
   "metadata": {},
   "outputs": [],
   "source": []
  },
  {
   "cell_type": "markdown",
   "id": "2bac6dc5-65cd-4588-839f-4d77eae18a64",
   "metadata": {},
   "source": [
    "### 2.1.1 - Importación de librerías"
   ]
  },
  {
   "cell_type": "code",
   "execution_count": null,
   "id": "3930ad6e-0fc1-4dfc-b1f4-3f73e1e3019b",
   "metadata": {},
   "outputs": [],
   "source": []
  },
  {
   "cell_type": "markdown",
   "id": "3d9eddd6-3fb3-4595-b9b7-eb22ae579e78",
   "metadata": {},
   "source": [
    "### 2.1.2 - Definición del bloque residual"
   ]
  },
  {
   "cell_type": "code",
   "execution_count": null,
   "id": "0dbedf7f-6d21-422b-b741-055c90a5aa47",
   "metadata": {},
   "outputs": [],
   "source": []
  },
  {
   "cell_type": "markdown",
   "id": "cff83663-1872-42a1-9000-3afebc3433cf",
   "metadata": {},
   "source": [
    "### 2.1.3 - Definición de la red de neuronas"
   ]
  },
  {
   "cell_type": "code",
   "execution_count": null,
   "id": "a7bb5f7a-625e-4dae-9ab1-8efeef0789d1",
   "metadata": {},
   "outputs": [],
   "source": []
  },
  {
   "cell_type": "markdown",
   "id": "8d45e8b3-1974-4613-9f86-fb35c850f867",
   "metadata": {},
   "source": [
    "### 2.1.4 - Otros tipos de bloques ResNet"
   ]
  },
  {
   "cell_type": "code",
   "execution_count": null,
   "id": "b34a7264-601a-41cc-9d0f-8838a4629d36",
   "metadata": {},
   "outputs": [],
   "source": []
  },
  {
   "cell_type": "markdown",
   "id": "f5142773-8240-4f65-94d4-105fa284236c",
   "metadata": {},
   "source": [
    "## 2.2 - Transferencia de aprendizaje sobre ResNet"
   ]
  },
  {
   "cell_type": "code",
   "execution_count": null,
   "id": "02d48195-077e-4096-b940-d174b1287c61",
   "metadata": {},
   "outputs": [],
   "source": []
  },
  {
   "cell_type": "markdown",
   "id": "8d806732-be28-4c7c-9c24-aa22bab87a8c",
   "metadata": {},
   "source": [
    "### 2.2.1 - Importación de librerías"
   ]
  },
  {
   "cell_type": "code",
   "execution_count": null,
   "id": "05a307ab-5e95-455b-9a3e-4dd292cb4518",
   "metadata": {},
   "outputs": [],
   "source": []
  },
  {
   "cell_type": "markdown",
   "id": "d981819e-2b4f-414f-8ecf-693a185d5039",
   "metadata": {},
   "source": [
    "### 2.2.2 - Creación de la red"
   ]
  },
  {
   "cell_type": "code",
   "execution_count": null,
   "id": "67fea8a8-0543-4a86-b958-2036c5583254",
   "metadata": {},
   "outputs": [],
   "source": []
  }
 ],
 "metadata": {
  "kernelspec": {
   "display_name": "Python 3 (ipykernel)",
   "language": "python",
   "name": "python3"
  },
  "language_info": {
   "codemirror_mode": {
    "name": "ipython",
    "version": 3
   },
   "file_extension": ".py",
   "mimetype": "text/x-python",
   "name": "python",
   "nbconvert_exporter": "python",
   "pygments_lexer": "ipython3",
   "version": "3.10.4"
  }
 },
 "nbformat": 4,
 "nbformat_minor": 5
}
