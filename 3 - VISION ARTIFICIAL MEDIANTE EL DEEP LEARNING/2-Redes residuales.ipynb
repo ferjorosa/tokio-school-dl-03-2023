{
 "cells": [
  {
   "cell_type": "markdown",
   "id": "d1737885-5617-4515-87e6-bcc336b39fb1",
   "metadata": {},
   "source": [
    "# 2 - Redes neuronales residuales (ResNets)\n",
    "\n",
    "**Sumario**\n",
    "\n",
    "1. Redes neuronales residuales (ResNet)\n",
    "2. Transferencia de aprendizaje sobre ResNet"
   ]
  },
  {
   "cell_type": "markdown",
   "id": "080f3702-71a1-4a7f-9761-ee02b20511a1",
   "metadata": {},
   "source": [
    "## 2.1 - Redes neuronales residuales (ResNet)"
   ]
  },
  {
   "cell_type": "markdown",
   "id": "a01a302b-d4e6-453e-87a1-9a2c65fae422",
   "metadata": {},
   "source": [
    "Las redes convolucionales son muy escalables. De este modo, **cuanto mayor sea la cantidad de información que queramos obtener o más compleja, mayor será el número de capas de la sección de extracción** (i.e., capas convolucionales y de pooling) que debemos utilizar, lo que aumentará considerablemente la profundidad de la red y, por tanto, su complejidad. Este aumento de la profundidad puede suponer la aparición del problema del **desvanecimiento del gradiente**.\n",
    "\n",
    "[Este fenómeno fue observado en 2015 por Kaiming He et al.](https://arxiv.org/pdf/1512.03385.pdf) Incluso después de aplicar *batch normalization*, vieron que una red que usaba más capas funcionaba peor que una red que usaba menos capas, y no había otras diferencias entre los modelos. Lo más interesante es que la diferencia se observó no solo en el conjunto de validación, sino también en el conjunto de entrenamiento; entonces, **no era solo un problema de generalización, sino un problema de entrenamiento**.\n",
    "\n",
    "<img src=\"images_2/problema_convolucionales.png\" width=\"600\" data-align=\"center\">\n",
    "\n",
    "Con el objetivo de evitar este problema, se desarrollaron las redes residuales (*Residual Networks*, ResNet por sus siglas en inglés), que constituyen una evolución de las redes convolucionales donde **se incluyen \"atajos\" o saltos entre las diferentes capas**. Estas nuevas conexiones otorgan flexibilidad de aprendizaje a la red sin añadir casi parámetros. Son interesantes porque le permiten \"no utilizar\" ciertas capas a menos que sea necesario y le ayudan a reducir el problema del desvanecimiento del gradiente.\n",
    "\n",
    "<img src=\"images_2/bloque_residual.png\" width=\"500\" data-align=\"center\">\n",
    "\n",
    "Consideremos que tenemos un bloque residual formado por dos capas convolucionales que devuelve $y = x + \\text{bloque}(x)$. Dado que $x$ es la información del bloque anterior, lo que estamos buscando que aprenda la red aqui es la diferencia entre $x$ e $y$. Es decir, si el nuevo bloque aporta información nueva o con la que teníamos en el bloque anterior ya es suficiente. \n",
    "\n",
    "Por lo tanto, **una ResNet es buena para aprender sobre las ligeras diferencias entre no hacer nada y pasar a través de un bloque de dos capas convolucionales (con pesos entrenables)**. Así es como estos modelos obtuvieron su nombre: **predicen residuos** (el residuo es valor obtenido de restar la predicción menos el objetivo). A continuación se muestra la estructura de una ResNet profunda que incluye saltos cada dos capas convolucionales (i.e., un \"bloque\").\n",
    "\n",
    "<img src=\"images_2/resnet.png\" width=\"600\" data-align=\"center\">\n",
    "\n",
    "Este tipo de \"capa\" o bloque no está incluida entra las que ofrece Keras, así que debemos crearlo manualmnte mediante otras capas más básicas. Para ello, incluiremos una serie de modificaciones sobre el modelo convolucional definido en la unidad anterior."
   ]
  },
  {
   "cell_type": "markdown",
   "id": "2bac6dc5-65cd-4588-839f-4d77eae18a64",
   "metadata": {},
   "source": [
    "### 2.1.1 - Importación de librerías"
   ]
  },
  {
   "cell_type": "code",
   "execution_count": 54,
   "id": "3930ad6e-0fc1-4dfc-b1f4-3f73e1e3019b",
   "metadata": {},
   "outputs": [],
   "source": [
    "from tensorflow import keras\n",
    "from keras import Input\n",
    "from keras import Model\n",
    "from keras.layers import Conv2D, Flatten, Dense, MaxPooling2D, Activation\n",
    "from keras.layers import Add, BatchNormalization"
   ]
  },
  {
   "cell_type": "markdown",
   "id": "3d9eddd6-3fb3-4595-b9b7-eb22ae579e78",
   "metadata": {},
   "source": [
    "### 2.1.2 - Definición del bloque residual"
   ]
  },
  {
   "cell_type": "markdown",
   "id": "b85d2240-6a4a-49f2-88e1-9e3a517e9a85",
   "metadata": {},
   "source": [
    "Para este ejemplo, vamos a construir un bloque residual similar al que hemos presentado anteriormente. Se le denomina a veces como \"bloque residual V1\". "
   ]
  },
  {
   "cell_type": "code",
   "execution_count": 16,
   "id": "66a5e7bc-f992-4460-a0cc-62e6842dad41",
   "metadata": {},
   "outputs": [],
   "source": [
    "def resnet_block_v1(name, input, filters, kernels = [(3,3), (3,3)]):\n",
    "    \n",
    "    # Definición de la primera capa convolucional\n",
    "    output = Conv2D(\n",
    "        filters=filters,\n",
    "        kernel_size=kernels[0],\n",
    "        strides=(1,1),\n",
    "        padding=\"same\",\n",
    "        name=f\"resnet_layer_{name}_1\"\n",
    "    )(input) # aplicamos la capa sobre el input\n",
    "    \n",
    "    # Definición de la capa de normalización\n",
    "    output = BatchNormalization(\n",
    "        axis=3,\n",
    "        name=f\"batch_norm_{name}_1\"\n",
    "    )(output) # aplicamos la capa sobre el input\n",
    "    \n",
    "    # Definición de la función de activación de la primera capa convolucional\n",
    "    output = Activation(\"relu\")(output)\n",
    "    \n",
    "    # Definición de la segunda capa convolucional\n",
    "    output = Conv2D(\n",
    "        filters=filters,\n",
    "        kernel_size=kernels[1],\n",
    "        strides=(1,1),\n",
    "        padding=\"same\",\n",
    "        name=f\"resnet_layer_{name}_2\"\n",
    "    )(output) # aplicamos la capa sobre el input\n",
    "    \n",
    "    # Definición de la capa de normalización\n",
    "    output = BatchNormalization(\n",
    "        axis=3,\n",
    "        name=f\"batch_norm_{name}_2\"\n",
    "    )(output) # aplicamos la capa sobre el input\n",
    "    \n",
    "    # Definición de la operación de suma entre capa convolucional y la entrada inicial\n",
    "    output = Add()([output, input])\n",
    "    \n",
    "    # Definición de la función de activación final\n",
    "    output = Activation(\"relu\")(output)\n",
    "    \n",
    "    return output"
   ]
  },
  {
   "cell_type": "markdown",
   "id": "81f6bd57-424b-4eb2-8dff-db20c6f61846",
   "metadata": {},
   "source": [
    "----\n",
    "\n",
    "**¿Por qué no usamos max-pooling en los bloques residuales?**\n",
    "\n",
    "Max-pooling es una técnica comúnmente utilizada en las redes convolucionales tradicionales para reducir la dimensionalidad de la imagen con el fin de reducir la complejidad computacional y el sobreajuste. Sin embargo, max-pooling provoca la pérdida de información, ya que solo toma el valor máximo/medio de cada ventana de agrupación y descarta el resto.\n",
    "\n",
    "<table>\n",
    "    <tr>\n",
    "        <th><i>Average-pooling</i></th>\n",
    "        <th><i>Max-pooling</i></th>\n",
    "    </tr>\n",
    "    <tr>\n",
    "        <td><img src=\"images_1/average_pooling.png\" width=\"450\" data-align=\"center\"></td>\n",
    "        <td><img src=\"images_1/max_pooling.png\" width=\"450\" data-align=\"center\"></td>\n",
    "    </tr>\n",
    "</table>\n",
    "\n",
    "En ResNets el problema de la complejidad computacional y el sobreajuste se aborda mediante el uso de conexiones de acceso directo, que permiten que la red pase por alto una o más capas, conservando de manera efectiva la dimensionalidad de la imagen. **Esto permite que la red retenga más información y reduce el riesgo de pérdida de información**.\n",
    "\n",
    "Además, la arquitectura ResNet está diseñada para ser más profunda que las CNN tradicionales, por lo tanto, el uso de max-pooling puede dificultar el mantenimiento de las dimensiones espaciales de los mapas de características. Como resultado, las capas de agrupación máxima normalmente no se incluyen en las arquitecturas de ResNet, ya que no son necesarias para el diseño y la operación de la red.\n",
    "\n",
    "----"
   ]
  },
  {
   "cell_type": "markdown",
   "id": "c29acc7f-7bb8-4754-be51-603d431bb022",
   "metadata": {},
   "source": [
    "### 2.1.3 - Otro tipos de bloques ResNet"
   ]
  },
  {
   "cell_type": "markdown",
   "id": "5ecd6a94-29c5-497f-a480-4216dd7c255d",
   "metadata": {},
   "source": [
    "Además de las redes residuales (ResNet) v1 que hemos implementado en este ejemplo, existen otros tipos de bloques definidos para las ResNet:\n",
    "\n",
    "* **Redes residuales v2**. Se trata de una evolución de la versión inicial donde los procesos de normalización se realizan antes de la ejecución de las capas convolucionales:\n",
    "\n",
    "<img src=\"images_2/bloque_residual_v2.png\" width=\"650\" data-align=\"center\">"
   ]
  },
  {
   "cell_type": "markdown",
   "id": "cff83663-1872-42a1-9000-3afebc3433cf",
   "metadata": {},
   "source": [
    "### 2.1.4 - Definición de la red de neuronas"
   ]
  },
  {
   "cell_type": "markdown",
   "id": "8c0f1ba5-24e2-4ff6-aef9-8f000f343b8e",
   "metadata": {},
   "source": [
    "Una vez hemos definido nuestro bloque residual, podemos crear una red con las siguientes características:\n",
    "\n",
    "* Una capa convolucional con 16 filtros de 3x3 y activación ReLU, junto a max_pooling\n",
    "* Una capa convolucional con 32 filtros de 3x3 y activación ReLU, junto a max_pooling\n",
    "* Una serie de 2 bloques residuales v1 con 32 filtros 3x3 cada uno de ellos\n",
    "* Una capa densa con 512 neuronas y activación ReLU\n",
    "* Una capa densa con 1 neurona y activación sigmoidal"
   ]
  },
  {
   "cell_type": "code",
   "execution_count": 34,
   "id": "e2812a7b-3584-49dd-a41f-b56d1048dbb1",
   "metadata": {},
   "outputs": [],
   "source": [
    "input_size = 150\n",
    "num_colors = 3\n",
    "\n",
    "# Definición de la entrada\n",
    "input = Input(\n",
    "    shape=(input_size, input_size, num_colors)\n",
    ")\n",
    "\n",
    "# Capa convolucional # 1\n",
    "output = Conv2D(\n",
    "    16,\n",
    "    (3,3)\n",
    ")(input)\n",
    "output = Activation(\"relu\")(output)\n",
    "output = MaxPooling2D(\n",
    "    (2,2)\n",
    ")(output)\n",
    "\n",
    "# Capa convolucional # 2\n",
    "output = Conv2D(\n",
    "    32,\n",
    "    (3,3),\n",
    ")(output)\n",
    "output = Activation(\"relu\")(output)\n",
    "output = MaxPooling2D(\n",
    "    (2,2)\n",
    ")(output)\n",
    "\n",
    "# Bloques residuales\n",
    "output = resnet_block_v1(\"1\", output, 32)\n",
    "output = resnet_block_v1(\"2\", output, 32)\n",
    "\n",
    "# Capa densa\n",
    "output = Flatten()(output)\n",
    "output = Dense(\n",
    "    512,\n",
    "    activation=\"relu\"\n",
    ")(output)\n",
    "\n",
    "# Función de activación final\n",
    "output = Dense(\n",
    "    1,\n",
    "    activation=\"sigmoid\"\n",
    ")(output)"
   ]
  },
  {
   "cell_type": "code",
   "execution_count": 35,
   "id": "9157c354-1a81-4076-a1bd-95d790a70b8a",
   "metadata": {},
   "outputs": [
    {
     "name": "stdout",
     "output_type": "stream",
     "text": [
      "Model: \"ResNet_32\"\n",
      "__________________________________________________________________________________________________\n",
      " Layer (type)                   Output Shape         Param #     Connected to                     \n",
      "==================================================================================================\n",
      " input_15 (InputLayer)          [(None, 150, 150, 3  0           []                               \n",
      "                                )]                                                                \n",
      "                                                                                                  \n",
      " conv2d_26 (Conv2D)             (None, 148, 148, 16  448         ['input_15[0][0]']               \n",
      "                                )                                                                 \n",
      "                                                                                                  \n",
      " activation_44 (Activation)     (None, 148, 148, 16  0           ['conv2d_26[0][0]']              \n",
      "                                )                                                                 \n",
      "                                                                                                  \n",
      " max_pooling2d_26 (MaxPooling2D  (None, 74, 74, 16)  0           ['activation_44[0][0]']          \n",
      " )                                                                                                \n",
      "                                                                                                  \n",
      " conv2d_27 (Conv2D)             (None, 72, 72, 32)   4640        ['max_pooling2d_26[0][0]']       \n",
      "                                                                                                  \n",
      " activation_45 (Activation)     (None, 72, 72, 32)   0           ['conv2d_27[0][0]']              \n",
      "                                                                                                  \n",
      " max_pooling2d_27 (MaxPooling2D  (None, 36, 36, 32)  0           ['activation_45[0][0]']          \n",
      " )                                                                                                \n",
      "                                                                                                  \n",
      " resnet_layer_1_1 (Conv2D)      (None, 36, 36, 32)   9248        ['max_pooling2d_27[0][0]']       \n",
      "                                                                                                  \n",
      " batch_norm_1_1 (BatchNormaliza  (None, 36, 36, 32)  128         ['resnet_layer_1_1[0][0]']       \n",
      " tion)                                                                                            \n",
      "                                                                                                  \n",
      " activation_46 (Activation)     (None, 36, 36, 32)   0           ['batch_norm_1_1[0][0]']         \n",
      "                                                                                                  \n",
      " resnet_layer_1_2 (Conv2D)      (None, 36, 36, 32)   9248        ['activation_46[0][0]']          \n",
      "                                                                                                  \n",
      " batch_norm_1_2 (BatchNormaliza  (None, 36, 36, 32)  128         ['resnet_layer_1_2[0][0]']       \n",
      " tion)                                                                                            \n",
      "                                                                                                  \n",
      " add_9 (Add)                    (None, 36, 36, 32)   0           ['batch_norm_1_2[0][0]',         \n",
      "                                                                  'max_pooling2d_27[0][0]']       \n",
      "                                                                                                  \n",
      " activation_47 (Activation)     (None, 36, 36, 32)   0           ['add_9[0][0]']                  \n",
      "                                                                                                  \n",
      " resnet_layer_2_1 (Conv2D)      (None, 36, 36, 32)   9248        ['activation_47[0][0]']          \n",
      "                                                                                                  \n",
      " batch_norm_2_1 (BatchNormaliza  (None, 36, 36, 32)  128         ['resnet_layer_2_1[0][0]']       \n",
      " tion)                                                                                            \n",
      "                                                                                                  \n",
      " activation_48 (Activation)     (None, 36, 36, 32)   0           ['batch_norm_2_1[0][0]']         \n",
      "                                                                                                  \n",
      " resnet_layer_2_2 (Conv2D)      (None, 36, 36, 32)   9248        ['activation_48[0][0]']          \n",
      "                                                                                                  \n",
      " batch_norm_2_2 (BatchNormaliza  (None, 36, 36, 32)  128         ['resnet_layer_2_2[0][0]']       \n",
      " tion)                                                                                            \n",
      "                                                                                                  \n",
      " add_10 (Add)                   (None, 36, 36, 32)   0           ['batch_norm_2_2[0][0]',         \n",
      "                                                                  'activation_47[0][0]']          \n",
      "                                                                                                  \n",
      " activation_49 (Activation)     (None, 36, 36, 32)   0           ['add_10[0][0]']                 \n",
      "                                                                                                  \n",
      " flatten_12 (Flatten)           (None, 41472)        0           ['activation_49[0][0]']          \n",
      "                                                                                                  \n",
      " dense_24 (Dense)               (None, 512)          21234176    ['flatten_12[0][0]']             \n",
      "                                                                                                  \n",
      " dense_25 (Dense)               (None, 1)            513         ['dense_24[0][0]']               \n",
      "                                                                                                  \n",
      "==================================================================================================\n",
      "Total params: 21,277,281\n",
      "Trainable params: 21,277,025\n",
      "Non-trainable params: 256\n",
      "__________________________________________________________________________________________________\n"
     ]
    }
   ],
   "source": [
    "model = Model(inputs=input, outputs=output, name=\"ResNet_32\")\n",
    "\n",
    "# Configuración del algoritmo de optimización y de la función de loss\n",
    "model.compile(loss='binary_crossentropy',\n",
    "              optimizer=\"adam\",\n",
    "              metrics=['accuracy'])\n",
    "\n",
    "# Visualización de la estructura de la red\n",
    "model.summary()"
   ]
  },
  {
   "cell_type": "markdown",
   "id": "6bb7af30-778a-4bfc-a81e-b735844b4331",
   "metadata": {},
   "source": [
    "### 2.1.5 - Entrenamiento con el dataset \"cats_and_dogs_filtered\""
   ]
  },
  {
   "cell_type": "markdown",
   "id": "379e9510-05ce-4941-aaba-f9122c12be08",
   "metadata": {},
   "source": [
    "#### Descarga de datos"
   ]
  },
  {
   "cell_type": "code",
   "execution_count": 36,
   "id": "f460dd0f-1c95-4563-b190-7ed3aef11109",
   "metadata": {},
   "outputs": [
    {
     "data": {
      "text/plain": [
       "True"
      ]
     },
     "execution_count": 36,
     "metadata": {},
     "output_type": "execute_result"
    }
   ],
   "source": [
    "import os\n",
    "os.path.isfile(\"./cats_and_dogs_filtered.zip\")"
   ]
  },
  {
   "cell_type": "code",
   "execution_count": 37,
   "id": "04ac428c-954f-4a88-9ebf-19edecc589a7",
   "metadata": {},
   "outputs": [
    {
     "name": "stdout",
     "output_type": "stream",
     "text": [
      "Ya se encuentra descargado el archivo en el directorio actual\n"
     ]
    }
   ],
   "source": [
    "import wget\n",
    "import os\n",
    "\n",
    "if os.path.isfile(\"./cats_and_dogs_filtered.zip\") == False:\n",
    "    url = \"https://storage.googleapis.com/mledu-datasets/cats_and_dogs_filtered.zip\"\n",
    "    filename = wget.download(url)\n",
    "else:\n",
    "    print(\"Ya se encuentra descargado el archivo en el directorio actual\")"
   ]
  },
  {
   "cell_type": "code",
   "execution_count": 38,
   "id": "31d3082f-6709-4bee-896b-4a019ab3f5c9",
   "metadata": {},
   "outputs": [],
   "source": [
    "import  zipfile\n",
    "\n",
    "local_zip = \"./cats_and_dogs_filtered.zip\"\n",
    "zip_ref = zipfile.ZipFile(local_zip, 'r')\n",
    "zip_ref.extractall('.')\n",
    "zip_ref.close()"
   ]
  },
  {
   "cell_type": "code",
   "execution_count": 39,
   "id": "10bc885a-e147-4466-9d5a-1c67d3cc377e",
   "metadata": {},
   "outputs": [
    {
     "name": "stdout",
     "output_type": "stream",
     "text": [
      "total training cat images: 1000\n",
      "total training dog images: 1000\n",
      "total validation cat images: 500\n",
      "total validation dog images: 500\n"
     ]
    }
   ],
   "source": [
    "base_dir = './cats_and_dogs_filtered'\n",
    "train_dir = os.path.join(base_dir, 'train')\n",
    "validation_dir = os.path.join(base_dir, 'validation')\n",
    "\n",
    "# Directory with our training cat pictures\n",
    "train_cats_dir = os.path.join(train_dir, 'cats')\n",
    "\n",
    "# Directory with our training dog pictures\n",
    "train_dogs_dir = os.path.join(train_dir, 'dogs')\n",
    "\n",
    "# Directory with our validation cat pictures\n",
    "validation_cats_dir = os.path.join(validation_dir, 'cats')\n",
    "\n",
    "# Directory with our validation dog pictures\n",
    "validation_dogs_dir = os.path.join(validation_dir, 'dogs')\n",
    "\n",
    "print('total training cat images:', len(os.listdir(train_cats_dir)))\n",
    "print('total training dog images:', len(os.listdir(train_dogs_dir)))\n",
    "print('total validation cat images:', len(os.listdir(validation_cats_dir)))\n",
    "print('total validation dog images:', len(os.listdir(validation_dogs_dir)))"
   ]
  },
  {
   "cell_type": "markdown",
   "id": "0e4c5173-b153-49da-b236-029be4e8ab9a",
   "metadata": {},
   "source": [
    "#### Augmentación de datos"
   ]
  },
  {
   "cell_type": "code",
   "execution_count": 40,
   "id": "8427db2b-71f5-4629-84e8-eb9fa2c3f654",
   "metadata": {},
   "outputs": [
    {
     "name": "stdout",
     "output_type": "stream",
     "text": [
      "Found 2000 images belonging to 2 classes.\n"
     ]
    }
   ],
   "source": [
    "from tensorflow.keras.preprocessing.image import ImageDataGenerator\n",
    "\n",
    "# Creamos un generador de imágenes con augmentación\n",
    "train_datagen = ImageDataGenerator(\n",
    "    rescale=1./255,\n",
    "    rotation_range=30,\n",
    "    width_shift_range=0.2,\n",
    "    height_shift_range=0.2,\n",
    "    shear_range=0.2,\n",
    "    zoom_range=0.2,\n",
    "    horizontal_flip=True,\n",
    "    fill_mode=\"nearest\"\n",
    ")\n",
    "\n",
    "# Generador de datos de aprendizaje en batches de 128\n",
    "train_generator = train_datagen.flow_from_directory(\n",
    "    # Definimos el directorio donde se encuentran las imágenes\n",
    "    \"./cats_and_dogs_filtered/train/\",\n",
    "    # Transformamos todas las imágenes a 150x150\n",
    "    target_size=(150,150),\n",
    "    # Agrupamos las imágenes en batches de 100\n",
    "    batch_size=100,\n",
    "    # Indicamos que las imágenes se mantengan en color (RGB)\n",
    "    color_mode=\"rgb\",\n",
    "    # Definimos el problema de clasificación binaria\n",
    "    class_mode='binary'\n",
    ")"
   ]
  },
  {
   "cell_type": "code",
   "execution_count": 41,
   "id": "3fd3ed30-27da-4133-b7e6-45664313d595",
   "metadata": {},
   "outputs": [
    {
     "name": "stdout",
     "output_type": "stream",
     "text": [
      "Found 2000 images belonging to 2 classes.\n"
     ]
    }
   ],
   "source": [
    "# Creamos un generador de imagenes que simplemente reescala para los datos de validación\n",
    "val_datagen = ImageDataGenerator(\n",
    "    rescale=1./255,\n",
    ")\n",
    "\n",
    "# Generador de datos de validación en batches de 128\n",
    "val_generator = val_datagen.flow_from_directory(\n",
    "    # Definimos el directorio donde se encuentran las imágenes\n",
    "    \"./cats_and_dogs_filtered/train/\",\n",
    "    # Transformamos todas las imágenes a 150x150\n",
    "    target_size=(150,150),\n",
    "    # Agrupamos las imágenes en batches de 100\n",
    "    batch_size=100,\n",
    "    # Indicamos que las imágenes se mantengan en color (RGB)\n",
    "    color_mode=\"rgb\",\n",
    "    # Definimos el problema de clasificación binaria\n",
    "    class_mode='binary'\n",
    ")"
   ]
  },
  {
   "cell_type": "markdown",
   "id": "71704f62-fa4b-45bf-9d14-edfdc1a94c32",
   "metadata": {},
   "source": [
    "#### Entrenamiento de la red"
   ]
  },
  {
   "cell_type": "code",
   "execution_count": 42,
   "id": "b965d60b-12f4-4657-bc23-66ed32b780fa",
   "metadata": {},
   "outputs": [
    {
     "name": "stdout",
     "output_type": "stream",
     "text": [
      "Epoch 1/15\n",
      "20/20 - 54s - loss: 9.9049 - accuracy: 0.5205 - val_loss: 0.7484 - val_accuracy: 0.5200 - 54s/epoch - 3s/step\n",
      "Epoch 2/15\n",
      "20/20 - 39s - loss: 1.1787 - accuracy: 0.5625 - val_loss: 0.7198 - val_accuracy: 0.5300 - 39s/epoch - 2s/step\n",
      "Epoch 3/15\n",
      "20/20 - 47s - loss: 0.8420 - accuracy: 0.5925 - val_loss: 0.8087 - val_accuracy: 0.5200 - 47s/epoch - 2s/step\n",
      "Epoch 4/15\n",
      "20/20 - 41s - loss: 0.7485 - accuracy: 0.6115 - val_loss: 0.8228 - val_accuracy: 0.5180 - 41s/epoch - 2s/step\n",
      "Epoch 5/15\n",
      "20/20 - 43s - loss: 0.6802 - accuracy: 0.6475 - val_loss: 0.7003 - val_accuracy: 0.5000 - 43s/epoch - 2s/step\n",
      "Epoch 6/15\n",
      "20/20 - 44s - loss: 0.7906 - accuracy: 0.6130 - val_loss: 0.7849 - val_accuracy: 0.5080 - 44s/epoch - 2s/step\n",
      "Epoch 7/15\n",
      "20/20 - 43s - loss: 0.7843 - accuracy: 0.6230 - val_loss: 0.8731 - val_accuracy: 0.4720 - 43s/epoch - 2s/step\n",
      "Epoch 8/15\n",
      "20/20 - 43s - loss: 0.6366 - accuracy: 0.6665 - val_loss: 0.8959 - val_accuracy: 0.4800 - 43s/epoch - 2s/step\n",
      "Epoch 9/15\n",
      "20/20 - 46s - loss: 0.6488 - accuracy: 0.6925 - val_loss: 0.8001 - val_accuracy: 0.5300 - 46s/epoch - 2s/step\n",
      "Epoch 10/15\n",
      "20/20 - 46s - loss: 0.6015 - accuracy: 0.6885 - val_loss: 0.8410 - val_accuracy: 0.5340 - 46s/epoch - 2s/step\n",
      "Epoch 11/15\n",
      "20/20 - 47s - loss: 0.5906 - accuracy: 0.7065 - val_loss: 0.7268 - val_accuracy: 0.5240 - 47s/epoch - 2s/step\n",
      "Epoch 12/15\n",
      "20/20 - 47s - loss: 0.6969 - accuracy: 0.6530 - val_loss: 0.7941 - val_accuracy: 0.5200 - 47s/epoch - 2s/step\n",
      "Epoch 13/15\n",
      "20/20 - 42s - loss: 0.6602 - accuracy: 0.6650 - val_loss: 1.0735 - val_accuracy: 0.4880 - 42s/epoch - 2s/step\n",
      "Epoch 14/15\n",
      "20/20 - 48s - loss: 0.6454 - accuracy: 0.6770 - val_loss: 1.0927 - val_accuracy: 0.5360 - 48s/epoch - 2s/step\n",
      "Epoch 15/15\n",
      "20/20 - 43s - loss: 0.6279 - accuracy: 0.6790 - val_loss: 0.8937 - val_accuracy: 0.5000 - 43s/epoch - 2s/step\n"
     ]
    }
   ],
   "source": [
    "from keras.callbacks import TensorBoard\n",
    "\n",
    "tensorboard_callback = TensorBoard(log_dir=\"logs_cats_and_dogs_resnet\")\n",
    "\n",
    "history = model.fit(\n",
    "    train_generator,\n",
    "    steps_per_epoch=20,  # 2000 imagenes = batch_size * steps\n",
    "    epochs=15,\n",
    "    validation_data=val_generator,\n",
    "    validation_steps=5,  # 1000 imagenes = batch_size * steps\n",
    "    verbose=2,\n",
    "    callbacks=[tensorboard_callback]\n",
    ")"
   ]
  },
  {
   "cell_type": "code",
   "execution_count": 44,
   "id": "81f72673-9e3f-4873-a7f0-3d2bd828d049",
   "metadata": {},
   "outputs": [
    {
     "data": {
      "text/plain": [
       "<matplotlib.legend.Legend at 0x1ab7102b0d0>"
      ]
     },
     "execution_count": 44,
     "metadata": {},
     "output_type": "execute_result"
    },
    {
     "data": {
      "image/png": "[encoded data removed]",
      "text/plain": [
       "<Figure size 432x288 with 1 Axes>"
      ]
     },
     "metadata": {
      "needs_background": "light"
     },
     "output_type": "display_data"
    },
    {
     "data": {
      "image/png": "[encoded data removed]",
      "text/plain": [
       "<Figure size 432x288 with 1 Axes>"
      ]
     },
     "metadata": {
      "needs_background": "light"
     },
     "output_type": "display_data"
    }
   ],
   "source": [
    "import matplotlib.pyplot as plt\n",
    "import matplotlib.image as mpimg\n",
    "\n",
    "# Retrieve a list of accuracy results on training and validation data\n",
    "# sets for each training epoch\n",
    "acc = history.history[\"accuracy\"]\n",
    "val_acc = history.history[\"val_accuracy\"]\n",
    "\n",
    "# Retrieve a list of list results on training and validation data\n",
    "# sets for each training epoch\n",
    "loss = history.history[\"loss\"]\n",
    "val_loss = history.history[\"val_loss\"]\n",
    "\n",
    "# Get number of epochs\n",
    "epochs = range(len(acc))\n",
    "\n",
    "# Plot training and validation accuracy per epoch\n",
    "plt.plot(epochs, acc)\n",
    "plt.plot(epochs, val_acc)\n",
    "plt.title(\"Training and validation accuracy\")\n",
    "plt.legend([\"accuracy\", \"val_accuracy\"])\n",
    "\n",
    "plt.figure()\n",
    "\n",
    "# Plot training and validation loss per epoch\n",
    "plt.plot(epochs, loss)\n",
    "plt.plot(epochs, val_loss)\n",
    "plt.title('Training and validation loss')\n",
    "plt.legend([\"loss\", \"val_loss\"])"
   ]
  },
  {
   "cell_type": "markdown",
   "id": "784cd4e2-de14-486f-bcd2-675c23bbf782",
   "metadata": {},
   "source": [
    "Cómo podemos observar tanto en el histórico como en las gráficas, la red no está pudiendo aprender correctamente. La razón de esto es porque contiene un gran número de parámetros y solo unos pocas instancias (i.e., imágenes) de entrenamiento.\n",
    "\n",
    "La solución más simple a este problema sería por tanto **conseguir más datos**. Sin embargo, **no siempre es posible** (e.g., nuestro dataset es limitado porque conseguir más imágenes es muy caro, como en ciertos problemas de medicina). Por ello, nos puede interesar utilizar una red pre-aprendida y simplemente ajustarla a nuestro problema particular aprendiendo solo una parte de los parámetros de la red."
   ]
  },
  {
   "cell_type": "markdown",
   "id": "f5142773-8240-4f65-94d4-105fa284236c",
   "metadata": {},
   "source": [
    "## 2.2 - Transferencia de aprendizaje sobre ResNet"
   ]
  },
  {
   "cell_type": "markdown",
   "id": "9e751bd4-4862-403c-a2fd-f0f2188feeea",
   "metadata": {},
   "source": [
    "El proceso de transferencia de aprendizaje (*transfer learning*) consiste en reutilizar una red aprendida para una determinada tarea con el objeto de resolver otra distinta.\n",
    "\n",
    "Esta técnica resulta muy útil en tareas de clasificación de imágenes, ya que la extracción de características sobre imágenes es muy similar en todos los casos, de modo que es posible transferir ese aprendizaje a otros procesos que impliquen la extracción de caracteísticas a partir de imágenes.\n",
    "\n",
    "En lo que se refiere a las redes convolucionales, el proceso de transferencia consiste en reutilizar los parámetros de las capas de la etapa de extracción y simplemente \"aprender\" la última capa con el objetivo de adaptar la red a la tarea que queremos resolver.\n",
    "\n",
    "En este caso, Keras nos ofrece un amplio conjunto de redes meiante las que aplicar *transfer learning*. En este caso vamos a utilizar una ResNet de 50 capas pre-aprendida siguiendo el siguiente worflow de trabajo:\n",
    "\n",
    "1. Inicializamos el modelo base (i.e., ResNet50) sin la última capa (i.e., la de clasificación) y cargamos parámetros pre-aprendidos .\n",
    "2. Congelamos los parámetros de todas las capas del modelo con `trainable=False`.\n",
    "3. Creamos un nuevo modelo que actuará como la cabeza de la red base.\n",
    "4. Aprendemos el nuevo modelo con el nuevo dataset."
   ]
  },
  {
   "cell_type": "markdown",
   "id": "8d806732-be28-4c7c-9c24-aa22bab87a8c",
   "metadata": {},
   "source": [
    "### 2.2.1 - Importación de librerías"
   ]
  },
  {
   "cell_type": "code",
   "execution_count": 48,
   "id": "05a307ab-5e95-455b-9a3e-4dd292cb4518",
   "metadata": {},
   "outputs": [],
   "source": [
    "from keras import Input\n",
    "from keras import Model\n",
    "from keras.layers import Flatten, Dense, GlobalAveragePooling2D, Dropout\n",
    "from tensorflow.keras.applications.resnet50 import ResNet50"
   ]
  },
  {
   "cell_type": "markdown",
   "id": "d981819e-2b4f-414f-8ecf-693a185d5039",
   "metadata": {},
   "source": [
    "### 2.2.2 - Creación de la red"
   ]
  },
  {
   "cell_type": "markdown",
   "id": "2bd4e033-f664-42c7-bc26-8a542dbab841",
   "metadata": {},
   "source": [
    "Vamos a seleccionar la ResNet50 previamente entrenada que ofrece Keras y vamos a construir nuestro propio modelo de clasificación sobre ella."
   ]
  },
  {
   "cell_type": "code",
   "execution_count": 50,
   "id": "67fea8a8-0543-4a86-b958-2036c5583254",
   "metadata": {},
   "outputs": [],
   "source": [
    "input_size = 150\n",
    "num_colors = 3\n",
    "input_shape = (input_size, input_size, num_colors)\n",
    "\n",
    "# Cargamos el modelo base\n",
    "base_model = ResNet50(\n",
    "    weights=\"imagenet\",\n",
    "    input_shape=input_shape,\n",
    "    include_top=False # No queremos incluir la \"cabeza\" de clasificación de Imagenet de 1000 clases\n",
    ")\n",
    "\n",
    "# Congelamos los parámetros del modelo base\n",
    "base_model.trainable=False\n",
    "\n",
    "# Creamos un nuevo modelo sobre él\n",
    "input = Input(shape=input_shape)\n",
    "\n",
    "output = base_model(input, training=False)\n",
    "output = GlobalAveragePooling2D()(output)\n",
    "output = Dense(1, activation=\"sigmoid\")(output)\n",
    "\n",
    "model = Model(inputs=input, outputs=output, name=\"ResNet50_finetuned\")"
   ]
  },
  {
   "cell_type": "code",
   "execution_count": 51,
   "id": "00e8c04b-e240-4cef-ad43-fe2c00669774",
   "metadata": {},
   "outputs": [
    {
     "name": "stdout",
     "output_type": "stream",
     "text": [
      "Model: \"ResNet50_finetuned\"\n",
      "_________________________________________________________________\n",
      " Layer (type)                Output Shape              Param #   \n",
      "=================================================================\n",
      " input_19 (InputLayer)       [(None, 150, 150, 3)]     0         \n",
      "                                                                 \n",
      " resnet50 (Functional)       (None, 5, 5, 2048)        23587712  \n",
      "                                                                 \n",
      " global_average_pooling2d_1   (None, 2048)             0         \n",
      " (GlobalAveragePooling2D)                                        \n",
      "                                                                 \n",
      " dense_26 (Dense)            (None, 1)                 2049      \n",
      "                                                                 \n",
      "=================================================================\n",
      "Total params: 23,589,761\n",
      "Trainable params: 2,049\n",
      "Non-trainable params: 23,587,712\n",
      "_________________________________________________________________\n"
     ]
    }
   ],
   "source": [
    "# Configuración del algoritmo de optimización y de la función de loss\n",
    "model.compile(loss='binary_crossentropy',\n",
    "              optimizer=\"adam\",\n",
    "              metrics=['accuracy'])\n",
    "\n",
    "# Visualización de la estructura de la red\n",
    "model.summary()"
   ]
  },
  {
   "cell_type": "markdown",
   "id": "5ddac877-7e12-4b77-99e9-0403f31d4f3e",
   "metadata": {},
   "source": [
    "### 2.2.3 - Entrenamiento"
   ]
  },
  {
   "cell_type": "code",
   "execution_count": 52,
   "id": "80a3c5c9-08fe-43c0-b838-9e7270e97d63",
   "metadata": {},
   "outputs": [
    {
     "name": "stdout",
     "output_type": "stream",
     "text": [
      "Epoch 1/15\n",
      "20/20 - 86s - loss: 0.7036 - accuracy: 0.4825 - val_loss: 0.6924 - val_accuracy: 0.5060 - 86s/epoch - 4s/step\n",
      "Epoch 2/15\n",
      "20/20 - 100s - loss: 0.6930 - accuracy: 0.5040 - val_loss: 0.6898 - val_accuracy: 0.5800 - 100s/epoch - 5s/step\n",
      "Epoch 3/15\n",
      "20/20 - 101s - loss: 0.6916 - accuracy: 0.5100 - val_loss: 0.6879 - val_accuracy: 0.5360 - 101s/epoch - 5s/step\n",
      "Epoch 4/15\n",
      "20/20 - 102s - loss: 0.6916 - accuracy: 0.5215 - val_loss: 0.6936 - val_accuracy: 0.4820 - 102s/epoch - 5s/step\n",
      "Epoch 5/15\n"
     ]
    },
    {
     "ename": "KeyboardInterrupt",
     "evalue": "",
     "output_type": "error",
     "traceback": [
      "\u001b[1;31m---------------------------------------------------------------------------\u001b[0m",
      "\u001b[1;31mKeyboardInterrupt\u001b[0m                         Traceback (most recent call last)",
      "Input \u001b[1;32mIn [52]\u001b[0m, in \u001b[0;36m<cell line: 5>\u001b[1;34m()\u001b[0m\n\u001b[0;32m      1\u001b[0m \u001b[38;5;28;01mfrom\u001b[39;00m \u001b[38;5;21;01mkeras\u001b[39;00m\u001b[38;5;21;01m.\u001b[39;00m\u001b[38;5;21;01mcallbacks\u001b[39;00m \u001b[38;5;28;01mimport\u001b[39;00m TensorBoard\n\u001b[0;32m      3\u001b[0m tensorboard_callback \u001b[38;5;241m=\u001b[39m TensorBoard(log_dir\u001b[38;5;241m=\u001b[39m\u001b[38;5;124m\"\u001b[39m\u001b[38;5;124mlogs_cats_and_dogs_resnet50\u001b[39m\u001b[38;5;124m\"\u001b[39m)\n\u001b[1;32m----> 5\u001b[0m history \u001b[38;5;241m=\u001b[39m \u001b[43mmodel\u001b[49m\u001b[38;5;241;43m.\u001b[39;49m\u001b[43mfit\u001b[49m\u001b[43m(\u001b[49m\n\u001b[0;32m      6\u001b[0m \u001b[43m    \u001b[49m\u001b[43mtrain_generator\u001b[49m\u001b[43m,\u001b[49m\n\u001b[0;32m      7\u001b[0m \u001b[43m    \u001b[49m\u001b[43msteps_per_epoch\u001b[49m\u001b[38;5;241;43m=\u001b[39;49m\u001b[38;5;241;43m20\u001b[39;49m\u001b[43m,\u001b[49m\u001b[43m  \u001b[49m\u001b[38;5;66;43;03m# 2000 imagenes = batch_size * steps\u001b[39;49;00m\n\u001b[0;32m      8\u001b[0m \u001b[43m    \u001b[49m\u001b[43mepochs\u001b[49m\u001b[38;5;241;43m=\u001b[39;49m\u001b[38;5;241;43m15\u001b[39;49m\u001b[43m,\u001b[49m\n\u001b[0;32m      9\u001b[0m \u001b[43m    \u001b[49m\u001b[43mvalidation_data\u001b[49m\u001b[38;5;241;43m=\u001b[39;49m\u001b[43mval_generator\u001b[49m\u001b[43m,\u001b[49m\n\u001b[0;32m     10\u001b[0m \u001b[43m    \u001b[49m\u001b[43mvalidation_steps\u001b[49m\u001b[38;5;241;43m=\u001b[39;49m\u001b[38;5;241;43m5\u001b[39;49m\u001b[43m,\u001b[49m\u001b[43m  \u001b[49m\u001b[38;5;66;43;03m# 1000 imagenes = batch_size * steps\u001b[39;49;00m\n\u001b[0;32m     11\u001b[0m \u001b[43m    \u001b[49m\u001b[43mverbose\u001b[49m\u001b[38;5;241;43m=\u001b[39;49m\u001b[38;5;241;43m2\u001b[39;49m\u001b[43m,\u001b[49m\n\u001b[0;32m     12\u001b[0m \u001b[43m    \u001b[49m\u001b[43mcallbacks\u001b[49m\u001b[38;5;241;43m=\u001b[39;49m\u001b[43m[\u001b[49m\u001b[43mtensorboard_callback\u001b[49m\u001b[43m]\u001b[49m\n\u001b[0;32m     13\u001b[0m \u001b[43m)\u001b[49m\n",
      "File \u001b[1;32m~\\Anaconda3\\envs\\nlp\\lib\\site-packages\\keras\\utils\\traceback_utils.py:65\u001b[0m, in \u001b[0;36mfilter_traceback.<locals>.error_handler\u001b[1;34m(*args, **kwargs)\u001b[0m\n\u001b[0;32m     63\u001b[0m filtered_tb \u001b[38;5;241m=\u001b[39m \u001b[38;5;28;01mNone\u001b[39;00m\n\u001b[0;32m     64\u001b[0m \u001b[38;5;28;01mtry\u001b[39;00m:\n\u001b[1;32m---> 65\u001b[0m     \u001b[38;5;28;01mreturn\u001b[39;00m fn(\u001b[38;5;241m*\u001b[39margs, \u001b[38;5;241m*\u001b[39m\u001b[38;5;241m*\u001b[39mkwargs)\n\u001b[0;32m     66\u001b[0m \u001b[38;5;28;01mexcept\u001b[39;00m \u001b[38;5;167;01mException\u001b[39;00m \u001b[38;5;28;01mas\u001b[39;00m e:\n\u001b[0;32m     67\u001b[0m     filtered_tb \u001b[38;5;241m=\u001b[39m _process_traceback_frames(e\u001b[38;5;241m.\u001b[39m__traceback__)\n",
      "File \u001b[1;32m~\\Anaconda3\\envs\\nlp\\lib\\site-packages\\keras\\engine\\training.py:1650\u001b[0m, in \u001b[0;36mModel.fit\u001b[1;34m(self, x, y, batch_size, epochs, verbose, callbacks, validation_split, validation_data, shuffle, class_weight, sample_weight, initial_epoch, steps_per_epoch, validation_steps, validation_batch_size, validation_freq, max_queue_size, workers, use_multiprocessing)\u001b[0m\n\u001b[0;32m   1642\u001b[0m \u001b[38;5;28;01mwith\u001b[39;00m tf\u001b[38;5;241m.\u001b[39mprofiler\u001b[38;5;241m.\u001b[39mexperimental\u001b[38;5;241m.\u001b[39mTrace(\n\u001b[0;32m   1643\u001b[0m     \u001b[38;5;124m\"\u001b[39m\u001b[38;5;124mtrain\u001b[39m\u001b[38;5;124m\"\u001b[39m,\n\u001b[0;32m   1644\u001b[0m     epoch_num\u001b[38;5;241m=\u001b[39mepoch,\n\u001b[1;32m   (...)\u001b[0m\n\u001b[0;32m   1647\u001b[0m     _r\u001b[38;5;241m=\u001b[39m\u001b[38;5;241m1\u001b[39m,\n\u001b[0;32m   1648\u001b[0m ):\n\u001b[0;32m   1649\u001b[0m     callbacks\u001b[38;5;241m.\u001b[39mon_train_batch_begin(step)\n\u001b[1;32m-> 1650\u001b[0m     tmp_logs \u001b[38;5;241m=\u001b[39m \u001b[38;5;28;43mself\u001b[39;49m\u001b[38;5;241;43m.\u001b[39;49m\u001b[43mtrain_function\u001b[49m\u001b[43m(\u001b[49m\u001b[43miterator\u001b[49m\u001b[43m)\u001b[49m\n\u001b[0;32m   1651\u001b[0m     \u001b[38;5;28;01mif\u001b[39;00m data_handler\u001b[38;5;241m.\u001b[39mshould_sync:\n\u001b[0;32m   1652\u001b[0m         context\u001b[38;5;241m.\u001b[39masync_wait()\n",
      "File \u001b[1;32m~\\Anaconda3\\envs\\nlp\\lib\\site-packages\\tensorflow\\python\\util\\traceback_utils.py:150\u001b[0m, in \u001b[0;36mfilter_traceback.<locals>.error_handler\u001b[1;34m(*args, **kwargs)\u001b[0m\n\u001b[0;32m    148\u001b[0m filtered_tb \u001b[38;5;241m=\u001b[39m \u001b[38;5;28;01mNone\u001b[39;00m\n\u001b[0;32m    149\u001b[0m \u001b[38;5;28;01mtry\u001b[39;00m:\n\u001b[1;32m--> 150\u001b[0m   \u001b[38;5;28;01mreturn\u001b[39;00m fn(\u001b[38;5;241m*\u001b[39margs, \u001b[38;5;241m*\u001b[39m\u001b[38;5;241m*\u001b[39mkwargs)\n\u001b[0;32m    151\u001b[0m \u001b[38;5;28;01mexcept\u001b[39;00m \u001b[38;5;167;01mException\u001b[39;00m \u001b[38;5;28;01mas\u001b[39;00m e:\n\u001b[0;32m    152\u001b[0m   filtered_tb \u001b[38;5;241m=\u001b[39m _process_traceback_frames(e\u001b[38;5;241m.\u001b[39m__traceback__)\n",
      "File \u001b[1;32m~\\Anaconda3\\envs\\nlp\\lib\\site-packages\\tensorflow\\python\\eager\\polymorphic_function\\polymorphic_function.py:880\u001b[0m, in \u001b[0;36mFunction.__call__\u001b[1;34m(self, *args, **kwds)\u001b[0m\n\u001b[0;32m    877\u001b[0m compiler \u001b[38;5;241m=\u001b[39m \u001b[38;5;124m\"\u001b[39m\u001b[38;5;124mxla\u001b[39m\u001b[38;5;124m\"\u001b[39m \u001b[38;5;28;01mif\u001b[39;00m \u001b[38;5;28mself\u001b[39m\u001b[38;5;241m.\u001b[39m_jit_compile \u001b[38;5;28;01melse\u001b[39;00m \u001b[38;5;124m\"\u001b[39m\u001b[38;5;124mnonXla\u001b[39m\u001b[38;5;124m\"\u001b[39m\n\u001b[0;32m    879\u001b[0m \u001b[38;5;28;01mwith\u001b[39;00m OptionalXlaContext(\u001b[38;5;28mself\u001b[39m\u001b[38;5;241m.\u001b[39m_jit_compile):\n\u001b[1;32m--> 880\u001b[0m   result \u001b[38;5;241m=\u001b[39m \u001b[38;5;28mself\u001b[39m\u001b[38;5;241m.\u001b[39m_call(\u001b[38;5;241m*\u001b[39margs, \u001b[38;5;241m*\u001b[39m\u001b[38;5;241m*\u001b[39mkwds)\n\u001b[0;32m    882\u001b[0m new_tracing_count \u001b[38;5;241m=\u001b[39m \u001b[38;5;28mself\u001b[39m\u001b[38;5;241m.\u001b[39mexperimental_get_tracing_count()\n\u001b[0;32m    883\u001b[0m without_tracing \u001b[38;5;241m=\u001b[39m (tracing_count \u001b[38;5;241m==\u001b[39m new_tracing_count)\n",
      "File \u001b[1;32m~\\Anaconda3\\envs\\nlp\\lib\\site-packages\\tensorflow\\python\\eager\\polymorphic_function\\polymorphic_function.py:912\u001b[0m, in \u001b[0;36mFunction._call\u001b[1;34m(self, *args, **kwds)\u001b[0m\n\u001b[0;32m    909\u001b[0m   \u001b[38;5;28mself\u001b[39m\u001b[38;5;241m.\u001b[39m_lock\u001b[38;5;241m.\u001b[39mrelease()\n\u001b[0;32m    910\u001b[0m   \u001b[38;5;66;03m# In this case we have created variables on the first call, so we run the\u001b[39;00m\n\u001b[0;32m    911\u001b[0m   \u001b[38;5;66;03m# defunned version which is guaranteed to never create variables.\u001b[39;00m\n\u001b[1;32m--> 912\u001b[0m   \u001b[38;5;28;01mreturn\u001b[39;00m \u001b[38;5;28mself\u001b[39m\u001b[38;5;241m.\u001b[39m_no_variable_creation_fn(\u001b[38;5;241m*\u001b[39margs, \u001b[38;5;241m*\u001b[39m\u001b[38;5;241m*\u001b[39mkwds)  \u001b[38;5;66;03m# pylint: disable=not-callable\u001b[39;00m\n\u001b[0;32m    913\u001b[0m \u001b[38;5;28;01melif\u001b[39;00m \u001b[38;5;28mself\u001b[39m\u001b[38;5;241m.\u001b[39m_variable_creation_fn \u001b[38;5;129;01mis\u001b[39;00m \u001b[38;5;129;01mnot\u001b[39;00m \u001b[38;5;28;01mNone\u001b[39;00m:\n\u001b[0;32m    914\u001b[0m   \u001b[38;5;66;03m# Release the lock early so that multiple threads can perform the call\u001b[39;00m\n\u001b[0;32m    915\u001b[0m   \u001b[38;5;66;03m# in parallel.\u001b[39;00m\n\u001b[0;32m    916\u001b[0m   \u001b[38;5;28mself\u001b[39m\u001b[38;5;241m.\u001b[39m_lock\u001b[38;5;241m.\u001b[39mrelease()\n",
      "File \u001b[1;32m~\\Anaconda3\\envs\\nlp\\lib\\site-packages\\tensorflow\\python\\eager\\polymorphic_function\\tracing_compiler.py:134\u001b[0m, in \u001b[0;36mTracingCompiler.__call__\u001b[1;34m(self, *args, **kwargs)\u001b[0m\n\u001b[0;32m    131\u001b[0m \u001b[38;5;28;01mwith\u001b[39;00m \u001b[38;5;28mself\u001b[39m\u001b[38;5;241m.\u001b[39m_lock:\n\u001b[0;32m    132\u001b[0m   (concrete_function,\n\u001b[0;32m    133\u001b[0m    filtered_flat_args) \u001b[38;5;241m=\u001b[39m \u001b[38;5;28mself\u001b[39m\u001b[38;5;241m.\u001b[39m_maybe_define_function(args, kwargs)\n\u001b[1;32m--> 134\u001b[0m \u001b[38;5;28;01mreturn\u001b[39;00m \u001b[43mconcrete_function\u001b[49m\u001b[38;5;241;43m.\u001b[39;49m\u001b[43m_call_flat\u001b[49m\u001b[43m(\u001b[49m\n\u001b[0;32m    135\u001b[0m \u001b[43m    \u001b[49m\u001b[43mfiltered_flat_args\u001b[49m\u001b[43m,\u001b[49m\u001b[43m \u001b[49m\u001b[43mcaptured_inputs\u001b[49m\u001b[38;5;241;43m=\u001b[39;49m\u001b[43mconcrete_function\u001b[49m\u001b[38;5;241;43m.\u001b[39;49m\u001b[43mcaptured_inputs\u001b[49m\u001b[43m)\u001b[49m\n",
      "File \u001b[1;32m~\\Anaconda3\\envs\\nlp\\lib\\site-packages\\tensorflow\\python\\eager\\polymorphic_function\\monomorphic_function.py:1745\u001b[0m, in \u001b[0;36mConcreteFunction._call_flat\u001b[1;34m(self, args, captured_inputs, cancellation_manager)\u001b[0m\n\u001b[0;32m   1741\u001b[0m possible_gradient_type \u001b[38;5;241m=\u001b[39m gradients_util\u001b[38;5;241m.\u001b[39mPossibleTapeGradientTypes(args)\n\u001b[0;32m   1742\u001b[0m \u001b[38;5;28;01mif\u001b[39;00m (possible_gradient_type \u001b[38;5;241m==\u001b[39m gradients_util\u001b[38;5;241m.\u001b[39mPOSSIBLE_GRADIENT_TYPES_NONE\n\u001b[0;32m   1743\u001b[0m     \u001b[38;5;129;01mand\u001b[39;00m executing_eagerly):\n\u001b[0;32m   1744\u001b[0m   \u001b[38;5;66;03m# No tape is watching; skip to running the function.\u001b[39;00m\n\u001b[1;32m-> 1745\u001b[0m   \u001b[38;5;28;01mreturn\u001b[39;00m \u001b[38;5;28mself\u001b[39m\u001b[38;5;241m.\u001b[39m_build_call_outputs(\u001b[38;5;28;43mself\u001b[39;49m\u001b[38;5;241;43m.\u001b[39;49m\u001b[43m_inference_function\u001b[49m\u001b[38;5;241;43m.\u001b[39;49m\u001b[43mcall\u001b[49m\u001b[43m(\u001b[49m\n\u001b[0;32m   1746\u001b[0m \u001b[43m      \u001b[49m\u001b[43mctx\u001b[49m\u001b[43m,\u001b[49m\u001b[43m \u001b[49m\u001b[43margs\u001b[49m\u001b[43m,\u001b[49m\u001b[43m \u001b[49m\u001b[43mcancellation_manager\u001b[49m\u001b[38;5;241;43m=\u001b[39;49m\u001b[43mcancellation_manager\u001b[49m\u001b[43m)\u001b[49m)\n\u001b[0;32m   1747\u001b[0m forward_backward \u001b[38;5;241m=\u001b[39m \u001b[38;5;28mself\u001b[39m\u001b[38;5;241m.\u001b[39m_select_forward_and_backward_functions(\n\u001b[0;32m   1748\u001b[0m     args,\n\u001b[0;32m   1749\u001b[0m     possible_gradient_type,\n\u001b[0;32m   1750\u001b[0m     executing_eagerly)\n\u001b[0;32m   1751\u001b[0m forward_function, args_with_tangents \u001b[38;5;241m=\u001b[39m forward_backward\u001b[38;5;241m.\u001b[39mforward()\n",
      "File \u001b[1;32m~\\Anaconda3\\envs\\nlp\\lib\\site-packages\\tensorflow\\python\\eager\\polymorphic_function\\monomorphic_function.py:378\u001b[0m, in \u001b[0;36m_EagerDefinedFunction.call\u001b[1;34m(self, ctx, args, cancellation_manager)\u001b[0m\n\u001b[0;32m    376\u001b[0m \u001b[38;5;28;01mwith\u001b[39;00m _InterpolateFunctionError(\u001b[38;5;28mself\u001b[39m):\n\u001b[0;32m    377\u001b[0m   \u001b[38;5;28;01mif\u001b[39;00m cancellation_manager \u001b[38;5;129;01mis\u001b[39;00m \u001b[38;5;28;01mNone\u001b[39;00m:\n\u001b[1;32m--> 378\u001b[0m     outputs \u001b[38;5;241m=\u001b[39m \u001b[43mexecute\u001b[49m\u001b[38;5;241;43m.\u001b[39;49m\u001b[43mexecute\u001b[49m\u001b[43m(\u001b[49m\n\u001b[0;32m    379\u001b[0m \u001b[43m        \u001b[49m\u001b[38;5;28;43mstr\u001b[39;49m\u001b[43m(\u001b[49m\u001b[38;5;28;43mself\u001b[39;49m\u001b[38;5;241;43m.\u001b[39;49m\u001b[43msignature\u001b[49m\u001b[38;5;241;43m.\u001b[39;49m\u001b[43mname\u001b[49m\u001b[43m)\u001b[49m\u001b[43m,\u001b[49m\n\u001b[0;32m    380\u001b[0m \u001b[43m        \u001b[49m\u001b[43mnum_outputs\u001b[49m\u001b[38;5;241;43m=\u001b[39;49m\u001b[38;5;28;43mself\u001b[39;49m\u001b[38;5;241;43m.\u001b[39;49m\u001b[43m_num_outputs\u001b[49m\u001b[43m,\u001b[49m\n\u001b[0;32m    381\u001b[0m \u001b[43m        \u001b[49m\u001b[43minputs\u001b[49m\u001b[38;5;241;43m=\u001b[39;49m\u001b[43margs\u001b[49m\u001b[43m,\u001b[49m\n\u001b[0;32m    382\u001b[0m \u001b[43m        \u001b[49m\u001b[43mattrs\u001b[49m\u001b[38;5;241;43m=\u001b[39;49m\u001b[43mattrs\u001b[49m\u001b[43m,\u001b[49m\n\u001b[0;32m    383\u001b[0m \u001b[43m        \u001b[49m\u001b[43mctx\u001b[49m\u001b[38;5;241;43m=\u001b[39;49m\u001b[43mctx\u001b[49m\u001b[43m)\u001b[49m\n\u001b[0;32m    384\u001b[0m   \u001b[38;5;28;01melse\u001b[39;00m:\n\u001b[0;32m    385\u001b[0m     outputs \u001b[38;5;241m=\u001b[39m execute\u001b[38;5;241m.\u001b[39mexecute_with_cancellation(\n\u001b[0;32m    386\u001b[0m         \u001b[38;5;28mstr\u001b[39m(\u001b[38;5;28mself\u001b[39m\u001b[38;5;241m.\u001b[39msignature\u001b[38;5;241m.\u001b[39mname),\n\u001b[0;32m    387\u001b[0m         num_outputs\u001b[38;5;241m=\u001b[39m\u001b[38;5;28mself\u001b[39m\u001b[38;5;241m.\u001b[39m_num_outputs,\n\u001b[1;32m   (...)\u001b[0m\n\u001b[0;32m    390\u001b[0m         ctx\u001b[38;5;241m=\u001b[39mctx,\n\u001b[0;32m    391\u001b[0m         cancellation_manager\u001b[38;5;241m=\u001b[39mcancellation_manager)\n",
      "File \u001b[1;32m~\\Anaconda3\\envs\\nlp\\lib\\site-packages\\tensorflow\\python\\eager\\execute.py:52\u001b[0m, in \u001b[0;36mquick_execute\u001b[1;34m(op_name, num_outputs, inputs, attrs, ctx, name)\u001b[0m\n\u001b[0;32m     50\u001b[0m \u001b[38;5;28;01mtry\u001b[39;00m:\n\u001b[0;32m     51\u001b[0m   ctx\u001b[38;5;241m.\u001b[39mensure_initialized()\n\u001b[1;32m---> 52\u001b[0m   tensors \u001b[38;5;241m=\u001b[39m \u001b[43mpywrap_tfe\u001b[49m\u001b[38;5;241;43m.\u001b[39;49m\u001b[43mTFE_Py_Execute\u001b[49m\u001b[43m(\u001b[49m\u001b[43mctx\u001b[49m\u001b[38;5;241;43m.\u001b[39;49m\u001b[43m_handle\u001b[49m\u001b[43m,\u001b[49m\u001b[43m \u001b[49m\u001b[43mdevice_name\u001b[49m\u001b[43m,\u001b[49m\u001b[43m \u001b[49m\u001b[43mop_name\u001b[49m\u001b[43m,\u001b[49m\n\u001b[0;32m     53\u001b[0m \u001b[43m                                      \u001b[49m\u001b[43minputs\u001b[49m\u001b[43m,\u001b[49m\u001b[43m \u001b[49m\u001b[43mattrs\u001b[49m\u001b[43m,\u001b[49m\u001b[43m \u001b[49m\u001b[43mnum_outputs\u001b[49m\u001b[43m)\u001b[49m\n\u001b[0;32m     54\u001b[0m \u001b[38;5;28;01mexcept\u001b[39;00m core\u001b[38;5;241m.\u001b[39m_NotOkStatusException \u001b[38;5;28;01mas\u001b[39;00m e:\n\u001b[0;32m     55\u001b[0m   \u001b[38;5;28;01mif\u001b[39;00m name \u001b[38;5;129;01mis\u001b[39;00m \u001b[38;5;129;01mnot\u001b[39;00m \u001b[38;5;28;01mNone\u001b[39;00m:\n",
      "\u001b[1;31mKeyboardInterrupt\u001b[0m: "
     ]
    }
   ],
   "source": [
    "from keras.callbacks import TensorBoard\n",
    "\n",
    "tensorboard_callback = TensorBoard(log_dir=\"logs_cats_and_dogs_resnet50\")\n",
    "\n",
    "history = model.fit(\n",
    "    train_generator,\n",
    "    steps_per_epoch=20,  # 2000 imagenes = batch_size * steps\n",
    "    epochs=15,\n",
    "    validation_data=val_generator,\n",
    "    validation_steps=5,  # 1000 imagenes = batch_size * steps\n",
    "    verbose=2,\n",
    "    callbacks=[tensorboard_callback]\n",
    ")"
   ]
  },
  {
   "cell_type": "code",
   "execution_count": null,
   "id": "5bd2e5b5-8ad8-4558-a6df-eb7a9be6ee1e",
   "metadata": {},
   "outputs": [
    {
     "name": "stdout",
     "output_type": "stream",
     "text": [
      "Epoch 1/5\n"
     ]
    }
   ],
   "source": [
    "base_model.trainable = True\n",
    "\n",
    "# Configuración del algoritmo de optimización y de la función de loss\n",
    "model.compile(loss='binary_crossentropy',\n",
    "              optimizer=keras.optimizers.Adam(1e-5),\n",
    "              metrics=['accuracy'])\n",
    "\n",
    "# Visualización de la estructura de la red\n",
    "history = model.fit(\n",
    "    train_generator,\n",
    "    steps_per_epoch=20,  # 2000 imagenes = batch_size * steps\n",
    "    epochs=5,\n",
    "    validation_data=val_generator,\n",
    "    validation_steps=5,  # 1000 imagenes = batch_size * steps\n",
    "    verbose=2,\n",
    "    callbacks=[tensorboard_callback]\n",
    ")"
   ]
  }
 ],
 "metadata": {
  "kernelspec": {
   "display_name": "Python 3 (ipykernel)",
   "language": "python",
   "name": "python3"
  },
  "language_info": {
   "codemirror_mode": {
    "name": "ipython",
    "version": 3
   },
   "file_extension": ".py",
   "mimetype": "text/x-python",
   "name": "python",
   "nbconvert_exporter": "python",
   "pygments_lexer": "ipython3",
   "version": "3.10.4"
  }
 },
 "nbformat": 4,
 "nbformat_minor": 5
}
