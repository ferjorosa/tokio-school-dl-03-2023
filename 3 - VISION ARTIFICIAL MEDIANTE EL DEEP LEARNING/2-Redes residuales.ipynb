{
 "cells": [
  {
   "cell_type": "markdown",
   "id": "d1737885-5617-4515-87e6-bcc336b39fb1",
   "metadata": {},
   "source": [
    "# 2 - Redes neuronales residuales (ResNets)\n",
    "\n",
    "**Sumario**\n",
    "\n",
    "1. Redes neuronales residuales (ResNet)\n",
    "2. Transferencia de aprendizaje"
   ]
  },
  {
   "cell_type": "markdown",
   "id": "080f3702-71a1-4a7f-9761-ee02b20511a1",
   "metadata": {},
   "source": [
    "## 2.1 - Redes neuronales residuales (ResNet)"
   ]
  },
  {
   "cell_type": "markdown",
   "id": "a01a302b-d4e6-453e-87a1-9a2c65fae422",
   "metadata": {},
   "source": [
    "Las redes convolucionales son muy escalables. De este modo, **cuanto mayor sea la cantidad de información que queramos obtener o más compleja, mayor será el número de capas de la sección de extracción** (i.e., capas convolucionales y de pooling) que debemos utilizar, lo que aumentará considerablemente la profundidad de la red y, por tanto, su complejidad. Este aumento de la profundidad puede suponer la aparición del problema del **desvanecimiento del gradiente**.\n",
    "\n",
    "[Este fenómeno fue observado en 2015 por Kaiming He et al.](https://arxiv.org/pdf/1512.03385.pdf) Incluso después de aplicar *batch normalization*, vieron que una red que usaba más capas funcionaba peor que una red que usaba menos capas, y no había otras diferencias entre los modelos. Lo más interesante es que la diferencia se observó no solo en el conjunto de validación, sino también en el conjunto de entrenamiento; entonces, **no era solo un problema de generalización, sino un problema de entrenamiento**.\n",
    "\n",
    "<img src=\"images_2/problema_convolucionales.png\" width=\"600\" data-align=\"center\">\n",
    "\n",
    "Con el objetivo de evitar este problema, se desarrollaron las redes residuales (*Residual Networks*, ResNet por sus siglas en inglés), que constituyen una evolución de las redes convolucionales donde **se incluyen \"atajos\" o saltos entre las diferentes capas**. Estas nuevas conexiones otorgan flexibilidad de aprendizaje a la red sin añadir casi parámetros. Son interesantes porque le permiten \"no utilizar\" ciertas capas a menos que sea necesario y le ayudan a reducir el problema del desvanecimiento del gradiente.\n",
    "\n",
    "<img src=\"images_2/bloque_residual.png\" width=\"500\" data-align=\"center\">\n",
    "\n",
    "Consideremos que tenemos un bloque residual formado por dos capas convolucionales que devuelve $y = x + \\text{bloque}(x)$. Dado que $x$ es la información del bloque anterior, lo que estamos buscando que aprenda la red aqui es la diferencia entre $x$ e $y$. Es decir, si el nuevo bloque aporta información nueva o con la que teníamos en el bloque anterior ya es suficiente. \n",
    "\n",
    "Por lo tanto, **una ResNet es buena para aprender sobre las ligeras diferencias entre no hacer nada y pasar a través de un bloque de dos capas convolucionales (con pesos entrenables)**. Así es como estos modelos obtuvieron su nombre: **predicen residuos** (el residuo es valor obtenido de restar la predicción menos el objetivo). A continuación se muestra la estructura de una ResNet profunda que incluye saltos cada dos capas convolucionales (i.e., un \"bloque\").\n",
    "\n",
    "<img src=\"images_2/resnet.png\" width=\"600\" data-align=\"center\">\n",
    "\n",
    "Este tipo de \"capa\" o bloque no está incluida entra las que ofrece Keras, así que debemos crearlo manualmnte mediante otras capas más básicas. Para ello, incluiremos una serie de modificaciones sobre el modelo convolucional definido en la unidad anterior."
   ]
  },
  {
   "cell_type": "markdown",
   "id": "2bac6dc5-65cd-4588-839f-4d77eae18a64",
   "metadata": {},
   "source": [
    "### 2.1.1 - Importación de librerías"
   ]
  },
  {
   "cell_type": "code",
   "execution_count": 1,
   "id": "3930ad6e-0fc1-4dfc-b1f4-3f73e1e3019b",
   "metadata": {},
   "outputs": [],
   "source": [
    "from tensorflow import keras\n",
    "from keras import Input\n",
    "from keras import Model\n",
    "from keras.layers import Conv2D, Flatten, Dense, MaxPooling2D, Activation\n",
    "from keras.layers import Add, BatchNormalization"
   ]
  },
  {
   "cell_type": "markdown",
   "id": "3d9eddd6-3fb3-4595-b9b7-eb22ae579e78",
   "metadata": {},
   "source": [
    "### 2.1.2 - Definición del bloque residual"
   ]
  },
  {
   "cell_type": "markdown",
   "id": "b85d2240-6a4a-49f2-88e1-9e3a517e9a85",
   "metadata": {},
   "source": [
    "Para este ejemplo, vamos a construir un bloque residual similar al que hemos presentado anteriormente. Se le denomina a veces como \"bloque residual V1\". "
   ]
  },
  {
   "cell_type": "code",
   "execution_count": 2,
   "id": "66a5e7bc-f992-4460-a0cc-62e6842dad41",
   "metadata": {},
   "outputs": [],
   "source": [
    "def resnet_block_v1(name, input, filters, kernels = [(3,3), (3,3)]):\n",
    "    \n",
    "    # Definición de la primera capa convolucional\n",
    "    output = Conv2D(\n",
    "        filters=filters,\n",
    "        kernel_size=kernels[0],\n",
    "        strides=(1,1),\n",
    "        padding=\"same\",\n",
    "        name=f\"resnet_layer_{name}_1\"\n",
    "    )(input) # aplicamos la capa sobre el input\n",
    "    \n",
    "    # Definición de la capa de normalización\n",
    "    output = BatchNormalization(\n",
    "        axis=3,\n",
    "        name=f\"batch_norm_{name}_1\"\n",
    "    )(output) # aplicamos la capa sobre el input\n",
    "    \n",
    "    # Definición de la función de activación de la primera capa convolucional\n",
    "    output = Activation(\"relu\")(output)\n",
    "    \n",
    "    # Definición de la segunda capa convolucional\n",
    "    output = Conv2D(\n",
    "        filters=filters,\n",
    "        kernel_size=kernels[1],\n",
    "        strides=(1,1),\n",
    "        padding=\"same\",\n",
    "        name=f\"resnet_layer_{name}_2\"\n",
    "    )(output) # aplicamos la capa sobre el input\n",
    "    \n",
    "    # Definición de la capa de normalización\n",
    "    output = BatchNormalization(\n",
    "        axis=3,\n",
    "        name=f\"batch_norm_{name}_2\"\n",
    "    )(output) # aplicamos la capa sobre el input\n",
    "    \n",
    "    # Definición de la operación de suma entre capa convolucional y la entrada inicial\n",
    "    output = Add()([output, input])\n",
    "    \n",
    "    # Definición de la función de activación final\n",
    "    output = Activation(\"relu\")(output)\n",
    "    \n",
    "    return output"
   ]
  },
  {
   "cell_type": "markdown",
   "id": "81f6bd57-424b-4eb2-8dff-db20c6f61846",
   "metadata": {},
   "source": [
    "----\n",
    "\n",
    "**¿Por qué no usamos max-pooling en los bloques residuales?**\n",
    "\n",
    "Max-pooling es una técnica comúnmente utilizada en las redes convolucionales tradicionales para reducir la dimensionalidad de la imagen con el fin de reducir la complejidad computacional y el sobreajuste. Sin embargo, max-pooling provoca la pérdida de información, ya que solo toma el valor máximo/medio de cada ventana de agrupación y descarta el resto.\n",
    "\n",
    "<table>\n",
    "    <tr>\n",
    "        <th><i>Average-pooling</i></th>\n",
    "        <th><i>Max-pooling</i></th>\n",
    "    </tr>\n",
    "    <tr>\n",
    "        <td><img src=\"images_1/average_pooling.png\" width=\"450\" data-align=\"center\"></td>\n",
    "        <td><img src=\"images_1/max_pooling.png\" width=\"450\" data-align=\"center\"></td>\n",
    "    </tr>\n",
    "</table>\n",
    "\n",
    "En ResNets el problema de la complejidad computacional y el sobreajuste se aborda mediante el uso de conexiones de acceso directo, que permiten que la red pase por alto una o más capas, conservando de manera efectiva la dimensionalidad de la imagen. **Esto permite que la red retenga más información y reduce el riesgo de pérdida de información**.\n",
    "\n",
    "Además, la arquitectura ResNet está diseñada para ser más profunda que las CNN tradicionales, por lo tanto, el uso de max-pooling puede dificultar el mantenimiento de las dimensiones espaciales de los mapas de características. Como resultado, las capas de agrupación máxima normalmente no se incluyen en las arquitecturas de ResNet, ya que no son necesarias para el diseño y la operación de la red.\n",
    "\n",
    "----"
   ]
  },
  {
   "cell_type": "markdown",
   "id": "c29acc7f-7bb8-4754-be51-603d431bb022",
   "metadata": {},
   "source": [
    "### 2.1.3 - Otro tipos de bloques ResNet"
   ]
  },
  {
   "cell_type": "markdown",
   "id": "5ecd6a94-29c5-497f-a480-4216dd7c255d",
   "metadata": {},
   "source": [
    "Además de las redes residuales (ResNet) v1 que hemos implementado en este ejemplo, existen otros tipos de bloques definidos para las ResNet:\n",
    "\n",
    "* **Redes residuales v2**. Se trata de una evolución de la versión inicial donde los procesos de normalización se realizan antes de la ejecución de las capas convolucionales:\n",
    "\n",
    "<img src=\"images_2/bloque_residual_v2.png\" width=\"650\" data-align=\"center\">"
   ]
  },
  {
   "cell_type": "markdown",
   "id": "cff83663-1872-42a1-9000-3afebc3433cf",
   "metadata": {},
   "source": [
    "### 2.1.4 - Definición de la red de neuronas"
   ]
  },
  {
   "cell_type": "markdown",
   "id": "8c0f1ba5-24e2-4ff6-aef9-8f000f343b8e",
   "metadata": {},
   "source": [
    "Una vez hemos definido nuestro bloque residual, podemos crear una red con las siguientes características:\n",
    "\n",
    "* Una capa convolucional con 16 filtros de 3x3 y activación ReLU, junto a max_pooling\n",
    "* Una capa convolucional con 32 filtros de 3x3 y activación ReLU, junto a max_pooling\n",
    "* Una serie de 2 bloques residuales v1 con 32 filtros 3x3 cada uno de ellos\n",
    "* Una capa densa con 512 neuronas y activación ReLU\n",
    "* Una capa densa con 1 neurona y activación sigmoidal"
   ]
  },
  {
   "cell_type": "code",
   "execution_count": 3,
   "id": "e2812a7b-3584-49dd-a41f-b56d1048dbb1",
   "metadata": {},
   "outputs": [],
   "source": [
    "input_size = 150\n",
    "num_colors = 3\n",
    "\n",
    "# Definición de la entrada\n",
    "input = Input(\n",
    "    shape=(input_size, input_size, num_colors)\n",
    ")\n",
    "\n",
    "# Capa convolucional # 1\n",
    "output = Conv2D(\n",
    "    16,\n",
    "    (3,3)\n",
    ")(input)\n",
    "output = Activation(\"relu\")(output)\n",
    "output = MaxPooling2D(\n",
    "    (2,2)\n",
    ")(output)\n",
    "\n",
    "# Capa convolucional # 2\n",
    "output = Conv2D(\n",
    "    32,\n",
    "    (3,3),\n",
    ")(output)\n",
    "output = Activation(\"relu\")(output)\n",
    "output = MaxPooling2D(\n",
    "    (2,2)\n",
    ")(output)\n",
    "\n",
    "# Bloques residuales\n",
    "output = resnet_block_v1(\"1\", output, 32)\n",
    "output = resnet_block_v1(\"2\", output, 32)\n",
    "\n",
    "# Capa densa\n",
    "output = Flatten()(output)\n",
    "output = Dense(\n",
    "    512,\n",
    "    activation=\"relu\"\n",
    ")(output)\n",
    "\n",
    "# Función de activación final\n",
    "output = Dense(\n",
    "    1,\n",
    "    activation=\"sigmoid\"\n",
    ")(output)"
   ]
  },
  {
   "cell_type": "code",
   "execution_count": 4,
   "id": "9157c354-1a81-4076-a1bd-95d790a70b8a",
   "metadata": {},
   "outputs": [
    {
     "name": "stdout",
     "output_type": "stream",
     "text": [
      "Model: \"ResNet_32\"\n",
      "__________________________________________________________________________________________________\n",
      " Layer (type)                   Output Shape         Param #     Connected to                     \n",
      "==================================================================================================\n",
      " input_1 (InputLayer)           [(None, 150, 150, 3  0           []                               \n",
      "                                )]                                                                \n",
      "                                                                                                  \n",
      " conv2d (Conv2D)                (None, 148, 148, 16  448         ['input_1[0][0]']                \n",
      "                                )                                                                 \n",
      "                                                                                                  \n",
      " activation (Activation)        (None, 148, 148, 16  0           ['conv2d[0][0]']                 \n",
      "                                )                                                                 \n",
      "                                                                                                  \n",
      " max_pooling2d (MaxPooling2D)   (None, 74, 74, 16)   0           ['activation[0][0]']             \n",
      "                                                                                                  \n",
      " conv2d_1 (Conv2D)              (None, 72, 72, 32)   4640        ['max_pooling2d[0][0]']          \n",
      "                                                                                                  \n",
      " activation_1 (Activation)      (None, 72, 72, 32)   0           ['conv2d_1[0][0]']               \n",
      "                                                                                                  \n",
      " max_pooling2d_1 (MaxPooling2D)  (None, 36, 36, 32)  0           ['activation_1[0][0]']           \n",
      "                                                                                                  \n",
      " resnet_layer_1_1 (Conv2D)      (None, 36, 36, 32)   9248        ['max_pooling2d_1[0][0]']        \n",
      "                                                                                                  \n",
      " batch_norm_1_1 (BatchNormaliza  (None, 36, 36, 32)  128         ['resnet_layer_1_1[0][0]']       \n",
      " tion)                                                                                            \n",
      "                                                                                                  \n",
      " activation_2 (Activation)      (None, 36, 36, 32)   0           ['batch_norm_1_1[0][0]']         \n",
      "                                                                                                  \n",
      " resnet_layer_1_2 (Conv2D)      (None, 36, 36, 32)   9248        ['activation_2[0][0]']           \n",
      "                                                                                                  \n",
      " batch_norm_1_2 (BatchNormaliza  (None, 36, 36, 32)  128         ['resnet_layer_1_2[0][0]']       \n",
      " tion)                                                                                            \n",
      "                                                                                                  \n",
      " add (Add)                      (None, 36, 36, 32)   0           ['batch_norm_1_2[0][0]',         \n",
      "                                                                  'max_pooling2d_1[0][0]']        \n",
      "                                                                                                  \n",
      " activation_3 (Activation)      (None, 36, 36, 32)   0           ['add[0][0]']                    \n",
      "                                                                                                  \n",
      " resnet_layer_2_1 (Conv2D)      (None, 36, 36, 32)   9248        ['activation_3[0][0]']           \n",
      "                                                                                                  \n",
      " batch_norm_2_1 (BatchNormaliza  (None, 36, 36, 32)  128         ['resnet_layer_2_1[0][0]']       \n",
      " tion)                                                                                            \n",
      "                                                                                                  \n",
      " activation_4 (Activation)      (None, 36, 36, 32)   0           ['batch_norm_2_1[0][0]']         \n",
      "                                                                                                  \n",
      " resnet_layer_2_2 (Conv2D)      (None, 36, 36, 32)   9248        ['activation_4[0][0]']           \n",
      "                                                                                                  \n",
      " batch_norm_2_2 (BatchNormaliza  (None, 36, 36, 32)  128         ['resnet_layer_2_2[0][0]']       \n",
      " tion)                                                                                            \n",
      "                                                                                                  \n",
      " add_1 (Add)                    (None, 36, 36, 32)   0           ['batch_norm_2_2[0][0]',         \n",
      "                                                                  'activation_3[0][0]']           \n",
      "                                                                                                  \n",
      " activation_5 (Activation)      (None, 36, 36, 32)   0           ['add_1[0][0]']                  \n",
      "                                                                                                  \n",
      " flatten (Flatten)              (None, 41472)        0           ['activation_5[0][0]']           \n",
      "                                                                                                  \n",
      " dense (Dense)                  (None, 512)          21234176    ['flatten[0][0]']                \n",
      "                                                                                                  \n",
      " dense_1 (Dense)                (None, 1)            513         ['dense[0][0]']                  \n",
      "                                                                                                  \n",
      "==================================================================================================\n",
      "Total params: 21,277,281\n",
      "Trainable params: 21,277,025\n",
      "Non-trainable params: 256\n",
      "__________________________________________________________________________________________________\n"
     ]
    }
   ],
   "source": [
    "model = Model(inputs=input, outputs=output, name=\"ResNet_32\")\n",
    "\n",
    "# Configuración del algoritmo de optimización y de la función de loss\n",
    "model.compile(loss='binary_crossentropy',\n",
    "              optimizer=\"sgd\",\n",
    "              metrics=['accuracy'])\n",
    "\n",
    "# Visualización de la estructura de la red\n",
    "model.summary()"
   ]
  },
  {
   "cell_type": "markdown",
   "id": "6bb7af30-778a-4bfc-a81e-b735844b4331",
   "metadata": {},
   "source": [
    "### 2.1.5 - Entrenamiento con el dataset \"cats_and_dogs_filtered\""
   ]
  },
  {
   "cell_type": "markdown",
   "id": "379e9510-05ce-4941-aaba-f9122c12be08",
   "metadata": {},
   "source": [
    "#### Descarga de datos"
   ]
  },
  {
   "cell_type": "code",
   "execution_count": 5,
   "id": "f460dd0f-1c95-4563-b190-7ed3aef11109",
   "metadata": {},
   "outputs": [
    {
     "data": {
      "text/plain": [
       "True"
      ]
     },
     "execution_count": 5,
     "metadata": {},
     "output_type": "execute_result"
    }
   ],
   "source": [
    "import os\n",
    "os.path.isfile(\"./cats_and_dogs_filtered.zip\")"
   ]
  },
  {
   "cell_type": "code",
   "execution_count": 6,
   "id": "04ac428c-954f-4a88-9ebf-19edecc589a7",
   "metadata": {},
   "outputs": [
    {
     "name": "stdout",
     "output_type": "stream",
     "text": [
      "Ya se encuentra descargado el archivo en el directorio actual\n"
     ]
    }
   ],
   "source": [
    "import wget\n",
    "import os\n",
    "\n",
    "if os.path.isfile(\"./cats_and_dogs_filtered.zip\") == False:\n",
    "    url = \"https://storage.googleapis.com/mledu-datasets/cats_and_dogs_filtered.zip\"\n",
    "    filename = wget.download(url)\n",
    "else:\n",
    "    print(\"Ya se encuentra descargado el archivo en el directorio actual\")"
   ]
  },
  {
   "cell_type": "code",
   "execution_count": 7,
   "id": "31d3082f-6709-4bee-896b-4a019ab3f5c9",
   "metadata": {},
   "outputs": [],
   "source": [
    "import  zipfile\n",
    "\n",
    "local_zip = \"./cats_and_dogs_filtered.zip\"\n",
    "zip_ref = zipfile.ZipFile(local_zip, 'r')\n",
    "zip_ref.extractall('.')\n",
    "zip_ref.close()"
   ]
  },
  {
   "cell_type": "code",
   "execution_count": 8,
   "id": "10bc885a-e147-4466-9d5a-1c67d3cc377e",
   "metadata": {},
   "outputs": [
    {
     "name": "stdout",
     "output_type": "stream",
     "text": [
      "total training cat images: 1000\n",
      "total training dog images: 1000\n",
      "total validation cat images: 500\n",
      "total validation dog images: 500\n"
     ]
    }
   ],
   "source": [
    "base_dir = './cats_and_dogs_filtered'\n",
    "train_dir = os.path.join(base_dir, 'train')\n",
    "validation_dir = os.path.join(base_dir, 'validation')\n",
    "\n",
    "# Directory with our training cat pictures\n",
    "train_cats_dir = os.path.join(train_dir, 'cats')\n",
    "\n",
    "# Directory with our training dog pictures\n",
    "train_dogs_dir = os.path.join(train_dir, 'dogs')\n",
    "\n",
    "# Directory with our validation cat pictures\n",
    "validation_cats_dir = os.path.join(validation_dir, 'cats')\n",
    "\n",
    "# Directory with our validation dog pictures\n",
    "validation_dogs_dir = os.path.join(validation_dir, 'dogs')\n",
    "\n",
    "print('total training cat images:', len(os.listdir(train_cats_dir)))\n",
    "print('total training dog images:', len(os.listdir(train_dogs_dir)))\n",
    "print('total validation cat images:', len(os.listdir(validation_cats_dir)))\n",
    "print('total validation dog images:', len(os.listdir(validation_dogs_dir)))"
   ]
  },
  {
   "cell_type": "markdown",
   "id": "0e4c5173-b153-49da-b236-029be4e8ab9a",
   "metadata": {},
   "source": [
    "#### Augmentación de datos"
   ]
  },
  {
   "cell_type": "code",
   "execution_count": 9,
   "id": "8427db2b-71f5-4629-84e8-eb9fa2c3f654",
   "metadata": {},
   "outputs": [
    {
     "name": "stdout",
     "output_type": "stream",
     "text": [
      "Found 2000 images belonging to 2 classes.\n"
     ]
    }
   ],
   "source": [
    "from tensorflow.keras.preprocessing.image import ImageDataGenerator\n",
    "\n",
    "# Creamos un generador de imágenes con augmentación\n",
    "train_datagen = ImageDataGenerator(\n",
    "    rescale=1./255,\n",
    "    rotation_range=30,\n",
    "    width_shift_range=0.2,\n",
    "    height_shift_range=0.2,\n",
    "    shear_range=0.2,\n",
    "    zoom_range=0.2,\n",
    "    horizontal_flip=True,\n",
    "    fill_mode=\"nearest\"\n",
    ")\n",
    "\n",
    "# Generador de datos de aprendizaje en batches de 128\n",
    "train_generator = train_datagen.flow_from_directory(\n",
    "    # Definimos el directorio donde se encuentran las imágenes\n",
    "    \"./cats_and_dogs_filtered/train/\",\n",
    "    # Transformamos todas las imágenes a 150x150\n",
    "    target_size=(150,150),\n",
    "    # Agrupamos las imágenes en batches de 100\n",
    "    batch_size=20,\n",
    "    # Indicamos que las imágenes se mantengan en color (RGB)\n",
    "    color_mode=\"rgb\",\n",
    "    # Definimos el problema de clasificación binaria\n",
    "    class_mode='binary'\n",
    ")"
   ]
  },
  {
   "cell_type": "code",
   "execution_count": 10,
   "id": "3fd3ed30-27da-4133-b7e6-45664313d595",
   "metadata": {},
   "outputs": [
    {
     "name": "stdout",
     "output_type": "stream",
     "text": [
      "Found 2000 images belonging to 2 classes.\n"
     ]
    }
   ],
   "source": [
    "# Creamos un generador de imagenes que simplemente reescala para los datos de validación\n",
    "val_datagen = ImageDataGenerator(\n",
    "    rescale=1./255,\n",
    ")\n",
    "\n",
    "# Generador de datos de validación en batches de 128\n",
    "val_generator = val_datagen.flow_from_directory(\n",
    "    # Definimos el directorio donde se encuentran las imágenes\n",
    "    \"./cats_and_dogs_filtered/train/\",\n",
    "    # Transformamos todas las imágenes a 150x150\n",
    "    target_size=(150,150),\n",
    "    # Agrupamos las imágenes en batches de 100\n",
    "    batch_size=20,\n",
    "    # Indicamos que las imágenes se mantengan en color (RGB)\n",
    "    color_mode=\"rgb\",\n",
    "    # Definimos el problema de clasificación binaria\n",
    "    class_mode='binary'\n",
    ")"
   ]
  },
  {
   "cell_type": "markdown",
   "id": "71704f62-fa4b-45bf-9d14-edfdc1a94c32",
   "metadata": {},
   "source": [
    "#### Entrenamiento de la red"
   ]
  },
  {
   "cell_type": "code",
   "execution_count": 11,
   "id": "b965d60b-12f4-4657-bc23-66ed32b780fa",
   "metadata": {},
   "outputs": [
    {
     "name": "stdout",
     "output_type": "stream",
     "text": [
      "Epoch 1/10\n",
      "100/100 - 75s - loss: 0.9998 - accuracy: 0.5310 - val_loss: 0.6919 - val_accuracy: 0.5160 - 75s/epoch - 745ms/step\n",
      "Epoch 2/10\n",
      "100/100 - 53s - loss: 0.6751 - accuracy: 0.5855 - val_loss: 0.6893 - val_accuracy: 0.5590 - 53s/epoch - 531ms/step\n",
      "Epoch 3/10\n",
      "100/100 - 56s - loss: 0.6614 - accuracy: 0.6075 - val_loss: 0.6721 - val_accuracy: 0.5740 - 56s/epoch - 555ms/step\n",
      "Epoch 4/10\n",
      "100/100 - 55s - loss: 0.6504 - accuracy: 0.6345 - val_loss: 0.6438 - val_accuracy: 0.6370 - 55s/epoch - 548ms/step\n",
      "Epoch 5/10\n",
      "100/100 - 54s - loss: 0.6309 - accuracy: 0.6495 - val_loss: 0.6313 - val_accuracy: 0.6600 - 54s/epoch - 538ms/step\n",
      "Epoch 6/10\n",
      "100/100 - 55s - loss: 0.6269 - accuracy: 0.6425 - val_loss: 0.7444 - val_accuracy: 0.5630 - 55s/epoch - 546ms/step\n",
      "Epoch 7/10\n",
      "100/100 - 54s - loss: 0.6151 - accuracy: 0.6555 - val_loss: 1.3050 - val_accuracy: 0.5270 - 54s/epoch - 535ms/step\n",
      "Epoch 8/10\n",
      "100/100 - 54s - loss: 0.6024 - accuracy: 0.6645 - val_loss: 1.0544 - val_accuracy: 0.5670 - 54s/epoch - 539ms/step\n",
      "Epoch 9/10\n",
      "100/100 - 59s - loss: 0.5986 - accuracy: 0.6735 - val_loss: 1.4366 - val_accuracy: 0.5320 - 59s/epoch - 589ms/step\n",
      "Epoch 10/10\n",
      "100/100 - 58s - loss: 0.5898 - accuracy: 0.6780 - val_loss: 1.1182 - val_accuracy: 0.5650 - 58s/epoch - 582ms/step\n"
     ]
    }
   ],
   "source": [
    "from keras.callbacks import TensorBoard\n",
    "\n",
    "tensorboard_callback = TensorBoard(log_dir=\"logs_cats_and_dogs_resnet\")\n",
    "\n",
    "history = model.fit(\n",
    "    train_generator,\n",
    "    steps_per_epoch=100,  # 2000 imagenes = batch_size * steps\n",
    "    epochs=10,\n",
    "    validation_data=val_generator,\n",
    "    validation_steps=50,  # 1000 imagenes = batch_size * steps\n",
    "    verbose=2,\n",
    "    callbacks=[tensorboard_callback]\n",
    ")"
   ]
  },
  {
   "cell_type": "code",
   "execution_count": 12,
   "id": "81f72673-9e3f-4873-a7f0-3d2bd828d049",
   "metadata": {},
   "outputs": [
    {
     "data": {
      "text/plain": [
       "<matplotlib.legend.Legend at 0x27b83bb7ca0>"
      ]
     },
     "execution_count": 12,
     "metadata": {},
     "output_type": "execute_result"
    },
    {
     "data": {
      "image/png": "[encoded data removed]",
      "text/plain": [
       "<Figure size 432x288 with 1 Axes>"
      ]
     },
     "metadata": {
      "needs_background": "light"
     },
     "output_type": "display_data"
    },
    {
     "data": {
      "image/png": "[encoded data removed]",
      "text/plain": [
       "<Figure size 432x288 with 1 Axes>"
      ]
     },
     "metadata": {
      "needs_background": "light"
     },
     "output_type": "display_data"
    }
   ],
   "source": [
    "import matplotlib.pyplot as plt\n",
    "import matplotlib.image as mpimg\n",
    "\n",
    "# Retrieve a list of accuracy results on training and validation data\n",
    "# sets for each training epoch\n",
    "acc = history.history[\"accuracy\"]\n",
    "val_acc = history.history[\"val_accuracy\"]\n",
    "\n",
    "# Retrieve a list of list results on training and validation data\n",
    "# sets for each training epoch\n",
    "loss = history.history[\"loss\"]\n",
    "val_loss = history.history[\"val_loss\"]\n",
    "\n",
    "# Get number of epochs\n",
    "epochs = range(len(acc))\n",
    "\n",
    "# Plot training and validation accuracy per epoch\n",
    "plt.plot(epochs, acc)\n",
    "plt.plot(epochs, val_acc)\n",
    "plt.title(\"Training and validation accuracy\")\n",
    "plt.legend([\"accuracy\", \"val_accuracy\"])\n",
    "\n",
    "plt.figure()\n",
    "\n",
    "# Plot training and validation loss per epoch\n",
    "plt.plot(epochs, loss)\n",
    "plt.plot(epochs, val_loss)\n",
    "plt.title('Training and validation loss')\n",
    "plt.legend([\"loss\", \"val_loss\"])"
   ]
  },
  {
   "cell_type": "markdown",
   "id": "784cd4e2-de14-486f-bcd2-675c23bbf782",
   "metadata": {},
   "source": [
    "Cómo podemos observar tanto en el histórico como en las gráficas, aprende pero no consigue grandes resultados.\n",
    "\n",
    "Una posible razón de esto es porque el modelo contiene un gran número de parámetros y solo unos pocas instancias (i.e., imágenes) de entrenamiento. Sin embargo, es importante destacar que **cuanto mayor sea la red que queramos aprender desde cero, más cuidadosos deberemos ser con el aprendizaje**. Esto incluye:\n",
    "\n",
    "* El algoritmo de optimizacion (e.g., Adam, SGD, RMS).\n",
    "* El *learning rate* de partida (y la estrategia de actualización del *learning rate*).\n",
    "* El *batch size*.\n",
    "* El formato de los datos. Por ejemplo, el tamaño de la imagen (150x150, 224x224, etc.).\n",
    "\n",
    "Además de esto, **hay arquitecturas que pueden funcionar mejor que otras en ciertos datos**. La única forma de saberlo es probando.\n",
    "\n",
    "La solución más simple a este problema sería por tanto **conseguir más datos**. Sin embargo, **no siempre es posible** (e.g., nuestro dataset es limitado porque conseguir más imágenes es muy caro, como en ciertos problemas de medicina). Por ello, nos puede interesar **utilizar una red pre-aprendida y simplemente ajustarla a nuestro problema particular** aprendiendo solo una parte de los parámetros de la red.\n"
   ]
  },
  {
   "cell_type": "markdown",
   "id": "f5142773-8240-4f65-94d4-105fa284236c",
   "metadata": {},
   "source": [
    "## 2.2 - Transferencia de aprendizaje"
   ]
  },
  {
   "cell_type": "markdown",
   "id": "9e751bd4-4862-403c-a2fd-f0f2188feeea",
   "metadata": {},
   "source": [
    "El proceso de transferencia de aprendizaje (*transfer learning*) consiste en reutilizar una red aprendida para una determinada tarea con el objeto de resolver otra distinta.\n",
    "\n",
    "Esta técnica resulta muy útil en tareas de clasificación de imágenes, ya que la extracción de características sobre imágenes es muy similar en todos los casos, de modo que es posible transferir ese aprendizaje a otros procesos que impliquen la extracción de caracteísticas a partir de imágenes.\n",
    "\n",
    "En lo que se refiere a las redes convolucionales, el proceso de transferencia consiste en reutilizar los parámetros de las capas de la etapa de extracción y simplemente \"aprender\" la última capa con el objetivo de adaptar la red a la tarea que queremos resolver.\n",
    "\n",
    "En este caso, [**Keras nos ofrece un amplio conjunto de redes**](https://keras.io/api/applications/) mediante las que aplicar *transfer learning*. En este caso vamos a utilizar una ResNet de 50 capas pre-aprendida siguiendo el siguiente worflow de trabajo:\n",
    "\n",
    "1. Inicializamos el modelo base (e.g., ResNet50) sin la última capa (i.e., la de clasificación) y cargamos parámetros pre-aprendidos .\n",
    "2. Congelamos los parámetros de todas las capas del modelo con `trainable=False`.\n",
    "3. Creamos un nuevo modelo que actuará como la cabeza de la red base.\n",
    "4. Aprendemos el nuevo modelo con el nuevo dataset."
   ]
  },
  {
   "cell_type": "markdown",
   "id": "8d806732-be28-4c7c-9c24-aa22bab87a8c",
   "metadata": {},
   "source": [
    "### 2.2.1 - Importación de librerías"
   ]
  },
  {
   "cell_type": "code",
   "execution_count": 13,
   "id": "05a307ab-5e95-455b-9a3e-4dd292cb4518",
   "metadata": {},
   "outputs": [],
   "source": [
    "from keras import Input\n",
    "from keras import Model\n",
    "from keras.layers import Flatten, Dense, GlobalAveragePooling2D, Dropout\n",
    "from tensorflow.keras.applications.resnet50 import ResNet50 # no funciona correctamente\n",
    "from keras.applications import EfficientNetB0 # no funciona correctamente\n",
    "from keras.applications import InceptionResNetV2\n",
    "from keras.applications import InceptionV3\n",
    "from keras.applications import Xception\n",
    "from keras.applications import VGG16\n",
    "from keras.applications import MobileNet"
   ]
  },
  {
   "cell_type": "markdown",
   "id": "c87086ea-ecd3-483d-83a2-5a9630dc78b1",
   "metadata": {},
   "source": [
    "----\n",
    "\n",
    "**Nota:** He probado a modificar el tamaño de la imagen (e.g., con ResNet suele funcionar mejor tamaños de 224x224) pero aún así no he conseguido los resultados que esperaba de ninguna arquitectura residual (i.e., `ResNet50`, `ResNet50V2` y `ResNet101`). También probe a ejecutar la red con una capa densa extra y *fine-tuning*.\n",
    "\n",
    "Mi intuición me dice que ResNet requiere una estrategia más avanzada de aprendizaje para funcionar correctamente en este problema (e.g., un proceso de actualización del *learning rate*).\n",
    "\n",
    "Otras arquitecturas convolucionales como **InceptionV3** consiguen un resultado de **90% de accuracy** casi sin esfuerzo. Pero tambien hay otras arquitecturas como **EfficientNet** que no funcionan bien directamente.\n",
    "\n",
    "----"
   ]
  },
  {
   "cell_type": "markdown",
   "id": "d981819e-2b4f-414f-8ecf-693a185d5039",
   "metadata": {},
   "source": [
    "### 2.2.2 - Creación de la red"
   ]
  },
  {
   "cell_type": "markdown",
   "id": "2bd4e033-f664-42c7-bc26-8a542dbab841",
   "metadata": {},
   "source": [
    "Podemos probar diferentes modelos pre-entrenados y construir sobre ellos para nuestro problema particular. En este caso, utilizamos pesos pre-aprendidos del [dataset ImageNet](https://www.image-net.org/challenges/LSVRC/index.php)."
   ]
  },
  {
   "cell_type": "code",
   "execution_count": 14,
   "id": "67fea8a8-0543-4a86-b958-2036c5583254",
   "metadata": {},
   "outputs": [
    {
     "name": "stdout",
     "output_type": "stream",
     "text": [
      "Model: \"transfer_learning_model\"\n",
      "_________________________________________________________________\n",
      " Layer (type)                Output Shape              Param #   \n",
      "=================================================================\n",
      " input_3 (InputLayer)        [(None, 150, 150, 3)]     0         \n",
      "                                                                 \n",
      " inception_v3 (Functional)   (None, 3, 3, 2048)        21802784  \n",
      "                                                                 \n",
      " global_average_pooling2d (G  (None, 2048)             0         \n",
      " lobalAveragePooling2D)                                          \n",
      "                                                                 \n",
      " dense_2 (Dense)             (None, 1)                 2049      \n",
      "                                                                 \n",
      "=================================================================\n",
      "Total params: 21,804,833\n",
      "Trainable params: 2,049\n",
      "Non-trainable params: 21,802,784\n",
      "_________________________________________________________________\n"
     ]
    }
   ],
   "source": [
    "input_size = 150\n",
    "num_colors = 3\n",
    "input_shape = (input_size, input_size, num_colors)\n",
    "\n",
    "# Cargamos el modelo pre-entrenado\n",
    "pre_trained_model = InceptionV3(\n",
    "    weights=\"imagenet\",\n",
    "    input_shape=input_shape,\n",
    "    include_top=False # No queremos incluir la \"cabeza\" de clasificación de Imagenet de 1000 clases\n",
    ")\n",
    "\n",
    "# Congelamos los parámetros del modelo base\n",
    "pre_trained_model.trainable=False\n",
    "\n",
    "# Creamos un nuevo modelo sobre él\n",
    "input = Input(shape=input_shape)\n",
    "\n",
    "output = pre_trained_model(input, training=False)\n",
    "# Utilizamos Pooling para pasar de 3*3*2048 valores a 2048 valores\n",
    "output = GlobalAveragePooling2D()(output)\n",
    "output = Dense(1, activation=\"sigmoid\")(output)\n",
    "\n",
    "model = Model(inputs=input, outputs=output, name=\"transfer_learning_model\")\n",
    "\n",
    "# Configuración del algoritmo de optimización y de la función de loss\n",
    "model.compile(loss='binary_crossentropy',\n",
    "              optimizer=keras.optimizers.Adam(learning_rate=1e-4),\n",
    "              metrics=['accuracy'])\n",
    "\n",
    "# Visualización de la estructura de la red\n",
    "model.summary()"
   ]
  },
  {
   "cell_type": "markdown",
   "id": "5ddac877-7e12-4b77-99e9-0403f31d4f3e",
   "metadata": {},
   "source": [
    "### 2.2.3 - Entrenamiento"
   ]
  },
  {
   "cell_type": "markdown",
   "id": "84c2f41a-f45e-4718-88a9-56d5e0fa6af7",
   "metadata": {},
   "source": [
    "Vamos a entrenar la cabeza de la red durante 2 epochs:"
   ]
  },
  {
   "cell_type": "code",
   "execution_count": 15,
   "id": "80a3c5c9-08fe-43c0-b838-9e7270e97d63",
   "metadata": {},
   "outputs": [
    {
     "name": "stdout",
     "output_type": "stream",
     "text": [
      "Epoch 1/2\n",
      "100/100 - 89s - loss: 0.6977 - accuracy: 0.6710 - val_loss: 0.3987 - val_accuracy: 0.8170 - 89s/epoch - 895ms/step\n",
      "Epoch 2/2\n",
      "100/100 - 72s - loss: 0.3762 - accuracy: 0.8265 - val_loss: 0.2452 - val_accuracy: 0.9000 - 72s/epoch - 720ms/step\n"
     ]
    }
   ],
   "source": [
    "from keras.callbacks import TensorBoard\n",
    "\n",
    "tensorboard_callback = TensorBoard(log_dir=\"logs_cats_and_dogs_transfer\")\n",
    "\n",
    "history = model.fit(\n",
    "    train_generator,\n",
    "    steps_per_epoch=100,  # 2000 imagenes = batch_size * steps\n",
    "    epochs=2,\n",
    "    validation_data=val_generator,\n",
    "    validation_steps=50,  # 1000 imagenes = batch_size * steps\n",
    "    verbose=2,\n",
    "    callbacks=[tensorboard_callback]\n",
    ")"
   ]
  },
  {
   "cell_type": "markdown",
   "id": "3bf951f6-5904-43c4-9165-a28f24e6409e",
   "metadata": {},
   "source": [
    "### 2.2.4 - Mejorando nuestro modelo pre-entrenado\n",
    "\n",
    "En el caso anterior simplemente hemos intercambiado la capa de clasificación, pero no tenemos porqué quedarnos ahi. Podemos mejorar nuestros resultados de dos maneras posibles:\n",
    "1. Añadiendo una capa densa entrenable antes de la nueva capa de clasificación. En el caso anterior solo teniamos 2049 parámetros entrenables.\n",
    "2. Ejecutando un proceso de *fine-tuning* extra con un learning rate inferior para ajustar nuestro modelo pre-entrenado a los datos (no solo la cabeza de clasificación).\n",
    "\n",
    "----\n",
    "\n",
    "**Nota:** Si bien ambas opciones pueden mejorar considerablemente la calidad de nuestro modelo, tenemos que tener cuidado porque **pueden llevarnos a problemas de sobreajuste** y que perdamos la \"generalización\" obtenida de utilizar un modelo pre-entrenado.\n",
    "\n",
    "----"
   ]
  },
  {
   "cell_type": "markdown",
   "id": "054f20e4-fe8a-4273-8cb9-83f197065922",
   "metadata": {},
   "source": [
    "#### Añadir capa densa entrenable\n",
    "\n",
    "En este caso, añadimos una capa densa de 512 neuronas con 9 millones de parámetros pueden ser modificados para ajustarse mejor a los datos de entrenamiento."
   ]
  },
  {
   "cell_type": "code",
   "execution_count": 16,
   "id": "247bc4cc-012f-4c8c-b968-6944054fd3ab",
   "metadata": {},
   "outputs": [
    {
     "name": "stdout",
     "output_type": "stream",
     "text": [
      "Model: \"transfer_learning_model_dense\"\n",
      "_________________________________________________________________\n",
      " Layer (type)                Output Shape              Param #   \n",
      "=================================================================\n",
      " input_5 (InputLayer)        [(None, 150, 150, 3)]     0         \n",
      "                                                                 \n",
      " inception_v3 (Functional)   (None, 3, 3, 2048)        21802784  \n",
      "                                                                 \n",
      " flatten_1 (Flatten)         (None, 18432)             0         \n",
      "                                                                 \n",
      " dense_3 (Dense)             (None, 512)               9437696   \n",
      "                                                                 \n",
      " dropout (Dropout)           (None, 512)               0         \n",
      "                                                                 \n",
      " dense_4 (Dense)             (None, 1)                 513       \n",
      "                                                                 \n",
      "=================================================================\n",
      "Total params: 31,240,993\n",
      "Trainable params: 9,438,209\n",
      "Non-trainable params: 21,802,784\n",
      "_________________________________________________________________\n"
     ]
    }
   ],
   "source": [
    "input_size = 150\n",
    "num_colors = 3\n",
    "input_shape = (input_size, input_size, num_colors)\n",
    "\n",
    "# Cargamos el modelo pre-entrenado\n",
    "pre_trained_model = InceptionV3(\n",
    "    weights=\"imagenet\",\n",
    "    input_shape=input_shape,\n",
    "    include_top=False # No queremos incluir la \"cabeza\" de clasificación de Imagenet de 1000 clases\n",
    ")\n",
    "\n",
    "# Congelamos los parámetros del modelo base\n",
    "pre_trained_model.trainable=False\n",
    "\n",
    "# Creamos un nuevo modelo sobre él\n",
    "input = Input(shape=input_shape)\n",
    "\n",
    "output = pre_trained_model(input, training=False)\n",
    "output = Flatten()(output)\n",
    "output = Dense(512, activation='relu')(output)\n",
    "output = Dropout(0.2)(output)\n",
    "output = Dense(1, activation=\"sigmoid\")(output)\n",
    "\n",
    "model = Model(inputs=input, outputs=output, name=\"transfer_learning_model_dense\")\n",
    "\n",
    "# Configuración del algoritmo de optimización y de la función de loss\n",
    "model.compile(loss='binary_crossentropy',\n",
    "              optimizer=keras.optimizers.Adam(learning_rate=1e-4),\n",
    "              metrics=['accuracy'])\n",
    "\n",
    "# Visualización de la estructura de la red\n",
    "model.summary()"
   ]
  },
  {
   "cell_type": "code",
   "execution_count": 17,
   "id": "f7770dcd-ebbc-43f4-9ec4-76491c04f60e",
   "metadata": {},
   "outputs": [
    {
     "name": "stdout",
     "output_type": "stream",
     "text": [
      "Epoch 1/2\n",
      "100/100 - 87s - loss: 0.4918 - accuracy: 0.8880 - val_loss: 0.1349 - val_accuracy: 0.9480 - 87s/epoch - 872ms/step\n",
      "Epoch 2/2\n",
      "100/100 - 81s - loss: 0.2106 - accuracy: 0.9255 - val_loss: 0.0869 - val_accuracy: 0.9700 - 81s/epoch - 805ms/step\n"
     ]
    }
   ],
   "source": [
    "from keras.callbacks import TensorBoard\n",
    "\n",
    "tensorboard_callback = TensorBoard(log_dir=\"logs_cats_and_dogs_transfer_dense\")\n",
    "\n",
    "history = model.fit(\n",
    "    train_generator,\n",
    "    steps_per_epoch=100,  # 2000 imagenes = batch_size * steps\n",
    "    epochs=2,\n",
    "    validation_data=val_generator,\n",
    "    validation_steps=50,  # 1000 imagenes = batch_size * steps\n",
    "    verbose=2,\n",
    "    callbacks=[tensorboard_callback]\n",
    ")"
   ]
  },
  {
   "cell_type": "markdown",
   "id": "2992ca9e-8343-4f04-97e1-877f58640376",
   "metadata": {},
   "source": [
    "#### Fine-tuning"
   ]
  },
  {
   "cell_type": "markdown",
   "id": "3128ebbf-8252-49ca-b28e-416f7b9f5b64",
   "metadata": {},
   "source": [
    "El proceso de fine-tuning sería el siguiente:\n",
    "1. Partimos de un modelo pre-entrenado y cambiamos su cabeza de clasificación.\n",
    "2. Entrenamos unas pocas iteraciones (e.g., 2-3 epochs) con los pararámetros del modelo congelados excepto los de la nueva cabeza.\n",
    "3. Descongelamos todo o parte del modelo base y volvemos entrenarlo con un *learning rate* muy bajo.\n",
    "\n",
    "----\n",
    "\n",
    "**Nota:** Es muy importante que ejecutemos el paso de *fine-tuning* después de que el modelo haya convergido. Si utilizamos parámetros de la red aprendidos y otros sin aprender, podriamos causar grandes cambios en los gradientes durante el aprendizaje, lo que conllevaria la \"destrucción\" de información del pre-entrenamiento y por ende la pérdida de calidad del modelo.\n",
    "\n",
    "Es también fundamental usar un *learning rate* muy bajo en esta etapa, porque se está entrenando un modelo mucho más grande que en la primera ronda de entrenamiento, en un conjunto de datos que suele ser muy pequeño. Como resultado, corremos el riesgo de sobreajustar muy rápidamente si se aplican actualizaciones de pesos muy grandes. Nos interesa actualizar los pesos incrementalmente.\n",
    "\n",
    "----"
   ]
  },
  {
   "cell_type": "markdown",
   "id": "5e4bbc45-0357-45a3-8765-2ff6c7a8460e",
   "metadata": {},
   "source": [
    "##### **Entrenamiento congelado para que converja el modelo**\n",
    "\n",
    "Hacemos de nuevo lo mismo que en la sección 2.2.2 - 2.2.3. Es decir, partimos de un modelo pre-entrenado congelado y ejecutamos 2 iteraciones. Aqui podemos tener más o menos suerte que la vez anterior, pero el resultado no deberia variar demasiado (y a menos que tengamos mucha suerte, no deberia ser mejor que el modelo con una capa densa o que el modelo después de hacer fine-tuning)."
   ]
  },
  {
   "cell_type": "code",
   "execution_count": 18,
   "id": "c54136c7-c077-4524-9fe4-1d58df902a5c",
   "metadata": {},
   "outputs": [
    {
     "name": "stdout",
     "output_type": "stream",
     "text": [
      "Model: \"transfer_learning_model_finetuned\"\n",
      "_________________________________________________________________\n",
      " Layer (type)                Output Shape              Param #   \n",
      "=================================================================\n",
      " input_7 (InputLayer)        [(None, 150, 150, 3)]     0         \n",
      "                                                                 \n",
      " inception_v3 (Functional)   (None, 3, 3, 2048)        21802784  \n",
      "                                                                 \n",
      " global_average_pooling2d_1   (None, 2048)             0         \n",
      " (GlobalAveragePooling2D)                                        \n",
      "                                                                 \n",
      " dense_5 (Dense)             (None, 1)                 2049      \n",
      "                                                                 \n",
      "=================================================================\n",
      "Total params: 21,804,833\n",
      "Trainable params: 2,049\n",
      "Non-trainable params: 21,802,784\n",
      "_________________________________________________________________\n"
     ]
    }
   ],
   "source": [
    "input_size = 150\n",
    "num_colors = 3\n",
    "input_shape = (input_size, input_size, num_colors)\n",
    "\n",
    "# Cargamos el modelo pre-entrenado\n",
    "pre_trained_model = InceptionV3(\n",
    "    weights=\"imagenet\",\n",
    "    input_shape=input_shape,\n",
    "    include_top=False # No queremos incluir la \"cabeza\" de clasificación de Imagenet de 1000 clases\n",
    ")\n",
    "\n",
    "# Congelamos los parámetros del modelo base\n",
    "pre_trained_model.trainable=False\n",
    "\n",
    "# Creamos un nuevo modelo sobre él\n",
    "input = Input(shape=input_shape)\n",
    "\n",
    "output = pre_trained_model(input, training=False)\n",
    "output = GlobalAveragePooling2D()(output) # Utilizamos Pooling para pasar de 3*3*2048 valores a 2048 valores\n",
    "output = Dense(1, activation=\"sigmoid\")(output)\n",
    "\n",
    "model = Model(inputs=input, outputs=output, name=\"transfer_learning_model_finetuned\")\n",
    "\n",
    "# Configuración del algoritmo de optimización y de la función de loss\n",
    "model.compile(loss='binary_crossentropy',\n",
    "              optimizer=keras.optimizers.Adam(learning_rate=1e-4),\n",
    "              metrics=['accuracy'])\n",
    "\n",
    "# Visualización de la estructura de la red\n",
    "model.summary()"
   ]
  },
  {
   "cell_type": "code",
   "execution_count": 19,
   "id": "dc8e4bad-bb1d-48dd-bba0-2c0a7db43450",
   "metadata": {},
   "outputs": [
    {
     "name": "stdout",
     "output_type": "stream",
     "text": [
      "Epoch 1/2\n",
      "100/100 - 77s - loss: 0.4753 - accuracy: 0.7815 - val_loss: 0.2660 - val_accuracy: 0.8920 - 77s/epoch - 774ms/step\n",
      "Epoch 2/2\n",
      "100/100 - 69s - loss: 0.2950 - accuracy: 0.8685 - val_loss: 0.1913 - val_accuracy: 0.9290 - 69s/epoch - 690ms/step\n"
     ]
    }
   ],
   "source": [
    "from keras.callbacks import TensorBoard\n",
    "\n",
    "tensorboard_callback = TensorBoard(log_dir=\"logs_cats_and_dogs_transfer_finetuned\")\n",
    "\n",
    "history = model.fit(\n",
    "    train_generator,\n",
    "    steps_per_epoch=100,  # 2000 imagenes = batch_size * steps\n",
    "    epochs=2,\n",
    "    validation_data=val_generator,\n",
    "    validation_steps=50,  # 1000 imagenes = batch_size * steps\n",
    "    verbose=2,\n",
    "    callbacks=[tensorboard_callback]\n",
    ")"
   ]
  },
  {
   "cell_type": "markdown",
   "id": "3aa03b9f-328c-4701-855f-0e2cfa74e0f1",
   "metadata": {},
   "source": [
    "##### **Descongelamos el modelo y entrenamos con un *learning rate* muy bajo**"
   ]
  },
  {
   "cell_type": "code",
   "execution_count": 20,
   "id": "decc446a-ff19-4e33-a8cd-58937487aa91",
   "metadata": {},
   "outputs": [
    {
     "name": "stdout",
     "output_type": "stream",
     "text": [
      "Epoch 1/2\n",
      "100/100 - 286s - loss: 0.1802 - accuracy: 0.9285 - val_loss: 0.0602 - val_accuracy: 0.9820 - 286s/epoch - 3s/step\n",
      "Epoch 2/2\n",
      "100/100 - 255s - loss: 0.1071 - accuracy: 0.9600 - val_loss: 0.0414 - val_accuracy: 0.9900 - 255s/epoch - 3s/step\n"
     ]
    }
   ],
   "source": [
    "# Descongelamos el modelo\n",
    "pre_trained_model.trainable=True\n",
    "\n",
    "# Configuración del algoritmo de optimización y de la función de loss\n",
    "model.compile(loss='binary_crossentropy',\n",
    "              optimizer=keras.optimizers.Adam(learning_rate=1e-5), # menor learning rate, 1e-5 vs 1e-4\n",
    "              metrics=['accuracy'])\n",
    "\n",
    "# Entrenamos por 2 epochs más\n",
    "history = model.fit(\n",
    "    train_generator,\n",
    "    steps_per_epoch=100,  # 2000 imagenes = batch_size * steps\n",
    "    epochs=2, \n",
    "    validation_data=val_generator,\n",
    "    validation_steps=50,  # 1000 imagenes = batch_size * steps\n",
    "    verbose=2,\n",
    "    callbacks=[tensorboard_callback]\n",
    ")"
   ]
  },
  {
   "cell_type": "markdown",
   "id": "d674c852-ca54-465b-a737-3a654063a0cc",
   "metadata": {},
   "source": [
    "<span style=\"color:blue\"><b>El modelo de fine-tuning obtiene mejores resultados, pero tarda más en completarse</b></span>"
   ]
  }
 ],
 "metadata": {
  "kernelspec": {
   "display_name": "Python 3 (ipykernel)",
   "language": "python",
   "name": "python3"
  },
  "language_info": {
   "codemirror_mode": {
    "name": "ipython",
    "version": 3
   },
   "file_extension": ".py",
   "mimetype": "text/x-python",
   "name": "python",
   "nbconvert_exporter": "python",
   "pygments_lexer": "ipython3",
   "version": "3.10.4"
  }
 },
 "nbformat": 4,
 "nbformat_minor": 5
}
