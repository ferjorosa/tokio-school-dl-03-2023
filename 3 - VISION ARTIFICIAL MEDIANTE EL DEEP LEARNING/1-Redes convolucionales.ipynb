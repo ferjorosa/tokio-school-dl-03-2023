{
 "cells": [
  {
   "cell_type": "markdown",
   "id": "eea02624-5d57-40ee-b2cc-c31ec6d84eb8",
   "metadata": {},
   "source": [
    "# 1 - Redes neuronales convolucionales (CNNs)\n",
    "\n",
    "**Sumario**\n",
    "\n",
    "1. Introducción\n",
    "2. Visión artificial mediante redes neuronales\n",
    "3. Redes neuronales convolucionales (CNN)"
   ]
  },
  {
   "cell_type": "markdown",
   "id": "e49277ef-0b46-4c0c-8a1c-b63cac6eb07d",
   "metadata": {},
   "source": [
    "## 1.1 - Introducción"
   ]
  },
  {
   "cell_type": "code",
   "execution_count": null,
   "id": "4e22f451-21ba-4711-a7fb-99164363fbf8",
   "metadata": {},
   "outputs": [],
   "source": []
  },
  {
   "cell_type": "markdown",
   "id": "a338b0cb-f6e7-44bc-b8dd-669b8235b23d",
   "metadata": {},
   "source": [
    "## 1.2 - Visión artificial mediante redes neuronales"
   ]
  },
  {
   "cell_type": "code",
   "execution_count": null,
   "id": "3cfc1e36-0fe8-45cf-b0f1-d07079b78368",
   "metadata": {},
   "outputs": [],
   "source": []
  },
  {
   "cell_type": "markdown",
   "id": "a6b03c3c-d316-4161-83fd-03bb5a1e6e73",
   "metadata": {},
   "source": [
    "### 1.2.1 - Representación de la información"
   ]
  },
  {
   "cell_type": "code",
   "execution_count": null,
   "id": "ceb0f905-5baf-48d9-991c-21ca43b61b3f",
   "metadata": {},
   "outputs": [],
   "source": []
  },
  {
   "cell_type": "markdown",
   "id": "2c6dfc63-44c0-430a-b684-d0381d39167d",
   "metadata": {},
   "source": [
    "### 1.2.2 - Augmentación de la información"
   ]
  },
  {
   "cell_type": "code",
   "execution_count": null,
   "id": "88b210ec-0826-4e08-b6d8-2bd7c5c414c1",
   "metadata": {},
   "outputs": [],
   "source": []
  },
  {
   "cell_type": "markdown",
   "id": "c4bde76e-7361-43de-996a-2caf13b12d06",
   "metadata": {},
   "source": [
    "### 1.2.3 - Capas de neuronas"
   ]
  },
  {
   "cell_type": "markdown",
   "id": "34ba18fb-1ec5-4c31-8656-5b7b67f68c02",
   "metadata": {},
   "source": [
    "#### Capa convolucional"
   ]
  },
  {
   "cell_type": "code",
   "execution_count": null,
   "id": "14e88e7b-4835-4e90-8afc-022feca0ff71",
   "metadata": {},
   "outputs": [],
   "source": []
  },
  {
   "cell_type": "markdown",
   "id": "ede83001-0363-48b3-9cca-0e4a4cf5dc5b",
   "metadata": {},
   "source": [
    "#### Capa de pooling"
   ]
  },
  {
   "cell_type": "code",
   "execution_count": null,
   "id": "cbf38953-1eb8-49fd-8df9-9bc801294741",
   "metadata": {},
   "outputs": [],
   "source": []
  },
  {
   "cell_type": "markdown",
   "id": "3758d00b-6e9d-407a-8852-cdec379caa5f",
   "metadata": {},
   "source": [
    "#### Capa de aplanamiento"
   ]
  },
  {
   "cell_type": "code",
   "execution_count": null,
   "id": "176ba22b-498a-4e10-8ae1-431ea9beac42",
   "metadata": {},
   "outputs": [],
   "source": []
  },
  {
   "cell_type": "markdown",
   "id": "cee77758-2f3b-495f-9199-a2e7efb9a715",
   "metadata": {},
   "source": [
    "#### Capa de normalización por lotes"
   ]
  },
  {
   "cell_type": "code",
   "execution_count": null,
   "id": "5f989e70-1755-4b28-bb15-5fe0585b203a",
   "metadata": {},
   "outputs": [],
   "source": []
  },
  {
   "cell_type": "markdown",
   "id": "4557a4e5-60b9-476b-b2d0-757a1c8a3612",
   "metadata": {},
   "source": [
    "## 1.3 - Redes neuronales convolucionales (CNN)"
   ]
  },
  {
   "cell_type": "code",
   "execution_count": null,
   "id": "ae9796a5-31d5-4e4f-b7ea-6cac391dc534",
   "metadata": {},
   "outputs": [],
   "source": []
  },
  {
   "cell_type": "markdown",
   "id": "574710aa-7ee9-4db0-9fc1-64ce10d38ce6",
   "metadata": {},
   "source": [
    "### 1.3.1 - Preparación de datos"
   ]
  },
  {
   "cell_type": "code",
   "execution_count": null,
   "id": "88c01abf-c81f-430f-852e-a958407047b2",
   "metadata": {},
   "outputs": [],
   "source": []
  },
  {
   "cell_type": "markdown",
   "id": "95d6ac48-5e5c-4bb3-b77a-8d7cef0c9ec4",
   "metadata": {},
   "source": [
    "### 1.3.2 - Creación de la red"
   ]
  },
  {
   "cell_type": "code",
   "execution_count": null,
   "id": "4d3b24e2-27da-4aac-b747-827b32bfcd0b",
   "metadata": {},
   "outputs": [],
   "source": []
  },
  {
   "cell_type": "markdown",
   "id": "246ceb70-a378-462c-a5fa-52d8280170f3",
   "metadata": {},
   "source": [
    "### 1.3.3 - Compilación de la red"
   ]
  },
  {
   "cell_type": "code",
   "execution_count": null,
   "id": "858ecb9e-9c84-48cf-b594-1c3210db67ed",
   "metadata": {},
   "outputs": [],
   "source": []
  },
  {
   "cell_type": "markdown",
   "id": "8bb76e9a-9b0f-4cb2-9039-7f358397c5ab",
   "metadata": {},
   "source": [
    "### 1.3.4 - Entrenamiento"
   ]
  },
  {
   "cell_type": "code",
   "execution_count": null,
   "id": "b690695a-003c-4ef0-ae26-f642502ea3b6",
   "metadata": {},
   "outputs": [],
   "source": []
  },
  {
   "cell_type": "markdown",
   "id": "348a8fd1-3a73-4882-bf33-3e1027ccedd4",
   "metadata": {},
   "source": [
    "### 1.3.5 - Inferencia mediante imágenes externas"
   ]
  },
  {
   "cell_type": "code",
   "execution_count": null,
   "id": "6f175abf-9e46-415a-90f6-18daa510006b",
   "metadata": {},
   "outputs": [],
   "source": []
  }
 ],
 "metadata": {
  "kernelspec": {
   "display_name": "Python 3 (ipykernel)",
   "language": "python",
   "name": "python3"
  },
  "language_info": {
   "codemirror_mode": {
    "name": "ipython",
    "version": 3
   },
   "file_extension": ".py",
   "mimetype": "text/x-python",
   "name": "python",
   "nbconvert_exporter": "python",
   "pygments_lexer": "ipython3",
   "version": "3.10.4"
  }
 },
 "nbformat": 4,
 "nbformat_minor": 5
}
